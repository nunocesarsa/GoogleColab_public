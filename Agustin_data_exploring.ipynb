{
  "nbformat": 4,
  "nbformat_minor": 0,
  "metadata": {
    "colab": {
      "name": "Agustin_data_exploring.ipynb",
      "provenance": [],
      "authorship_tag": "ABX9TyMv4jniKuoiW3Sls7RgIrxE",
      "include_colab_link": true
    },
    "kernelspec": {
      "name": "python3",
      "display_name": "Python 3"
    }
  },
  "cells": [
    {
      "cell_type": "markdown",
      "metadata": {
        "id": "view-in-github",
        "colab_type": "text"
      },
      "source": [
        "<a href=\"https://colab.research.google.com/github/nunocesarsa/GoogleColab_public/blob/master/Agustin_data_exploring.ipynb\" target=\"_parent\"><img src=\"https://colab.research.google.com/assets/colab-badge.svg\" alt=\"Open In Colab\"/></a>"
      ]
    },
    {
      "cell_type": "code",
      "metadata": {
        "id": "Vo_Apy7xWtf_",
        "colab_type": "code",
        "colab": {
          "base_uri": "https://localhost:8080/",
          "height": 35
        },
        "outputId": "5a16b1c0-c93c-4412-c904-d568fd4c7006"
      },
      "source": [
        "print(\"ola\")"
      ],
      "execution_count": 1,
      "outputs": [
        {
          "output_type": "stream",
          "text": [
            "ola\n"
          ],
          "name": "stdout"
        }
      ]
    },
    {
      "cell_type": "markdown",
      "metadata": {
        "id": "Mn4bo1Y6W5h-",
        "colab_type": "text"
      },
      "source": [
        "# Passo 1: importar o GEE e o drive"
      ]
    },
    {
      "cell_type": "code",
      "metadata": {
        "id": "De9p5TTLXKX8",
        "colab_type": "code",
        "colab": {
          "base_uri": "https://localhost:8080/",
          "height": 176
        },
        "outputId": "bc32b8ea-f137-4784-eb4b-853ac461e16e"
      },
      "source": [
        "#importing Earth Engine package\n",
        "import ee\n",
        "\n",
        "#then we need to authenticate\n",
        "# Trigger the authentication flow.\n",
        "ee.Authenticate()\n",
        "\n",
        "# Initialize the library.\n",
        "ee.Initialize()"
      ],
      "execution_count": 2,
      "outputs": [
        {
          "output_type": "stream",
          "text": [
            "To authorize access needed by Earth Engine, open the following URL in a web browser and follow the instructions. If the web browser does not start automatically, please manually browse the URL below.\n",
            "\n",
            "    https://accounts.google.com/o/oauth2/auth?client_id=517222506229-vsmmajv00ul0bs7p89v5m89qs8eb9359.apps.googleusercontent.com&scope=https%3A%2F%2Fwww.googleapis.com%2Fauth%2Fearthengine+https%3A%2F%2Fwww.googleapis.com%2Fauth%2Fdevstorage.full_control&redirect_uri=urn%3Aietf%3Awg%3Aoauth%3A2.0%3Aoob&response_type=code&code_challenge=C88FWegIfKCMpZRc8BFZQNnQwylBJTkA1Zo9l1Qkr0s&code_challenge_method=S256\n",
            "\n",
            "The authorization workflow will generate a code, which you should paste in the box below. \n",
            "Enter verification code: 4/zQE8wwNcRQha6YO_3zJYU6jeyF4UfZ0ucv21n7yGe2KRQ18WH3681XE\n",
            "\n",
            "Successfully saved authorization token.\n"
          ],
          "name": "stdout"
        }
      ]
    },
    {
      "cell_type": "code",
      "metadata": {
        "id": "QzoPNKh1XWCy",
        "colab_type": "code",
        "colab": {
          "base_uri": "https://localhost:8080/",
          "height": 124
        },
        "outputId": "5ed27cb1-7d00-42f1-fd99-8c617e50d1c2"
      },
      "source": [
        "#and now we link the colab also to the google drive so we can use it to store the outputs\n",
        "from google.colab import drive\n",
        "drive.mount('/content/drive')"
      ],
      "execution_count": 3,
      "outputs": [
        {
          "output_type": "stream",
          "text": [
            "Go to this URL in a browser: https://accounts.google.com/o/oauth2/auth?client_id=947318989803-6bn6qk8qdgf4n4g3pfee6491hc0brc4i.apps.googleusercontent.com&redirect_uri=urn%3aietf%3awg%3aoauth%3a2.0%3aoob&response_type=code&scope=email%20https%3a%2f%2fwww.googleapis.com%2fauth%2fdocs.test%20https%3a%2f%2fwww.googleapis.com%2fauth%2fdrive%20https%3a%2f%2fwww.googleapis.com%2fauth%2fdrive.photos.readonly%20https%3a%2f%2fwww.googleapis.com%2fauth%2fpeopleapi.readonly\n",
            "\n",
            "Enter your authorization code:\n",
            "··········\n",
            "Mounted at /content/drive\n"
          ],
          "name": "stdout"
        }
      ]
    },
    {
      "cell_type": "markdown",
      "metadata": {
        "id": "5RQtErdfXod0",
        "colab_type": "text"
      },
      "source": [
        "#Carregar uma imagem do google baseado num poligno"
      ]
    },
    {
      "cell_type": "code",
      "metadata": {
        "id": "ObL3oteBXn13",
        "colab_type": "code",
        "colab": {
          "base_uri": "https://localhost:8080/",
          "height": 52
        },
        "outputId": "3ce85a4a-563e-4962-eb1a-17afc129d9cf"
      },
      "source": [
        "#this is an area near portugal\n",
        "poly_area_coord = [[[-8.899994101775464,40.17486696682209],\n",
        "                    [-8.731079306853589,40.17486696682209],\n",
        "                    [-8.731079306853589,40.305379406094474],\n",
        "                    [-8.899994101775464,40.305379406094474],\n",
        "                    [-8.899994101775464,40.17486696682209]]]\n",
        "\n",
        "\n",
        "\n",
        "#This creates an earth engine polygon geometry\n",
        "poly_area = ee.Geometry.Polygon(poly_area_coord)\n",
        "tiles = ['29TNE']\n",
        "\n",
        "\n",
        "#now we can use this, as a guide for selecting data\n",
        "#check out the product table itself: https://developers.google.com/earth-engine/datasets/catalog/LANDSAT_LC08_C01_T2_SR\n",
        "s2_collection = (ee.ImageCollection(\"COPERNICUS/S2_SR\") #selects the L8 Surface reflectance product in GEE\n",
        "                 .select(['B2','B3','B4',\n",
        "                          'B5','B6','B7',\n",
        "                          'B8A','B11','B12'])\n",
        "                 .filter(ee.Filter.inList('MGRS_TILE', tiles)) #selects the bands of interest - in this case we are actually picking up all of them\n",
        "                 .filter(ee.Filter.date('2020-01-01','2020-03-31')) #filters on the time - you can play around with this to select different dates..\n",
        "                 .filterBounds(poly_area) #filters on the Aoi we have created above\n",
        "                 .filter(ee.Filter.lt('CLOUDY_PIXEL_PERCENTAGE',10)))\n",
        "\n",
        "#l8_collection = (ee.ImageCollection(\"LANDSAT/LC08/C01/T1_SR\") #selects the L8 Surface reflectance product in GEE\n",
        "#                 .select(['B1','B2','B3','B4',\n",
        "#                          'B5','B6','B7',\n",
        "#                          'B10','B11']) #selects the bands of interest - in this case we are actually picking up all of them\n",
        "#                 .filter(ee.Filter.date('2017-06-01','2017-06-30')) #filtes on the time - you can play around with this to select different dates..\n",
        "#                 .filterBounds(poly_area) #filters on the Aoi we have created above\n",
        "#                 .filter(ee.Filter.lt('CLOUDY_PIXEL_PERCENTAGE',10))\n",
        "#                 )\n",
        "\n",
        "count = s2_collection.size()\n",
        "print('Nr of images in collection: ', str(count.getInfo())+'\\n')"
      ],
      "execution_count": 14,
      "outputs": [
        {
          "output_type": "stream",
          "text": [
            "Nr of images in collection:  8\n",
            "\n"
          ],
          "name": "stdout"
        }
      ]
    },
    {
      "cell_type": "markdown",
      "metadata": {
        "id": "mkHyqJocZEbs",
        "colab_type": "text"
      },
      "source": [
        "Passo seguinte: ver a imagem"
      ]
    },
    {
      "cell_type": "code",
      "metadata": {
        "id": "2D4z26VAZzmh",
        "colab_type": "code",
        "colab": {}
      },
      "source": [
        "mid_step = s2_collection.toList(count)\n",
        "s2_img = ee.Image(mid_step.get(3))\n",
        "s2_img_meta = s2_img.getInfo()\n",
        "#s2_img_meta\n",
        "\n",
        "s2_img_outra = ee.Image(mid_step.get(0))\n",
        "\n",
        "#this command clips the image based on the original poly area\n",
        "s2_img_clip = s2_img.clip(poly_area)\n",
        "\n",
        "#first step now is to then generate a s2 image cropped to our aoi, and for information i will also plot it on the map\n",
        "\n",
        "# Import the Folium library. This library is to assist in visualizations\n",
        "import folium\n",
        "\n",
        "# Import the Image function from the IPython.display module. \n",
        "from IPython.display import Image\n",
        "\n",
        "\n",
        "#the next code snippet i stole from someone\n",
        "# Define a method for displaying Earth Engine image tiles to folium map.\n",
        "\n",
        "#this is a simplified version of the original function\n",
        "def add_ee_layer(self, ee_image_object, vis_params, name):\n",
        "  \n",
        "  map_id_dict = ee.Image(ee_image_object).getMapId(vis_params)\n",
        "  folium.raster_layers.TileLayer(\n",
        "    tiles = map_id_dict['tile_fetcher'].url_format,\n",
        "    attr = 'Map Data &copy; <a href=\"https://earthengine.google.com/\">Google Earth Engine</a>',\n",
        "    name = name,\n",
        "    overlay = True,\n",
        "    control = True\n",
        "  ).add_to(self)\n",
        "\n",
        "# Add EE drawing method to folium.\n",
        "folium.Map.add_ee_layer = add_ee_layer\n",
        "\n",
        "\n",
        "# This first step sets up where is the \"default starting position\" of the map. And also the zoom\n",
        "#my_map = folium.Map(location=[33,-80], zoom_start=8) #this had to be tried one by one... feels daft\n",
        "my_map = folium.Map(location=[0,0], zoom_start=2) #this had to be tried one by one... feels daft\n",
        "\n",
        "# Set visualization parameters. Here is we can create different visualizations of our data\n",
        "visParams = {\"bands\": ['B4', 'B3', 'B2'],\"gain\": '0.1, 0.1, 0.1',\"scale\":20}\n",
        "visParams_nir = {\"bands\": ['B8A', 'B4', 'B3'],\"gain\": '0.1, 0.1, 0.1',\"scale\":20}\n",
        "\n",
        "# Add the image to the folium map\n",
        "my_map.add_ee_layer(s2_img, visParams, 'RGB composite')\n",
        "my_map.add_ee_layer(s2_img_outra, visParams, 'RGB composite - outra')\n",
        "my_map.add_ee_layer(s2_img_clip, visParams_nir, 'NIR composite - clipped')\n",
        "my_map.add_ee_layer(s2_img, visParams_nir, 'NIR composite')\n",
        "\n",
        "ndvi = s2_img.normalizedDifference(['B8A', 'B4'])\n",
        "ndviParams = {'min': -1, 'max': 1, 'palette': ['lightblue','cyan','blue','darkblue','brown','lightgreen','green','darkgreen']};\n",
        "my_map.add_ee_layer(ndvi, ndviParams, 'NDVI')\n",
        "\n",
        "# Add a layer control panel to the map.\n",
        "my_map.add_child(folium.LayerControl())\n",
        "\n",
        "# Display the map.\n",
        "display(my_map)"
      ],
      "execution_count": 0,
      "outputs": []
    },
    {
      "cell_type": "markdown",
      "metadata": {
        "id": "pzeU16gcdw7a",
        "colab_type": "text"
      },
      "source": [
        "Recortar e gravaar para uma area de estudo"
      ]
    },
    {
      "cell_type": "code",
      "metadata": {
        "id": "rvV0E31xd6Yq",
        "colab_type": "code",
        "colab": {
          "base_uri": "https://localhost:8080/",
          "height": 35
        },
        "outputId": "134e01a5-2358-4251-f2a1-6d13b883278e"
      },
      "source": [
        "s2_img_meta.get('properties',{}).get('PRODUCT_ID')\n"
      ],
      "execution_count": 16,
      "outputs": [
        {
          "output_type": "execute_result",
          "data": {
            "text/plain": [
              "'S2A_MSIL2A_20200219T112111_N0214_R037_T29TNE_20200219T124126'"
            ]
          },
          "metadata": {
            "tags": []
          },
          "execution_count": 16
        }
      ]
    },
    {
      "cell_type": "code",
      "metadata": {
        "id": "su3V3KVgdv_G",
        "colab_type": "code",
        "colab": {}
      },
      "source": [
        "#getting the filenames\n",
        "imagename = s2_img_meta.get('properties',{}).get('PRODUCT_ID')\n"
      ],
      "execution_count": 0,
      "outputs": []
    },
    {
      "cell_type": "code",
      "metadata": {
        "id": "wlmIZgfBd_fu",
        "colab_type": "code",
        "colab": {}
      },
      "source": [
        "#these are task commands to be sent to GEE\n",
        "task_config = {\n",
        "    'image': s2_img,\n",
        "    'fileFormat': 'GeoTIFF',\n",
        "    'folder': 'Agustin',\n",
        "    'fileNamePrefix': imagename,\n",
        "    'description': \"clipped area\",\n",
        "    'scale':20,\n",
        "    'region':poly_area\n",
        "}\n",
        "\n",
        "#This is how we order it to start\n",
        "task = ee.batch.Export.image.toDrive(**task_config )\n",
        "task.start()"
      ],
      "execution_count": 0,
      "outputs": []
    },
    {
      "cell_type": "code",
      "metadata": {
        "id": "2r_czRUTeAxl",
        "colab_type": "code",
        "colab": {
          "base_uri": "https://localhost:8080/",
          "height": 173
        },
        "outputId": "bde10e14-f0d8-4348-be81-ce42adc30ff3"
      },
      "source": [
        "#to check if the task is running or completed, or failed, run this\n",
        "task.status()"
      ],
      "execution_count": 26,
      "outputs": [
        {
          "output_type": "execute_result",
          "data": {
            "text/plain": [
              "{'creation_timestamp_ms': 1588340917073,\n",
              " 'description': 'clipped area',\n",
              " 'destination_uris': ['https://drive.google.com/#folders/1iJxF_ZYLz9cGSXHVjhkyRXcZ6pR5YM7o'],\n",
              " 'id': '3AJKK7RNWA5YSQE6P46Q7QYQ',\n",
              " 'name': 'projects/earthengine-legacy/operations/3AJKK7RNWA5YSQE6P46Q7QYQ',\n",
              " 'start_timestamp_ms': 1588340929871,\n",
              " 'state': 'COMPLETED',\n",
              " 'task_type': 'EXPORT_IMAGE',\n",
              " 'update_timestamp_ms': 1588340942758}"
            ]
          },
          "metadata": {
            "tags": []
          },
          "execution_count": 26
        }
      ]
    },
    {
      "cell_type": "markdown",
      "metadata": {
        "id": "jsdkJJqgl8oA",
        "colab_type": "text"
      },
      "source": [
        "# Descarregar em loop"
      ]
    },
    {
      "cell_type": "markdown",
      "metadata": {
        "id": "vmJZfcsQmayB",
        "colab_type": "text"
      },
      "source": [
        "Passo 1: criar a lista de imagens (collecçao)"
      ]
    },
    {
      "cell_type": "code",
      "metadata": {
        "id": "05WpmDyRmeCZ",
        "colab_type": "code",
        "colab": {
          "base_uri": "https://localhost:8080/",
          "height": 52
        },
        "outputId": "3f6926cc-83f9-4dc8-8ab7-fc61d210bb21"
      },
      "source": [
        "#this is an area near portugal\n",
        "poly_area_coord = [[[-8.899994101775464,40.17486696682209],\n",
        "                    [-8.731079306853589,40.17486696682209],\n",
        "                    [-8.731079306853589,40.305379406094474],\n",
        "                    [-8.899994101775464,40.305379406094474],\n",
        "                    [-8.899994101775464,40.17486696682209]]]\n",
        "\n",
        "\n",
        "\n",
        "#This creates an earth engine polygon geometry\n",
        "poly_area = ee.Geometry.Polygon(poly_area_coord)\n",
        "tiles = ['29TNE']\n",
        "\n",
        "\n",
        "#now we can use this, as a guide for selecting data\n",
        "#check out the product table itself: https://developers.google.com/earth-engine/datasets/catalog/LANDSAT_LC08_C01_T2_SR\n",
        "s2_collection = (ee.ImageCollection(\"COPERNICUS/S2_SR\") #selects the L8 Surface reflectance product in GEE\n",
        "                 .select(['B2','B3','B4',\n",
        "                          'B5','B6','B7',\n",
        "                          'B8A','B11','B12'])\n",
        "                 .filter(ee.Filter.inList('MGRS_TILE', tiles)) #selects the bands of interest - in this case we are actually picking up all of them\n",
        "                 .filter(ee.Filter.date('2020-01-01','2020-03-31')) #filters on the time - you can play around with this to select different dates..\n",
        "                 .filterBounds(poly_area) #filters on the Aoi we have created above\n",
        "                 .filter(ee.Filter.lt('CLOUDY_PIXEL_PERCENTAGE',10)))\n",
        "\n",
        "count = s2_collection.size()\n",
        "print('Nr of images in collection: ', str(count.getInfo())+'\\n')"
      ],
      "execution_count": 28,
      "outputs": [
        {
          "output_type": "stream",
          "text": [
            "Nr of images in collection:  8\n",
            "\n"
          ],
          "name": "stdout"
        }
      ]
    },
    {
      "cell_type": "code",
      "metadata": {
        "id": "p8Xrfd7_mp3N",
        "colab_type": "code",
        "colab": {
          "base_uri": "https://localhost:8080/",
          "height": 295
        },
        "outputId": "c76755d8-d94b-4163-f531-59a273fc39a4"
      },
      "source": [
        "count.getInfo()\n",
        "\n",
        "for i in range(count.getInfo()):\n",
        "  print(i)\n",
        "  s2_i = ee.Image(mid_step.get(i))\n",
        "  s2_i_metadados = s2_i.getInfo()\n",
        "  print(s2_i_metadados.get('properties',{}).get('PRODUCT_ID'))\n",
        "\n",
        "  imagename = s2_i_metadados.get('properties',{}).get('PRODUCT_ID')\n",
        "\n",
        "  #cria a tarefa\n",
        "  task_config = {\n",
        "    'image': s2_i,\n",
        "    'fileFormat': 'GeoTIFF',\n",
        "    'folder': 'Agustin',\n",
        "    'fileNamePrefix': imagename,\n",
        "    'description': \"clipped area\",\n",
        "    'scale':20,\n",
        "    'region':poly_area\n",
        "  }\n",
        "  #inicia a tarefa\n",
        "  task = ee.batch.Export.image.toDrive(**task_config )\n",
        "  task.start()\n",
        "\n",
        "  #\n",
        "  flag = task.status()['state']\n",
        "  while flag != 'COMPLETED':\n",
        "    flag = task.status()['state']\n",
        "    #print(k,flag)\n",
        "    if flag == 'FAILED':\n",
        "\n",
        "      print(\"GEE task failed\")\n",
        "      flag = 'COMPLETED'\n",
        "\n",
        "    \n",
        "\n"
      ],
      "execution_count": 34,
      "outputs": [
        {
          "output_type": "stream",
          "text": [
            "0\n",
            "S2B_MSIL2A_20200105T112349_N0213_R037_T29TNE_20200105T123810\n",
            "1\n",
            "S2A_MSIL2A_20200110T112431_N0213_R037_T29TNE_20200110T123531\n",
            "2\n",
            "S2A_MSIL2A_20200120T112401_N0213_R037_T29TNE_20200120T123507\n",
            "3\n",
            "S2A_MSIL2A_20200219T112111_N0214_R037_T29TNE_20200219T124126\n",
            "4\n",
            "S2A_MSIL2A_20200310T112111_N0214_R037_T29TNE_20200310T123418\n",
            "5\n",
            "S2B_MSIL2A_20200318T113319_N0214_R080_T29TNE_20200318T142214\n",
            "6\n",
            "S2A_MSIL2A_20200323T113321_N0214_R080_T29TNE_20200323T160705\n",
            "7\n",
            "S2B_MSIL2A_20200328T113319_N0214_R080_T29TNE_20200328T142123\n"
          ],
          "name": "stdout"
        }
      ]
    }
  ]
}