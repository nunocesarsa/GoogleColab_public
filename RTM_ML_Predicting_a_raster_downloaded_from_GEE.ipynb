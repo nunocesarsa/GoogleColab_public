{
  "nbformat": 4,
  "nbformat_minor": 0,
  "metadata": {
    "colab": {
      "name": "RTM ML Predicting a raster downloaded from GEE.ipynb",
      "provenance": [],
      "toc_visible": true,
      "machine_shape": "hm",
      "authorship_tag": "ABX9TyM7KmfCUd9S2zFEjZE7pk+j",
      "include_colab_link": true
    },
    "kernelspec": {
      "name": "python3",
      "display_name": "Python 3"
    },
    "accelerator": "TPU"
  },
  "cells": [
    {
      "cell_type": "markdown",
      "metadata": {
        "id": "view-in-github",
        "colab_type": "text"
      },
      "source": [
        "<a href=\"https://colab.research.google.com/github/nunocesarsa/GoogleColab_public/blob/master/RTM_ML_Predicting_a_raster_downloaded_from_GEE.ipynb\" target=\"_parent\"><img src=\"https://colab.research.google.com/assets/colab-badge.svg\" alt=\"Open In Colab\"/></a>"
      ]
    },
    {
      "cell_type": "markdown",
      "metadata": {
        "id": "SZre3LerLiK6",
        "colab_type": "text"
      },
      "source": [
        "#First lets download the image from google earth engine, cropped to an AOI"
      ]
    },
    {
      "cell_type": "code",
      "metadata": {
        "id": "v3CcY5VlLbFq",
        "colab_type": "code",
        "colab": {}
      },
      "source": [
        "import ee"
      ],
      "execution_count": 0,
      "outputs": []
    },
    {
      "cell_type": "code",
      "metadata": {
        "id": "a35L919fLt9D",
        "colab_type": "code",
        "outputId": "ece58812-8acd-47e4-dbb3-90d295b9c90f",
        "colab": {
          "base_uri": "https://localhost:8080/",
          "height": 173
        }
      },
      "source": [
        "#then we need to authenticate\n",
        "\n",
        "# Trigger the authentication flow.\n",
        "ee.Authenticate()\n",
        "\n",
        "# Initialize the library.\n",
        "ee.Initialize()"
      ],
      "execution_count": 3,
      "outputs": [
        {
          "output_type": "stream",
          "text": [
            "To authorize access needed by Earth Engine, open the following URL in a web browser and follow the instructions. If the web browser does not start automatically, please manually browse the URL below.\n",
            "\n",
            "    https://accounts.google.com/o/oauth2/auth?client_id=517222506229-vsmmajv00ul0bs7p89v5m89qs8eb9359.apps.googleusercontent.com&scope=https%3A%2F%2Fwww.googleapis.com%2Fauth%2Fearthengine+https%3A%2F%2Fwww.googleapis.com%2Fauth%2Fdevstorage.full_control&redirect_uri=urn%3Aietf%3Awg%3Aoauth%3A2.0%3Aoob&response_type=code\n",
            "\n",
            "The authorization workflow will generate a code, which you should paste in the box below. \n",
            "Enter verification code: 4/vwH6o6Ihv7aYrbkoquRL0e_J5WmBLdC6yRgvOSL6r74Dw-FjMyROiPE\n",
            "\n",
            "Successfully saved authorization token.\n"
          ],
          "name": "stdout"
        }
      ]
    },
    {
      "cell_type": "code",
      "metadata": {
        "id": "8h3xIsWTLxAY",
        "colab_type": "code",
        "outputId": "354a4eb4-4d41-4607-93e5-8fe05c3a8cc2",
        "colab": {
          "base_uri": "https://localhost:8080/",
          "height": 122
        }
      },
      "source": [
        "#then we need to authenticate in google drive also so we can upload our download there\n",
        "\n",
        "from google.colab import drive\n",
        "drive.mount('/content/drive')"
      ],
      "execution_count": 4,
      "outputs": [
        {
          "output_type": "stream",
          "text": [
            "Go to this URL in a browser: https://accounts.google.com/o/oauth2/auth?client_id=947318989803-6bn6qk8qdgf4n4g3pfee6491hc0brc4i.apps.googleusercontent.com&redirect_uri=urn%3aietf%3awg%3aoauth%3a2.0%3aoob&response_type=code&scope=email%20https%3a%2f%2fwww.googleapis.com%2fauth%2fdocs.test%20https%3a%2f%2fwww.googleapis.com%2fauth%2fdrive%20https%3a%2f%2fwww.googleapis.com%2fauth%2fdrive.photos.readonly%20https%3a%2f%2fwww.googleapis.com%2fauth%2fpeopleapi.readonly\n",
            "\n",
            "Enter your authorization code:\n",
            "··········\n",
            "Mounted at /content/drive\n"
          ],
          "name": "stdout"
        }
      ]
    },
    {
      "cell_type": "markdown",
      "metadata": {
        "id": "nxgE03QlMNV4",
        "colab_type": "text"
      },
      "source": [
        "#now we have a drive available on the left we can use to load data on demand\n"
      ]
    },
    {
      "cell_type": "code",
      "metadata": {
        "id": "PR-F7hkeMLtS",
        "colab_type": "code",
        "outputId": "f0bcffe8-b5ed-484e-b109-4e8a8e468380",
        "colab": {
          "base_uri": "https://localhost:8080/",
          "height": 445
        }
      },
      "source": [
        "#first step now is to then generate a s2 image cropped to our aoi, and for information i will also plot it on the map\n",
        "\n",
        "# Import the Folium library. This library is to assist in visualizations\n",
        "import folium\n",
        "\n",
        "# Import the Image function from the IPython.display module. \n",
        "from IPython.display import Image\n",
        "\n",
        "#thi loads a pre-selected image, i reckon it can be a loop\n",
        "s2_img = ee.Image(\"COPERNICUS/S2/20190717T104029_20190717T104353_T31UFU\").select(['B2','B3','B4',\n",
        "                                                                                  'B5','B6','B7',\n",
        "                                                                                  'B8A','B11','B12'])\n",
        "\n",
        "#the next code snippet i stole from someone\n",
        "# Define a method for displaying Earth Engine image tiles to folium map.\n",
        "def add_ee_layer(self, ee_image_object, vis_params, name):\n",
        "  \n",
        "  map_id_dict = ee.Image(ee_image_object).getMapId(vis_params)\n",
        "  folium.raster_layers.TileLayer(\n",
        "    tiles = map_id_dict['tile_fetcher'].url_format,\n",
        "    attr = 'Map Data &copy; <a href=\"https://earthengine.google.com/\">Google Earth Engine</a>',\n",
        "    name = name,\n",
        "    overlay = True,\n",
        "    control = True\n",
        "  ).add_to(self)\n",
        "\n",
        "# Add EE drawing method to folium.\n",
        "folium.Map.add_ee_layer = add_ee_layer\n",
        "\n",
        "# Set visualization parameters.\n",
        "visParams = {\"bands\": ['B4', 'B3', 'B2'],\"gain\": '0.1, 0.1, 0.1',\"scale\":20}\n",
        "\n",
        "# Create a folium map object.\n",
        "my_map = folium.Map(location=[52.4500, 5.35], zoom_start=12) #this had to be tried one by one... feels daft\n",
        "\n",
        "# Add the elevation model to the map object.\n",
        "my_map.add_ee_layer(s2_img, visParams, 'DEM')\n",
        "\n",
        "# Add a layer control panel to the map.\n",
        "my_map.add_child(folium.LayerControl())\n",
        "\n",
        "# Display the map.\n",
        "display(my_map)"
      ],
      "execution_count": 5,
      "outputs": [
        {
          "output_type": "display_data",
          "data": {
            "text/html": [
              "<div style=\"width:100%;\"><div style=\"position:relative;width:100%;height:0;padding-bottom:60%;\"><iframe src=\"data:text/html;charset=utf-8;base64,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\" style=\"position:absolute;width:100%;height:100%;left:0;top:0;border:none !important;\" allowfullscreen webkitallowfullscreen mozallowfullscreen></iframe></div></div>"
            ],
            "text/plain": [
              "<folium.folium.Map at 0x7f4a8d932320>"
            ]
          },
          "metadata": {
            "tags": []
          }
        }
      ]
    },
    {
      "cell_type": "markdown",
      "metadata": {
        "id": "MKBcwYWYSA-j",
        "colab_type": "text"
      },
      "source": [
        "#now we can finally clip the image"
      ]
    },
    {
      "cell_type": "code",
      "metadata": {
        "id": "DpwB5MCtSC5v",
        "colab_type": "code",
        "colab": {}
      },
      "source": [
        "#this next step actually clips the image \n",
        "#this is a polygon area created by me, it surrounds the park, perhaps there are better ways of designing this also\n",
        "poly_area_coord = [[[5.254370219641714,52.41249485115749],\n",
        "                    [5.423285014563589,52.41249485115749],\n",
        "                    [5.423285014563589,52.49910845916859],\n",
        "                    [5.254370219641714,52.49910845916859],\n",
        "                    [5.254370219641714,52.41249485115749]]]\n",
        "\n",
        "poly_area = ee.Geometry.Polygon(poly_area_coord)\n",
        "\n",
        "#this is a dictionary object with the details for the batch export function off GEE\n",
        "#it will save  the data to my drive\n",
        "task_config = {\n",
        "    'image': s2_img,\n",
        "    'fileFormat': 'GeoTIFF',\n",
        "    'fileNamePrefix': 'S2_ML_Data',\n",
        "    'description': 'S2_ML_Data',\n",
        "    'scale':20,\n",
        "    'region':poly_area\n",
        "}\n",
        "#this starts the task - notice that it has to be called and then wait.\n",
        "#since it is an operation ongoing on GEE, python will not produce any error message\n",
        "#if omething is wrong. The commands in the next section show how to check on that \n",
        "task = ee.batch.Export.image.toDrive(**task_config )\n",
        "task.start()\n"
      ],
      "execution_count": 0,
      "outputs": []
    },
    {
      "cell_type": "markdown",
      "metadata": {
        "id": "praZFe5ASbn2",
        "colab_type": "text"
      },
      "source": [
        "The next two code snippets allow us to keep track of the procedure"
      ]
    },
    {
      "cell_type": "code",
      "metadata": {
        "id": "5XI31DSwSfdm",
        "colab_type": "code",
        "outputId": "c7e20b5b-f734-46cd-ce5b-7b1df3f49494",
        "colab": {
          "base_uri": "https://localhost:8080/",
          "height": 153
        }
      },
      "source": [
        "task.status()"
      ],
      "execution_count": 7,
      "outputs": [
        {
          "output_type": "execute_result",
          "data": {
            "text/plain": [
              "{'creation_timestamp_ms': 1579820646337,\n",
              " 'description': 'S2_ML_Data',\n",
              " 'id': 'EVOMUGAZJDO5OSYFURXDSRAL',\n",
              " 'name': 'projects/earthengine-legacy/operations/EVOMUGAZJDO5OSYFURXDSRAL',\n",
              " 'start_timestamp_ms': 0,\n",
              " 'state': 'READY',\n",
              " 'task_type': 'EXPORT_IMAGE',\n",
              " 'update_timestamp_ms': 1579820646337}"
            ]
          },
          "metadata": {
            "tags": []
          },
          "execution_count": 7
        }
      ]
    },
    {
      "cell_type": "code",
      "metadata": {
        "id": "8WMxsdYyStIW",
        "colab_type": "code",
        "outputId": "1b53c0ff-7aa0-480f-840f-b87b55c4d5da",
        "colab": {
          "base_uri": "https://localhost:8080/",
          "height": 34
        }
      },
      "source": [
        "task.active()"
      ],
      "execution_count": 8,
      "outputs": [
        {
          "output_type": "execute_result",
          "data": {
            "text/plain": [
              "True"
            ]
          },
          "metadata": {
            "tags": []
          },
          "execution_count": 8
        }
      ]
    },
    {
      "cell_type": "markdown",
      "metadata": {
        "id": "TwamrcXgVJ1h",
        "colab_type": "text"
      },
      "source": [
        "#now have uploaded the image to my drive, lets try to visualize it in python now\n",
        "\n"
      ]
    },
    {
      "cell_type": "code",
      "metadata": {
        "id": "Vt9mEzwaVmeV",
        "colab_type": "code",
        "outputId": "9499a3e4-7373-4e43-ca2c-31534d22381a",
        "colab": {
          "base_uri": "https://localhost:8080/",
          "height": 224
        }
      },
      "source": [
        "!pip install pyrsgis\n",
        "!pip install rasterio\n",
        "!pip install pyproj"
      ],
      "execution_count": 15,
      "outputs": [
        {
          "output_type": "stream",
          "text": [
            "Requirement already satisfied: pyrsgis in /usr/local/lib/python3.6/dist-packages (0.2.7)\n",
            "Requirement already satisfied: rasterio in /usr/local/lib/python3.6/dist-packages (1.1.2)\n",
            "Requirement already satisfied: click-plugins in /usr/local/lib/python3.6/dist-packages (from rasterio) (1.1.1)\n",
            "Requirement already satisfied: affine in /usr/local/lib/python3.6/dist-packages (from rasterio) (2.3.0)\n",
            "Requirement already satisfied: cligj>=0.5 in /usr/local/lib/python3.6/dist-packages (from rasterio) (0.5.0)\n",
            "Requirement already satisfied: numpy in /usr/local/lib/python3.6/dist-packages (from rasterio) (1.17.5)\n",
            "Requirement already satisfied: attrs in /usr/local/lib/python3.6/dist-packages (from rasterio) (19.3.0)\n",
            "Requirement already satisfied: click<8,>=4.0 in /usr/local/lib/python3.6/dist-packages (from rasterio) (7.0)\n",
            "Requirement already satisfied: snuggs>=1.4.1 in /usr/local/lib/python3.6/dist-packages (from rasterio) (1.4.7)\n",
            "Requirement already satisfied: pyparsing>=2.1.6 in /usr/local/lib/python3.6/dist-packages (from snuggs>=1.4.1->rasterio) (2.4.6)\n",
            "Requirement already satisfied: pyproj in /usr/local/lib/python3.6/dist-packages (2.4.2.post1)\n"
          ],
          "name": "stdout"
        }
      ]
    },
    {
      "cell_type": "code",
      "metadata": {
        "id": "GxFhsbeGVka9",
        "colab_type": "code",
        "colab": {}
      },
      "source": [
        "#General purpose: \n",
        "import matplotlib.pyplot as plt\n",
        "import numpy\n",
        "import numpy as np\n",
        "from mpl_toolkits.mplot3d import Axes3D\n",
        "\n",
        "import pandas as pd\n",
        "\n",
        "import os\n",
        "from pyrsgis import raster\n",
        "\n",
        "import rasterio\n",
        "import rasterio.plot\n",
        "import pyproj\n",
        "import numpy as np\n",
        "import matplotlib\n",
        "import matplotlib.pyplot as plt\n",
        "\n"
      ],
      "execution_count": 0,
      "outputs": []
    },
    {
      "cell_type": "markdown",
      "metadata": {
        "id": "3GTg7Jq8XQp_",
        "colab_type": "text"
      },
      "source": [
        "The easiest for now is actually downloading the file, and uploading it again. There must be better alternatives. "
      ]
    },
    {
      "cell_type": "code",
      "metadata": {
        "id": "qpkerFJjWV8Y",
        "colab_type": "code",
        "outputId": "23b7a473-53a8-4ec9-bba7-d8f2929f0c5e",
        "colab": {
          "base_uri": "https://localhost:8080/",
          "height": 204
        }
      },
      "source": [
        "#This loads the data\n",
        "s2_data = 'S2_ML_Data.tif'\n",
        "\n",
        "ds1, bands = raster.read(s2_data)\n",
        "print(ds1)\n",
        "print(bands.shape) #the raster has 9 bands by 501 x 590 (not sure wich is the row)\n",
        "\n",
        "from pyrsgis.convert import changeDimension\n",
        "\n",
        "#this function converts the hypercube to a 2D array\n",
        "bandByPixel = changeDimension(bands)/10000. #we have to devide all values by 10k - its a conversion from bits to reflectances\n",
        "bandByPixel_t = np.transpose(bandByPixel)\n",
        "print(bandByPixel.shape)\n",
        "print(bandByPixel_t.shape)\n",
        "bandByPixel"
      ],
      "execution_count": 18,
      "outputs": [
        {
          "output_type": "stream",
          "text": [
            "<pyrsgis.raster.createDS object at 0x7f4a72ac0e80>\n",
            "(9, 501, 590)\n",
            "(295590, 9)\n",
            "(9, 295590)\n"
          ],
          "name": "stdout"
        },
        {
          "output_type": "execute_result",
          "data": {
            "text/plain": [
              "array([[0.1085, 0.0947, 0.0569, ..., 0.0231, 0.0047, 0.0029],\n",
              "       [0.1085, 0.0944, 0.0577, ..., 0.0226, 0.0049, 0.0021],\n",
              "       [0.1083, 0.0945, 0.0575, ..., 0.023 , 0.0048, 0.002 ],\n",
              "       ...,\n",
              "       [0.1252, 0.1181, 0.1269, ..., 0.2688, 0.1636, 0.0996],\n",
              "       [0.1287, 0.124 , 0.1246, ..., 0.2886, 0.1712, 0.1064],\n",
              "       [0.1208, 0.1133, 0.107 , ..., 0.3075, 0.1633, 0.0987]])"
            ]
          },
          "metadata": {
            "tags": []
          },
          "execution_count": 18
        }
      ]
    },
    {
      "cell_type": "markdown",
      "metadata": {
        "id": "2SJcRSEHZ96Y",
        "colab_type": "text"
      },
      "source": [
        "Link of interest:\n",
        "\n",
        "https://geohackweek.github.io/raster/04-workingwithrasters/\n",
        "\n",
        "\n",
        "https://www.hatarilabs.com/ih-en/sentinel2-images-explotarion-and-processing-with-python-and-rasterio"
      ]
    },
    {
      "cell_type": "code",
      "metadata": {
        "id": "ppKTstQeY1ts",
        "colab_type": "code",
        "outputId": "4eed4d48-9a0b-4d6d-d317-7e40fd9c5d3e",
        "colab": {
          "base_uri": "https://localhost:8080/",
          "height": 310
        }
      },
      "source": [
        "#window = rasterio.windows.Window(1024, 1024, 1280, 2560)\n",
        "with rasterio.open(s2_data) as src:\n",
        "    subset = src.read(9)\n",
        "\n",
        "plt.figure(figsize=(6,8.5))\n",
        "plt.imshow(subset)\n",
        "plt.colorbar(shrink=0.5)\n",
        "#plt.title(f'Band 4 Subset\\n{window}')\n",
        "plt.xlabel('Column #')\n",
        "plt.ylabel('Row #')\n",
        "\n",
        "#now sure i know how to produce a RGB for now but it doesn't matter,\n",
        "# this is just to show i have cropped the image\n"
      ],
      "execution_count": 19,
      "outputs": [
        {
          "output_type": "execute_result",
          "data": {
            "text/plain": [
              "Text(0, 0.5, 'Row #')"
            ]
          },
          "metadata": {
            "tags": []
          },
          "execution_count": 19
        },
        {
          "output_type": "display_data",
          "data": {
            "image/png": "[encoded data removed]",
            "text/plain": [
              "<Figure size 432x612 with 2 Axes>"
            ]
          },
          "metadata": {
            "tags": []
          }
        }
      ]
    },
    {
      "cell_type": "markdown",
      "metadata": {
        "id": "75JaxwVye58r",
        "colab_type": "text"
      },
      "source": [
        "#now we will quickly set up a GPR trained on PROSAIL to try the model"
      ]
    },
    {
      "cell_type": "code",
      "metadata": {
        "id": "gXOLBUeOX171",
        "colab_type": "code",
        "outputId": "cbda17ad-5572-42f6-deed-d1808e9d4343",
        "colab": {
          "base_uri": "https://localhost:8080/",
          "height": 598
        }
      },
      "source": [
        "#Installing PROSAIL\n",
        "!pip install prosail\n",
        "\n",
        "#latin hypercube stuff\n",
        "#lets try to do a LHS\n",
        "!pip install lhsmdu\n",
        "\n",
        "#this package as a number of functions to deal with hyperspectral data\n",
        "!pip install pysptools"
      ],
      "execution_count": 20,
      "outputs": [
        {
          "output_type": "stream",
          "text": [
            "Collecting prosail\n",
            "\u001b[?25l  Downloading https://files.pythonhosted.org/packages/b5/52/d0c15ab469e8c82bc76a6b6cd614efbc60e43d09d5bacaa349170d229e91/prosail-2.0.5-py3-none-any.whl (149kB)\n",
            "\r\u001b[K     |██▏                             | 10kB 15.6MB/s eta 0:00:01\r\u001b[K     |████▍                           | 20kB 2.2MB/s eta 0:00:01\r\u001b[K     |██████▋                         | 30kB 2.9MB/s eta 0:00:01\r\u001b[K     |████████▊                       | 40kB 2.1MB/s eta 0:00:01\r\u001b[K     |███████████                     | 51kB 2.4MB/s eta 0:00:01\r\u001b[K     |█████████████▏                  | 61kB 2.8MB/s eta 0:00:01\r\u001b[K     |███████████████▍                | 71kB 3.0MB/s eta 0:00:01\r\u001b[K     |█████████████████▌              | 81kB 3.2MB/s eta 0:00:01\r\u001b[K     |███████████████████▊            | 92kB 3.6MB/s eta 0:00:01\r\u001b[K     |██████████████████████          | 102kB 3.5MB/s eta 0:00:01\r\u001b[K     |████████████████████████▏       | 112kB 3.5MB/s eta 0:00:01\r\u001b[K     |██████████████████████████▎     | 122kB 3.5MB/s eta 0:00:01\r\u001b[K     |████████████████████████████▌   | 133kB 3.5MB/s eta 0:00:01\r\u001b[K     |██████████████████████████████▊ | 143kB 3.5MB/s eta 0:00:01\r\u001b[K     |████████████████████████████████| 153kB 3.5MB/s \n",
            "\u001b[?25hRequirement already satisfied: numba in /usr/local/lib/python3.6/dist-packages (from prosail) (0.47.0)\n",
            "Requirement already satisfied: scipy in /usr/local/lib/python3.6/dist-packages (from prosail) (1.4.1)\n",
            "Requirement already satisfied: pytest in /usr/local/lib/python3.6/dist-packages (from prosail) (3.6.4)\n",
            "Requirement already satisfied: numpy in /usr/local/lib/python3.6/dist-packages (from prosail) (1.17.5)\n",
            "Requirement already satisfied: setuptools in /usr/local/lib/python3.6/dist-packages (from numba->prosail) (42.0.2)\n",
            "Requirement already satisfied: llvmlite>=0.31.0dev0 in /usr/local/lib/python3.6/dist-packages (from numba->prosail) (0.31.0)\n",
            "Requirement already satisfied: pluggy<0.8,>=0.5 in /usr/local/lib/python3.6/dist-packages (from pytest->prosail) (0.7.1)\n",
            "Requirement already satisfied: more-itertools>=4.0.0 in /usr/local/lib/python3.6/dist-packages (from pytest->prosail) (8.0.2)\n",
            "Requirement already satisfied: atomicwrites>=1.0 in /usr/local/lib/python3.6/dist-packages (from pytest->prosail) (1.3.0)\n",
            "Requirement already satisfied: six>=1.10.0 in /usr/local/lib/python3.6/dist-packages (from pytest->prosail) (1.12.0)\n",
            "Requirement already satisfied: attrs>=17.4.0 in /usr/local/lib/python3.6/dist-packages (from pytest->prosail) (19.3.0)\n",
            "Requirement already satisfied: py>=1.5.0 in /usr/local/lib/python3.6/dist-packages (from pytest->prosail) (1.8.1)\n",
            "Installing collected packages: prosail\n",
            "Successfully installed prosail-2.0.5\n",
            "Collecting lhsmdu\n",
            "  Downloading https://files.pythonhosted.org/packages/7b/f0/e714a4dae734bcd7228a09d74fff7dc5857dc3311cd72a3e07b09c85d088/lhsmdu-0.1-py3-none-any.whl\n",
            "Requirement already satisfied: numpy in /usr/local/lib/python3.6/dist-packages (from lhsmdu) (1.17.5)\n",
            "Requirement already satisfied: scipy in /usr/local/lib/python3.6/dist-packages (from lhsmdu) (1.4.1)\n",
            "Installing collected packages: lhsmdu\n",
            "Successfully installed lhsmdu-0.1\n",
            "Collecting pysptools\n",
            "\u001b[?25l  Downloading https://files.pythonhosted.org/packages/9b/20/cef48129eff2bdcb282279138c09e6f04770a8fdcb3c1bb9a98fe4086d2d/pysptools-0.15.0.tar.gz (8.1MB)\n",
            "\u001b[K     |████████████████████████████████| 8.1MB 2.7MB/s \n",
            "\u001b[?25hBuilding wheels for collected packages: pysptools\n",
            "  Building wheel for pysptools (setup.py) ... \u001b[?25l\u001b[?25hdone\n",
            "  Created wheel for pysptools: filename=pysptools-0.15.0-cp36-none-any.whl size=8133747 sha256=a5bd780d4d089825b02c8694bed13da4682e056559177c78a92d0f2eb18701e7\n",
            "  Stored in directory: /root/.cache/pip/wheels/bf/60/be/a6719d91bfa59135201feb034c7069e4146aa576fc0dc9e624\n",
            "Successfully built pysptools\n",
            "Installing collected packages: pysptools\n",
            "Successfully installed pysptools-0.15.0\n"
          ],
          "name": "stdout"
        }
      ]
    },
    {
      "cell_type": "code",
      "metadata": {
        "id": "Xvt0e5rRfj90",
        "colab_type": "code",
        "colab": {}
      },
      "source": [
        "import pandas as pd\n",
        "\n",
        "#PROSPECT+SAIL Radiative transfer mode package\n",
        "import prosail\n",
        "\n",
        "#Sampling design package\n",
        "import lhsmdu"
      ],
      "execution_count": 0,
      "outputs": []
    },
    {
      "cell_type": "code",
      "metadata": {
        "id": "hGYrOtnQfWuN",
        "colab_type": "code",
        "colab": {}
      },
      "source": [
        "#number of samples\n",
        "train_n3000 = 3000\n",
        "\n",
        "n_traits=4 #I will test on 4 varying traits: cab, car, cw,cm,lai\n",
        "\n",
        "#generating a LHS hypercube (it uses a 0 to 1 interval that can be used as a multiplier against the different traits)\n",
        "np.random.seed(0)\n",
        "LHS_train3000 = lhsmdu.createRandomStandardUniformMatrix(n_traits,train_n3000 ) #the package has a more advanced method but it is too slow to process\n",
        "\n",
        "#max_n=1 #this value should go from 1 to 2, so i make it change from 0 to 1 here and then add 1 later\n",
        "max_cab=79. #add 1\n",
        "#max_car=44. #add 1\n",
        "#max_cbrown= 9.99 #add 0.01\n",
        "max_cw=0.008 #add 0.001 \n",
        "max_cm=0.008 #0.001\n",
        "max_lai = 9.9 #add 0.1\n"
      ],
      "execution_count": 0,
      "outputs": []
    },
    {
      "cell_type": "markdown",
      "metadata": {
        "id": "DrcQHfBVfx9b",
        "colab_type": "text"
      },
      "source": [
        "The next functions are helper functions to facilitate the calls"
      ]
    },
    {
      "cell_type": "code",
      "metadata": {
        "id": "2z8Wnje1fIKw",
        "colab_type": "code",
        "colab": {}
      },
      "source": [
        "def custom_prosail(cab,cw,cm,lai):\n",
        "  import prosail\n",
        "  #default parameters\n",
        "  n= 1.2\n",
        "  car=25.\n",
        "  cbrown=0.01\n",
        "  typelidf=1\n",
        "  lidfa = -0.35 #leaf angle distribution parameter a and b\n",
        "  lidfb=-0.15\n",
        "  hspot= 0.01 #hotspot parameters\n",
        "  #sun and viewing angle\n",
        "  tts=30. #observation and solar position parameters\n",
        "  tto=10. \n",
        "  psi=0.\n",
        "  rho_out = prosail.run_prosail(n,\n",
        "                                 cab,\n",
        "                                 car,\n",
        "                                 cbrown,\n",
        "                                 cw,\n",
        "                                 cm,\n",
        "                                 lai,\n",
        "                                 lidfa,hspot,tts,tto,psi,\n",
        "                                 typelidf, #lidfb=-0.15,\n",
        "                                 factor='SDR', rsoil=1., psoil=1.)\n",
        "  return(rho_out)"
      ],
      "execution_count": 0,
      "outputs": []
    },
    {
      "cell_type": "code",
      "metadata": {
        "id": "efMV-OQ1fsl5",
        "colab_type": "code",
        "colab": {}
      },
      "source": [
        "def Prosail2S2(path2csv,spectra_input):\n",
        "  #importing pandas\n",
        "  import pandas as pd\n",
        "  import numpy\n",
        "  import numpy as np\n",
        "  #upload a S2_Response.csv from https://earth.esa.int/web/sentinel/user-guides/sentinel-2-msi/document-library/-/asset_publisher/Wk0TKajiISaR/content/sentinel-2a-spectral-responses\n",
        "\n",
        "  s2_table = pd.read_csv(path2csv,sep=\";\",decimal=\",\") #check if this is proper, regarding the sep and dec\n",
        "\n",
        "  s2_table_sel = s2_table[s2_table['SR_WL'].between(400,2500)] #selects all values between 400 and 2500\n",
        "  spectra_input_df = pd.DataFrame(data=spectra_input,columns=[\"rho\"],index=s2_table_sel.index) #transforms the input array into a pandas df with the column name rho and row.index = to the original input table\n",
        "\n",
        "  \n",
        "  rho_s2 = s2_table_sel.multiply(spectra_input_df['rho'],axis=\"index\") #calculates the numerator\n",
        "  w_band_sum = s2_table_sel.sum(axis=0,skipna = True) #calculates the denominator\n",
        "\n",
        "  output = (rho_s2.sum(axis=0)/w_band_sum).rename_axis(\"ID\").values #runs the weighted mean and converts the output to a numpy array\n",
        "\n",
        "  return output[1:] #removes the first value because it represents the wavelength column\n",
        "\n",
        "#please LOAD THTE FILE NOW\n",
        "filepath=\"/content/S2_Response.csv\"\n"
      ],
      "execution_count": 0,
      "outputs": []
    },
    {
      "cell_type": "code",
      "metadata": {
        "id": "glANp1cQfwDT",
        "colab_type": "code",
        "colab": {}
      },
      "source": [
        "def Gen_spectra_data(traits):\n",
        "  k = 1\n",
        "  #pd_train_traits=traits\n",
        "  #print(range(len(traits)))\n",
        "  for i in range(len(traits)):\n",
        "    #n_t = pd_train_traits[\"n\"][i]\n",
        "    cab_t = traits[\"cab\"][i]\n",
        "    #car_t = pd_train_traits[\"car\"][i]\n",
        "    #cbrown_t = pd_train_traits[\"cbrown\"][i]\n",
        "    cw_t = traits[\"cw\"][i]\n",
        "    cm_t = traits[\"cm\"][i]\n",
        "    lai_t = traits[\"lai\"][i]\n",
        "\n",
        "    if k == 1:\n",
        "      tr_rho_s = custom_prosail(cab_t,cw_t,cm_t,lai_t)\n",
        "      tr_rho_s = Prosail2S2(filepath,tr_rho_s)\n",
        "      #plt.plot ( x, tr_rho_s, ':', label=\"Training prosail\")\n",
        "      #plt.legend(loc='best')\n",
        "      \n",
        "    if k > 1:\n",
        "      tr_rho_t = custom_prosail(cab_t,cw_t,cm_t,lai_t)\n",
        "      tr_rho_t = Prosail2S2(filepath,tr_rho_t)\n",
        "      tr_rho_s = np.vstack((tr_rho_s,tr_rho_t))\n",
        "      #plt.plot ( x, tr_rho_t, ':')\n",
        "\n",
        "    k = k+1\n",
        "\n",
        "\n",
        "  rho_samples=tr_rho_s\n",
        "\n",
        "\n",
        "  return rho_samples\n"
      ],
      "execution_count": 0,
      "outputs": []
    },
    {
      "cell_type": "markdown",
      "metadata": {
        "id": "f3LI16NSf4q7",
        "colab_type": "text"
      },
      "source": [
        "#preparing the input data for prosail"
      ]
    },
    {
      "cell_type": "code",
      "metadata": {
        "id": "nixYagKnf8hb",
        "colab_type": "code",
        "colab": {}
      },
      "source": [
        "#preparing function inputs\n",
        "\n",
        "\n",
        "pd_traits3000 = pd.DataFrame.transpose(pd.DataFrame(LHS_train3000))\n",
        "pd_traits3000.columns = [\"cab\",\"cw\",\"cm\",\"lai\"]\n",
        "\n",
        "pd_traits3000[\"cab\"]=pd_traits3000[\"cab\"]*max_cab+1.\n",
        "pd_traits3000[\"cw\"] =pd_traits3000[\"cw\"] *max_cw+.001\n",
        "pd_traits3000[\"cm\"] =pd_traits3000[\"cm\"] *max_cm+.001\n",
        "pd_traits3000[\"lai\"]=pd_traits3000[\"lai\"]*max_lai+.25\n",
        "\n",
        "np_spectra3000 = Gen_spectra_data(pd_traits3000)\n"
      ],
      "execution_count": 0,
      "outputs": []
    },
    {
      "cell_type": "code",
      "metadata": {
        "id": "BVorvlFfgKoQ",
        "colab_type": "code",
        "outputId": "3bf3c34e-208f-4180-c969-a28ad1026879",
        "colab": {
          "base_uri": "https://localhost:8080/",
          "height": 51
        }
      },
      "source": [
        "print(np_spectra3000.shape)\n",
        "#lets also create a numpy object for the tratis\n",
        "np_traits3000 = pd_traits3000.iloc[:,:].values\n",
        "\n",
        "train_df_3000 = np_spectra3000[:,[1,2,3,4,5,6,8,11,12]]\n",
        "print(train_df_3000.shape)\n",
        "\n",
        "X_train = train_df_3000\n",
        "Y_train = np_traits3000"
      ],
      "execution_count": 27,
      "outputs": [
        {
          "output_type": "stream",
          "text": [
            "(3000, 13)\n",
            "(3000, 9)\n"
          ],
          "name": "stdout"
        }
      ]
    },
    {
      "cell_type": "markdown",
      "metadata": {
        "id": "MKb411aViUyD",
        "colab_type": "text"
      },
      "source": [
        "#time for training and predicting the GPR"
      ]
    },
    {
      "cell_type": "code",
      "metadata": {
        "id": "a8D7F7vfgSjQ",
        "colab_type": "code",
        "outputId": "db3d2b58-48b0-40fc-999d-236e358939a1",
        "colab": {
          "base_uri": "https://localhost:8080/",
          "height": 68
        }
      },
      "source": [
        "#Gaussian processes\n",
        "from sklearn.gaussian_process import GaussianProcessRegressor\n",
        "from sklearn.gaussian_process.kernels import ConstantKernel, Matern\n",
        "\n",
        "gpr_ml = GaussianProcessRegressor(n_restarts_optimizer=50,\n",
        "                                        normalize_y=True,\n",
        "                                        random_state=0,copy_X_train=False)\n",
        "\n",
        "\n",
        "#GPR - Training \n",
        "gpr_ml.fit(X_train,Y_train)"
      ],
      "execution_count": 28,
      "outputs": [
        {
          "output_type": "execute_result",
          "data": {
            "text/plain": [
              "GaussianProcessRegressor(alpha=1e-10, copy_X_train=False, kernel=None,\n",
              "                         n_restarts_optimizer=50, normalize_y=True,\n",
              "                         optimizer='fmin_l_bfgs_b', random_state=0)"
            ]
          },
          "metadata": {
            "tags": []
          },
          "execution_count": 28
        }
      ]
    },
    {
      "cell_type": "markdown",
      "metadata": {
        "id": "dXhksp7-itEq",
        "colab_type": "text"
      },
      "source": [
        "The prediction runs out of RAM unfortunately\n"
      ]
    },
    {
      "cell_type": "code",
      "metadata": {
        "id": "7KJzoFlogqjV",
        "colab_type": "code",
        "colab": {}
      },
      "source": [
        "#this predicts the data back into the pixel data (its not fast)\n",
        "#img_pred = gpr_ml.predict(bandByPixel)"
      ],
      "execution_count": 0,
      "outputs": []
    },
    {
      "cell_type": "markdown",
      "metadata": {
        "id": "orAPlVn5q11Q",
        "colab_type": "text"
      },
      "source": [
        "lets see what we ahve "
      ]
    },
    {
      "cell_type": "code",
      "metadata": {
        "id": "4ZOyjFt4hHN-",
        "colab_type": "code",
        "colab": {
          "base_uri": "https://localhost:8080/",
          "height": 1000
        },
        "outputId": "328d0b13-08fa-4b51-94dd-9192b660835e"
      },
      "source": [
        "print(bandByPixel.shape)\n",
        "print(train_df_3000.shape)\n",
        "\n",
        "#lets split it into folds and solve it by a loop\n",
        "from sklearn.model_selection import KFold\n",
        "kf = KFold(n_splits=30)\n",
        "kf.split(bandByPixel)\n",
        "\n",
        "\n",
        "\n",
        "k=1\n",
        "for i,j in kf.split(bandByPixel):\n",
        "  #print(i.shape)\n",
        "  #print(j.shape)\n",
        "  \n",
        "  print(k)\n",
        "  \n",
        "  X_test = bandByPixel[j] #this fetches the rows on the test section\n",
        "\n",
        "  print(X_test.shape)\n",
        "  print(\"end of fold\")\n",
        "\n",
        "  temp_pred = gpr_ml.predict(X_test)\n",
        "\n",
        "  if k == 1: \n",
        "    out_stack = temp_pred\n",
        "  if k > 1:\n",
        "    out_stack = np.vstack((out_stack,temp_pred))\n",
        "\n",
        "\n",
        "  k=k+1\n",
        "\n"
      ],
      "execution_count": 43,
      "outputs": [
        {
          "output_type": "stream",
          "text": [
            "(295590, 9)\n",
            "(3000, 9)\n",
            "1\n",
            "(9853, 9)\n",
            "end of fold\n",
            "2\n",
            "(9853, 9)\n",
            "end of fold\n",
            "3\n",
            "(9853, 9)\n",
            "end of fold\n",
            "4\n",
            "(9853, 9)\n",
            "end of fold\n",
            "5\n",
            "(9853, 9)\n",
            "end of fold\n",
            "6\n",
            "(9853, 9)\n",
            "end of fold\n",
            "7\n",
            "(9853, 9)\n",
            "end of fold\n",
            "8\n",
            "(9853, 9)\n",
            "end of fold\n",
            "9\n",
            "(9853, 9)\n",
            "end of fold\n",
            "10\n",
            "(9853, 9)\n",
            "end of fold\n",
            "11\n",
            "(9853, 9)\n",
            "end of fold\n",
            "12\n",
            "(9853, 9)\n",
            "end of fold\n",
            "13\n",
            "(9853, 9)\n",
            "end of fold\n",
            "14\n",
            "(9853, 9)\n",
            "end of fold\n",
            "15\n",
            "(9853, 9)\n",
            "end of fold\n",
            "16\n",
            "(9853, 9)\n",
            "end of fold\n",
            "17\n",
            "(9853, 9)\n",
            "end of fold\n",
            "18\n",
            "(9853, 9)\n",
            "end of fold\n",
            "19\n",
            "(9853, 9)\n",
            "end of fold\n",
            "20\n",
            "(9853, 9)\n",
            "end of fold\n",
            "21\n",
            "(9853, 9)\n",
            "end of fold\n",
            "22\n",
            "(9853, 9)\n",
            "end of fold\n",
            "23\n",
            "(9853, 9)\n",
            "end of fold\n",
            "24\n",
            "(9853, 9)\n",
            "end of fold\n",
            "25\n",
            "(9853, 9)\n",
            "end of fold\n",
            "26\n",
            "(9853, 9)\n",
            "end of fold\n",
            "27\n",
            "(9853, 9)\n",
            "end of fold\n",
            "28\n",
            "(9853, 9)\n",
            "end of fold\n",
            "29\n",
            "(9853, 9)\n",
            "end of fold\n",
            "30\n",
            "(9853, 9)\n",
            "end of fold\n"
          ],
          "name": "stdout"
        }
      ]
    },
    {
      "cell_type": "markdown",
      "metadata": {
        "id": "O3sZB0Tpux-s",
        "colab_type": "text"
      },
      "source": [
        "Seems it's a sucess!"
      ]
    },
    {
      "cell_type": "code",
      "metadata": {
        "id": "WGA29jKZuPWN",
        "colab_type": "code",
        "colab": {
          "base_uri": "https://localhost:8080/",
          "height": 34
        },
        "outputId": "96386637-1fc6-4aea-edfc-69bc42bc94cc"
      },
      "source": [
        "print(out_stack.shape)"
      ],
      "execution_count": 44,
      "outputs": [
        {
          "output_type": "execute_result",
          "data": {
            "text/plain": [
              "(295590, 4)"
            ]
          },
          "metadata": {
            "tags": []
          },
          "execution_count": 44
        }
      ]
    },
    {
      "cell_type": "code",
      "metadata": {
        "id": "nB-vN1Z1wvWv",
        "colab_type": "code",
        "colab": {
          "base_uri": "https://localhost:8080/",
          "height": 136
        },
        "outputId": "fcd373ac-2ab7-400b-b0b3-cfe0de6d040d"
      },
      "source": [
        "print(out_stack)"
      ],
      "execution_count": 52,
      "outputs": [
        {
          "output_type": "stream",
          "text": [
            "[[ 5.02313108e+02 -2.35065420e-02  3.11773717e-01  1.74592543e+02]\n",
            " [ 4.99381446e+02 -2.38958050e-02  3.12880362e-01  1.75286319e+02]\n",
            " [ 5.02921254e+02 -2.36067861e-02  3.12354646e-01  1.74807647e+02]\n",
            " ...\n",
            " [ 2.17716758e+02  9.52695419e-03  1.19210204e-01  1.02389192e+02]\n",
            " [ 2.32793290e+02  1.31627581e-02  1.07423588e-01  9.92110617e+01]\n",
            " [ 2.52968119e+02  2.95694098e-02  9.24508305e-02  1.03973281e+02]]\n"
          ],
          "name": "stdout"
        }
      ]
    },
    {
      "cell_type": "code",
      "metadata": {
        "id": "pjPNz-Taw1tV",
        "colab_type": "code",
        "colab": {
          "base_uri": "https://localhost:8080/",
          "height": 173
        },
        "outputId": "873883a9-5c22-4e51-ab56-783325315b99"
      },
      "source": [
        "import scipy\n",
        "\n",
        "scipy.stats.describe(bandByPixel)"
      ],
      "execution_count": 55,
      "outputs": [
        {
          "output_type": "execute_result",
          "data": {
            "text/plain": [
              "DescribeResult(nobs=295590, minmax=(array([0.0836, 0.0583, 0.0336, 0.0347, 0.0184, 0.028 , 0.0191, 0.0001,\n",
              "       0.0001]), array([1.8306, 1.6877, 1.8426, 2.1028, 2.416 , 2.7119, 2.6752, 1.5113,\n",
              "       1.4697])), mean=array([0.10851885, 0.10009845, 0.06666118, 0.09022179, 0.17011221,\n",
              "       0.21217477, 0.22315067, 0.09136202, 0.04423614]), variance=array([0.0015042 , 0.00203971, 0.0035701 , 0.00464444, 0.01945882,\n",
              "       0.03302584, 0.04164923, 0.01074818, 0.00574668]), skewness=array([27.30914748, 22.84643122, 19.87248258, 16.05856081,  2.85617347,\n",
              "        1.89808116,  1.48602621,  3.51449404,  9.63079922]), kurtosis=array([996.85687621, 665.63528342, 490.93912768, 356.51642028,\n",
              "        32.68826078,  17.13512011,  11.0508622 ,  35.7717892 ,\n",
              "       139.13734995]))"
            ]
          },
          "metadata": {
            "tags": []
          },
          "execution_count": 55
        }
      ]
    },
    {
      "cell_type": "markdown",
      "metadata": {
        "id": "UXIUalcAv7b7",
        "colab_type": "text"
      },
      "source": [
        "Final set up before saving"
      ]
    },
    {
      "cell_type": "code",
      "metadata": {
        "id": "5w5mm4_Ju1RM",
        "colab_type": "code",
        "colab": {
          "base_uri": "https://localhost:8080/",
          "height": 255
        },
        "outputId": "35cef5e6-2a1c-4b3c-d3b1-3982a1c62137"
      },
      "source": [
        "print(pd_traits3000)\n",
        "\n",
        "\n",
        "cab_band = out_stack[:,0]\n",
        "cw_band = out_stack[:,1]\n",
        "cm_band = out_stack[:,2]\n",
        "lai_band = out_stack[:,3]\n",
        "\n",
        "\n",
        "cab_img = np.reshape(cab_band,(ds1.RasterYSize,ds1.RasterXSize))\n",
        "cm_img = np.reshape(cm_band,(ds1.RasterYSize,ds1.RasterXSize))\n",
        "cw_img = np.reshape(cw_band,(ds1.RasterYSize,ds1.RasterXSize))\n",
        "lai_img = np.reshape(lai_band,(ds1.RasterYSize,ds1.RasterXSize))\n",
        "\n",
        "#and now we can save it to a raster file\n",
        "cab_outfile = \"s2_cab.tif\"\n",
        "cm_outfile = \"s2_cm.tif\"\n",
        "cw_outfile = \"s2_cw.tif\"\n",
        "lai_outfile = \"s2_lai.tif\"\n"
      ],
      "execution_count": 50,
      "outputs": [
        {
          "output_type": "stream",
          "text": [
            "            cab        cw        cm       lai\n",
            "0     44.356267  0.004312  0.003998  6.553285\n",
            "1     57.499960  0.006037  0.004429  9.160451\n",
            "2     48.618307  0.007229  0.006464  7.912132\n",
            "3     44.045771  0.007812  0.005808  1.525767\n",
            "4     34.468729  0.007531  0.001564  0.909908\n",
            "...         ...       ...       ...       ...\n",
            "2995  75.393279  0.001834  0.005107  5.184956\n",
            "2996  44.144487  0.002116  0.001578  1.455441\n",
            "2997  26.565483  0.006572  0.001553  8.600461\n",
            "2998  65.270056  0.004870  0.007065  9.584802\n",
            "2999  56.094630  0.003716  0.008456  8.494942\n",
            "\n",
            "[3000 rows x 4 columns]\n"
          ],
          "name": "stdout"
        }
      ]
    },
    {
      "cell_type": "code",
      "metadata": {
        "id": "htWCgC_8vnVj",
        "colab_type": "code",
        "colab": {}
      },
      "source": [
        "raster.export(cab_img, ds1, cab_outfile, dtype='float')\n",
        "raster.export(cm_img, ds1, cm_outfile, dtype='float')\n",
        "raster.export(cw_img, ds1, cw_outfile, dtype='float')\n",
        "raster.export(lai_img, ds1, lai_outfile, dtype='float')"
      ],
      "execution_count": 0,
      "outputs": []
    },
    {
      "cell_type": "markdown",
      "metadata": {
        "id": "Oj2us5gSxqQX",
        "colab_type": "text"
      },
      "source": [
        "IT worked but the results are nonsense:\n",
        "\n",
        "1) forgot to change the positional arguments for the satellite\n",
        "2) Check the type of data i used, is it actually surface reflectance? \n",
        "3) there are lot of values (on the raster) a lot above 1, which is totally not correct.. "
      ]
    }
  ]
}