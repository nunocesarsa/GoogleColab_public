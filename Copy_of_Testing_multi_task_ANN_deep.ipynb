{
  "nbformat": 4,
  "nbformat_minor": 0,
  "metadata": {
    "colab": {
      "name": "Copy of Testing multi task ANN_deep.ipynb",
      "provenance": [],
      "include_colab_link": true
    },
    "kernelspec": {
      "name": "python3",
      "display_name": "Python 3"
    }
  },
  "cells": [
    {
      "cell_type": "markdown",
      "metadata": {
        "id": "view-in-github",
        "colab_type": "text"
      },
      "source": [
        "<a href=\"https://colab.research.google.com/github/nunocesarsa/GoogleColab_public/blob/master/Copy_of_Testing_multi_task_ANN_deep.ipynb\" target=\"_parent\"><img src=\"https://colab.research.google.com/assets/colab-badge.svg\" alt=\"Open In Colab\"/></a>"
      ]
    },
    {
      "cell_type": "markdown",
      "metadata": {
        "id": "7tRHGItMVz01",
        "colab_type": "text"
      },
      "source": [
        "Trying to implement a multi task"
      ]
    },
    {
      "cell_type": "code",
      "metadata": {
        "id": "-jjQzYFZveo7",
        "colab_type": "code",
        "outputId": "ffa3995f-29c9-4d90-e38d-0ff2ca8c4d7d",
        "colab": {
          "base_uri": "https://localhost:8080/",
          "height": 1000
        }
      },
      "source": [
        "#Installing packages\n",
        "\n",
        "#Needed for step 1 - data generation\n",
        "\n",
        "#Installing PROSAIL\n",
        "!pip install prosail\n",
        "\n",
        "#latin hypercube stuff\n",
        "#lets try to do a LHS\n",
        "!pip install lhsmdu\n",
        "\n",
        "#this package as a number of functions to deal with hyperspectral data\n",
        "!pip install pysptools\n",
        "\n",
        "#this is the swarm optimization package\n",
        "!pip install --upgrade pyswarm\n",
        "\n",
        "#spotpy\n",
        "!pip install spotpy\n",
        "\n",
        "#bayesian optimization packages\n",
        "!pip install bayesian-optimization"
      ],
      "execution_count": 1,
      "outputs": [
        {
          "output_type": "stream",
          "text": [
            "Collecting prosail\n",
            "\u001b[?25l  Downloading https://files.pythonhosted.org/packages/b5/52/d0c15ab469e8c82bc76a6b6cd614efbc60e43d09d5bacaa349170d229e91/prosail-2.0.5-py3-none-any.whl (149kB)\n",
            "\r\u001b[K     |██▏                             | 10kB 17.8MB/s eta 0:00:01\r\u001b[K     |████▍                           | 20kB 3.2MB/s eta 0:00:01\r\u001b[K     |██████▋                         | 30kB 4.2MB/s eta 0:00:01\r\u001b[K     |████████▊                       | 40kB 3.0MB/s eta 0:00:01\r\u001b[K     |███████████                     | 51kB 3.4MB/s eta 0:00:01\r\u001b[K     |█████████████▏                  | 61kB 4.0MB/s eta 0:00:01\r\u001b[K     |███████████████▍                | 71kB 4.2MB/s eta 0:00:01\r\u001b[K     |█████████████████▌              | 81kB 4.5MB/s eta 0:00:01\r\u001b[K     |███████████████████▊            | 92kB 5.0MB/s eta 0:00:01\r\u001b[K     |██████████████████████          | 102kB 4.7MB/s eta 0:00:01\r\u001b[K     |████████████████████████▏       | 112kB 4.7MB/s eta 0:00:01\r\u001b[K     |██████████████████████████▎     | 122kB 4.7MB/s eta 0:00:01\r\u001b[K     |████████████████████████████▌   | 133kB 4.7MB/s eta 0:00:01\r\u001b[K     |██████████████████████████████▊ | 143kB 4.7MB/s eta 0:00:01\r\u001b[K     |████████████████████████████████| 153kB 4.7MB/s \n",
            "\u001b[?25hRequirement already satisfied: numba in /usr/local/lib/python3.6/dist-packages (from prosail) (0.47.0)\n",
            "Requirement already satisfied: numpy in /usr/local/lib/python3.6/dist-packages (from prosail) (1.17.5)\n",
            "Requirement already satisfied: pytest in /usr/local/lib/python3.6/dist-packages (from prosail) (3.6.4)\n",
            "Requirement already satisfied: scipy in /usr/local/lib/python3.6/dist-packages (from prosail) (1.4.1)\n",
            "Requirement already satisfied: setuptools in /usr/local/lib/python3.6/dist-packages (from numba->prosail) (42.0.2)\n",
            "Requirement already satisfied: llvmlite>=0.31.0dev0 in /usr/local/lib/python3.6/dist-packages (from numba->prosail) (0.31.0)\n",
            "Requirement already satisfied: more-itertools>=4.0.0 in /usr/local/lib/python3.6/dist-packages (from pytest->prosail) (8.0.2)\n",
            "Requirement already satisfied: py>=1.5.0 in /usr/local/lib/python3.6/dist-packages (from pytest->prosail) (1.8.1)\n",
            "Requirement already satisfied: atomicwrites>=1.0 in /usr/local/lib/python3.6/dist-packages (from pytest->prosail) (1.3.0)\n",
            "Requirement already satisfied: pluggy<0.8,>=0.5 in /usr/local/lib/python3.6/dist-packages (from pytest->prosail) (0.7.1)\n",
            "Requirement already satisfied: attrs>=17.4.0 in /usr/local/lib/python3.6/dist-packages (from pytest->prosail) (19.3.0)\n",
            "Requirement already satisfied: six>=1.10.0 in /usr/local/lib/python3.6/dist-packages (from pytest->prosail) (1.12.0)\n",
            "Installing collected packages: prosail\n",
            "Successfully installed prosail-2.0.5\n",
            "Collecting lhsmdu\n",
            "  Downloading https://files.pythonhosted.org/packages/7b/f0/e714a4dae734bcd7228a09d74fff7dc5857dc3311cd72a3e07b09c85d088/lhsmdu-0.1-py3-none-any.whl\n",
            "Requirement already satisfied: numpy in /usr/local/lib/python3.6/dist-packages (from lhsmdu) (1.17.5)\n",
            "Requirement already satisfied: scipy in /usr/local/lib/python3.6/dist-packages (from lhsmdu) (1.4.1)\n",
            "Installing collected packages: lhsmdu\n",
            "Successfully installed lhsmdu-0.1\n",
            "Collecting pysptools\n",
            "\u001b[?25l  Downloading https://files.pythonhosted.org/packages/9b/20/cef48129eff2bdcb282279138c09e6f04770a8fdcb3c1bb9a98fe4086d2d/pysptools-0.15.0.tar.gz (8.1MB)\n",
            "\u001b[K     |████████████████████████████████| 8.1MB 5.1MB/s \n",
            "\u001b[?25hBuilding wheels for collected packages: pysptools\n",
            "  Building wheel for pysptools (setup.py) ... \u001b[?25l\u001b[?25hdone\n",
            "  Created wheel for pysptools: filename=pysptools-0.15.0-cp36-none-any.whl size=8133747 sha256=d56765b156d45c1caa38bd0a02f80a2cae5132773b7936f7a620e6491f08cc05\n",
            "  Stored in directory: /root/.cache/pip/wheels/bf/60/be/a6719d91bfa59135201feb034c7069e4146aa576fc0dc9e624\n",
            "Successfully built pysptools\n",
            "Installing collected packages: pysptools\n",
            "Successfully installed pysptools-0.15.0\n",
            "Collecting pyswarm\n",
            "  Downloading https://files.pythonhosted.org/packages/79/1e/254c108b5e65c65d57a83a9a448405ea8b6a6c5c10dada8bcab4e9d9a831/pyswarm-0.6.tar.gz\n",
            "Requirement already satisfied, skipping upgrade: numpy in /usr/local/lib/python3.6/dist-packages (from pyswarm) (1.17.5)\n",
            "Building wheels for collected packages: pyswarm\n",
            "  Building wheel for pyswarm (setup.py) ... \u001b[?25l\u001b[?25hdone\n",
            "  Created wheel for pyswarm: filename=pyswarm-0.6-cp36-none-any.whl size=4479 sha256=5e63b36d3edcb9e701327b1afd236a17af23c8801061e05e34e11e7a81fb9c5f\n",
            "  Stored in directory: /root/.cache/pip/wheels/37/c5/f6/b33b9ac00040cb95c1f00af982a4197334a672d6de43f4699f\n",
            "Successfully built pyswarm\n",
            "Installing collected packages: pyswarm\n",
            "Successfully installed pyswarm-0.6\n",
            "Collecting spotpy\n",
            "\u001b[?25l  Downloading https://files.pythonhosted.org/packages/60/dd/db7c484b2150841655bc05954039428a390d36060dc85c27839b1a12fab7/spotpy-1.5.8-py3-none-any.whl (6.2MB)\n",
            "\u001b[K     |████████████████████████████████| 6.2MB 4.4MB/s \n",
            "\u001b[?25hInstalling collected packages: spotpy\n",
            "Successfully installed spotpy-1.5.8\n",
            "Collecting bayesian-optimization\n",
            "  Downloading https://files.pythonhosted.org/packages/72/0c/173ac467d0a53e33e41b521e4ceba74a8ac7c7873d7b857a8fbdca88302d/bayesian-optimization-1.0.1.tar.gz\n",
            "Requirement already satisfied: numpy>=1.9.0 in /usr/local/lib/python3.6/dist-packages (from bayesian-optimization) (1.17.5)\n",
            "Requirement already satisfied: scipy>=0.14.0 in /usr/local/lib/python3.6/dist-packages (from bayesian-optimization) (1.4.1)\n",
            "Requirement already satisfied: scikit-learn>=0.18.0 in /usr/local/lib/python3.6/dist-packages (from bayesian-optimization) (0.22.1)\n",
            "Requirement already satisfied: joblib>=0.11 in /usr/local/lib/python3.6/dist-packages (from scikit-learn>=0.18.0->bayesian-optimization) (0.14.1)\n",
            "Building wheels for collected packages: bayesian-optimization\n",
            "  Building wheel for bayesian-optimization (setup.py) ... \u001b[?25l\u001b[?25hdone\n",
            "  Created wheel for bayesian-optimization: filename=bayesian_optimization-1.0.1-cp36-none-any.whl size=10032 sha256=3e7e3ffdbf10caede038666e5db809560e7c912d5f8ce452f9a8ddfa7d45404c\n",
            "  Stored in directory: /root/.cache/pip/wheels/1d/0d/3b/6b9d4477a34b3905f246ff4e7acf6aafd4cc9b77d473629b77\n",
            "Successfully built bayesian-optimization\n",
            "Installing collected packages: bayesian-optimization\n",
            "Successfully installed bayesian-optimization-1.0.1\n"
          ],
          "name": "stdout"
        }
      ]
    },
    {
      "cell_type": "code",
      "metadata": {
        "id": "f9c2-u71V45M",
        "colab_type": "code",
        "colab": {}
      },
      "source": [
        "#importing packages\n",
        "\n",
        "#General purpose: \n",
        "import matplotlib.pyplot as plt\n",
        "import numpy\n",
        "import numpy as np\n",
        "from mpl_toolkits.mplot3d import Axes3D\n",
        "\n",
        "import pandas as pd\n",
        "\n",
        "#PROSPECT+SAIL Radiative transfer mode package\n",
        "import prosail\n",
        "\n",
        "#Sampling design package\n",
        "import lhsmdu\n",
        "\n",
        "#package to for operations on spectral data\n",
        "import pysptools as sptool \n",
        "from pysptools import distance\n",
        "#machine learning packages are imported later, nearer to the model"
      ],
      "execution_count": 0,
      "outputs": []
    },
    {
      "cell_type": "code",
      "metadata": {
        "id": "j9NBfqrwWE-k",
        "colab_type": "code",
        "outputId": "79f3d500-e89e-4153-b1f2-38aa94d86283",
        "colab": {
          "base_uri": "https://localhost:8080/",
          "height": 122
        }
      },
      "source": [
        "from google.colab import drive\n",
        "drive.mount('/content/drive')"
      ],
      "execution_count": 3,
      "outputs": [
        {
          "output_type": "stream",
          "text": [
            "Go to this URL in a browser: https://accounts.google.com/o/oauth2/auth?client_id=947318989803-6bn6qk8qdgf4n4g3pfee6491hc0brc4i.apps.googleusercontent.com&redirect_uri=urn%3aietf%3awg%3aoauth%3a2.0%3aoob&response_type=code&scope=email%20https%3a%2f%2fwww.googleapis.com%2fauth%2fdocs.test%20https%3a%2f%2fwww.googleapis.com%2fauth%2fdrive%20https%3a%2f%2fwww.googleapis.com%2fauth%2fdrive.photos.readonly%20https%3a%2f%2fwww.googleapis.com%2fauth%2fpeopleapi.readonly\n",
            "\n",
            "Enter your authorization code:\n",
            "··········\n",
            "Mounted at /content/drive\n"
          ],
          "name": "stdout"
        }
      ]
    },
    {
      "cell_type": "code",
      "metadata": {
        "id": "gcJv5lp1Wdpe",
        "colab_type": "code",
        "outputId": "742731a1-a90a-4fe8-c992-7645d0617731",
        "colab": {
          "base_uri": "https://localhost:8080/",
          "height": 51
        }
      },
      "source": [
        "def custom_prosail(cab,cw,cm,lai):\n",
        "  import prosail\n",
        "  #default parameters\n",
        "  n= 1.\n",
        "  car=10.\n",
        "  cbrown=0.01\n",
        "  typelidf=1 #this is the default option\n",
        "  lidfa = -1 #leaf angle distribution parameter a and b\n",
        "  lidfb=-0.15\n",
        "  hspot= 0.01 #hotspot parameters - got this from R package https://www.rdocumentation.org/packages/hsdar/versions/0.4.1/topics/PROSAIL\n",
        "  #sun and viewing angle\n",
        "  tts=30. #observation and solar position parameters\n",
        "  tto=10. \n",
        "  psi=0.\n",
        "  #for now i put them by hand but they should be an input of a custom function\n",
        "  #tts=sol_zen #solar zenith angle\n",
        "  #tto=inc_zen #sensor zenith angle\n",
        "  #psi=raa\n",
        "  rho_out = prosail.run_prosail(n,\n",
        "                                 cab,\n",
        "                                 car,\n",
        "                                 cbrown,\n",
        "                                 cw,\n",
        "                                 cm,\n",
        "                                 lai,\n",
        "                                 lidfa,\n",
        "                                 hspot,\n",
        "                                 tts,tto,psi,\n",
        "                                 typelidf, lidfb,\n",
        "                                 prospect_version=\"D\",\n",
        "                                 factor='SDR', \n",
        "                                 rsoil=.1, psoil=.5)\n",
        "  return(rho_out)\n",
        "\n",
        "#test call:\n",
        "custom_prosail(40,.005,.005,2)"
      ],
      "execution_count": 8,
      "outputs": [
        {
          "output_type": "execute_result",
          "data": {
            "text/plain": [
              "array([0.02147451, 0.02147321, 0.02147204, ..., 0.02853143, 0.02829189,\n",
              "       0.02836254])"
            ]
          },
          "metadata": {
            "tags": []
          },
          "execution_count": 8
        }
      ]
    },
    {
      "cell_type": "code",
      "metadata": {
        "id": "RsW4q-DhV7Qb",
        "colab_type": "code",
        "colab": {}
      },
      "source": [
        "def Prosail2S2(path2csv,spectra_input):\n",
        "  #importing pandas\n",
        "  import pandas as pd\n",
        "  import numpy\n",
        "  import numpy as np\n",
        "  #upload a S2_Response.csv from https://earth.esa.int/web/sentinel/user-guides/sentinel-2-msi/document-library/-/asset_publisher/Wk0TKajiISaR/content/sentinel-2a-spectral-responses\n",
        "\n",
        "  s2_table = pd.read_csv(path2csv,sep=\";\",decimal=\",\") #check if this is proper, regarding the sep and dec\n",
        "\n",
        "  s2_table_sel = s2_table[s2_table['SR_WL'].between(400,2500)] #selects all values between 400 and 2500\n",
        "  spectra_input_df = pd.DataFrame(data=spectra_input,columns=[\"rho\"],index=s2_table_sel.index) #transforms the input array into a pandas df with the column name rho and row.index = to the original input table\n",
        "\n",
        "  \n",
        "  rho_s2 = s2_table_sel.multiply(spectra_input_df['rho'],axis=\"index\") #calculates the numerator\n",
        "  w_band_sum = s2_table_sel.sum(axis=0,skipna = True) #calculates the denominator\n",
        "\n",
        "  output = (rho_s2.sum(axis=0)/w_band_sum).rename_axis(\"ID\").values #runs the weighted mean and converts the output to a numpy array\n",
        "\n",
        "  return output[1:] #removes the first value because it represents the wavelength column\n",
        "\n",
        "\n",
        "#please LOAD THTE FILE NOW\n",
        "filepath=\"/content/S2_Response.csv\"\n",
        "#filepath=\"/content/S2_Responses_S2B.csv\"\n",
        "filepath=\"/content/drive/My Drive/S2_Response.csv\""
      ],
      "execution_count": 0,
      "outputs": []
    },
    {
      "cell_type": "code",
      "metadata": {
        "id": "SJDNsy00WatF",
        "colab_type": "code",
        "colab": {}
      },
      "source": [
        "def Gen_spectra_data(traits):\n",
        "  k = 1\n",
        "  #pd_train_traits=traits\n",
        "  #print(range(len(traits)))\n",
        "  for i in range(len(traits)):\n",
        "    #n_t = pd_train_traits[\"n\"][i]\n",
        "    cab_t = traits[\"cab\"][i]\n",
        "    #car_t = pd_train_traits[\"car\"][i]\n",
        "    #cbrown_t = pd_train_traits[\"cbrown\"][i]\n",
        "    cw_t = traits[\"cw\"][i]\n",
        "    cm_t = traits[\"cm\"][i]\n",
        "    lai_t = traits[\"lai\"][i]\n",
        "\n",
        "    if k == 1:\n",
        "      tr_rho_s = custom_prosail(cab_t,cw_t,cm_t,lai_t)\n",
        "      tr_rho_s = Prosail2S2(filepath,tr_rho_s)\n",
        "      #plt.plot ( x, tr_rho_s, ':', label=\"Training prosail\")\n",
        "      #plt.legend(loc='best')\n",
        "      \n",
        "    if k > 1:\n",
        "      tr_rho_t = custom_prosail(cab_t,cw_t,cm_t,lai_t)\n",
        "      tr_rho_t = Prosail2S2(filepath,tr_rho_t)\n",
        "      tr_rho_s = np.vstack((tr_rho_s,tr_rho_t))\n",
        "      #plt.plot ( x, tr_rho_t, ':')\n",
        "\n",
        "    k = k+1\n",
        "\n",
        "\n",
        "  rho_samples=tr_rho_s\n",
        "\n",
        "\n",
        "  return rho_samples"
      ],
      "execution_count": 0,
      "outputs": []
    },
    {
      "cell_type": "code",
      "metadata": {
        "id": "E7qUbEF5Woy2",
        "colab_type": "code",
        "colab": {}
      },
      "source": [
        "#number of samples\n",
        "train_n3000 = 10000\n",
        "\n",
        "n_traits=4 #I will test on 4 varying traits: cab, car, cw,cm,lai\n",
        "\n",
        "#generating a LHS hypercube (it uses a 0 to 1 interval that can be used as a multiplier against the different traits)\n",
        "np.random.seed(0)\n",
        "LHS_train3000 = lhsmdu.createRandomStandardUniformMatrix(n_traits,train_n3000 ) #the package has a more advanced method but it is too slow to process\n",
        "\n",
        "#maxmins from here also: https://github.com/jgomezdans/prosail/issues/10\n",
        "\n",
        "#max_n=1 #this value should go from 1 to 2, so i make it change from 0 to 1 here and then add 1 later\n",
        "max_cab=90. #add 1\n",
        "#max_car=44. #add 1\n",
        "#max_cbrown= 9.99 #add 0.01\n",
        "max_cw=0.0039 #0.008 #add 0.001 \n",
        "max_cm=0.0039 #0.008 #0.001\n",
        "max_lai = 6 #add 0.1\n",
        "\n",
        "\n",
        "min_cab = 10.\n",
        "min_cw = 0.002\n",
        "min_cm = 0.002\n",
        "min_lai = .5"
      ],
      "execution_count": 0,
      "outputs": []
    },
    {
      "cell_type": "code",
      "metadata": {
        "id": "WzdYx9NcWsfM",
        "colab_type": "code",
        "colab": {}
      },
      "source": [
        "#preparing function inputs\n",
        "\n",
        "\n",
        "pd_traits3000 = pd.DataFrame.transpose(pd.DataFrame(LHS_train3000))\n",
        "pd_traits3000.columns = [\"cab\",\"cw\",\"cm\",\"lai\"]\n",
        "\n",
        "pd_traits3000[\"cab\"]=pd_traits3000[\"cab\"]*max_cab+min_cab\n",
        "pd_traits3000[\"cw\"] =pd_traits3000[\"cw\"] *max_cw +min_cw\n",
        "pd_traits3000[\"cm\"] =pd_traits3000[\"cm\"] *max_cm +min_cm\n",
        "pd_traits3000[\"lai\"]=pd_traits3000[\"lai\"]*max_lai+min_lai\n",
        "\n",
        "np_spectra3000 = Gen_spectra_data(pd_traits3000)"
      ],
      "execution_count": 0,
      "outputs": []
    },
    {
      "cell_type": "code",
      "metadata": {
        "id": "DL9-VWy7fjnH",
        "colab_type": "code",
        "outputId": "dcc11709-953b-4bd6-e66a-f1e17e32a396",
        "colab": {
          "base_uri": "https://localhost:8080/",
          "height": 255
        }
      },
      "source": [
        "print(pd_traits3000)"
      ],
      "execution_count": 13,
      "outputs": [
        {
          "output_type": "stream",
          "text": [
            "            cab        cw        cm       lai\n",
            "0     59.393215  0.003614  0.003462  4.320172\n",
            "1     74.367043  0.004456  0.003672  5.900273\n",
            "2     64.248704  0.005036  0.004664  5.143716\n",
            "3     59.039486  0.005321  0.004344  1.273192\n",
            "4     48.128932  0.005184  0.002275  0.899944\n",
            "...         ...       ...       ...       ...\n",
            "2995  94.751836  0.002407  0.004002  3.490882\n",
            "2996  59.151947  0.002544  0.002282  1.230570\n",
            "2997  39.125234  0.004716  0.002270  5.560886\n",
            "2998  83.219052  0.003886  0.004956  6.157456\n",
            "2999  72.766034  0.003324  0.005635  5.496935\n",
            "\n",
            "[3000 rows x 4 columns]\n"
          ],
          "name": "stdout"
        }
      ]
    },
    {
      "cell_type": "code",
      "metadata": {
        "id": "ucr5wSwjZuff",
        "colab_type": "code",
        "outputId": "3e263985-814a-438c-e7b4-9ce07e8333b0",
        "colab": {
          "base_uri": "https://localhost:8080/",
          "height": 34
        }
      },
      "source": [
        "\n",
        "#band order\n",
        "#['B1','B2','B3','B4','B5','B6','B7','B8','B8A','B9','B10''B11','B12']\n",
        "#['B2','B3','B4','B5','B6','B7','B8A','B11','B12']\n",
        "\n",
        "#print(np_spectra3000.shape)\n",
        "#lets also create a numpy object for the tratis\n",
        "np_traits3000 = pd_traits3000.iloc[:,:].values\n",
        "\n",
        "train_df_3000 = np_spectra3000[:,[1,2,3,4,5,6,8,11,12]]\n",
        "print(train_df_3000.shape)\n",
        "\n",
        "X_train = train_df_3000\n",
        "Y_train = np_traits3000"
      ],
      "execution_count": 39,
      "outputs": [
        {
          "output_type": "stream",
          "text": [
            "(10000, 9)\n"
          ],
          "name": "stdout"
        }
      ]
    },
    {
      "cell_type": "code",
      "metadata": {
        "id": "hNrSRspDXC2O",
        "colab_type": "code",
        "colab": {
          "base_uri": "https://localhost:8080/",
          "height": 151
        },
        "outputId": "8427c950-e368-43ac-cc08-9b0e17eed28a"
      },
      "source": [
        "#machine learning stuff\n",
        "from sklearn.neural_network import MLPRegressor as ANN_reg #this is a simpler neural network package\n",
        "\n",
        "from keras.models import Sequential\n",
        "from keras.layers import Dense\n",
        "import tensorflow.compat.v1 as tf\n",
        "tf.disable_v2_behavior()"
      ],
      "execution_count": 15,
      "outputs": [
        {
          "output_type": "stream",
          "text": [
            "Using TensorFlow backend.\n"
          ],
          "name": "stderr"
        },
        {
          "output_type": "display_data",
          "data": {
            "text/html": [
              "<p style=\"color: red;\">\n",
              "The default version of TensorFlow in Colab will soon switch to TensorFlow 2.x.<br>\n",
              "We recommend you <a href=\"https://www.tensorflow.org/guide/migrate\" target=\"_blank\">upgrade</a> now \n",
              "or ensure your notebook will continue to use TensorFlow 1.x via the <code>%tensorflow_version 1.x</code> magic:\n",
              "<a href=\"https://colab.research.google.com/notebooks/tensorflow_version.ipynb\" target=\"_blank\">more info</a>.</p>\n"
            ],
            "text/plain": [
              "<IPython.core.display.HTML object>"
            ]
          },
          "metadata": {
            "tags": []
          }
        },
        {
          "output_type": "stream",
          "text": [
            "WARNING:tensorflow:From /usr/local/lib/python3.6/dist-packages/tensorflow_core/python/compat/v2_compat.py:68: disable_resource_variables (from tensorflow.python.ops.variable_scope) is deprecated and will be removed in a future version.\n",
            "Instructions for updating:\n",
            "non-resource variables are not supported in the long term\n"
          ],
          "name": "stdout"
        }
      ]
    },
    {
      "cell_type": "markdown",
      "metadata": {
        "id": "PK0jyn6ifHU_",
        "colab_type": "text"
      },
      "source": [
        "https://keras.io/getting-started/functional-api-guide/\n",
        "\n",
        "https://stackoverflow.com/questions/48615003/multi-task-learning-in-keras\n",
        "\n",
        "https://datascience.stackexchange.com/questions/27498/multi-task-learning-in-keras"
      ]
    },
    {
      "cell_type": "code",
      "metadata": {
        "id": "szQ_Nee5Xi0N",
        "colab_type": "code",
        "colab": {}
      },
      "source": [
        "#not multi task\n",
        "singl_ann = Sequential()\n",
        "singl_ann.add(Dense(10, input_dim=9, activation='tanh'))\n",
        "singl_ann.add(Dense(6, input_dim=9, activation='relu'))\n",
        "singl_ann.add(Dense(4, input_dim=9, activation='linear'))\n",
        "\n",
        "singl_ann.compile(loss='mean_squared_error', optimizer='adam', metrics=['accuracy'])\n",
        "\n",
        "#multi tas\n",
        "from keras.models import Model\n",
        "from keras.layers import Input, Dense\n",
        "\n",
        "inputs = Input(shape=(9,))\n",
        "sub1 = Dense(64, activation='tanh')(inputs)\n",
        "sub2 = Dense(32, activation='tanh')(sub1)\n",
        "cab1 = Dense(16, activation='sigmoid')(sub2)\n",
        "cw1  = Dense(16, activation='sigmoid')(sub2)\n",
        "cm1  = Dense(16, activation='sigmoid')(sub2)\n",
        "lai1 = Dense(16, activation='sigmoid')(sub2)\n",
        "cab2 = Dense(1, activation='linear')(cab1)\n",
        "cw2  = Dense(1, activation='linear')(cw1)\n",
        "cm2  = Dense(1, activation='linear')(cm1)\n",
        "lai2 = Dense(1, activation='linear')(lai1)\n",
        "\n",
        "\n",
        "#building the model using keras api\n",
        "model = Model(inputs=inputs, outputs=[cab2,cw2,cm2,lai2])\n",
        "model.compile(loss='mean_squared_error', optimizer='adam', metrics=['accuracy'])\n",
        "\n"
      ],
      "execution_count": 0,
      "outputs": []
    },
    {
      "cell_type": "code",
      "metadata": {
        "id": "cEfBCrWEgziX",
        "colab_type": "code",
        "outputId": "9f8b667b-ae83-4295-cbb8-eef61c33f32e",
        "colab": {
          "base_uri": "https://localhost:8080/",
          "height": 34
        }
      },
      "source": [
        "#fitting the data, ANN needs standardization\n",
        "from sklearn.preprocessing import MinMaxScaler #this is to standardize the input data [not used for now]\n",
        "\n",
        "X_ann = X_train \n",
        "Y_ann = Y_train  #converts from a panda table to a numpy\n",
        "\n",
        "scaler = MinMaxScaler()#lets rescale the input\n",
        "scaler.fit(Y_ann)\n",
        "Y_ann_norm = scaler.transform(Y_ann)\n",
        "\n",
        "Y_ann_norm.shape"
      ],
      "execution_count": 50,
      "outputs": [
        {
          "output_type": "execute_result",
          "data": {
            "text/plain": [
              "(10000, 4)"
            ]
          },
          "metadata": {
            "tags": []
          },
          "execution_count": 50
        }
      ]
    },
    {
      "cell_type": "markdown",
      "metadata": {
        "id": "FGAWUsFMiARF",
        "colab_type": "text"
      },
      "source": [
        ""
      ]
    },
    {
      "cell_type": "code",
      "metadata": {
        "id": "IA3TQjX5izL2",
        "colab_type": "code",
        "colab": {}
      },
      "source": [
        "cab_train = Y_ann_norm[:,0]\n",
        "cw_train = Y_ann_norm[:,1]\n",
        "cm_train = Y_ann_norm[:,2]\n",
        "lai_train = Y_ann_norm[:,3]"
      ],
      "execution_count": 0,
      "outputs": []
    },
    {
      "cell_type": "code",
      "metadata": {
        "id": "27HpcGpFhSTP",
        "colab_type": "code",
        "outputId": "62a1d6a8-56b6-45c3-f5f9-621f25f45af3",
        "colab": {
          "base_uri": "https://localhost:8080/",
          "height": 1000
        }
      },
      "source": [
        "model.fit(X_ann,[cab_train,cw_train,cm_train,lai_train],epochs=100) #this hides the output spam\n"
      ],
      "execution_count": 52,
      "outputs": [
        {
          "output_type": "stream",
          "text": [
            "Epoch 1/100\n",
            "10000/10000 [==============================] - 2s 199us/step - loss: 0.3378 - dense_75_loss: 0.1302 - dense_76_loss: 0.0894 - dense_77_loss: 0.0837 - dense_78_loss: 0.0346 - dense_75_acc: 2.0000e-04 - dense_76_acc: 2.0000e-04 - dense_77_acc: 0.0000e+00 - dense_78_acc: 2.0000e-04\n",
            "Epoch 2/100\n",
            "10000/10000 [==============================] - 1s 71us/step - loss: 0.1483 - dense_75_loss: 0.0223 - dense_76_loss: 0.0485 - dense_77_loss: 0.0660 - dense_78_loss: 0.0115 - dense_75_acc: 2.0000e-04 - dense_76_acc: 2.0000e-04 - dense_77_acc: 2.0000e-04 - dense_78_acc: 2.0000e-04\n",
            "Epoch 3/100\n",
            "10000/10000 [==============================] - 1s 70us/step - loss: 0.1151 - dense_75_loss: 0.0124 - dense_76_loss: 0.0337 - dense_77_loss: 0.0586 - dense_78_loss: 0.0104 - dense_75_acc: 2.0000e-04 - dense_76_acc: 2.0000e-04 - dense_77_acc: 2.0000e-04 - dense_78_acc: 2.0000e-04\n",
            "Epoch 4/100\n",
            "10000/10000 [==============================] - 1s 70us/step - loss: 0.1094 - dense_75_loss: 0.0094 - dense_76_loss: 0.0334 - dense_77_loss: 0.0566 - dense_78_loss: 0.0099 - dense_75_acc: 2.0000e-04 - dense_76_acc: 2.0000e-04 - dense_77_acc: 2.0000e-04 - dense_78_acc: 2.0000e-04\n",
            "Epoch 5/100\n",
            "10000/10000 [==============================] - 1s 71us/step - loss: 0.1045 - dense_75_loss: 0.0068 - dense_76_loss: 0.0335 - dense_77_loss: 0.0547 - dense_78_loss: 0.0095 - dense_75_acc: 2.0000e-04 - dense_76_acc: 2.0000e-04 - dense_77_acc: 2.0000e-04 - dense_78_acc: 2.0000e-04\n",
            "Epoch 6/100\n",
            "10000/10000 [==============================] - 1s 69us/step - loss: 0.0969 - dense_75_loss: 0.0047 - dense_76_loss: 0.0328 - dense_77_loss: 0.0501 - dense_78_loss: 0.0092 - dense_75_acc: 2.0000e-04 - dense_76_acc: 2.0000e-04 - dense_77_acc: 1.0000e-04 - dense_78_acc: 2.0000e-04\n",
            "Epoch 7/100\n",
            "10000/10000 [==============================] - 1s 67us/step - loss: 0.0856 - dense_75_loss: 0.0034 - dense_76_loss: 0.0306 - dense_77_loss: 0.0425 - dense_78_loss: 0.0090 - dense_75_acc: 2.0000e-04 - dense_76_acc: 2.0000e-04 - dense_77_acc: 2.0000e-04 - dense_78_acc: 2.0000e-04\n",
            "Epoch 8/100\n",
            "10000/10000 [==============================] - 1s 66us/step - loss: 0.0683 - dense_75_loss: 0.0025 - dense_76_loss: 0.0259 - dense_77_loss: 0.0316 - dense_78_loss: 0.0083 - dense_75_acc: 2.0000e-04 - dense_76_acc: 2.0000e-04 - dense_77_acc: 2.0000e-04 - dense_78_acc: 2.0000e-04\n",
            "Epoch 9/100\n",
            "10000/10000 [==============================] - 1s 72us/step - loss: 0.0509 - dense_75_loss: 0.0020 - dense_76_loss: 0.0209 - dense_77_loss: 0.0208 - dense_78_loss: 0.0072 - dense_75_acc: 2.0000e-04 - dense_76_acc: 2.0000e-04 - dense_77_acc: 2.0000e-04 - dense_78_acc: 2.0000e-04\n",
            "Epoch 10/100\n",
            "10000/10000 [==============================] - 1s 67us/step - loss: 0.0403 - dense_75_loss: 0.0014 - dense_76_loss: 0.0168 - dense_77_loss: 0.0166 - dense_78_loss: 0.0056 - dense_75_acc: 2.0000e-04 - dense_76_acc: 2.0000e-04 - dense_77_acc: 2.0000e-04 - dense_78_acc: 2.0000e-04\n",
            "Epoch 11/100\n",
            "10000/10000 [==============================] - 1s 68us/step - loss: 0.0322 - dense_75_loss: 9.9017e-04 - dense_76_loss: 0.0133 - dense_77_loss: 0.0139 - dense_78_loss: 0.0040 - dense_75_acc: 2.0000e-04 - dense_76_acc: 2.0000e-04 - dense_77_acc: 2.0000e-04 - dense_78_acc: 2.0000e-04\n",
            "Epoch 12/100\n",
            "10000/10000 [==============================] - 1s 65us/step - loss: 0.0276 - dense_75_loss: 8.7061e-04 - dense_76_loss: 0.0108 - dense_77_loss: 0.0128 - dense_78_loss: 0.0031 - dense_75_acc: 2.0000e-04 - dense_76_acc: 2.0000e-04 - dense_77_acc: 2.0000e-04 - dense_78_acc: 2.0000e-04\n",
            "Epoch 13/100\n",
            "10000/10000 [==============================] - 1s 71us/step - loss: 0.0250 - dense_75_loss: 7.9993e-04 - dense_76_loss: 0.0092 - dense_77_loss: 0.0123 - dense_78_loss: 0.0026 - dense_75_acc: 2.0000e-04 - dense_76_acc: 2.0000e-04 - dense_77_acc: 2.0000e-04 - dense_78_acc: 2.0000e-04\n",
            "Epoch 14/100\n",
            "10000/10000 [==============================] - 1s 72us/step - loss: 0.0222 - dense_75_loss: 7.1691e-04 - dense_76_loss: 0.0077 - dense_77_loss: 0.0115 - dense_78_loss: 0.0023 - dense_75_acc: 2.0000e-04 - dense_76_acc: 2.0000e-04 - dense_77_acc: 2.0000e-04 - dense_78_acc: 2.0000e-04\n",
            "Epoch 15/100\n",
            "10000/10000 [==============================] - 1s 72us/step - loss: 0.0214 - dense_75_loss: 6.5700e-04 - dense_76_loss: 0.0070 - dense_77_loss: 0.0114 - dense_78_loss: 0.0023 - dense_75_acc: 2.0000e-04 - dense_76_acc: 2.0000e-04 - dense_77_acc: 2.0000e-04 - dense_78_acc: 2.0000e-04\n",
            "Epoch 16/100\n",
            "10000/10000 [==============================] - 1s 70us/step - loss: 0.0194 - dense_75_loss: 5.8229e-04 - dense_76_loss: 0.0061 - dense_77_loss: 0.0105 - dense_78_loss: 0.0022 - dense_75_acc: 2.0000e-04 - dense_76_acc: 2.0000e-04 - dense_77_acc: 2.0000e-04 - dense_78_acc: 2.0000e-04\n",
            "Epoch 17/100\n",
            "10000/10000 [==============================] - 1s 71us/step - loss: 0.0174 - dense_75_loss: 5.4308e-04 - dense_76_loss: 0.0052 - dense_77_loss: 0.0095 - dense_78_loss: 0.0022 - dense_75_acc: 2.0000e-04 - dense_76_acc: 2.0000e-04 - dense_77_acc: 2.0000e-04 - dense_78_acc: 2.0000e-04\n",
            "Epoch 18/100\n",
            "10000/10000 [==============================] - 1s 70us/step - loss: 0.0166 - dense_75_loss: 4.9273e-04 - dense_76_loss: 0.0050 - dense_77_loss: 0.0091 - dense_78_loss: 0.0021 - dense_75_acc: 2.0000e-04 - dense_76_acc: 2.0000e-04 - dense_77_acc: 2.0000e-04 - dense_78_acc: 2.0000e-04\n",
            "Epoch 19/100\n",
            "10000/10000 [==============================] - 1s 71us/step - loss: 0.0157 - dense_75_loss: 4.5702e-04 - dense_76_loss: 0.0046 - dense_77_loss: 0.0085 - dense_78_loss: 0.0021 - dense_75_acc: 2.0000e-04 - dense_76_acc: 2.0000e-04 - dense_77_acc: 2.0000e-04 - dense_78_acc: 2.0000e-04\n",
            "Epoch 20/100\n",
            "10000/10000 [==============================] - 1s 69us/step - loss: 0.0146 - dense_75_loss: 4.1960e-04 - dense_76_loss: 0.0044 - dense_77_loss: 0.0077 - dense_78_loss: 0.0021 - dense_75_acc: 2.0000e-04 - dense_76_acc: 2.0000e-04 - dense_77_acc: 2.0000e-04 - dense_78_acc: 2.0000e-04\n",
            "Epoch 21/100\n",
            "10000/10000 [==============================] - 1s 71us/step - loss: 0.0134 - dense_75_loss: 3.8427e-04 - dense_76_loss: 0.0040 - dense_77_loss: 0.0069 - dense_78_loss: 0.0021 - dense_75_acc: 2.0000e-04 - dense_76_acc: 2.0000e-04 - dense_77_acc: 2.0000e-04 - dense_78_acc: 2.0000e-04\n",
            "Epoch 22/100\n",
            "10000/10000 [==============================] - 1s 71us/step - loss: 0.0125 - dense_75_loss: 3.6398e-04 - dense_76_loss: 0.0037 - dense_77_loss: 0.0063 - dense_78_loss: 0.0021 - dense_75_acc: 2.0000e-04 - dense_76_acc: 2.0000e-04 - dense_77_acc: 2.0000e-04 - dense_78_acc: 2.0000e-04\n",
            "Epoch 23/100\n",
            "10000/10000 [==============================] - 1s 67us/step - loss: 0.0115 - dense_75_loss: 3.3358e-04 - dense_76_loss: 0.0035 - dense_77_loss: 0.0057 - dense_78_loss: 0.0020 - dense_75_acc: 2.0000e-04 - dense_76_acc: 2.0000e-04 - dense_77_acc: 2.0000e-04 - dense_78_acc: 2.0000e-04\n",
            "Epoch 24/100\n",
            "10000/10000 [==============================] - 1s 66us/step - loss: 0.0117 - dense_75_loss: 3.1891e-04 - dense_76_loss: 0.0036 - dense_77_loss: 0.0057 - dense_78_loss: 0.0020 - dense_75_acc: 2.0000e-04 - dense_76_acc: 2.0000e-04 - dense_77_acc: 2.0000e-04 - dense_78_acc: 2.0000e-04\n",
            "Epoch 25/100\n",
            "10000/10000 [==============================] - 1s 72us/step - loss: 0.0102 - dense_75_loss: 2.9373e-04 - dense_76_loss: 0.0031 - dense_77_loss: 0.0049 - dense_78_loss: 0.0019 - dense_75_acc: 2.0000e-04 - dense_76_acc: 2.0000e-04 - dense_77_acc: 2.0000e-04 - dense_78_acc: 2.0000e-04\n",
            "Epoch 26/100\n",
            "10000/10000 [==============================] - 1s 70us/step - loss: 0.0101 - dense_75_loss: 2.8230e-04 - dense_76_loss: 0.0031 - dense_77_loss: 0.0047 - dense_78_loss: 0.0020 - dense_75_acc: 2.0000e-04 - dense_76_acc: 2.0000e-04 - dense_77_acc: 2.0000e-04 - dense_78_acc: 2.0000e-04\n",
            "Epoch 27/100\n",
            "10000/10000 [==============================] - 1s 74us/step - loss: 0.0094 - dense_75_loss: 2.5500e-04 - dense_76_loss: 0.0029 - dense_77_loss: 0.0043 - dense_78_loss: 0.0019 - dense_75_acc: 2.0000e-04 - dense_76_acc: 2.0000e-04 - dense_77_acc: 2.0000e-04 - dense_78_acc: 2.0000e-04\n",
            "Epoch 28/100\n",
            "10000/10000 [==============================] - 1s 69us/step - loss: 0.0092 - dense_75_loss: 2.4070e-04 - dense_76_loss: 0.0028 - dense_77_loss: 0.0042 - dense_78_loss: 0.0019 - dense_75_acc: 2.0000e-04 - dense_76_acc: 2.0000e-04 - dense_77_acc: 2.0000e-04 - dense_78_acc: 2.0000e-04\n",
            "Epoch 29/100\n",
            "10000/10000 [==============================] - 1s 71us/step - loss: 0.0082 - dense_75_loss: 2.1798e-04 - dense_76_loss: 0.0025 - dense_77_loss: 0.0037 - dense_78_loss: 0.0018 - dense_75_acc: 2.0000e-04 - dense_76_acc: 2.0000e-04 - dense_77_acc: 2.0000e-04 - dense_78_acc: 2.0000e-04\n",
            "Epoch 30/100\n",
            "10000/10000 [==============================] - 1s 72us/step - loss: 0.0085 - dense_75_loss: 1.9728e-04 - dense_76_loss: 0.0027 - dense_77_loss: 0.0039 - dense_78_loss: 0.0018 - dense_75_acc: 2.0000e-04 - dense_76_acc: 2.0000e-04 - dense_77_acc: 2.0000e-04 - dense_78_acc: 2.0000e-04\n",
            "Epoch 31/100\n",
            "10000/10000 [==============================] - 1s 71us/step - loss: 0.0075 - dense_75_loss: 1.7922e-04 - dense_76_loss: 0.0023 - dense_77_loss: 0.0034 - dense_78_loss: 0.0017 - dense_75_acc: 2.0000e-04 - dense_76_acc: 2.0000e-04 - dense_77_acc: 2.0000e-04 - dense_78_acc: 2.0000e-04\n",
            "Epoch 32/100\n",
            "10000/10000 [==============================] - 1s 72us/step - loss: 0.0073 - dense_75_loss: 1.7374e-04 - dense_76_loss: 0.0021 - dense_77_loss: 0.0032 - dense_78_loss: 0.0017 - dense_75_acc: 2.0000e-04 - dense_76_acc: 2.0000e-04 - dense_77_acc: 2.0000e-04 - dense_78_acc: 2.0000e-04\n",
            "Epoch 33/100\n",
            "10000/10000 [==============================] - 1s 71us/step - loss: 0.0070 - dense_75_loss: 1.5636e-04 - dense_76_loss: 0.0021 - dense_77_loss: 0.0031 - dense_78_loss: 0.0016 - dense_75_acc: 2.0000e-04 - dense_76_acc: 2.0000e-04 - dense_77_acc: 2.0000e-04 - dense_78_acc: 2.0000e-04\n",
            "Epoch 34/100\n",
            "10000/10000 [==============================] - 1s 70us/step - loss: 0.0067 - dense_75_loss: 1.4252e-04 - dense_76_loss: 0.0020 - dense_77_loss: 0.0030 - dense_78_loss: 0.0016 - dense_75_acc: 2.0000e-04 - dense_76_acc: 2.0000e-04 - dense_77_acc: 2.0000e-04 - dense_78_acc: 2.0000e-04\n",
            "Epoch 35/100\n",
            "10000/10000 [==============================] - 1s 71us/step - loss: 0.0062 - dense_75_loss: 1.2659e-04 - dense_76_loss: 0.0018 - dense_77_loss: 0.0027 - dense_78_loss: 0.0015 - dense_75_acc: 2.0000e-04 - dense_76_acc: 2.0000e-04 - dense_77_acc: 2.0000e-04 - dense_78_acc: 2.0000e-04\n",
            "Epoch 36/100\n",
            "10000/10000 [==============================] - 1s 71us/step - loss: 0.0060 - dense_75_loss: 1.1501e-04 - dense_76_loss: 0.0017 - dense_77_loss: 0.0026 - dense_78_loss: 0.0015 - dense_75_acc: 2.0000e-04 - dense_76_acc: 2.0000e-04 - dense_77_acc: 2.0000e-04 - dense_78_acc: 2.0000e-04\n",
            "Epoch 37/100\n",
            "10000/10000 [==============================] - 1s 69us/step - loss: 0.0056 - dense_75_loss: 1.0727e-04 - dense_76_loss: 0.0016 - dense_77_loss: 0.0024 - dense_78_loss: 0.0015 - dense_75_acc: 2.0000e-04 - dense_76_acc: 2.0000e-04 - dense_77_acc: 2.0000e-04 - dense_78_acc: 2.0000e-04\n",
            "Epoch 38/100\n",
            "10000/10000 [==============================] - 1s 63us/step - loss: 0.0053 - dense_75_loss: 1.0578e-04 - dense_76_loss: 0.0015 - dense_77_loss: 0.0023 - dense_78_loss: 0.0014 - dense_75_acc: 2.0000e-04 - dense_76_acc: 2.0000e-04 - dense_77_acc: 2.0000e-04 - dense_78_acc: 2.0000e-04\n",
            "Epoch 39/100\n",
            "10000/10000 [==============================] - 1s 64us/step - loss: 0.0052 - dense_75_loss: 9.0738e-05 - dense_76_loss: 0.0015 - dense_77_loss: 0.0022 - dense_78_loss: 0.0014 - dense_75_acc: 2.0000e-04 - dense_76_acc: 2.0000e-04 - dense_77_acc: 2.0000e-04 - dense_78_acc: 2.0000e-04\n",
            "Epoch 40/100\n",
            "10000/10000 [==============================] - 1s 68us/step - loss: 0.0051 - dense_75_loss: 8.6867e-05 - dense_76_loss: 0.0015 - dense_77_loss: 0.0022 - dense_78_loss: 0.0013 - dense_75_acc: 2.0000e-04 - dense_76_acc: 2.0000e-04 - dense_77_acc: 2.0000e-04 - dense_78_acc: 2.0000e-04\n",
            "Epoch 41/100\n",
            "10000/10000 [==============================] - 1s 70us/step - loss: 0.0053 - dense_75_loss: 8.0903e-05 - dense_76_loss: 0.0016 - dense_77_loss: 0.0024 - dense_78_loss: 0.0013 - dense_75_acc: 2.0000e-04 - dense_76_acc: 2.0000e-04 - dense_77_acc: 2.0000e-04 - dense_78_acc: 2.0000e-04\n",
            "Epoch 42/100\n",
            "10000/10000 [==============================] - 1s 72us/step - loss: 0.0044 - dense_75_loss: 6.8738e-05 - dense_76_loss: 0.0013 - dense_77_loss: 0.0019 - dense_78_loss: 0.0012 - dense_75_acc: 2.0000e-04 - dense_76_acc: 2.0000e-04 - dense_77_acc: 2.0000e-04 - dense_78_acc: 2.0000e-04\n",
            "Epoch 43/100\n",
            "10000/10000 [==============================] - 1s 71us/step - loss: 0.0047 - dense_75_loss: 6.8096e-05 - dense_76_loss: 0.0014 - dense_77_loss: 0.0020 - dense_78_loss: 0.0012 - dense_75_acc: 2.0000e-04 - dense_76_acc: 2.0000e-04 - dense_77_acc: 2.0000e-04 - dense_78_acc: 2.0000e-04\n",
            "Epoch 44/100\n",
            "10000/10000 [==============================] - 1s 71us/step - loss: 0.0041 - dense_75_loss: 6.0744e-05 - dense_76_loss: 0.0012 - dense_77_loss: 0.0017 - dense_78_loss: 0.0011 - dense_75_acc: 2.0000e-04 - dense_76_acc: 2.0000e-04 - dense_77_acc: 2.0000e-04 - dense_78_acc: 2.0000e-04\n",
            "Epoch 45/100\n",
            "10000/10000 [==============================] - 1s 70us/step - loss: 0.0037 - dense_75_loss: 5.5407e-05 - dense_76_loss: 0.0011 - dense_77_loss: 0.0016 - dense_78_loss: 0.0011 - dense_75_acc: 2.0000e-04 - dense_76_acc: 2.0000e-04 - dense_77_acc: 2.0000e-04 - dense_78_acc: 2.0000e-04\n",
            "Epoch 46/100\n",
            "10000/10000 [==============================] - 1s 69us/step - loss: 0.0037 - dense_75_loss: 5.3218e-05 - dense_76_loss: 0.0011 - dense_77_loss: 0.0016 - dense_78_loss: 9.7897e-04 - dense_75_acc: 2.0000e-04 - dense_76_acc: 2.0000e-04 - dense_77_acc: 2.0000e-04 - dense_78_acc: 2.0000e-04\n",
            "Epoch 47/100\n",
            "10000/10000 [==============================] - 1s 70us/step - loss: 0.0039 - dense_75_loss: 4.7020e-05 - dense_76_loss: 0.0012 - dense_77_loss: 0.0017 - dense_78_loss: 9.4590e-04 - dense_75_acc: 2.0000e-04 - dense_76_acc: 2.0000e-04 - dense_77_acc: 2.0000e-04 - dense_78_acc: 2.0000e-04\n",
            "Epoch 48/100\n",
            "10000/10000 [==============================] - 1s 70us/step - loss: 0.0036 - dense_75_loss: 4.3496e-05 - dense_76_loss: 0.0011 - dense_77_loss: 0.0016 - dense_78_loss: 8.9128e-04 - dense_75_acc: 2.0000e-04 - dense_76_acc: 2.0000e-04 - dense_77_acc: 2.0000e-04 - dense_78_acc: 2.0000e-04\n",
            "Epoch 49/100\n",
            "10000/10000 [==============================] - 1s 67us/step - loss: 0.0041 - dense_75_loss: 4.3258e-05 - dense_76_loss: 0.0013 - dense_77_loss: 0.0019 - dense_78_loss: 8.8488e-04 - dense_75_acc: 2.0000e-04 - dense_76_acc: 2.0000e-04 - dense_77_acc: 2.0000e-04 - dense_78_acc: 2.0000e-04\n",
            "Epoch 50/100\n",
            "10000/10000 [==============================] - 1s 70us/step - loss: 0.0035 - dense_75_loss: 3.8172e-05 - dense_76_loss: 0.0011 - dense_77_loss: 0.0016 - dense_78_loss: 8.0791e-04 - dense_75_acc: 2.0000e-04 - dense_76_acc: 2.0000e-04 - dense_77_acc: 2.0000e-04 - dense_78_acc: 2.0000e-04\n",
            "Epoch 51/100\n",
            "10000/10000 [==============================] - 1s 72us/step - loss: 0.0032 - dense_75_loss: 3.6018e-05 - dense_76_loss: 9.7117e-04 - dense_77_loss: 0.0014 - dense_78_loss: 7.8920e-04 - dense_75_acc: 2.0000e-04 - dense_76_acc: 2.0000e-04 - dense_77_acc: 2.0000e-04 - dense_78_acc: 2.0000e-04\n",
            "Epoch 52/100\n",
            "10000/10000 [==============================] - 1s 73us/step - loss: 0.0029 - dense_75_loss: 3.4334e-05 - dense_76_loss: 8.4369e-04 - dense_77_loss: 0.0012 - dense_78_loss: 7.3204e-04 - dense_75_acc: 2.0000e-04 - dense_76_acc: 2.0000e-04 - dense_77_acc: 2.0000e-04 - dense_78_acc: 2.0000e-04\n",
            "Epoch 53/100\n",
            "10000/10000 [==============================] - 1s 68us/step - loss: 0.0029 - dense_75_loss: 3.2475e-05 - dense_76_loss: 8.5338e-04 - dense_77_loss: 0.0013 - dense_78_loss: 7.2355e-04 - dense_75_acc: 2.0000e-04 - dense_76_acc: 2.0000e-04 - dense_77_acc: 2.0000e-04 - dense_78_acc: 2.0000e-04\n",
            "Epoch 54/100\n",
            "10000/10000 [==============================] - 1s 71us/step - loss: 0.0029 - dense_75_loss: 3.1093e-05 - dense_76_loss: 8.5981e-04 - dense_77_loss: 0.0013 - dense_78_loss: 6.6987e-04 - dense_75_acc: 2.0000e-04 - dense_76_acc: 2.0000e-04 - dense_77_acc: 2.0000e-04 - dense_78_acc: 2.0000e-04\n",
            "Epoch 55/100\n",
            "10000/10000 [==============================] - 1s 72us/step - loss: 0.0026 - dense_75_loss: 3.1833e-05 - dense_76_loss: 7.9745e-04 - dense_77_loss: 0.0012 - dense_78_loss: 6.2071e-04 - dense_75_acc: 2.0000e-04 - dense_76_acc: 2.0000e-04 - dense_77_acc: 2.0000e-04 - dense_78_acc: 2.0000e-04\n",
            "Epoch 56/100\n",
            "10000/10000 [==============================] - 1s 72us/step - loss: 0.0026 - dense_75_loss: 3.0789e-05 - dense_76_loss: 8.0357e-04 - dense_77_loss: 0.0012 - dense_78_loss: 6.0513e-04 - dense_75_acc: 2.0000e-04 - dense_76_acc: 2.0000e-04 - dense_77_acc: 2.0000e-04 - dense_78_acc: 2.0000e-04\n",
            "Epoch 57/100\n",
            "10000/10000 [==============================] - 1s 70us/step - loss: 0.0022 - dense_75_loss: 2.8376e-05 - dense_76_loss: 6.3310e-04 - dense_77_loss: 9.5404e-04 - dense_78_loss: 5.5376e-04 - dense_75_acc: 2.0000e-04 - dense_76_acc: 2.0000e-04 - dense_77_acc: 2.0000e-04 - dense_78_acc: 2.0000e-04\n",
            "Epoch 58/100\n",
            "10000/10000 [==============================] - 1s 72us/step - loss: 0.0025 - dense_75_loss: 2.8457e-05 - dense_76_loss: 7.4680e-04 - dense_77_loss: 0.0011 - dense_78_loss: 5.5585e-04 - dense_75_acc: 2.0000e-04 - dense_76_acc: 2.0000e-04 - dense_77_acc: 2.0000e-04 - dense_78_acc: 2.0000e-04\n",
            "Epoch 59/100\n",
            "10000/10000 [==============================] - 1s 68us/step - loss: 0.0026 - dense_75_loss: 2.8106e-05 - dense_76_loss: 8.0088e-04 - dense_77_loss: 0.0012 - dense_78_loss: 5.2391e-04 - dense_75_acc: 2.0000e-04 - dense_76_acc: 2.0000e-04 - dense_77_acc: 2.0000e-04 - dense_78_acc: 2.0000e-04\n",
            "Epoch 60/100\n",
            "10000/10000 [==============================] - 1s 70us/step - loss: 0.0022 - dense_75_loss: 2.8221e-05 - dense_76_loss: 6.6366e-04 - dense_77_loss: 0.0010 - dense_78_loss: 4.6388e-04 - dense_75_acc: 2.0000e-04 - dense_76_acc: 2.0000e-04 - dense_77_acc: 2.0000e-04 - dense_78_acc: 2.0000e-04\n",
            "Epoch 61/100\n",
            "10000/10000 [==============================] - 1s 70us/step - loss: 0.0021 - dense_75_loss: 2.6198e-05 - dense_76_loss: 6.4166e-04 - dense_77_loss: 0.0010 - dense_78_loss: 4.5201e-04 - dense_75_acc: 2.0000e-04 - dense_76_acc: 2.0000e-04 - dense_77_acc: 2.0000e-04 - dense_78_acc: 2.0000e-04\n",
            "Epoch 62/100\n",
            "10000/10000 [==============================] - 1s 70us/step - loss: 0.0023 - dense_75_loss: 2.4304e-05 - dense_76_loss: 7.0221e-04 - dense_77_loss: 0.0011 - dense_78_loss: 4.4942e-04 - dense_75_acc: 2.0000e-04 - dense_76_acc: 2.0000e-04 - dense_77_acc: 2.0000e-04 - dense_78_acc: 2.0000e-04\n",
            "Epoch 63/100\n",
            "10000/10000 [==============================] - 1s 68us/step - loss: 0.0025 - dense_75_loss: 2.5033e-05 - dense_76_loss: 7.8574e-04 - dense_77_loss: 0.0012 - dense_78_loss: 4.4108e-04 - dense_75_acc: 2.0000e-04 - dense_76_acc: 2.0000e-04 - dense_77_acc: 2.0000e-04 - dense_78_acc: 2.0000e-04\n",
            "Epoch 64/100\n",
            "10000/10000 [==============================] - 1s 67us/step - loss: 0.0021 - dense_75_loss: 2.4032e-05 - dense_76_loss: 6.4615e-04 - dense_77_loss: 9.9347e-04 - dense_78_loss: 4.2931e-04 - dense_75_acc: 2.0000e-04 - dense_76_acc: 2.0000e-04 - dense_77_acc: 2.0000e-04 - dense_78_acc: 2.0000e-04\n",
            "Epoch 65/100\n",
            "10000/10000 [==============================] - 1s 69us/step - loss: 0.0019 - dense_75_loss: 2.2283e-05 - dense_76_loss: 5.5597e-04 - dense_77_loss: 9.0662e-04 - dense_78_loss: 3.9394e-04 - dense_75_acc: 2.0000e-04 - dense_76_acc: 2.0000e-04 - dense_77_acc: 2.0000e-04 - dense_78_acc: 2.0000e-04\n",
            "Epoch 66/100\n",
            "10000/10000 [==============================] - 1s 74us/step - loss: 0.0018 - dense_75_loss: 2.1258e-05 - dense_76_loss: 5.2953e-04 - dense_77_loss: 8.7232e-04 - dense_78_loss: 3.6394e-04 - dense_75_acc: 2.0000e-04 - dense_76_acc: 2.0000e-04 - dense_77_acc: 2.0000e-04 - dense_78_acc: 2.0000e-04\n",
            "Epoch 67/100\n",
            "10000/10000 [==============================] - 1s 73us/step - loss: 0.0022 - dense_75_loss: 2.3931e-05 - dense_76_loss: 6.8721e-04 - dense_77_loss: 0.0011 - dense_78_loss: 3.7359e-04 - dense_75_acc: 2.0000e-04 - dense_76_acc: 2.0000e-04 - dense_77_acc: 2.0000e-04 - dense_78_acc: 2.0000e-04\n",
            "Epoch 68/100\n",
            "10000/10000 [==============================] - 1s 72us/step - loss: 0.0017 - dense_75_loss: 2.2864e-05 - dense_76_loss: 5.0272e-04 - dense_77_loss: 8.1625e-04 - dense_78_loss: 3.4584e-04 - dense_75_acc: 2.0000e-04 - dense_76_acc: 2.0000e-04 - dense_77_acc: 2.0000e-04 - dense_78_acc: 2.0000e-04\n",
            "Epoch 69/100\n",
            "10000/10000 [==============================] - 1s 72us/step - loss: 0.0016 - dense_75_loss: 1.9930e-05 - dense_76_loss: 4.7480e-04 - dense_77_loss: 7.9869e-04 - dense_78_loss: 2.9317e-04 - dense_75_acc: 2.0000e-04 - dense_76_acc: 2.0000e-04 - dense_77_acc: 2.0000e-04 - dense_78_acc: 2.0000e-04\n",
            "Epoch 70/100\n",
            "10000/10000 [==============================] - 1s 72us/step - loss: 0.0019 - dense_75_loss: 2.0016e-05 - dense_76_loss: 6.0004e-04 - dense_77_loss: 9.7901e-04 - dense_78_loss: 3.3917e-04 - dense_75_acc: 2.0000e-04 - dense_76_acc: 2.0000e-04 - dense_77_acc: 2.0000e-04 - dense_78_acc: 2.0000e-04\n",
            "Epoch 71/100\n",
            "10000/10000 [==============================] - 1s 75us/step - loss: 0.0016 - dense_75_loss: 2.0591e-05 - dense_76_loss: 4.6771e-04 - dense_77_loss: 7.7621e-04 - dense_78_loss: 3.1449e-04 - dense_75_acc: 2.0000e-04 - dense_76_acc: 2.0000e-04 - dense_77_acc: 2.0000e-04 - dense_78_acc: 2.0000e-04\n",
            "Epoch 72/100\n",
            "10000/10000 [==============================] - 1s 73us/step - loss: 0.0016 - dense_75_loss: 2.0669e-05 - dense_76_loss: 4.9387e-04 - dense_77_loss: 8.2146e-04 - dense_78_loss: 2.9769e-04 - dense_75_acc: 2.0000e-04 - dense_76_acc: 2.0000e-04 - dense_77_acc: 2.0000e-04 - dense_78_acc: 2.0000e-04\n",
            "Epoch 73/100\n",
            "10000/10000 [==============================] - 1s 71us/step - loss: 0.0016 - dense_75_loss: 1.8647e-05 - dense_76_loss: 5.0104e-04 - dense_77_loss: 8.2796e-04 - dense_78_loss: 2.6421e-04 - dense_75_acc: 2.0000e-04 - dense_76_acc: 2.0000e-04 - dense_77_acc: 2.0000e-04 - dense_78_acc: 2.0000e-04\n",
            "Epoch 74/100\n",
            "10000/10000 [==============================] - 1s 72us/step - loss: 0.0015 - dense_75_loss: 1.8209e-05 - dense_76_loss: 4.6634e-04 - dense_77_loss: 7.7741e-04 - dense_78_loss: 2.5542e-04 - dense_75_acc: 2.0000e-04 - dense_76_acc: 2.0000e-04 - dense_77_acc: 2.0000e-04 - dense_78_acc: 2.0000e-04\n",
            "Epoch 75/100\n",
            "10000/10000 [==============================] - 1s 71us/step - loss: 0.0017 - dense_75_loss: 1.8568e-05 - dense_76_loss: 5.1713e-04 - dense_77_loss: 8.7877e-04 - dense_78_loss: 2.5944e-04 - dense_75_acc: 2.0000e-04 - dense_76_acc: 2.0000e-04 - dense_77_acc: 2.0000e-04 - dense_78_acc: 2.0000e-04\n",
            "Epoch 76/100\n",
            "10000/10000 [==============================] - 1s 71us/step - loss: 0.0013 - dense_75_loss: 1.8332e-05 - dense_76_loss: 3.9524e-04 - dense_77_loss: 6.7450e-04 - dense_78_loss: 2.3474e-04 - dense_75_acc: 2.0000e-04 - dense_76_acc: 2.0000e-04 - dense_77_acc: 2.0000e-04 - dense_78_acc: 2.0000e-04\n",
            "Epoch 77/100\n",
            "10000/10000 [==============================] - 1s 70us/step - loss: 0.0013 - dense_75_loss: 1.7098e-05 - dense_76_loss: 3.7547e-04 - dense_77_loss: 6.4730e-04 - dense_78_loss: 2.3677e-04 - dense_75_acc: 2.0000e-04 - dense_76_acc: 2.0000e-04 - dense_77_acc: 2.0000e-04 - dense_78_acc: 2.0000e-04\n",
            "Epoch 78/100\n",
            "10000/10000 [==============================] - 1s 70us/step - loss: 0.0013 - dense_75_loss: 1.8874e-05 - dense_76_loss: 3.9439e-04 - dense_77_loss: 6.7699e-04 - dense_78_loss: 2.1482e-04 - dense_75_acc: 2.0000e-04 - dense_76_acc: 2.0000e-04 - dense_77_acc: 2.0000e-04 - dense_78_acc: 2.0000e-04\n",
            "Epoch 79/100\n",
            "10000/10000 [==============================] - 1s 72us/step - loss: 0.0011 - dense_75_loss: 1.6849e-05 - dense_76_loss: 3.2787e-04 - dense_77_loss: 5.8546e-04 - dense_78_loss: 2.0556e-04 - dense_75_acc: 2.0000e-04 - dense_76_acc: 2.0000e-04 - dense_77_acc: 2.0000e-04 - dense_78_acc: 2.0000e-04\n",
            "Epoch 80/100\n",
            "10000/10000 [==============================] - 1s 71us/step - loss: 0.0012 - dense_75_loss: 1.8344e-05 - dense_76_loss: 3.4593e-04 - dense_77_loss: 5.9354e-04 - dense_78_loss: 2.3021e-04 - dense_75_acc: 2.0000e-04 - dense_76_acc: 2.0000e-04 - dense_77_acc: 2.0000e-04 - dense_78_acc: 2.0000e-04\n",
            "Epoch 81/100\n",
            "10000/10000 [==============================] - 1s 70us/step - loss: 0.0015 - dense_75_loss: 1.7984e-05 - dense_76_loss: 4.9141e-04 - dense_77_loss: 7.9970e-04 - dense_78_loss: 2.1493e-04 - dense_75_acc: 2.0000e-04 - dense_76_acc: 2.0000e-04 - dense_77_acc: 2.0000e-04 - dense_78_acc: 2.0000e-04\n",
            "Epoch 82/100\n",
            "10000/10000 [==============================] - 1s 69us/step - loss: 0.0013 - dense_75_loss: 1.7552e-05 - dense_76_loss: 4.1183e-04 - dense_77_loss: 6.7666e-04 - dense_78_loss: 2.2106e-04 - dense_75_acc: 2.0000e-04 - dense_76_acc: 2.0000e-04 - dense_77_acc: 2.0000e-04 - dense_78_acc: 2.0000e-04\n",
            "Epoch 83/100\n",
            "10000/10000 [==============================] - 1s 70us/step - loss: 0.0013 - dense_75_loss: 1.7298e-05 - dense_76_loss: 3.8866e-04 - dense_77_loss: 6.5320e-04 - dense_78_loss: 2.0913e-04 - dense_75_acc: 2.0000e-04 - dense_76_acc: 2.0000e-04 - dense_77_acc: 2.0000e-04 - dense_78_acc: 2.0000e-04\n",
            "Epoch 84/100\n",
            "10000/10000 [==============================] - 1s 72us/step - loss: 0.0014 - dense_75_loss: 1.6184e-05 - dense_76_loss: 4.5069e-04 - dense_77_loss: 7.2855e-04 - dense_78_loss: 2.2557e-04 - dense_75_acc: 2.0000e-04 - dense_76_acc: 2.0000e-04 - dense_77_acc: 2.0000e-04 - dense_78_acc: 2.0000e-04\n",
            "Epoch 85/100\n",
            "10000/10000 [==============================] - 1s 73us/step - loss: 0.0014 - dense_75_loss: 1.5920e-05 - dense_76_loss: 4.6063e-04 - dense_77_loss: 7.6212e-04 - dense_78_loss: 2.0023e-04 - dense_75_acc: 2.0000e-04 - dense_76_acc: 2.0000e-04 - dense_77_acc: 2.0000e-04 - dense_78_acc: 2.0000e-04\n",
            "Epoch 86/100\n",
            "10000/10000 [==============================] - 1s 66us/step - loss: 0.0011 - dense_75_loss: 1.5698e-05 - dense_76_loss: 3.3911e-04 - dense_77_loss: 5.7745e-04 - dense_78_loss: 1.7371e-04 - dense_75_acc: 2.0000e-04 - dense_76_acc: 2.0000e-04 - dense_77_acc: 2.0000e-04 - dense_78_acc: 2.0000e-04\n",
            "Epoch 87/100\n",
            "10000/10000 [==============================] - 1s 71us/step - loss: 0.0011 - dense_75_loss: 1.5707e-05 - dense_76_loss: 3.2674e-04 - dense_77_loss: 5.6198e-04 - dense_78_loss: 1.7066e-04 - dense_75_acc: 2.0000e-04 - dense_76_acc: 2.0000e-04 - dense_77_acc: 2.0000e-04 - dense_78_acc: 2.0000e-04\n",
            "Epoch 88/100\n",
            "10000/10000 [==============================] - 1s 67us/step - loss: 0.0012 - dense_75_loss: 1.4117e-05 - dense_76_loss: 3.5543e-04 - dense_77_loss: 5.9777e-04 - dense_78_loss: 1.8634e-04 - dense_75_acc: 2.0000e-04 - dense_76_acc: 2.0000e-04 - dense_77_acc: 2.0000e-04 - dense_78_acc: 2.0000e-04\n",
            "Epoch 89/100\n",
            "10000/10000 [==============================] - 1s 66us/step - loss: 0.0011 - dense_75_loss: 1.4775e-05 - dense_76_loss: 3.4816e-04 - dense_77_loss: 5.5908e-04 - dense_78_loss: 1.6328e-04 - dense_75_acc: 2.0000e-04 - dense_76_acc: 2.0000e-04 - dense_77_acc: 2.0000e-04 - dense_78_acc: 2.0000e-04\n",
            "Epoch 90/100\n",
            "10000/10000 [==============================] - 1s 70us/step - loss: 0.0012 - dense_75_loss: 1.5431e-05 - dense_76_loss: 3.6198e-04 - dense_77_loss: 5.8749e-04 - dense_78_loss: 1.9511e-04 - dense_75_acc: 2.0000e-04 - dense_76_acc: 2.0000e-04 - dense_77_acc: 2.0000e-04 - dense_78_acc: 2.0000e-04\n",
            "Epoch 91/100\n",
            "10000/10000 [==============================] - 1s 70us/step - loss: 9.1317e-04 - dense_75_loss: 1.3130e-05 - dense_76_loss: 2.7493e-04 - dense_77_loss: 4.7273e-04 - dense_78_loss: 1.5239e-04 - dense_75_acc: 2.0000e-04 - dense_76_acc: 2.0000e-04 - dense_77_acc: 2.0000e-04 - dense_78_acc: 2.0000e-04\n",
            "Epoch 92/100\n",
            "10000/10000 [==============================] - 1s 71us/step - loss: 9.9580e-04 - dense_75_loss: 1.4150e-05 - dense_76_loss: 3.0498e-04 - dense_77_loss: 5.1114e-04 - dense_78_loss: 1.6553e-04 - dense_75_acc: 2.0000e-04 - dense_76_acc: 2.0000e-04 - dense_77_acc: 2.0000e-04 - dense_78_acc: 2.0000e-04\n",
            "Epoch 93/100\n",
            "10000/10000 [==============================] - 1s 71us/step - loss: 0.0011 - dense_75_loss: 1.4012e-05 - dense_76_loss: 3.4948e-04 - dense_77_loss: 5.7162e-04 - dense_78_loss: 1.8199e-04 - dense_75_acc: 2.0000e-04 - dense_76_acc: 2.0000e-04 - dense_77_acc: 2.0000e-04 - dense_78_acc: 2.0000e-04\n",
            "Epoch 94/100\n",
            "10000/10000 [==============================] - 1s 70us/step - loss: 8.0071e-04 - dense_75_loss: 1.3845e-05 - dense_76_loss: 2.3441e-04 - dense_77_loss: 4.0335e-04 - dense_78_loss: 1.4911e-04 - dense_75_acc: 2.0000e-04 - dense_76_acc: 2.0000e-04 - dense_77_acc: 2.0000e-04 - dense_78_acc: 2.0000e-04\n",
            "Epoch 95/100\n",
            "10000/10000 [==============================] - 1s 74us/step - loss: 0.0012 - dense_75_loss: 1.5265e-05 - dense_76_loss: 3.8898e-04 - dense_77_loss: 6.3104e-04 - dense_78_loss: 2.0589e-04 - dense_75_acc: 2.0000e-04 - dense_76_acc: 2.0000e-04 - dense_77_acc: 2.0000e-04 - dense_78_acc: 2.0000e-04\n",
            "Epoch 96/100\n",
            "10000/10000 [==============================] - 1s 65us/step - loss: 9.2223e-04 - dense_75_loss: 1.3630e-05 - dense_76_loss: 2.8712e-04 - dense_77_loss: 4.7011e-04 - dense_78_loss: 1.5137e-04 - dense_75_acc: 2.0000e-04 - dense_76_acc: 2.0000e-04 - dense_77_acc: 2.0000e-04 - dense_78_acc: 2.0000e-04\n",
            "Epoch 97/100\n",
            "10000/10000 [==============================] - 1s 70us/step - loss: 8.6702e-04 - dense_75_loss: 1.6069e-05 - dense_76_loss: 2.6879e-04 - dense_77_loss: 4.5179e-04 - dense_78_loss: 1.3037e-04 - dense_75_acc: 2.0000e-04 - dense_76_acc: 2.0000e-04 - dense_77_acc: 2.0000e-04 - dense_78_acc: 2.0000e-04\n",
            "Epoch 98/100\n",
            "10000/10000 [==============================] - 1s 68us/step - loss: 8.0119e-04 - dense_75_loss: 1.2218e-05 - dense_76_loss: 2.4528e-04 - dense_77_loss: 4.1876e-04 - dense_78_loss: 1.2493e-04 - dense_75_acc: 2.0000e-04 - dense_76_acc: 2.0000e-04 - dense_77_acc: 2.0000e-04 - dense_78_acc: 2.0000e-04\n",
            "Epoch 99/100\n",
            "10000/10000 [==============================] - 1s 73us/step - loss: 8.5552e-04 - dense_75_loss: 1.3432e-05 - dense_76_loss: 2.5933e-04 - dense_77_loss: 4.3696e-04 - dense_78_loss: 1.4579e-04 - dense_75_acc: 2.0000e-04 - dense_76_acc: 2.0000e-04 - dense_77_acc: 2.0000e-04 - dense_78_acc: 2.0000e-04\n",
            "Epoch 100/100\n",
            "10000/10000 [==============================] - 1s 73us/step - loss: 8.7654e-04 - dense_75_loss: 1.4480e-05 - dense_76_loss: 2.7004e-04 - dense_77_loss: 4.4556e-04 - dense_78_loss: 1.4645e-04 - dense_75_acc: 2.0000e-04 - dense_76_acc: 2.0000e-04 - dense_77_acc: 2.0000e-04 - dense_78_acc: 2.0000e-04\n"
          ],
          "name": "stdout"
        },
        {
          "output_type": "execute_result",
          "data": {
            "text/plain": [
              "<keras.callbacks.History at 0x7f79687dcda0>"
            ]
          },
          "metadata": {
            "tags": []
          },
          "execution_count": 52
        }
      ]
    },
    {
      "cell_type": "code",
      "metadata": {
        "id": "N4qDb2_ImN2u",
        "colab_type": "code",
        "outputId": "14e32f8a-b285-4707-8a04-577872120d67",
        "colab": {
          "base_uri": "https://localhost:8080/",
          "height": 51
        }
      },
      "source": [
        "LHS_valid0500 = lhsmdu.createRandomStandardUniformMatrix(n_traits,500) #the package has a more advanced method but it is too slow to process\n",
        "\n",
        "\n",
        "pd_valid0500 = pd.DataFrame.transpose(pd.DataFrame(LHS_valid0500))\n",
        "pd_valid0500.columns = [\"cab\",\"cw\",\"cm\",\"lai\"]\n",
        "\n",
        "pd_valid0500[\"cab\"]=pd_valid0500[\"cab\"]*max_cab+min_cab\n",
        "pd_valid0500[\"cw\"] =pd_valid0500[\"cw\"] *max_cw +min_cw\n",
        "pd_valid0500[\"cm\"] =pd_valid0500[\"cm\"] *max_cm +min_cm\n",
        "pd_valid0500[\"lai\"]=pd_valid0500[\"lai\"]*max_lai+min_lai\n",
        "\n",
        "np_spectra0500 = Gen_spectra_data(pd_valid0500)\n",
        "\n",
        "print(np_spectra0500.shape)\n",
        "#lets also create a numpy object for the tratis\n",
        "np_valid0500 = pd_valid0500.iloc[:,:].values\n",
        "\n",
        "valid_df_0500 = np_spectra0500[:,[1,2,3,4,5,6,8,11,12]]\n",
        "print(valid_df_0500.shape)\n"
      ],
      "execution_count": 53,
      "outputs": [
        {
          "output_type": "stream",
          "text": [
            "(500, 13)\n",
            "(500, 9)\n"
          ],
          "name": "stdout"
        }
      ]
    },
    {
      "cell_type": "code",
      "metadata": {
        "id": "GgOD_krzmaN1",
        "colab_type": "code",
        "colab": {}
      },
      "source": [
        "Y_ann_pred = model.predict(valid_df_0500)\n",
        "\n",
        "#lets assume this is the order\n",
        "cab_pred = Y_ann_pred[0]\n",
        "cw_pred  = Y_ann_pred[1]\n",
        "cm_pred  = Y_ann_pred[2]\n",
        "lai_pred = Y_ann_pred[3]\n",
        "\n",
        "np_Y_ann_pred = np.array(cab_pred)\n",
        "np_Y_ann_pred = np.hstack((np_Y_ann_pred,cw_pred))\n",
        "np_Y_ann_pred = np.hstack((np_Y_ann_pred,cm_pred))\n",
        "np_Y_ann_pred = np.hstack((np_Y_ann_pred,lai_pred))\n",
        "np_Y_ann_pred.shape\n",
        "\n",
        "#and finall we can re-transform the values\n",
        "np_Y_ann_pred = scaler.inverse_transform(np_Y_ann_pred)\n",
        "#np_Y_ann_pred\n",
        "\n",
        "#Y_ann_pred = pd.DataFrame(scaler.inverse_transform(model.predict(valid_df_0500)))\n",
        "#Y_ann_pred.columns = [\"cab\",\"car\",\"cw\",\"cm\"]\n",
        "#Y_ann_pred\n",
        "\n",
        "test_pred=np_Y_ann_pred"
      ],
      "execution_count": 0,
      "outputs": []
    },
    {
      "cell_type": "code",
      "metadata": {
        "id": "QCD97BwgmvP-",
        "colab_type": "code",
        "outputId": "9d04bbf6-0373-4b58-f596-40567c4007b3",
        "colab": {
          "base_uri": "https://localhost:8080/",
          "height": 588
        }
      },
      "source": [
        "\n",
        "\n",
        "#plotting cab\n",
        "fig, axs = plt.subplots(1,2)\n",
        "fig.suptitle('Selected traits')\n",
        "fig.subplots_adjust(wspace=1)\n",
        "\n",
        "#plt.subplot(3,1,1)\n",
        "axs[0].plot(pd_valid0500[\"cab\"],test_pred[:,0],\"o\",label=\"Cab\")\n",
        "axs[0].legend(loc=\"upper left\")\n",
        "axs[0].set_ylabel(\"Prediction\")\n",
        "\n",
        "axs[1].plot(pd_valid0500[\"cw\"],test_pred[:,1],\"o\",label=\"Cw\")\n",
        "axs[1].legend(loc=\"upper left\")\n",
        "#axs[1].set_ylabel(\"Prediction\")\n",
        "\n",
        "plt.show()\n",
        "\n",
        "#plotting cab\n",
        "fig, axs = plt.subplots(1,2)\n",
        "fig.suptitle('Selected traits')\n",
        "fig.subplots_adjust(wspace=1)\n",
        "\n",
        "\n",
        "axs[0].plot(pd_valid0500[\"cm\"],test_pred[:,2],\"o\",label=\"Cm\")\n",
        "axs[0].legend(loc=\"upper left\")\n",
        "#axs[0].set_ylabel(\"Prediction\")\n",
        "\n",
        "axs[1].plot(pd_valid0500[\"lai\"],test_pred[:,3],\"o\",label=\"LAI\")\n",
        "axs[1].legend(loc=\"upper left\")\n",
        "#axs[3].set_ylabel(\"Prediction\")"
      ],
      "execution_count": 55,
      "outputs": [
        {
          "output_type": "display_data",
          "data": {
            "image/png": "[encoded data removed]",
            "text/plain": [
              "<Figure size 432x288 with 2 Axes>"
            ]
          },
          "metadata": {
            "tags": []
          }
        },
        {
          "output_type": "execute_result",
          "data": {
            "text/plain": [
              "<matplotlib.legend.Legend at 0x7f7967af6b38>"
            ]
          },
          "metadata": {
            "tags": []
          },
          "execution_count": 55
        },
        {
          "output_type": "display_data",
          "data": {
            "image/png": "[encoded data removed]",
            "text/plain": [
              "<Figure size 432x288 with 2 Axes>"
            ]
          },
          "metadata": {
            "tags": []
          }
        }
      ]
    }
  ]
}