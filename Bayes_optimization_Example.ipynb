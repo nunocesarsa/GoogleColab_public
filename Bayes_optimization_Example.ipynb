{
  "nbformat": 4,
  "nbformat_minor": 0,
  "metadata": {
    "colab": {
      "name": "Bayes_optimization_Example.ipynb",
      "provenance": [],
      "authorship_tag": "ABX9TyOuSPT7z1mQJjX07aZSne9Z",
      "include_colab_link": true
    },
    "kernelspec": {
      "name": "python3",
      "display_name": "Python 3"
    }
  },
  "cells": [
    {
      "cell_type": "markdown",
      "metadata": {
        "id": "view-in-github",
        "colab_type": "text"
      },
      "source": [
        "<a href=\"https://colab.research.google.com/github/nunocesarsa/GoogleColab_public/blob/master/Bayes_optimization_Example.ipynb\" target=\"_parent\"><img src=\"https://colab.research.google.com/assets/colab-badge.svg\" alt=\"Open In Colab\"/></a>"
      ]
    },
    {
      "cell_type": "markdown",
      "metadata": {
        "id": "rq1w0E-85mx4",
        "colab_type": "text"
      },
      "source": [
        "#Example as described here:\n",
        "https://github.com/fmfn/BayesianOptimization\n",
        "\n",
        "\n",
        "\n",
        "References:\n",
        "\n",
        "http://papers.nips.cc/paper/4522-practical-bayesian-optimization-of-machine-learning-algorithms.pdf\n",
        "http://arxiv.org/pdf/1012.2599v1.pdf\n",
        "http://www.gaussianprocess.org/gpml/\n",
        "https://www.youtube.com/watch?v=vz3D36VXefI&index=10&list=PLE6Wd9FR--EdyJ5lbFl8UuGjecvVw66F6\n"
      ]
    },
    {
      "cell_type": "code",
      "metadata": {
        "id": "Oy4BHtaX5l4P",
        "colab_type": "code",
        "colab": {}
      },
      "source": [
        "def black_box_function(x, y):\n",
        "    \"\"\"Function with unknown internals we wish to maximize.\n",
        "\n",
        "    This is just serving as an example, for all intents and\n",
        "    purposes think of the internals of this function, i.e.: the process\n",
        "    which generates its output values, as unknown.\n",
        "    \"\"\"\n",
        "    return -x ** 2 - (y - 1) ** 2 + 1"
      ],
      "execution_count": 0,
      "outputs": []
    },
    {
      "cell_type": "code",
      "metadata": {
        "id": "5b7HG41V6J5U",
        "colab_type": "code",
        "colab": {
          "base_uri": "https://localhost:8080/",
          "height": 258
        },
        "outputId": "04bfa3ec-9b82-4012-b65b-26d56e660e1d"
      },
      "source": [
        "#bayesian optimization packages\n",
        "!pip install bayesian-optimization\n"
      ],
      "execution_count": 4,
      "outputs": [
        {
          "output_type": "stream",
          "text": [
            "Collecting bayesian-optimization\n",
            "  Downloading https://files.pythonhosted.org/packages/72/0c/173ac467d0a53e33e41b521e4ceba74a8ac7c7873d7b857a8fbdca88302d/bayesian-optimization-1.0.1.tar.gz\n",
            "Requirement already satisfied: numpy>=1.9.0 in /usr/local/lib/python3.6/dist-packages (from bayesian-optimization) (1.17.5)\n",
            "Requirement already satisfied: scipy>=0.14.0 in /usr/local/lib/python3.6/dist-packages (from bayesian-optimization) (1.4.1)\n",
            "Requirement already satisfied: scikit-learn>=0.18.0 in /usr/local/lib/python3.6/dist-packages (from bayesian-optimization) (0.22.1)\n",
            "Requirement already satisfied: joblib>=0.11 in /usr/local/lib/python3.6/dist-packages (from scikit-learn>=0.18.0->bayesian-optimization) (0.14.1)\n",
            "Building wheels for collected packages: bayesian-optimization\n",
            "  Building wheel for bayesian-optimization (setup.py) ... \u001b[?25l\u001b[?25hdone\n",
            "  Created wheel for bayesian-optimization: filename=bayesian_optimization-1.0.1-cp36-none-any.whl size=10031 sha256=7a86cbb433dccb067e16cc23f691e50dbc60a0c082e1a9f826826845d49e144f\n",
            "  Stored in directory: /root/.cache/pip/wheels/1d/0d/3b/6b9d4477a34b3905f246ff4e7acf6aafd4cc9b77d473629b77\n",
            "Successfully built bayesian-optimization\n",
            "Installing collected packages: bayesian-optimization\n",
            "Successfully installed bayesian-optimization-1.0.1\n"
          ],
          "name": "stdout"
        }
      ]
    },
    {
      "cell_type": "markdown",
      "metadata": {
        "id": "enVUmj-96akN",
        "colab_type": "text"
      },
      "source": [
        "This sets up the bayes optimizer "
      ]
    },
    {
      "cell_type": "code",
      "metadata": {
        "id": "aEEu-L8q53lO",
        "colab_type": "code",
        "colab": {}
      },
      "source": [
        "from bayes_opt import BayesianOptimization\n",
        "\n",
        "# Bounded region of parameter space\n",
        "pbounds = {'x': (2, 4), 'y': (-3, 3)}\n",
        "\n",
        "optimizer = BayesianOptimization(\n",
        "    f=black_box_function,\n",
        "    pbounds=pbounds,\n",
        "    random_state=1,\n",
        ")"
      ],
      "execution_count": 0,
      "outputs": []
    },
    {
      "cell_type": "markdown",
      "metadata": {
        "id": "5pSmfton6f08",
        "colab_type": "text"
      },
      "source": [
        "This runs for 2 initial points, for n iterations\n",
        "\n",
        "(could easily be reconfigured until a certain error is obtained to be honest..)"
      ]
    },
    {
      "cell_type": "code",
      "metadata": {
        "id": "rjOIA3yb56ck",
        "colab_type": "code",
        "colab": {
          "base_uri": "https://localhost:8080/",
          "height": 153
        },
        "outputId": "a65dd282-7a38-497b-f433-071a6165cafa"
      },
      "source": [
        "optimizer.maximize(\n",
        "    init_points=2,\n",
        "    n_iter=3,\n",
        ")"
      ],
      "execution_count": 6,
      "outputs": [
        {
          "output_type": "stream",
          "text": [
            "|   iter    |  target   |     x     |     y     |\n",
            "-------------------------------------------------\n",
            "| \u001b[0m 1       \u001b[0m | \u001b[0m-7.135   \u001b[0m | \u001b[0m 2.834   \u001b[0m | \u001b[0m 1.322   \u001b[0m |\n",
            "| \u001b[0m 2       \u001b[0m | \u001b[0m-7.78    \u001b[0m | \u001b[0m 2.0     \u001b[0m | \u001b[0m-1.186   \u001b[0m |\n",
            "| \u001b[0m 3       \u001b[0m | \u001b[0m-19.0    \u001b[0m | \u001b[0m 4.0     \u001b[0m | \u001b[0m 3.0     \u001b[0m |\n",
            "| \u001b[0m 4       \u001b[0m | \u001b[0m-16.3    \u001b[0m | \u001b[0m 2.378   \u001b[0m | \u001b[0m-2.413   \u001b[0m |\n",
            "| \u001b[95m 5       \u001b[0m | \u001b[95m-4.441   \u001b[0m | \u001b[95m 2.105   \u001b[0m | \u001b[95m-0.005822\u001b[0m |\n",
            "=================================================\n"
          ],
          "name": "stdout"
        }
      ]
    },
    {
      "cell_type": "code",
      "metadata": {
        "id": "LJG_ZuCI6Uj8",
        "colab_type": "code",
        "colab": {
          "base_uri": "https://localhost:8080/",
          "height": 204
        },
        "outputId": "17bbce33-d998-4302-821b-4e59698bfbb1"
      },
      "source": [
        "print(optimizer.max)\n",
        "\n",
        "for i, res in enumerate(optimizer.res):\n",
        "    print(\"Iteration {}: \\n\\t{}\".format(i, res))"
      ],
      "execution_count": 7,
      "outputs": [
        {
          "output_type": "stream",
          "text": [
            "{'target': -4.441293113411222, 'params': {'x': 2.104665051994087, 'y': -0.005822117636089974}}\n",
            "Iteration 0: \n",
            "\t{'target': -7.135455292718879, 'params': {'x': 2.8340440094051482, 'y': 1.3219469606529488}}\n",
            "Iteration 1: \n",
            "\t{'target': -7.779531005607566, 'params': {'x': 2.0002287496346898, 'y': -1.1860045642089614}}\n",
            "Iteration 2: \n",
            "\t{'target': -19.0, 'params': {'x': 4.0, 'y': 3.0}}\n",
            "Iteration 3: \n",
            "\t{'target': -16.29839645063864, 'params': {'x': 2.3776144540856503, 'y': -2.412527795983739}}\n",
            "Iteration 4: \n",
            "\t{'target': -4.441293113411222, 'params': {'x': 2.104665051994087, 'y': -0.005822117636089974}}\n"
          ],
          "name": "stdout"
        }
      ]
    },
    {
      "cell_type": "markdown",
      "metadata": {
        "id": "nu6oiw8b6Yp7",
        "colab_type": "text"
      },
      "source": [
        "Changing bounds"
      ]
    },
    {
      "cell_type": "code",
      "metadata": {
        "id": "G9UyXeiw6sdk",
        "colab_type": "code",
        "colab": {
          "base_uri": "https://localhost:8080/",
          "height": 153
        },
        "outputId": "6f2fbb55-4e52-4906-8c87-cc197ee1c4f0"
      },
      "source": [
        "optimizer.set_bounds(new_bounds={\"x\": (-2, 3)})\n",
        "\n",
        "optimizer.maximize(\n",
        "    init_points=0,\n",
        "    n_iter=5,\n",
        ")"
      ],
      "execution_count": 8,
      "outputs": [
        {
          "output_type": "stream",
          "text": [
            "|   iter    |  target   |     x     |     y     |\n",
            "-------------------------------------------------\n",
            "| \u001b[0m 6       \u001b[0m | \u001b[0m-5.145   \u001b[0m | \u001b[0m 2.115   \u001b[0m | \u001b[0m-0.2924  \u001b[0m |\n",
            "| \u001b[0m 7       \u001b[0m | \u001b[0m-5.379   \u001b[0m | \u001b[0m 2.337   \u001b[0m | \u001b[0m 0.04124 \u001b[0m |\n",
            "| \u001b[95m 8       \u001b[0m | \u001b[95m-3.581   \u001b[0m | \u001b[95m 1.874   \u001b[0m | \u001b[95m-0.03428 \u001b[0m |\n",
            "| \u001b[95m 9       \u001b[0m | \u001b[95m-2.624   \u001b[0m | \u001b[95m 1.702   \u001b[0m | \u001b[95m 0.1472  \u001b[0m |\n",
            "| \u001b[95m 10      \u001b[0m | \u001b[95m-1.762   \u001b[0m | \u001b[95m 1.442   \u001b[0m | \u001b[95m 0.1735  \u001b[0m |\n",
            "=================================================\n"
          ],
          "name": "stdout"
        }
      ]
    },
    {
      "cell_type": "markdown",
      "metadata": {
        "id": "usoGntcS6ye0",
        "colab_type": "text"
      },
      "source": [
        "Guiding the optimization"
      ]
    },
    {
      "cell_type": "code",
      "metadata": {
        "id": "43Osh3ig6xyk",
        "colab_type": "code",
        "colab": {
          "base_uri": "https://localhost:8080/",
          "height": 102
        },
        "outputId": "a287dcb8-9e10-4419-baef-c28d919bd10c"
      },
      "source": [
        "optimizer.probe(\n",
        "    params={\"x\": 0.5, \"y\": 0.7},\n",
        "    lazy=True,\n",
        ")\n",
        "\n",
        "optimizer.probe(\n",
        "    params=[-0.3, 0.1],\n",
        "    lazy=True,\n",
        ")\n",
        "\n",
        "# Will probe only the two points specified above\n",
        "optimizer.maximize(init_points=0, n_iter=0)"
      ],
      "execution_count": 9,
      "outputs": [
        {
          "output_type": "stream",
          "text": [
            "|   iter    |  target   |     x     |     y     |\n",
            "-------------------------------------------------\n",
            "| \u001b[95m 11      \u001b[0m | \u001b[95m 0.66    \u001b[0m | \u001b[95m 0.5     \u001b[0m | \u001b[95m 0.7     \u001b[0m |\n",
            "| \u001b[0m 12      \u001b[0m | \u001b[0m 0.1     \u001b[0m | \u001b[0m-0.3     \u001b[0m | \u001b[0m 0.1     \u001b[0m |\n",
            "=================================================\n"
          ],
          "name": "stdout"
        }
      ]
    },
    {
      "cell_type": "markdown",
      "metadata": {
        "id": "hxXuz4bN6480",
        "colab_type": "text"
      },
      "source": [
        "Saving the optiization"
      ]
    },
    {
      "cell_type": "code",
      "metadata": {
        "id": "PlBevW9H630U",
        "colab_type": "code",
        "colab": {}
      },
      "source": [
        "from bayes_opt import JSONLogger\n",
        "from bayes_opt import Events"
      ],
      "execution_count": 0,
      "outputs": []
    },
    {
      "cell_type": "code",
      "metadata": {
        "id": "O86Fgmg469Yc",
        "colab_type": "code",
        "colab": {
          "base_uri": "https://localhost:8080/",
          "height": 153
        },
        "outputId": "57eaff34-52e4-4237-9b50-099c3c63cc42"
      },
      "source": [
        "logger = JSONLogger(path=\"./logs.json\")\n",
        "optimizer.subscribe(Events.OPTMIZATION_STEP, logger)\n",
        "\n",
        "# Results will be saved in ./logs.json\n",
        "optimizer.maximize(\n",
        "    init_points=2,\n",
        "    n_iter=3,\n",
        ")"
      ],
      "execution_count": 15,
      "outputs": [
        {
          "output_type": "stream",
          "text": [
            "|   iter    |  target   |     x     |     y     |\n",
            "-------------------------------------------------\n",
            "| \u001b[0m 13      \u001b[0m | \u001b[0m-12.48   \u001b[0m | \u001b[0m-1.266   \u001b[0m | \u001b[0m-2.446   \u001b[0m |\n",
            "| \u001b[0m 14      \u001b[0m | \u001b[0m-3.854   \u001b[0m | \u001b[0m-1.069   \u001b[0m | \u001b[0m-0.9266  \u001b[0m |\n",
            "| \u001b[0m 15      \u001b[0m | \u001b[0m 0.3932  \u001b[0m | \u001b[0m 0.3099  \u001b[0m | \u001b[0m 0.2853  \u001b[0m |\n",
            "| \u001b[95m 16      \u001b[0m | \u001b[95m 0.8768  \u001b[0m | \u001b[95m 0.02197 \u001b[0m | \u001b[95m 0.6497  \u001b[0m |\n",
            "| \u001b[95m 17      \u001b[0m | \u001b[95m 0.9446  \u001b[0m | \u001b[95m 0.198   \u001b[0m | \u001b[95m 0.8727  \u001b[0m |\n",
            "=================================================\n"
          ],
          "name": "stdout"
        }
      ]
    },
    {
      "cell_type": "markdown",
      "metadata": {
        "id": "3ScZpYqw7PFG",
        "colab_type": "text"
      },
      "source": [
        "Loading progress"
      ]
    },
    {
      "cell_type": "code",
      "metadata": {
        "id": "w80IKyq_7QpG",
        "colab_type": "code",
        "colab": {}
      },
      "source": [
        "from bayes_opt.util import load_logs\n",
        "\n",
        "\n",
        "new_optimizer = BayesianOptimization(\n",
        "    f=black_box_function,\n",
        "    pbounds={\"x\": (-2, 2), \"y\": (-2, 2)},\n",
        "    verbose=2,\n",
        "    random_state=7,\n",
        ")\n",
        "\n",
        "# New optimizer is loaded with previously seen points\n",
        "load_logs(new_optimizer, logs=[\"./logs.json\"]);"
      ],
      "execution_count": 0,
      "outputs": []
    }
  ]
}