{
  "nbformat": 4,
  "nbformat_minor": 0,
  "metadata": {
    "colab": {
      "name": "RTM ML GEE MultiTask ANN  Montesinho test.ipynb",
      "provenance": [],
      "collapsed_sections": [],
      "toc_visible": true,
      "machine_shape": "hm",
      "authorship_tag": "ABX9TyOsCdb9cDPkWlMbU6QIBuKJ",
      "include_colab_link": true
    },
    "kernelspec": {
      "name": "python3",
      "display_name": "Python 3"
    },
    "accelerator": "TPU"
  },
  "cells": [
    {
      "cell_type": "markdown",
      "metadata": {
        "id": "view-in-github",
        "colab_type": "text"
      },
      "source": [
        "<a href=\"https://colab.research.google.com/github/nunocesarsa/GoogleColab_public/blob/master/RTM_ML_GEE_MultiTask_ANN_Montesinho_test.ipynb\" target=\"_parent\"><img src=\"https://colab.research.google.com/assets/colab-badge.svg\" alt=\"Open In Colab\"/></a>"
      ]
    },
    {
      "cell_type": "markdown",
      "metadata": {
        "id": "SZre3LerLiK6",
        "colab_type": "text"
      },
      "source": [
        "#First lets download the image from google earth engine, cropped to an AOI"
      ]
    },
    {
      "cell_type": "markdown",
      "metadata": {
        "id": "o6ZddpqFXQDO",
        "colab_type": "text"
      },
      "source": [
        "https://github.com/fitoprincipe/geetools-code-editor/wiki\n",
        "\n",
        "https://github.com/fitoprincipe/geetools-code-editor"
      ]
    },
    {
      "cell_type": "code",
      "metadata": {
        "id": "v3CcY5VlLbFq",
        "colab_type": "code",
        "colab": {}
      },
      "source": [
        "import ee"
      ],
      "execution_count": 0,
      "outputs": []
    },
    {
      "cell_type": "code",
      "metadata": {
        "id": "a35L919fLt9D",
        "colab_type": "code",
        "outputId": "2a5d39df-74fa-4c31-8ecc-1da1a31ee903",
        "colab": {
          "base_uri": "https://localhost:8080/",
          "height": 173
        }
      },
      "source": [
        "#then we need to authenticate\n",
        "\n",
        "# Trigger the authentication flow.\n",
        "ee.Authenticate()\n",
        "\n",
        "# Initialize the library.\n",
        "ee.Initialize()"
      ],
      "execution_count": 2,
      "outputs": [
        {
          "output_type": "stream",
          "text": [
            "To authorize access needed by Earth Engine, open the following URL in a web browser and follow the instructions. If the web browser does not start automatically, please manually browse the URL below.\n",
            "\n",
            "    https://accounts.google.com/o/oauth2/auth?client_id=517222506229-vsmmajv00ul0bs7p89v5m89qs8eb9359.apps.googleusercontent.com&scope=https%3A%2F%2Fwww.googleapis.com%2Fauth%2Fearthengine+https%3A%2F%2Fwww.googleapis.com%2Fauth%2Fdevstorage.full_control&redirect_uri=urn%3Aietf%3Awg%3Aoauth%3A2.0%3Aoob&response_type=code\n",
            "\n",
            "The authorization workflow will generate a code, which you should paste in the box below. \n",
            "Enter verification code: 4/wgF04GfEODgcBC-O8NJ9dCf-4f98sTWFWPIzxdQzqJPaFLfXRb1lyGI\n",
            "\n",
            "Successfully saved authorization token.\n"
          ],
          "name": "stdout"
        }
      ]
    },
    {
      "cell_type": "code",
      "metadata": {
        "id": "8h3xIsWTLxAY",
        "colab_type": "code",
        "outputId": "878ae691-1dbc-40a0-9dd6-c84f3890a752",
        "colab": {
          "base_uri": "https://localhost:8080/",
          "height": 122
        }
      },
      "source": [
        "#then we need to authenticate in google drive also so we can upload our download there\n",
        "\n",
        "from google.colab import drive\n",
        "drive.mount('/content/drive')\n",
        "#Perhaps this step can be skipped by saving directly to the workspace"
      ],
      "execution_count": 3,
      "outputs": [
        {
          "output_type": "stream",
          "text": [
            "Go to this URL in a browser: https://accounts.google.com/o/oauth2/auth?client_id=947318989803-6bn6qk8qdgf4n4g3pfee6491hc0brc4i.apps.googleusercontent.com&redirect_uri=urn%3aietf%3awg%3aoauth%3a2.0%3aoob&response_type=code&scope=email%20https%3a%2f%2fwww.googleapis.com%2fauth%2fdocs.test%20https%3a%2f%2fwww.googleapis.com%2fauth%2fdrive%20https%3a%2f%2fwww.googleapis.com%2fauth%2fdrive.photos.readonly%20https%3a%2f%2fwww.googleapis.com%2fauth%2fpeopleapi.readonly\n",
            "\n",
            "Enter your authorization code:\n",
            "··········\n",
            "Mounted at /content/drive\n"
          ],
          "name": "stdout"
        }
      ]
    },
    {
      "cell_type": "markdown",
      "metadata": {
        "id": "nxgE03QlMNV4",
        "colab_type": "text"
      },
      "source": [
        "Let's do a quick search on the data collection of Sentinel\n",
        "\n",
        "check this for info how to:\n",
        "\n",
        "https://samapriya.github.io/gee-py/projects/collection_meta/\n",
        "https://stackoverflow.com/questions/57841300/export-google-earth-engine-rgb-sentinel-2-imagery-to-google-drive-using-python-a\n",
        "\n"
      ]
    },
    {
      "cell_type": "code",
      "metadata": {
        "id": "-nV8OfyiepiC",
        "colab_type": "code",
        "outputId": "68b45265-d25a-4233-b9bd-f31d73097a4c",
        "colab": {
          "base_uri": "https://localhost:8080/",
          "height": 51
        }
      },
      "source": [
        "#This creates a polygon area which perhaps we can use as a filter\n",
        "#this next step actually clips the image \n",
        "#this is a polygon area created by me, it surrounds the park, perhaps there are better ways of designing this also\n",
        "poly_area_coord = [[[5.254370219641714,52.41249485115749],\n",
        "                    [5.423285014563589,52.41249485115749],\n",
        "                    [5.423285014563589,52.49910845916859],\n",
        "                    [5.254370219641714,52.49910845916859],\n",
        "                    [5.254370219641714,52.41249485115749]]]\n",
        "\n",
        "small_poly_area_coord =  [[[5.326998298371450,52.418838468757556],\n",
        "                           [5.363819663727895,52.418838468757556],\n",
        "                           [5.363819663727895,52.427631857186270],\n",
        "                           [5.326998298371450,52.427631857186270],\n",
        "                           [5.326998298371450,52.418838468757556]]]\n",
        "\n",
        "#points\n",
        "montesinho = [[[-6.57719007,41.79208948],\n",
        "                [-6.57694957,41.79208441],\n",
        "                [-6.57719685,41.79190950],\n",
        "                [-6.57695635,41.79190443],\n",
        "                [-6.57671586,41.79189935],\n",
        "                [-6.57696314,41.79171937],\n",
        "                [-6.57672942,41.79153939]]]\n",
        "\n",
        "#polygon around ptds\n",
        "montesinho_poly = [[[-6.578186759257150130,41.79242347910090416], \n",
        "                    [-6.575198266868249600,41.79242347910090416], \n",
        "                    [-6.575198266868249600,41.79039404444139194], \n",
        "                    [-6.578186759257150130,41.79039404444139194],\n",
        "                    [-6.578186759257150130,41.79242347910090416]]]\n",
        "\n",
        "montesinho_poly_GEE =[[[-6.581378690132624,41.787597520709510],\n",
        "                       [-6.570349446663386,41.787597520709510],\n",
        "                       [-6.570349446663386,41.793452987972174],\n",
        "                       [-6.581378690132624,41.793452987972174],\n",
        "                       [-6.581378690132624,41.787597520709510]]]\n",
        "\n",
        "montesinho_poly_verysmall = [[[-6.5773094211360785,41.79146133161573],[-6.576665690972504,41.79146133161573],\n",
        "                              [-6.576665690972504,41.792257242638115],[-6.5773094211360785,41.792257242638115],\n",
        "                              [-6.5773094211360785,41.79146133161573]]]\n",
        "\n",
        "\n",
        "monte_even_smaller=[[[-6.5773425755776902,41.79217166803000083], [-6.57659526795104821,41.79219577472763802], \n",
        "                [-6.5765149122922697,41.7914323959692382], [-6.57727829105066775,41.7914323959692382], \n",
        "                [-6.5773425755776902,41.79217166803000083]]]\n",
        "\n",
        "\n",
        "poly_area = ee.Geometry.Polygon(poly_area_coord)\n",
        "\n",
        "poly_area_small = ee.Geometry.Polygon(small_poly_area_coord)\n",
        "\n",
        "poly_montesinho = ee.Geometry.Polygon(monte_even_smaller)\n",
        "\n",
        "\n",
        "# it is quite COMPLEX to use the s2 filters in python\n",
        "s2_collection = (ee.ImageCollection(\"COPERNICUS/S2_SR\") #selects the S2 Surface reflectance product in GEE\n",
        "                 .select(['B2','B3','B4',\n",
        "                          'B5','B6','B7',\n",
        "                          'B8A','B11','B12']) #selects the bands of interest\n",
        "                 .filter(ee.Filter.date('2019-01-01','2019-12-31')) #filtes on the time\n",
        "                 .filterBounds(poly_montesinho) #filters on the Aoi\n",
        "                 .filter(ee.Filter.lt('CLOUDY_PIXEL_PERCENTAGE',10))\n",
        "                 .filter(ee.Filter.lt('MGRS_TILE','29TQG')))\n",
        "\n",
        "#tile\n",
        "#'29TQG'\n",
        "\n",
        "\n",
        "\n",
        "count = s2_collection.size()\n",
        "print('Nr of images in collection: ', str(count.getInfo())+'\\n')\n",
        "\n",
        "#import pprint\n",
        "#pp = pprint.PrettyPrinter(depth=4)\n",
        "#pp.pprint('Collection: '+str(s2_collection.getInfo())+'\\n')\n",
        "#pp.pprint('Collection: '+str(s2_collection.name())+ '\\n')\n",
        "\n",
        "#couldn't find an easy way to print the image date... yet.. which is kinda annoying\n",
        "\n",
        "#bb= s2_collection.iterate()\n",
        "#print(bb)\n",
        "#print(s2_collection.getInfo())\n",
        "#s2_collection = ee.ImageCollection(\"COPERNICUS/S2_SR/\").filter(ee.Filter.lt('CLOUDY_PIXEL_PERCENTAGE',10),\n",
        "#                                                               ee.filter('time','2019-07-15','2019-07-20'),\n",
        "#                                                               ee.filterBounds(poly_area))\n",
        "#s2_collection.filter(ee.filter(\"time\",'2019-07-15','2019-07-20'))\n",
        "#s2_collection = ee.collection.filter(ee.Filter())\n",
        "#ee.ImageCollection(ee.Filter)"
      ],
      "execution_count": 60,
      "outputs": [
        {
          "output_type": "stream",
          "text": [
            "Nr of images in collection:  20\n",
            "\n"
          ],
          "name": "stdout"
        }
      ]
    },
    {
      "cell_type": "code",
      "metadata": {
        "id": "cGRyaVbBI9dv",
        "colab_type": "code",
        "colab": {}
      },
      "source": [
        "#this loads a pre-selected image, i reckon it can be a loop - this data is TOA\n",
        "s2_img = ee.Image(\"COPERNICUS/S2/20190717T104029_20190717T104353_T31UFU\").select(['B2','B3','B4',\n",
        "                                                                                  'B5','B6','B7',\n",
        "                                                                                  'B8A','B11','B12'])\n",
        "\n",
        "#this on is suppose to be the surface reflectance\n",
        "s2_img = ee.Image(\"COPERNICUS/S2_SR/20190717T104029_20190717T104353_T31UFU\").select(['B2','B3','B4',\n",
        "                                                                                  'B5','B6','B7',\n",
        "                                                                                  'B8A','B11','B12'])\n",
        "\n",
        "\n",
        "#this selects an miage from the above list, change here to get the other data on the list\n",
        "mid_step = s2_collection.toList(count)\n",
        "s2_img = ee.Image(mid_step.get(0))\n",
        "\n",
        "#s2_img.getInfo()\n",
        "\n"
      ],
      "execution_count": 0,
      "outputs": []
    },
    {
      "cell_type": "code",
      "metadata": {
        "id": "7YLNY2-hNhAs",
        "colab_type": "code",
        "colab": {
          "base_uri": "https://localhost:8080/",
          "height": 357
        },
        "outputId": "7031ff28-b76b-44d3-97fb-d5864da8c1e0"
      },
      "source": [
        "\n",
        "for i in range(20):\n",
        "  #print(i)\n",
        "  s2_img = ee.Image(mid_step.get(i))\n",
        "  s2_img_meta = s2_img.getInfo()\n",
        "  print('Granule ID: ',s2_img_meta.get('properties',{}).get('MGRS_TILE'))\n",
        "  \n",
        "\n"
      ],
      "execution_count": 59,
      "outputs": [
        {
          "output_type": "stream",
          "text": [
            "Granule ID:  29TPG\n",
            "Granule ID:  29TPG\n",
            "Granule ID:  29TPG\n",
            "Granule ID:  29TPG\n",
            "Granule ID:  29TPG\n",
            "Granule ID:  29TPG\n",
            "Granule ID:  29TPG\n",
            "Granule ID:  29TPG\n",
            "Granule ID:  29TPG\n",
            "Granule ID:  29TPG\n",
            "Granule ID:  29TPG\n",
            "Granule ID:  29TPG\n",
            "Granule ID:  29TPG\n",
            "Granule ID:  29TPG\n",
            "Granule ID:  29TPG\n",
            "Granule ID:  29TPG\n",
            "Granule ID:  29TPG\n",
            "Granule ID:  29TPG\n",
            "Granule ID:  29TPG\n",
            "Granule ID:  29TPG\n"
          ],
          "name": "stdout"
        }
      ]
    },
    {
      "cell_type": "code",
      "metadata": {
        "id": "A-o9LxuQNrSo",
        "colab_type": "code",
        "colab": {
          "base_uri": "https://localhost:8080/",
          "height": 34
        },
        "outputId": "8376b49a-8280-40e8-a118-87fd66482337"
      },
      "source": [
        "s2_img_meta = s2_img.getInfo()\n",
        "print('Granule ID: ',s2_img_meta.get('properties',{}).get('GRANULE_ID'))"
      ],
      "execution_count": 23,
      "outputs": [
        {
          "output_type": "stream",
          "text": [
            "Granule ID:  L2A_T30TTM_A012075_20190629T112256\n"
          ],
          "name": "stdout"
        }
      ]
    },
    {
      "cell_type": "markdown",
      "metadata": {
        "id": "6fDn-TU8cdu7",
        "colab_type": "text"
      },
      "source": [
        "#In the next part, its possible to explore the selected image"
      ]
    },
    {
      "cell_type": "code",
      "metadata": {
        "id": "7S9PTFrZci-7",
        "colab_type": "code",
        "outputId": "d7cb79dd-89d3-4b32-ec02-bd15c8e92255",
        "colab": {
          "base_uri": "https://localhost:8080/",
          "height": 771
        }
      },
      "source": [
        "#first step now is to then generate a s2 image cropped to our aoi, and for information i will also plot it on the map\n",
        "\n",
        "# Import the Folium library. This library is to assist in visualizations\n",
        "import folium\n",
        "from folium import Marker\n",
        "\n",
        "# Import the Image function from the IPython.display module. \n",
        "from IPython.display import Image\n",
        "\n",
        "\n",
        "#the next code snippet i stole from someone\n",
        "# Define a method for displaying Earth Engine image tiles to folium map.\n",
        "def add_ee_layer(self, ee_image_object, vis_params, name):\n",
        "  \n",
        "  map_id_dict = ee.Image(ee_image_object).getMapId(vis_params)\n",
        "  folium.raster_layers.TileLayer(\n",
        "    tiles = map_id_dict['tile_fetcher'].url_format,\n",
        "    attr = 'Map Data &copy; <a href=\"https://earthengine.google.com/\">Google Earth Engine</a>',\n",
        "    name = name,\n",
        "    overlay = True,\n",
        "    control = True\n",
        "  ).add_to(self)\n",
        "\n",
        "# Add EE drawing method to folium.\n",
        "folium.Map.add_ee_layer = add_ee_layer\n",
        "\n",
        "\n",
        "# Set visualization parameters.\n",
        "visParams = {\"bands\": ['B8A', 'B4', 'B3'],\"gain\": '0.1, 0.1, 0.1',\"scale\":20}\n",
        "\n",
        "# Create a folium map object.\n",
        "#my_map = folium.Map(location=[52.4500, 5.35], zoom_start=12) #this had to be tried one by one... feels daft\n",
        "my_map = folium.Map(location=[41.791, -6.577], zoom_start=15) #this had to be tried one by one... feels daft\n",
        "\n",
        "\n",
        "# Add the elevation model to the map object.\n",
        "my_map.add_ee_layer(s2_img, visParams, 'DEM')\n",
        "\n",
        "# Add a layer control panel to the map.\n",
        "my_map.add_child(folium.LayerControl())\n",
        "\n",
        "\n",
        "\n",
        "\n",
        "# Display the map.\n",
        "display(my_map)"
      ],
      "execution_count": 27,
      "outputs": [
        {
          "output_type": "display_data",
          "data": {
            "text/html": [
              "<div style=\"width:100%;\"><div style=\"position:relative;width:100%;height:0;padding-bottom:60%;\"><iframe src=\"data:text/html;charset=utf-8;base64,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\" style=\"position:absolute;width:100%;height:100%;left:0;top:0;border:none !important;\" allowfullscreen webkitallowfullscreen mozallowfullscreen></iframe></div></div>"
            ],
            "text/plain": [
              "<folium.folium.Map at 0x7f29c3a0f2b0>"
            ]
          },
          "metadata": {
            "tags": []
          }
        }
      ]
    },
    {
      "cell_type": "markdown",
      "metadata": {
        "id": "qaRZD4BZI59S",
        "colab_type": "text"
      },
      "source": [
        "#Lets try to fetch the metadata of the image so we can use the info to run the prosail later on\n"
      ]
    },
    {
      "cell_type": "code",
      "metadata": {
        "id": "NlAj0pqUOn-m",
        "colab_type": "code",
        "colab": {
          "base_uri": "https://localhost:8080/",
          "height": 1000
        },
        "outputId": "84dc52e0-b3e9-4dbc-da88-48e4cb123319"
      },
      "source": [
        "#s2_img.getInfo() #this gives me the info\n",
        "\n",
        "s2_img_meta = s2_img.getInfo()\n",
        "#type(s2_img_meta)\n",
        "s2_img_meta #uncommment me to see the data properties\n"
      ],
      "execution_count": 28,
      "outputs": [
        {
          "output_type": "execute_result",
          "data": {
            "text/plain": [
              "{'bands': [{'crs': 'EPSG:32629',\n",
              "   'crs_transform': [10, 0, 699960, 0, -10, 4700040],\n",
              "   'data_type': {'max': 65535,\n",
              "    'min': 0,\n",
              "    'precision': 'int',\n",
              "    'type': 'PixelType'},\n",
              "   'dimensions': [10980, 10980],\n",
              "   'id': 'B2'},\n",
              "  {'crs': 'EPSG:32629',\n",
              "   'crs_transform': [10, 0, 699960, 0, -10, 4700040],\n",
              "   'data_type': {'max': 65535,\n",
              "    'min': 0,\n",
              "    'precision': 'int',\n",
              "    'type': 'PixelType'},\n",
              "   'dimensions': [10980, 10980],\n",
              "   'id': 'B3'},\n",
              "  {'crs': 'EPSG:32629',\n",
              "   'crs_transform': [10, 0, 699960, 0, -10, 4700040],\n",
              "   'data_type': {'max': 65535,\n",
              "    'min': 0,\n",
              "    'precision': 'int',\n",
              "    'type': 'PixelType'},\n",
              "   'dimensions': [10980, 10980],\n",
              "   'id': 'B4'},\n",
              "  {'crs': 'EPSG:32629',\n",
              "   'crs_transform': [20, 0, 699960, 0, -20, 4700040],\n",
              "   'data_type': {'max': 65535,\n",
              "    'min': 0,\n",
              "    'precision': 'int',\n",
              "    'type': 'PixelType'},\n",
              "   'dimensions': [5490, 5490],\n",
              "   'id': 'B5'},\n",
              "  {'crs': 'EPSG:32629',\n",
              "   'crs_transform': [20, 0, 699960, 0, -20, 4700040],\n",
              "   'data_type': {'max': 65535,\n",
              "    'min': 0,\n",
              "    'precision': 'int',\n",
              "    'type': 'PixelType'},\n",
              "   'dimensions': [5490, 5490],\n",
              "   'id': 'B6'},\n",
              "  {'crs': 'EPSG:32629',\n",
              "   'crs_transform': [20, 0, 699960, 0, -20, 4700040],\n",
              "   'data_type': {'max': 65535,\n",
              "    'min': 0,\n",
              "    'precision': 'int',\n",
              "    'type': 'PixelType'},\n",
              "   'dimensions': [5490, 5490],\n",
              "   'id': 'B7'},\n",
              "  {'crs': 'EPSG:32629',\n",
              "   'crs_transform': [20, 0, 699960, 0, -20, 4700040],\n",
              "   'data_type': {'max': 65535,\n",
              "    'min': 0,\n",
              "    'precision': 'int',\n",
              "    'type': 'PixelType'},\n",
              "   'dimensions': [5490, 5490],\n",
              "   'id': 'B8A'},\n",
              "  {'crs': 'EPSG:32629',\n",
              "   'crs_transform': [20, 0, 699960, 0, -20, 4700040],\n",
              "   'data_type': {'max': 65535,\n",
              "    'min': 0,\n",
              "    'precision': 'int',\n",
              "    'type': 'PixelType'},\n",
              "   'dimensions': [5490, 5490],\n",
              "   'id': 'B11'},\n",
              "  {'crs': 'EPSG:32629',\n",
              "   'crs_transform': [20, 0, 699960, 0, -20, 4700040],\n",
              "   'data_type': {'max': 65535,\n",
              "    'min': 0,\n",
              "    'precision': 'int',\n",
              "    'type': 'PixelType'},\n",
              "   'dimensions': [5490, 5490],\n",
              "   'id': 'B12'}],\n",
              " 'id': 'COPERNICUS/S2_SR/20190629T112119_20190629T112256_T29TQG',\n",
              " 'properties': {'AOT_RETRIEVAL_ACCURACY': 0,\n",
              "  'CLOUDY_PIXEL_PERCENTAGE': 5.991784,\n",
              "  'CLOUD_COVERAGE_ASSESSMENT': 5.991784,\n",
              "  'CLOUD_SHADOW_PERCENTAGE': 0.001413,\n",
              "  'DARK_FEATURES_PERCENTAGE': 0.316395,\n",
              "  'DATASTRIP_ID': 'S2B_OPER_MSI_L2A_DS_EPAE_20190629T132135_S20190629T112256_N02.12',\n",
              "  'DATATAKE_IDENTIFIER': 'GS2B_20190629T112119_012075_N02.12',\n",
              "  'DATATAKE_TYPE': 'INS-NOBS',\n",
              "  'DEGRADED_MSI_DATA_PERCENTAGE': 0,\n",
              "  'FORMAT_CORRECTNESS': 'PASSED',\n",
              "  'GENERAL_QUALITY': 'PASSED',\n",
              "  'GENERATION_TIME': 1561814495000,\n",
              "  'GEOMETRIC_QUALITY': 'PASSED',\n",
              "  'GRANULE_ID': 'L2A_T29TQG_A012075_20190629T112256',\n",
              "  'HIGH_PROBA_CLOUDS_PERCENTAGE': 0.003346,\n",
              "  'MEAN_INCIDENCE_AZIMUTH_ANGLE_B1': 284.425188447,\n",
              "  'MEAN_INCIDENCE_AZIMUTH_ANGLE_B10': 284.125603643,\n",
              "  'MEAN_INCIDENCE_AZIMUTH_ANGLE_B11': 284.226513492,\n",
              "  'MEAN_INCIDENCE_AZIMUTH_ANGLE_B12': 284.345680333,\n",
              "  'MEAN_INCIDENCE_AZIMUTH_ANGLE_B2': 284.184440418,\n",
              "  'MEAN_INCIDENCE_AZIMUTH_ANGLE_B3': 284.211925734,\n",
              "  'MEAN_INCIDENCE_AZIMUTH_ANGLE_B4': 284.251604547,\n",
              "  'MEAN_INCIDENCE_AZIMUTH_ANGLE_B5': 284.267731436,\n",
              "  'MEAN_INCIDENCE_AZIMUTH_ANGLE_B6': 284.318896921,\n",
              "  'MEAN_INCIDENCE_AZIMUTH_ANGLE_B7': 284.360231206,\n",
              "  'MEAN_INCIDENCE_AZIMUTH_ANGLE_B8': 284.195028818,\n",
              "  'MEAN_INCIDENCE_AZIMUTH_ANGLE_B8A': 284.420697217,\n",
              "  'MEAN_INCIDENCE_AZIMUTH_ANGLE_B9': 284.469909098,\n",
              "  'MEAN_INCIDENCE_ZENITH_ANGLE_B1': 7.90498360861,\n",
              "  'MEAN_INCIDENCE_ZENITH_ANGLE_B10': 7.73549065491,\n",
              "  'MEAN_INCIDENCE_ZENITH_ANGLE_B11': 7.79338313447,\n",
              "  'MEAN_INCIDENCE_ZENITH_ANGLE_B12': 7.88232202036,\n",
              "  'MEAN_INCIDENCE_ZENITH_ANGLE_B2': 7.68185421085,\n",
              "  'MEAN_INCIDENCE_ZENITH_ANGLE_B3': 7.71469436674,\n",
              "  'MEAN_INCIDENCE_ZENITH_ANGLE_B4': 7.75114730724,\n",
              "  'MEAN_INCIDENCE_ZENITH_ANGLE_B5': 7.77492088341,\n",
              "  'MEAN_INCIDENCE_ZENITH_ANGLE_B6': 7.80947471594,\n",
              "  'MEAN_INCIDENCE_ZENITH_ANGLE_B7': 7.83469503699,\n",
              "  'MEAN_INCIDENCE_ZENITH_ANGLE_B8': 7.69890963804,\n",
              "  'MEAN_INCIDENCE_ZENITH_ANGLE_B8A': 7.87450408327,\n",
              "  'MEAN_INCIDENCE_ZENITH_ANGLE_B9': 7.94719787771,\n",
              "  'MEAN_SOLAR_AZIMUTH_ANGLE': 142.954151727,\n",
              "  'MEAN_SOLAR_ZENITH_ANGLE': 22.1856219735,\n",
              "  'MEDIUM_PROBA_CLOUDS_PERCENTAGE': 1.421195,\n",
              "  'MGRS_TILE': '29TQG',\n",
              "  'NODATA_PIXEL_PERCENTAGE': 6.996267,\n",
              "  'NOT_VEGETATED_PERCENTAGE': 57.717896,\n",
              "  'PROCESSING_BASELINE': '02.12',\n",
              "  'PRODUCT_ID': 'S2B_MSIL2A_20190629T112119_N0212_R037_T29TQG_20190629T132135',\n",
              "  'RADIATIVE_TRANSFER_ACCURACY': 0,\n",
              "  'RADIOMETRIC_QUALITY': 'PASSED',\n",
              "  'REFLECTANCE_CONVERSION_CORRECTION': 0.967783662362,\n",
              "  'SATURATED_DEFECTIVE_PIXEL_PERCENTAGE': 0,\n",
              "  'SENSING_ORBIT_DIRECTION': 'DESCENDING',\n",
              "  'SENSING_ORBIT_NUMBER': 37,\n",
              "  'SENSOR_QUALITY': 'PASSED',\n",
              "  'SNOW_ICE_PERCENTAGE': 8.6e-05,\n",
              "  'SOLAR_IRRADIANCE_B1': 1874.3,\n",
              "  'SOLAR_IRRADIANCE_B10': 365.41,\n",
              "  'SOLAR_IRRADIANCE_B11': 247.08,\n",
              "  'SOLAR_IRRADIANCE_B12': 87.75,\n",
              "  'SOLAR_IRRADIANCE_B2': 1959.77,\n",
              "  'SOLAR_IRRADIANCE_B3': 1824.93,\n",
              "  'SOLAR_IRRADIANCE_B4': 1512.79,\n",
              "  'SOLAR_IRRADIANCE_B5': 1425.78,\n",
              "  'SOLAR_IRRADIANCE_B6': 1291.13,\n",
              "  'SOLAR_IRRADIANCE_B7': 1175.57,\n",
              "  'SOLAR_IRRADIANCE_B8': 1041.28,\n",
              "  'SOLAR_IRRADIANCE_B8A': 953.93,\n",
              "  'SOLAR_IRRADIANCE_B9': 817.58,\n",
              "  'SPACECRAFT_NAME': 'Sentinel-2B',\n",
              "  'THIN_CIRRUS_PERCENTAGE': 4.567243,\n",
              "  'UNCLASSIFIED_PERCENTAGE': 0.184019,\n",
              "  'VEGETATION_PERCENTAGE': 35.267743,\n",
              "  'WATER_PERCENTAGE': 0.520666,\n",
              "  'WATER_VAPOUR_RETRIEVAL_ACCURACY': 0,\n",
              "  'system:asset_size': 1679476114,\n",
              "  'system:footprint': {'coordinates': [[-5.237070608563057, 42.39097473849082],\n",
              "    [-5.237090445695732, 42.39097817383947],\n",
              "    [-6.5692860452238095, 42.427001978298684],\n",
              "    [-6.56934362876098, 42.42696656576956],\n",
              "    [-6.569410660299081, 42.4269349425024],\n",
              "    [-6.588265039913142, 41.93299633473694],\n",
              "    [-6.606652561457056, 41.43902871779476],\n",
              "    [-6.606605375643578, 41.43898625496519],\n",
              "    [-6.60656316107659, 41.43893681391635],\n",
              "    [-5.532293668699186, 41.41154882716025],\n",
              "    [-5.522239340048161, 41.411605308783216],\n",
              "    [-5.522197788220895, 41.4116332810982],\n",
              "    [-5.522143266503914, 41.41164229564126],\n",
              "    [-5.522128775424699, 41.41166203713598],\n",
              "    [-5.503762340726625, 41.446230439987005],\n",
              "    [-5.395634140398158, 41.731419692509704],\n",
              "    [-5.286461842160683, 42.016455073185995],\n",
              "    [-5.252721219129884, 42.13422722242081],\n",
              "    [-5.250655398730018, 42.16100049651709],\n",
              "    [-5.236984329066139, 42.39088467724353],\n",
              "    [-5.237031252986893, 42.39092766418984],\n",
              "    [-5.237070608563057, 42.39097473849082]],\n",
              "   'type': 'LinearRing'},\n",
              "  'system:index': '20190629T112119_20190629T112256_T29TQG',\n",
              "  'system:time_end': 1561807787107,\n",
              "  'system:time_start': 1561807787107},\n",
              " 'type': 'Image',\n",
              " 'version': 1572700185292686}"
            ]
          },
          "metadata": {
            "tags": []
          },
          "execution_count": 28
        }
      ]
    },
    {
      "cell_type": "markdown",
      "metadata": {
        "id": "f_PyH-r6bHFL",
        "colab_type": "text"
      },
      "source": [
        "The data is stored in a nested dictionary, to fetch it we should call it as the following example. \n",
        "\n",
        "I'm using it also to call some examples to help me keep track of what is going on"
      ]
    },
    {
      "cell_type": "code",
      "metadata": {
        "id": "7n7wnZqGbRnX",
        "colab_type": "code",
        "outputId": "51fe9173-0b0e-4770-a9e0-c2e553494ed0",
        "colab": {
          "base_uri": "https://localhost:8080/",
          "height": 136
        }
      },
      "source": [
        "#it is a nested dictionary, so we have to get into get\n",
        "print('System index: ',s2_img_meta.get('properties',{}).get('system:index'))\n",
        "print('Product ID: ',s2_img_meta.get('properties',{}).get('PRODUCT_ID'))\n",
        "print('Granule ID: ',s2_img_meta.get('properties',{}).get('GRANULE_ID'))\n",
        "print('Quick for GEE: ',s2_img_meta.get('id')) #use this text to call the image straight through GEE, its the easiest\n",
        "\n",
        "#print('Date of image:', ee.Date(s2_img.get('system:time_start')).format=()\"YYYY-MM-DD\"))\n",
        "print('Time in GEE format: ', s2_img_meta.get('properties',{}).get('system:time_start'))\n",
        "\n",
        "#dates is a bit more complicated - thank olga! \n",
        "date_t1 = ee.Date(s2_img_meta.get('properties',{}).get('system:time_start')).format(\"YYYY_MM_DD\").getInfo()\n",
        "date_t2 = ee.Date(s2_img_meta.get('properties',{}).get('system:time_start')).format(\"YYYY_MM_dd\").getInfo()\n",
        "print('Time in Annual calendar: YYYY - year; MM - month of year; DD day of year ', date_t1)\n",
        "print('Time in Annual calendar: YYYY - year; MM - month of year; DD day of month ', date_t2)\n"
      ],
      "execution_count": 29,
      "outputs": [
        {
          "output_type": "stream",
          "text": [
            "System index:  20190629T112119_20190629T112256_T29TQG\n",
            "Product ID:  S2B_MSIL2A_20190629T112119_N0212_R037_T29TQG_20190629T132135\n",
            "Granule ID:  L2A_T29TQG_A012075_20190629T112256\n",
            "Quick for GEE:  COPERNICUS/S2_SR/20190629T112119_20190629T112256_T29TQG\n",
            "Time in GEE format:  1561807787107\n",
            "Time in Annual calendar: YYYY - year; MM - month of year; DD day of year  2019_06_180\n",
            "Time in Annual calendar: YYYY - year; MM - month of year; DD day of month  2019_06_29\n"
          ],
          "name": "stdout"
        }
      ]
    },
    {
      "cell_type": "markdown",
      "metadata": {
        "id": "9idiWM6xbWNk",
        "colab_type": "text"
      },
      "source": [
        "On the other hand, we have slightly different mean incidence angles per band, to facilitate i will use a mean of means for each band"
      ]
    },
    {
      "cell_type": "code",
      "metadata": {
        "id": "k_V7m2VYbVED",
        "colab_type": "code",
        "outputId": "2197695b-c5af-4468-87bc-d55d0e8ed576",
        "colab": {
          "base_uri": "https://localhost:8080/",
          "height": 170
        }
      },
      "source": [
        "#each band has its own \"mean angle\", fors this run i will cheat and use an approximate\n",
        "#we used the following bands:\n",
        "#'B2','B3','B4','B5','B6','B7','B8A','B11','B12'\n",
        "\n",
        "#e.g.\n",
        "print(s2_img_meta.get('properties',{}).get('MEAN_INCIDENCE_AZIMUTH_ANGLE_B2'))\n",
        "\n",
        "#the easiest way is perhaps to just loop\n",
        "band_list = ['B2','B3','B4','B5','B6','B7','B8A','B11','B12']\n",
        "inc_azi = 0 #starting value\n",
        "inc_zen = 0\n",
        "for i in band_list:\n",
        "  #print('MEAN_INCIDENCE_AZIMUTH_ANGLE_'+i)\n",
        "  #print(s2_img_meta.get('properties',{}).get('MEAN_INCIDENCE_AZIMUTH_ANGLE_'+i))\n",
        "  inc_azi = inc_azi + s2_img_meta.get('properties',{}).get('MEAN_INCIDENCE_AZIMUTH_ANGLE_'+i)/len(band_list)\n",
        "  inc_zen = inc_zen + s2_img_meta.get('properties',{}).get('MEAN_INCIDENCE_ZENITH_ANGLE_'+i)/len(band_list)\n",
        "\n",
        "#relative to the sensor positions\n",
        "print(\"mean incidence azimuth of selected bands:\", inc_azi)\n",
        "print(\"mean incidence zenith of selected bands:\", inc_zen)\n",
        "\n",
        "#relative to the solar position\n",
        "sol_azi = s2_img_meta.get('properties',{}).get('MEAN_SOLAR_AZIMUTH_ANGLE')\n",
        "sol_zen = s2_img_meta.get('properties',{}).get('MEAN_SOLAR_ZENITH_ANGLE')\n",
        "\n",
        "print(\"mean solar azimuth:\", sol_azi)\n",
        "print(\"mean solar zenith:\", sol_zen)\n",
        "\n",
        "#inputs for prosail are then\n",
        "#sza, vza and raa are the solar zenith, sensor zenith and relative azimuth angles\n",
        "sza = sol_zen\n",
        "vza = inc_zen\n",
        "raa = inc_azi-sol_azi  #according to the details of prosail\n",
        "\n",
        "\n",
        "print(\"Prosail inputs:\")\n",
        "print(\"sza:\",sza)\n",
        "print(\"vza:\",vza)\n",
        "print(\"raa\",raa)\n"
      ],
      "execution_count": 30,
      "outputs": [
        {
          "output_type": "stream",
          "text": [
            "284.184440418\n",
            "mean incidence azimuth of selected bands: 284.2875245893333\n",
            "mean incidence zenith of selected bands: 7.790777306585555\n",
            "mean solar azimuth: 142.954151727\n",
            "mean solar zenith: 22.1856219735\n",
            "Prosail inputs:\n",
            "sza: 22.1856219735\n",
            "vza: 7.790777306585555\n",
            "raa 141.3333728623333\n"
          ],
          "name": "stdout"
        }
      ]
    },
    {
      "cell_type": "markdown",
      "metadata": {
        "id": "MKBcwYWYSA-j",
        "colab_type": "text"
      },
      "source": [
        "#Now we will clip the image before processing\n",
        "\n",
        "The polygon for clipping was defined earlier. "
      ]
    },
    {
      "cell_type": "code",
      "metadata": {
        "id": "uCHxW5bOwdWK",
        "colab_type": "code",
        "outputId": "521dc9fc-5810-4f86-c5ed-6b6bfc29a830",
        "colab": {
          "base_uri": "https://localhost:8080/",
          "height": 68
        }
      },
      "source": [
        "#Extracting a name from the image\n",
        "sens_id = s2_img_meta.get('properties',{}).get('PRODUCT_ID')[:10]\n",
        "print('Sensor ID: ',)\n",
        "#extracting the id of the GRID\n",
        "grid_id = s2_img_meta.get('properties',{}).get('GRANULE_ID')[4:10]\n",
        "print('GRID ID: ',grid_id)\n",
        "\n",
        "s2_filename = sens_id+\"_\"+grid_id+\"_\"+date_t2\n",
        "#s2_filename = sens_id+\"_\"+grid_id+\"_\"+\"small\"+\"_\"+date_t2\n",
        "s2_filename\n",
        "\n"
      ],
      "execution_count": 31,
      "outputs": [
        {
          "output_type": "stream",
          "text": [
            "Sensor ID: \n",
            "GRID ID:  T29TQG\n"
          ],
          "name": "stdout"
        },
        {
          "output_type": "execute_result",
          "data": {
            "text/plain": [
              "'S2B_MSIL2A_T29TQG_2019_06_29'"
            ]
          },
          "metadata": {
            "tags": []
          },
          "execution_count": 31
        }
      ]
    },
    {
      "cell_type": "code",
      "metadata": {
        "id": "DpwB5MCtSC5v",
        "colab_type": "code",
        "colab": {}
      },
      "source": [
        "\n",
        "#the ideal would be to find a way to extract a date in YYYYMMDD format and automate that for the file naming\n",
        "\n",
        "#GEE requires a client task to be called, here it goes\n",
        "\n",
        "#this is a dictionary object with the details for the batch export function off GEE\n",
        "#it will save  the data to my drive\n",
        "task_config = {\n",
        "    'image': s2_img,\n",
        "    'fileFormat': 'GeoTIFF',\n",
        "    'fileNamePrefix': s2_filename,\n",
        "    'description': s2_filename,\n",
        "    'scale':20,\n",
        "    'region':poly_montesinho\n",
        "}\n",
        "\n",
        "#this is for the small area, comment for removal\n",
        "#task_config = {\n",
        "#    'image': s2_img,\n",
        "#    'fileFormat': 'GeoTIFF',\n",
        "#    'fileNamePrefix': s2_filename,\n",
        "#    'description': s2_filename,\n",
        "#    'scale':20,\n",
        "#    'region':poly_area_small\n",
        "#}\n",
        "\n",
        "\n",
        "#this starts the task - notice that it has to be called and then wait.\n",
        "#since it is an operation ongoing on GEE, python will not produce any error message\n",
        "#if omething is wrong. The commands in the next section show how to check on that \n",
        "task = ee.batch.Export.image.toDrive(**task_config )\n",
        "task.start()\n"
      ],
      "execution_count": 0,
      "outputs": []
    },
    {
      "cell_type": "markdown",
      "metadata": {
        "id": "praZFe5ASbn2",
        "colab_type": "text"
      },
      "source": [
        "The next two code snippets allow us to keep track of the procedure"
      ]
    },
    {
      "cell_type": "code",
      "metadata": {
        "id": "5XI31DSwSfdm",
        "colab_type": "code",
        "outputId": "e72a139d-def0-4604-d828-9acbc6734a42",
        "colab": {
          "base_uri": "https://localhost:8080/",
          "height": 153
        }
      },
      "source": [
        "task.status()"
      ],
      "execution_count": 33,
      "outputs": [
        {
          "output_type": "execute_result",
          "data": {
            "text/plain": [
              "{'creation_timestamp_ms': 1582112060649,\n",
              " 'description': 'S2B_MSIL2A_T29TQG_2019_06_29',\n",
              " 'id': 'P4FJLM6LDNA2PYDKHDOUEWZZ',\n",
              " 'name': 'projects/earthengine-legacy/operations/P4FJLM6LDNA2PYDKHDOUEWZZ',\n",
              " 'start_timestamp_ms': 0,\n",
              " 'state': 'READY',\n",
              " 'task_type': 'EXPORT_IMAGE',\n",
              " 'update_timestamp_ms': 1582112060649}"
            ]
          },
          "metadata": {
            "tags": []
          },
          "execution_count": 33
        }
      ]
    },
    {
      "cell_type": "code",
      "metadata": {
        "id": "8WMxsdYyStIW",
        "colab_type": "code",
        "outputId": "62afefee-40b0-4e2e-f073-55043f504d76",
        "colab": {
          "base_uri": "https://localhost:8080/",
          "height": 34
        }
      },
      "source": [
        "task.active()"
      ],
      "execution_count": 35,
      "outputs": [
        {
          "output_type": "execute_result",
          "data": {
            "text/plain": [
              "False"
            ]
          },
          "metadata": {
            "tags": []
          },
          "execution_count": 35
        }
      ]
    },
    {
      "cell_type": "markdown",
      "metadata": {
        "id": "TwamrcXgVJ1h",
        "colab_type": "text"
      },
      "source": [
        "#now have uploaded the image to my drive, lets try to visualize it in python now\n",
        "\n"
      ]
    },
    {
      "cell_type": "code",
      "metadata": {
        "id": "Vt9mEzwaVmeV",
        "colab_type": "code",
        "outputId": "9b90bcc4-77f1-4666-a72d-a2ae7b2ca2da",
        "colab": {
          "base_uri": "https://localhost:8080/",
          "height": 479
        }
      },
      "source": [
        "!pip install pyrsgis\n",
        "!pip install rasterio\n",
        "!pip install pyproj"
      ],
      "execution_count": 0,
      "outputs": [
        {
          "output_type": "stream",
          "text": [
            "Collecting pyrsgis\n",
            "  Downloading https://files.pythonhosted.org/packages/4f/cf/98948fc0b1eb0049ed5af67b667e95f96522c7a7e12daf45eba267f542f7/pyrsgis-0.2.8-py3-none-any.whl\n",
            "Installing collected packages: pyrsgis\n",
            "Successfully installed pyrsgis-0.2.8\n",
            "Collecting rasterio\n",
            "\u001b[?25l  Downloading https://files.pythonhosted.org/packages/be/e5/7052a3eef72af7e883a280d8dff64f4ea44cb92ec25ffb1d00ce27bc1a12/rasterio-1.1.2-cp36-cp36m-manylinux1_x86_64.whl (18.0MB)\n",
            "\u001b[K     |████████████████████████████████| 18.0MB 232kB/s \n",
            "\u001b[?25hRequirement already satisfied: numpy in /usr/local/lib/python3.6/dist-packages (from rasterio) (1.17.5)\n",
            "Collecting affine\n",
            "  Downloading https://files.pythonhosted.org/packages/ac/a6/1a39a1ede71210e3ddaf623982b06ecfc5c5c03741ae659073159184cd3e/affine-2.3.0-py2.py3-none-any.whl\n",
            "Collecting cligj>=0.5\n",
            "  Downloading https://files.pythonhosted.org/packages/e4/be/30a58b4b0733850280d01f8bd132591b4668ed5c7046761098d665ac2174/cligj-0.5.0-py3-none-any.whl\n",
            "Collecting snuggs>=1.4.1\n",
            "  Downloading https://files.pythonhosted.org/packages/cc/0e/d27d6e806d6c0d1a2cfdc5d1f088e42339a0a54a09c3343f7f81ec8947ea/snuggs-1.4.7-py3-none-any.whl\n",
            "Collecting click-plugins\n",
            "  Downloading https://files.pythonhosted.org/packages/e9/da/824b92d9942f4e472702488857914bdd50f73021efea15b4cad9aca8ecef/click_plugins-1.1.1-py2.py3-none-any.whl\n",
            "Requirement already satisfied: attrs in /usr/local/lib/python3.6/dist-packages (from rasterio) (19.3.0)\n",
            "Requirement already satisfied: click<8,>=4.0 in /usr/local/lib/python3.6/dist-packages (from rasterio) (7.0)\n",
            "Requirement already satisfied: pyparsing>=2.1.6 in /usr/local/lib/python3.6/dist-packages (from snuggs>=1.4.1->rasterio) (2.4.6)\n",
            "Installing collected packages: affine, cligj, snuggs, click-plugins, rasterio\n",
            "Successfully installed affine-2.3.0 click-plugins-1.1.1 cligj-0.5.0 rasterio-1.1.2 snuggs-1.4.7\n",
            "Collecting pyproj\n",
            "\u001b[?25l  Downloading https://files.pythonhosted.org/packages/d6/70/eedc98cd52b86de24a1589c762612a98bea26cde649ffdd60c1db396cce8/pyproj-2.4.2.post1-cp36-cp36m-manylinux2010_x86_64.whl (10.1MB)\n",
            "\u001b[K     |████████████████████████████████| 10.1MB 2.8MB/s \n",
            "\u001b[?25hInstalling collected packages: pyproj\n",
            "Successfully installed pyproj-2.4.2.post1\n"
          ],
          "name": "stdout"
        }
      ]
    },
    {
      "cell_type": "code",
      "metadata": {
        "id": "GxFhsbeGVka9",
        "colab_type": "code",
        "colab": {}
      },
      "source": [
        "#General purpose: \n",
        "import matplotlib.pyplot as plt\n",
        "import numpy\n",
        "import numpy as np\n",
        "from mpl_toolkits.mplot3d import Axes3D\n",
        "\n",
        "import pandas as pd\n",
        "\n",
        "import os\n",
        "from pyrsgis import raster\n",
        "\n",
        "import rasterio\n",
        "import rasterio.plot\n",
        "import pyproj\n",
        "import numpy as np\n",
        "import matplotlib\n",
        "import matplotlib.pyplot as plt\n",
        "\n"
      ],
      "execution_count": 0,
      "outputs": []
    },
    {
      "cell_type": "markdown",
      "metadata": {
        "id": "3GTg7Jq8XQp_",
        "colab_type": "text"
      },
      "source": [
        "The easiest for now is actually downloading the file, and uploading it again. There must be better alternatives. "
      ]
    },
    {
      "cell_type": "code",
      "metadata": {
        "id": "qpkerFJjWV8Y",
        "colab_type": "code",
        "outputId": "7f63d495-a9ed-4696-a12a-087707263da0",
        "colab": {
          "base_uri": "https://localhost:8080/",
          "height": 51
        }
      },
      "source": [
        "#This loads the data - we can put the path to the drive itself if we want.. very easy \n",
        "#or just substitute it by the filename\n",
        "#s2_data = 'drive/My Drive/S2_ML_Data_SR_20190730.tif'\n",
        "\n",
        "#loads a data generated through GEE into your own drive\n",
        "s2_data = '/content/drive/My Drive/' + s2_filename +\".tif\" #just add it with the path and you are good to go\n",
        "\n",
        "#loading an uploaded data from THEIA collection\n",
        "#s2_data = '/content/S2_20190215_AOI_Theia.tif' #just add it with the path and you are good to go\n",
        "\n",
        "\n",
        "ds1, bands = raster.read(s2_data)\n",
        "print(ds1)\n",
        "print(bands.shape) #the raster has 9 bands by 501 x 590 (not sure wich is the row)\n",
        "\n"
      ],
      "execution_count": 0,
      "outputs": [
        {
          "output_type": "stream",
          "text": [
            "<pyrsgis.raster.createDS object at 0x7fc39a4947b8>\n",
            "(9, 5, 4)\n"
          ],
          "name": "stdout"
        }
      ]
    },
    {
      "cell_type": "code",
      "metadata": {
        "id": "TeiZjiYZaw-H",
        "colab_type": "code",
        "outputId": "b91de899-28a6-455f-d118-d7ca258a08c4",
        "colab": {
          "base_uri": "https://localhost:8080/",
          "height": 309
        }
      },
      "source": [
        "from pyrsgis.convert import changeDimension\n",
        "\n",
        "#this function converts the hypercube to a 2D array\n",
        "\n",
        "\n",
        "bandByPixel = changeDimension(bands)/10000. #we have to devide all values by 10k - its a conversion from bits to reflectances\n",
        "bandByPixel_t = np.transpose(bandByPixel)\n",
        "print(bandByPixel.shape)\n",
        "print(bandByPixel_t.shape)\n",
        "bandByPixel\n",
        "\n",
        "import scipy\n",
        "from scipy import stats\n",
        "print(scipy.stats.describe(changeDimension(bands)))\n",
        "print(scipy.stats.describe(bandByPixel))"
      ],
      "execution_count": 0,
      "outputs": [
        {
          "output_type": "stream",
          "text": [
            "(20, 9)\n",
            "(9, 20)\n",
            "DescribeResult(nobs=20, minmax=(array([ 258,  428,  323,  745, 1578, 1804, 1966, 1694,  982]), array([ 510,  772,  948, 1348, 2396, 2971, 3146, 2739, 1891])), mean=array([ 352.55,  575.1 ,  532.5 ,  969.05, 1962.2 , 2287.85, 2464.3 ,\n",
            "       2130.95, 1323.1 ]), variance=array([  3626.05      ,   7119.88421053,  22456.47368421,  21651.62894737,\n",
            "        52116.90526316, 107379.60789474, 122390.43157895,  52271.20789474,\n",
            "        46117.35789474]), skewness=array([1.11435919, 0.83089485, 1.39630398, 0.78187422, 0.13128287,\n",
            "       0.58553533, 0.49583556, 0.58407386, 1.01550027]), kurtosis=array([ 1.00215153,  0.62116304,  1.48472279,  0.58480948, -0.68086793,\n",
            "       -0.22357874, -0.51827835,  0.95682375,  0.7245806 ]))\n",
            "DescribeResult(nobs=20, minmax=(array([0.0258, 0.0428, 0.0323, 0.0745, 0.1578, 0.1804, 0.1966, 0.1694,\n",
            "       0.0982]), array([0.051 , 0.0772, 0.0948, 0.1348, 0.2396, 0.2971, 0.3146, 0.2739,\n",
            "       0.1891])), mean=array([0.035255, 0.05751 , 0.05325 , 0.096905, 0.19622 , 0.228785,\n",
            "       0.24643 , 0.213095, 0.13231 ]), variance=array([3.62605000e-05, 7.11988421e-05, 2.24564737e-04, 2.16516289e-04,\n",
            "       5.21169053e-04, 1.07379608e-03, 1.22390432e-03, 5.22712079e-04,\n",
            "       4.61173579e-04]), skewness=array([1.11435919, 0.83089485, 1.39630398, 0.78187422, 0.13128287,\n",
            "       0.58553533, 0.49583556, 0.58407386, 1.01550027]), kurtosis=array([ 1.00215153,  0.62116304,  1.48472279,  0.58480948, -0.68086793,\n",
            "       -0.22357874, -0.51827835,  0.95682375,  0.7245806 ]))\n"
          ],
          "name": "stdout"
        }
      ]
    },
    {
      "cell_type": "code",
      "metadata": {
        "id": "hA5rdf6dRko2",
        "colab_type": "code",
        "outputId": "977308ce-e87c-4edf-b492-180d51d739c8",
        "colab": {
          "base_uri": "https://localhost:8080/",
          "height": 282
        }
      },
      "source": [
        "plt.scatter(range(9),bandByPixel[10*10,:])"
      ],
      "execution_count": 0,
      "outputs": [
        {
          "output_type": "execute_result",
          "data": {
            "text/plain": [
              "<matplotlib.collections.PathCollection at 0x7f0eeaa05da0>"
            ]
          },
          "metadata": {
            "tags": []
          },
          "execution_count": 199
        },
        {
          "output_type": "display_data",
          "data": {
            "image/png": "[encoded data removed]",
            "text/plain": [
              "<Figure size 432x288 with 1 Axes>"
            ]
          },
          "metadata": {
            "tags": []
          }
        }
      ]
    },
    {
      "cell_type": "markdown",
      "metadata": {
        "id": "2SJcRSEHZ96Y",
        "colab_type": "text"
      },
      "source": [
        "Link of interest:\n",
        "\n",
        "https://geohackweek.github.io/raster/04-workingwithrasters/\n",
        "\n",
        "\n",
        "https://www.hatarilabs.com/ih-en/sentinel2-images-explotarion-and-processing-with-python-and-rasterio"
      ]
    },
    {
      "cell_type": "code",
      "metadata": {
        "id": "ppKTstQeY1ts",
        "colab_type": "code",
        "outputId": "6438ad20-23a9-43b3-9de5-d67819c4851f",
        "colab": {
          "base_uri": "https://localhost:8080/",
          "height": 414
        }
      },
      "source": [
        "\n",
        "#band order\n",
        "#['B2','B3','B4','B5','B6','B7','B8A','B11','B12']\n",
        "\n",
        "#window = rasterio.windows.Window(1024, 1024, 1280, 2560)\n",
        "with rasterio.open(s2_data) as src:\n",
        "    subset = src.read(7)/10000.\n",
        "\n",
        "plt.figure(figsize=(6,8.5))\n",
        "plt.imshow(subset)\n",
        "plt.colorbar(shrink=0.5)\n",
        "#plt.title(f'Band 4 Subset\\n{window}')\n",
        "plt.xlabel('Column #')\n",
        "plt.ylabel('Row #')\n",
        "\n",
        "#now sure i know how to produce a RGB for now but it doesn't matter,\n",
        "# this is just to show i have cropped the image\n"
      ],
      "execution_count": 0,
      "outputs": [
        {
          "output_type": "execute_result",
          "data": {
            "text/plain": [
              "Text(0, 0.5, 'Row #')"
            ]
          },
          "metadata": {
            "tags": []
          },
          "execution_count": 128
        },
        {
          "output_type": "display_data",
          "data": {
            "image/png": "[encoded data removed]",
            "text/plain": [
              "<Figure size 432x612 with 2 Axes>"
            ]
          },
          "metadata": {
            "tags": []
          }
        }
      ]
    },
    {
      "cell_type": "markdown",
      "metadata": {
        "id": "75JaxwVye58r",
        "colab_type": "text"
      },
      "source": [
        "#now we will quickly set up a GPR trained on PROSAIL to try the model"
      ]
    },
    {
      "cell_type": "code",
      "metadata": {
        "id": "gXOLBUeOX171",
        "colab_type": "code",
        "outputId": "edbaa761-fe9a-40aa-8e8f-c9fe94531e9e",
        "colab": {
          "base_uri": "https://localhost:8080/",
          "height": 306
        }
      },
      "source": [
        "#Installing PROSAIL\n",
        "!pip install prosail\n",
        "\n",
        "#latin hypercube stuff\n",
        "#lets try to do a LHS\n",
        "!pip install lhsmdu\n",
        "\n",
        "#this package as a number of functions to deal with hyperspectral data\n",
        "!pip install pysptools"
      ],
      "execution_count": 0,
      "outputs": [
        {
          "output_type": "stream",
          "text": [
            "Requirement already satisfied: prosail in /usr/local/lib/python3.6/dist-packages (2.0.5)\n",
            "Requirement already satisfied: numba in /usr/local/lib/python3.6/dist-packages (from prosail) (0.47.0)\n",
            "Requirement already satisfied: numpy in /usr/local/lib/python3.6/dist-packages (from prosail) (1.17.5)\n",
            "Requirement already satisfied: pytest in /usr/local/lib/python3.6/dist-packages (from prosail) (3.6.4)\n",
            "Requirement already satisfied: scipy in /usr/local/lib/python3.6/dist-packages (from prosail) (1.4.1)\n",
            "Requirement already satisfied: llvmlite>=0.31.0dev0 in /usr/local/lib/python3.6/dist-packages (from numba->prosail) (0.31.0)\n",
            "Requirement already satisfied: setuptools in /usr/local/lib/python3.6/dist-packages (from numba->prosail) (42.0.2)\n",
            "Requirement already satisfied: atomicwrites>=1.0 in /usr/local/lib/python3.6/dist-packages (from pytest->prosail) (1.3.0)\n",
            "Requirement already satisfied: more-itertools>=4.0.0 in /usr/local/lib/python3.6/dist-packages (from pytest->prosail) (8.0.2)\n",
            "Requirement already satisfied: attrs>=17.4.0 in /usr/local/lib/python3.6/dist-packages (from pytest->prosail) (19.3.0)\n",
            "Requirement already satisfied: pluggy<0.8,>=0.5 in /usr/local/lib/python3.6/dist-packages (from pytest->prosail) (0.7.1)\n",
            "Requirement already satisfied: py>=1.5.0 in /usr/local/lib/python3.6/dist-packages (from pytest->prosail) (1.8.1)\n",
            "Requirement already satisfied: six>=1.10.0 in /usr/local/lib/python3.6/dist-packages (from pytest->prosail) (1.12.0)\n",
            "Requirement already satisfied: lhsmdu in /usr/local/lib/python3.6/dist-packages (0.1)\n",
            "Requirement already satisfied: scipy in /usr/local/lib/python3.6/dist-packages (from lhsmdu) (1.4.1)\n",
            "Requirement already satisfied: numpy in /usr/local/lib/python3.6/dist-packages (from lhsmdu) (1.17.5)\n",
            "Requirement already satisfied: pysptools in /usr/local/lib/python3.6/dist-packages (0.15.0)\n"
          ],
          "name": "stdout"
        }
      ]
    },
    {
      "cell_type": "code",
      "metadata": {
        "id": "Xvt0e5rRfj90",
        "colab_type": "code",
        "colab": {}
      },
      "source": [
        "import pandas as pd\n",
        "import numpy as np\n",
        "\n",
        "#PROSPECT+SAIL Radiative transfer mode package\n",
        "import prosail\n",
        "\n",
        "#Sampling design package\n",
        "import lhsmdu\n",
        "\n"
      ],
      "execution_count": 0,
      "outputs": []
    },
    {
      "cell_type": "markdown",
      "metadata": {
        "id": "DrcQHfBVfx9b",
        "colab_type": "text"
      },
      "source": [
        "The next functions are helper functions to facilitate the calls"
      ]
    },
    {
      "cell_type": "code",
      "metadata": {
        "id": "2z8Wnje1fIKw",
        "colab_type": "code",
        "outputId": "ff9a2f32-2f3b-408e-b0dc-651bfac1a807",
        "colab": {
          "base_uri": "https://localhost:8080/",
          "height": 51
        }
      },
      "source": [
        "def custom_prosail(cab,cw,cm,lai):\n",
        "  import prosail\n",
        "  #default parameters\n",
        "  #n= 1.\n",
        "  n=1.5 #leon\n",
        "  #car=10.\n",
        "  car=7.5 #leon\n",
        "  cbrown=0.01\n",
        "  typelidf=1 #this is the default option\n",
        "  lidfa = -1 #leaf angle distribution parameter a and b\n",
        "  lidfb=-0.15\n",
        "  hspot= 0.01 #hotspot parameters - got this from R package https://www.rdocumentation.org/packages/hsdar/versions/0.4.1/topics/PROSAIL\n",
        "  #sun and viewing angle\n",
        "  #tts=30. #observation and solar position parameters\n",
        "  #tto=10. \n",
        "  #psi=0.\n",
        "  #for now i put them by hand but they should be an input of a custom function\n",
        "  tts=sol_zen #solar zenith angle\n",
        "  tto=inc_zen #sensor zenith angle\n",
        "  psi=raa\n",
        "  rho_out = prosail.run_prosail(n,\n",
        "                                 cab,\n",
        "                                 car,\n",
        "                                 cbrown,\n",
        "                                 cw,\n",
        "                                 cm,\n",
        "                                 lai,\n",
        "                                 lidfa,\n",
        "                                 hspot,\n",
        "                                 tts,tto,psi,\n",
        "                                 typelidf, lidfb,\n",
        "                                 prospect_version=\"D\",\n",
        "                                 factor='SDR', \n",
        "                                 rsoil=.5, psoil=.5)\n",
        "  return(rho_out)\n",
        "\n",
        "#test call:\n",
        "#prosail.run_prosail()\n",
        "custom_prosail(40,.005,.005,2)\n",
        "\n",
        "\n",
        "#sza, vza and raa are the solar zenith, sensor zenith and relative azimuth angles\n",
        "#sza = sol_zen\n",
        "#vza = inc_zen\n",
        "#raa = inc_zen-sol_zen  #according to the details of prosail\n",
        "\n",
        "#prosail has actually ALOT of other different inputs\n",
        "#prosail.run_prosail()\n"
      ],
      "execution_count": 0,
      "outputs": [
        {
          "output_type": "execute_result",
          "data": {
            "text/plain": [
              "array([0.02235218, 0.02234618, 0.02234066, ..., 0.05080619, 0.05042351,\n",
              "       0.05052313])"
            ]
          },
          "metadata": {
            "tags": []
          },
          "execution_count": 130
        }
      ]
    },
    {
      "cell_type": "code",
      "metadata": {
        "id": "efMV-OQ1fsl5",
        "colab_type": "code",
        "colab": {}
      },
      "source": [
        "def Prosail2S2(path2csv,spectra_input):\n",
        "  #importing pandas\n",
        "  import pandas as pd\n",
        "  import numpy\n",
        "  import numpy as np\n",
        "  #upload a S2_Response.csv from https://earth.esa.int/web/sentinel/user-guides/sentinel-2-msi/document-library/-/asset_publisher/Wk0TKajiISaR/content/sentinel-2a-spectral-responses\n",
        "\n",
        "  s2_table = pd.read_csv(path2csv,sep=\";\",decimal=\",\") #check if this is proper, regarding the sep and dec\n",
        "  #chekc which row you are actually extracting\n",
        "\n",
        "  s2_table_sel = s2_table[s2_table['SR_WL'].between(400,2500)] #selects all values between 400 and 2500\n",
        "  spectra_input_df = pd.DataFrame(data=spectra_input,columns=[\"rho\"],index=s2_table_sel.index) #transforms the input array into a pandas df with the column name rho and row.index = to the original input table\n",
        "\n",
        "  \n",
        "  rho_s2 = s2_table_sel.multiply(spectra_input_df['rho'],axis=\"index\") #calculates the numerator\n",
        "  w_band_sum = s2_table_sel.sum(axis=0,skipna = True) #calculates the denominator\n",
        "\n",
        "  output = (rho_s2.sum(axis=0)/w_band_sum).rename_axis(\"ID\").values #runs the weighted mean and converts the output to a numpy array\n",
        "\n",
        "  return output[1:] #removes the first value because it represents the wavelength column\n",
        "\n",
        "#please LOAD THTE FILE NOW\n",
        "#filepath=\"/content/S2_Response.csv\"\n",
        "#filepath=\"/content/S2_Responses_S2B.csv\"\n",
        "#filepath=\"/content/drive/My Drive/S2_Response.csv\"\n",
        "filepath=\"/content/drive/My Drive/S2_Responses_S2B.csv\""
      ],
      "execution_count": 0,
      "outputs": []
    },
    {
      "cell_type": "code",
      "metadata": {
        "id": "glANp1cQfwDT",
        "colab_type": "code",
        "colab": {}
      },
      "source": [
        "def Gen_spectra_data(traits):\n",
        "  k = 1\n",
        "  #pd_train_traits=traits\n",
        "  #print(range(len(traits)))\n",
        "  for i in range(len(traits)):\n",
        "    #n_t = pd_train_traits[\"n\"][i]\n",
        "    cab_t = traits[\"cab\"][i]\n",
        "    #car_t = pd_train_traits[\"car\"][i]\n",
        "    #cbrown_t = pd_train_traits[\"cbrown\"][i]\n",
        "    cw_t = traits[\"cw\"][i]\n",
        "    cm_t = traits[\"cm\"][i]\n",
        "    lai_t = traits[\"lai\"][i]\n",
        "\n",
        "    if k == 1:\n",
        "      tr_rho_s = custom_prosail(cab_t,cw_t,cm_t,lai_t)\n",
        "      tr_rho_s = Prosail2S2(filepath,tr_rho_s)\n",
        "      #plt.plot ( x, tr_rho_s, ':', label=\"Training prosail\")\n",
        "      #plt.legend(loc='best')\n",
        "      \n",
        "    if k > 1:\n",
        "      tr_rho_t = custom_prosail(cab_t,cw_t,cm_t,lai_t)\n",
        "      tr_rho_t = Prosail2S2(filepath,tr_rho_t)\n",
        "      tr_rho_s = np.vstack((tr_rho_s,tr_rho_t))\n",
        "      #plt.plot ( x, tr_rho_t, ':')\n",
        "\n",
        "    k = k+1\n",
        "\n",
        "\n",
        "  rho_samples=tr_rho_s\n",
        "\n",
        "\n",
        "  return rho_samples\n"
      ],
      "execution_count": 0,
      "outputs": []
    },
    {
      "cell_type": "markdown",
      "metadata": {
        "id": "f3LI16NSf4q7",
        "colab_type": "text"
      },
      "source": [
        "#preparing the input data for prosail"
      ]
    },
    {
      "cell_type": "code",
      "metadata": {
        "id": "IITOrduiEMAx",
        "colab_type": "code",
        "colab": {}
      },
      "source": [
        "#number of samples\n",
        "train_n3000 = 10000\n",
        "\n",
        "n_traits=4 #I will test on 4 varying traits: cab, car, cw,cm,lai\n",
        "\n",
        "#generating a LHS hypercube (it uses a 0 to 1 interval that can be used as a multiplier against the different traits)\n",
        "np.random.seed(0)\n",
        "LHS_train3000 = lhsmdu.createRandomStandardUniformMatrix(n_traits,train_n3000 ) #the package has a more advanced method but it is too slow to process\n",
        "\n",
        "#maxmins from here also: https://github.com/jgomezdans/prosail/issues/10\n",
        "\n",
        "#max_n=1 #this value should go from 1 to 2, so i make it change from 0 to 1 here and then add 1 later\n",
        "max_cab=90. #add 1\n",
        "#max_car=44. #add 1\n",
        "#max_cbrown= 9.99 #add 0.01\n",
        "max_cw=0.0039 #0.008 #add 0.001 \n",
        "max_cm=0.0039 #0.008 #0.001\n",
        "max_lai = 6 #add 0.1\n",
        "\n",
        "#values for leon\n",
        "#max_n=1 #this value should go from 1 to 2, so i make it change from 0 to 1 here and then add 1 later\n",
        "max_cab=50. #add 1\n",
        "#max_car=44. #add 1\n",
        "#max_cbrown= 9.99 #add 0.01\n",
        "max_cw=0.03 #0.008 #add 0.001 \n",
        "max_cm=0.03 #0.008 #0.001\n",
        "max_lai = 4 #add 0.1\n",
        "\n",
        "\n",
        "\n",
        "min_cab = 10.\n",
        "min_cw = 0.005\n",
        "min_cm = 0.005\n",
        "min_lai = .5"
      ],
      "execution_count": 0,
      "outputs": []
    },
    {
      "cell_type": "code",
      "metadata": {
        "id": "nixYagKnf8hb",
        "colab_type": "code",
        "colab": {}
      },
      "source": [
        "#preparing function inputs\n",
        "\n",
        "pd_traits3000 = pd.DataFrame.transpose(pd.DataFrame(LHS_train3000))\n",
        "pd_traits3000.columns = [\"cab\",\"cw\",\"cm\",\"lai\"]\n",
        "\n",
        "pd_traits3000[\"cab\"]=pd_traits3000[\"cab\"]*max_cab+min_cab\n",
        "pd_traits3000[\"cw\"] =pd_traits3000[\"cw\"] *max_cw +min_cw\n",
        "pd_traits3000[\"cm\"] =pd_traits3000[\"cm\"] *max_cm +min_cm\n",
        "pd_traits3000[\"lai\"]=pd_traits3000[\"lai\"]*max_lai+min_lai\n",
        "\n",
        "np_spectra3000 = Gen_spectra_data(pd_traits3000)\n"
      ],
      "execution_count": 0,
      "outputs": []
    },
    {
      "cell_type": "code",
      "metadata": {
        "id": "BVorvlFfgKoQ",
        "colab_type": "code",
        "outputId": "26f3f5c1-9b9e-4652-8342-86af8dfb1863",
        "colab": {
          "base_uri": "https://localhost:8080/",
          "height": 170
        }
      },
      "source": [
        "\n",
        "#band order\n",
        "#['B1','B2','B3','B4','B5','B6','B7','B8','B8A','B9','B10''B11','B12']\n",
        "#['B2','B3','B4','B5','B6','B7','B8A','B11','B12']\n",
        "\n",
        "print(np_spectra3000.shape)\n",
        "#lets also create a numpy object for the tratis\n",
        "np_traits3000 = pd_traits3000.iloc[:,:].values\n",
        "\n",
        "train_df_3000 = np_spectra3000[:,[1,2,3,4,5,6,8,11,12]]\n",
        "print(train_df_3000.shape)\n",
        "\n",
        "X_train = train_df_3000\n",
        "Y_train = np_traits3000\n",
        "\n",
        "len(X_train)\n",
        "\n",
        "print(train_df_3000)\n",
        "train_df_3000_noise = train_df_3000"
      ],
      "execution_count": 0,
      "outputs": [
        {
          "output_type": "stream",
          "text": [
            "(10000, 15)\n",
            "(10000, 9)\n",
            "[[0.03067401 0.07417523 0.02070375 ... 0.42987161 0.1381205  0.03329369]\n",
            " [0.02957597 0.06493001 0.01941685 ... 0.49949021 0.27428915 0.11166764]\n",
            " [0.03191924 0.06478744 0.02584594 ... 0.26932943 0.13575466 0.04173193]\n",
            " ...\n",
            " [0.02821879 0.0570617  0.01888681 ... 0.33187433 0.13171139 0.02922536]\n",
            " [0.0376818  0.13781188 0.05689721 ... 0.33511003 0.14816767 0.03672895]\n",
            " [0.02848357 0.05659576 0.01876785 ... 0.38218525 0.13220234 0.0298274 ]]\n"
          ],
          "name": "stdout"
        }
      ]
    },
    {
      "cell_type": "markdown",
      "metadata": {
        "id": "iH5cfeM1O4mf",
        "colab_type": "text"
      },
      "source": [
        "Adding a bit of noise on joris sugestion"
      ]
    },
    {
      "cell_type": "code",
      "metadata": {
        "id": "p4no2oUpO6xL",
        "colab_type": "code",
        "outputId": "c43b10f2-788c-4bb9-a78e-85d108a68c58",
        "colab": {
          "base_uri": "https://localhost:8080/",
          "height": 136
        }
      },
      "source": [
        "\n",
        "from scipy.stats import truncnorm\n",
        "print(train_df_3000)\n",
        "\n",
        "#for i in range(train_df_3000_noise.shape[1]):\n",
        "  #print(i)\n",
        "  #for j in range(train_df_3000_noise.shape[0]):\n",
        "    #print(j)\n",
        "    #train_df_3000_noise[j,i]=train_df_3000[j,i]*(1+.02*train_df_3000[j,i]*np.random.normal(0,1,1)+.02*np.random.normal(0,1,1))+train_df_3000[j,i]*.01*np.random.normal(0,1,1)+.01*np.random.normal(0,1,1)\n",
        "\n",
        "  \n",
        "\n",
        "\n",
        "  #train_df_3000_noise[:,i]=train_df_3000_noise[:,i]+np.random.normal(0,.001,len(train_df_3000_noise))\n",
        "  #train_df_3000[:,i]*truncnorm.rvs(0.1,0.9,loc=0.5,scale=0.2,size=len(train_df_3000))#+np.random.normal(0,.001,len(train_df_3000))\n",
        "\n",
        "#print(train_df_3000)\n",
        "#print(train_df_3000_noise)\n",
        "#X_train_noise=train_df_3000_noise"
      ],
      "execution_count": 0,
      "outputs": [
        {
          "output_type": "stream",
          "text": [
            "[[0.03067401 0.07417523 0.02070375 ... 0.42987161 0.1381205  0.03329369]\n",
            " [0.02957597 0.06493001 0.01941685 ... 0.49949021 0.27428915 0.11166764]\n",
            " [0.03191924 0.06478744 0.02584594 ... 0.26932943 0.13575466 0.04173193]\n",
            " ...\n",
            " [0.02821879 0.0570617  0.01888681 ... 0.33187433 0.13171139 0.02922536]\n",
            " [0.0376818  0.13781188 0.05689721 ... 0.33511003 0.14816767 0.03672895]\n",
            " [0.02848357 0.05659576 0.01876785 ... 0.38218525 0.13220234 0.0298274 ]]\n"
          ],
          "name": "stdout"
        }
      ]
    },
    {
      "cell_type": "code",
      "metadata": {
        "id": "E2tGcip7X1L0",
        "colab_type": "code",
        "outputId": "55ac5214-3cf1-4c5a-f20f-0f161802990c",
        "colab": {
          "base_uri": "https://localhost:8080/",
          "height": 136
        }
      },
      "source": [
        "print(train_df_3000)\n",
        "#print(train_df_3000_noise)"
      ],
      "execution_count": 0,
      "outputs": [
        {
          "output_type": "stream",
          "text": [
            "[[0.03067401 0.07417523 0.02070375 ... 0.42987161 0.1381205  0.03329369]\n",
            " [0.02957597 0.06493001 0.01941685 ... 0.49949021 0.27428915 0.11166764]\n",
            " [0.03191924 0.06478744 0.02584594 ... 0.26932943 0.13575466 0.04173193]\n",
            " ...\n",
            " [0.02821879 0.0570617  0.01888681 ... 0.33187433 0.13171139 0.02922536]\n",
            " [0.0376818  0.13781188 0.05689721 ... 0.33511003 0.14816767 0.03672895]\n",
            " [0.02848357 0.05659576 0.01876785 ... 0.38218525 0.13220234 0.0298274 ]]\n"
          ],
          "name": "stdout"
        }
      ]
    },
    {
      "cell_type": "code",
      "metadata": {
        "id": "k3WjzTjOP4t3",
        "colab_type": "code",
        "outputId": "8434ae6e-6080-4206-b3fd-3d093e44b588",
        "colab": {
          "base_uri": "https://localhost:8080/",
          "height": 34
        }
      },
      "source": [
        "scipy.stats.describe(truncnorm.rvs(0.1,0.9,loc=0.5,scale=0.2,size=len(train_df_3000)))\n",
        "scipy.stats.describe(np.random.normal(0,.001,len(train_df_3000)))\n",
        "len(np.random.normal(0,.001,len(train_df_3000)))"
      ],
      "execution_count": 0,
      "outputs": [
        {
          "output_type": "execute_result",
          "data": {
            "text/plain": [
              "10000"
            ]
          },
          "metadata": {
            "tags": []
          },
          "execution_count": 211
        }
      ]
    },
    {
      "cell_type": "code",
      "metadata": {
        "id": "gnRlfqepDXh5",
        "colab_type": "code",
        "colab": {}
      },
      "source": [
        "#scipy.stats.describe(X_train)"
      ],
      "execution_count": 0,
      "outputs": []
    },
    {
      "cell_type": "markdown",
      "metadata": {
        "id": "MKb411aViUyD",
        "colab_type": "text"
      },
      "source": [
        "#time for training and predicting the GPR\n",
        "\n",
        "link of interest: https://scikit-learn.org/stable/modules/generated/sklearn.gaussian_process.GaussianProcessRegressor.html#sklearn.gaussian_process.GaussianProcessRegressor\n",
        "\n",
        "\n",
        "https://katbailey.github.io/post/gaussian-processes-for-dummies/"
      ]
    },
    {
      "cell_type": "code",
      "metadata": {
        "id": "a8D7F7vfgSjQ",
        "colab_type": "code",
        "outputId": "c3faf7b1-2a06-4eff-a33c-0aa045d1671a",
        "colab": {
          "base_uri": "https://localhost:8080/",
          "height": 68
        }
      },
      "source": [
        "#Gaussian processes\n",
        "from sklearn.gaussian_process import GaussianProcessRegressor\n",
        "from sklearn.gaussian_process.kernels import ConstantKernel, Matern\n",
        "\n",
        "gpr_ml = GaussianProcessRegressor(n_restarts_optimizer=10,\n",
        "                                        normalize_y=True,\n",
        "                                        random_state=0)#,copy_X_train=False)\n",
        "\n",
        "\n",
        "#GPR - Training \n",
        "#gpr_ml.fit(X_train,Y_train)\n",
        "gpr_ml.fit(X_train_noise,Y_train)"
      ],
      "execution_count": 0,
      "outputs": [
        {
          "output_type": "execute_result",
          "data": {
            "text/plain": [
              "GaussianProcessRegressor(alpha=1e-10, copy_X_train=True, kernel=None,\n",
              "                         n_restarts_optimizer=10, normalize_y=True,\n",
              "                         optimizer='fmin_l_bfgs_b', random_state=0)"
            ]
          },
          "metadata": {
            "tags": []
          },
          "execution_count": 213
        }
      ]
    },
    {
      "cell_type": "markdown",
      "metadata": {
        "id": "RgdJAWz_ZNv5",
        "colab_type": "text"
      },
      "source": [
        "Exploring other kernels - somehow the default kernel seems to superfit the simulated data but has a total failure in real data.. \n",
        "\n",
        "Here is a great explanation with examples of the different kernels:\n",
        "\n",
        "https://peterroelants.github.io/posts/gaussian-process-kernels/"
      ]
    },
    {
      "cell_type": "code",
      "metadata": {
        "id": "EBkSZdukYN2n",
        "colab_type": "code",
        "colab": {}
      },
      "source": [
        "#seems we need a custom version of tf to do the special function ahead in GPR\n",
        "#!pip install tensorflow==1.15.0\n",
        "#!pip install tensorflow_probability==0.8.0\n"
      ],
      "execution_count": 0,
      "outputs": []
    },
    {
      "cell_type": "code",
      "metadata": {
        "id": "kKD2_KOGVNyR",
        "colab_type": "code",
        "colab": {}
      },
      "source": [
        "#import tensorflow.compat.v1 as tf\n",
        "#import tensorflow_probability as tfp\n",
        "#import tensorflow_probability as tfp\n",
        "\n",
        "#tf.logging.set_verbosity(tf.logging.ERROR)\n",
        "\n",
        "#tfd = tfp.distributions\n",
        "#tfk = tfp.math.psd_kernels\n",
        "\n",
        "#lets try to create our own kernel function\n",
        "#def exponentiated_quadratic_tf(amplitude, length_scale):\n",
        "#    \"\"\"Exponentiated quadratic TensorFlow operation.\"\"\"\n",
        "#    amplitude_tf = tf.constant(amplitude, dtype=tf.float64)\n",
        "#    length_scale_tf = tf.constant(length_scale, dtype=tf.float64)\n",
        "#    kernel = tfk.ExponentiatedQuadratic(\n",
        "#        amplitude=amplitude_tf, \n",
        "#        length_scale=length_scale_tf)\n",
        "#    return kernel\n",
        "\n",
        "#gp_kernel = exponentiated_quadratic_tf(amplitude=1,length_scale=1)"
      ],
      "execution_count": 0,
      "outputs": []
    },
    {
      "cell_type": "code",
      "metadata": {
        "id": "NRMX1KJRS0RM",
        "colab_type": "code",
        "colab": {}
      },
      "source": [
        "\n",
        "from sklearn.gaussian_process.kernels import WhiteKernel, ExpSineSquared, RationalQuadratic, RBF\n",
        "\n",
        "\n",
        "#got this kernel from an example, not sure what it is.. \n",
        "#gp_kernel = ExpSineSquared(1.0, 5.0, periodicity_bounds=(1e-2, 1e1)) \\\n",
        "#    + WhiteKernel(1e-1)\n",
        "\n",
        "#expsine squared\n",
        "#gp_kernel = 1.0 * ExpSineSquared(length_scale=1.0, periodicity=3.0,\n",
        "#                                length_scale_bounds=(0.1, 10.0),\n",
        "#                                periodicity_bounds=(1.0, 10.0))\n",
        "\n",
        "\n",
        "#rational quadratic kernel\n",
        "#gp_kernel = 1.0 * RationalQuadratic(length_scale=.2, alpha=1)\n",
        "\n",
        "#this is the default kernel i reckon\n",
        "#gp_kernel = 1.0 * RBF(length_scale=1.0, length_scale_bounds=(1e-1, 10.0)) \n",
        "\n",
        "#we can also combine kernels \n",
        "#gp_kernel = 1.0 * RBF(length_scale=1.0, length_scale_bounds=(1e-1, 10.0)) + WhiteKernel(1e-1)\n",
        "\n",
        "#+ 1.0 * RationalQuadratic(length_scale=1.0, alpha=0.1)\n",
        "\n",
        "#trying out other setups for GPR\n",
        "#gpr_ml = GaussianProcessRegressor(kernel = gp_kernel,\n",
        "#                                  n_restarts_optimizer=10,\n",
        "#                                  normalize_y=True,\n",
        "#                                  random_state=0)#,copy_X_train=False)\n",
        "\n",
        "#GPR - Training \n",
        "#gpr_ml.fit(X_train,Y_train)"
      ],
      "execution_count": 0,
      "outputs": []
    },
    {
      "cell_type": "markdown",
      "metadata": {
        "id": "grstKKrH4AmY",
        "colab_type": "text"
      },
      "source": [
        "Let's do a quick test to see how it works against simulated data"
      ]
    },
    {
      "cell_type": "code",
      "metadata": {
        "id": "8j7yCadK4M5b",
        "colab_type": "code",
        "outputId": "7022b4c3-38ea-4ee3-c4d0-fe464767d80c",
        "colab": {
          "base_uri": "https://localhost:8080/",
          "height": 51
        }
      },
      "source": [
        "LHS_valid0500 = lhsmdu.createRandomStandardUniformMatrix(n_traits,500) #the package has a more advanced method but it is too slow to process\n",
        "\n",
        "\n",
        "pd_valid0500 = pd.DataFrame.transpose(pd.DataFrame(LHS_valid0500))\n",
        "pd_valid0500.columns = [\"cab\",\"cw\",\"cm\",\"lai\"]\n",
        "\n",
        "pd_valid0500[\"cab\"]=pd_valid0500[\"cab\"]*max_cab+min_cab\n",
        "pd_valid0500[\"cw\"] =pd_valid0500[\"cw\"] *max_cw +min_cw\n",
        "pd_valid0500[\"cm\"] =pd_valid0500[\"cm\"] *max_cm +min_cm\n",
        "pd_valid0500[\"lai\"]=pd_valid0500[\"lai\"]*max_lai+min_lai\n",
        "\n",
        "np_spectra0500 = Gen_spectra_data(pd_valid0500)\n",
        "\n",
        "print(np_spectra0500.shape)\n",
        "#lets also create a numpy object for the tratis\n",
        "np_valid0500 = pd_valid0500.iloc[:,:].values\n",
        "\n",
        "valid_df_0500 = np_spectra0500[:,[1,2,3,4,5,6,8,11,12]]\n",
        "print(valid_df_0500.shape)\n",
        "\n"
      ],
      "execution_count": 0,
      "outputs": [
        {
          "output_type": "stream",
          "text": [
            "(500, 15)\n",
            "(500, 9)\n"
          ],
          "name": "stdout"
        }
      ]
    },
    {
      "cell_type": "code",
      "metadata": {
        "id": "GCaexFTPSd8r",
        "colab_type": "code",
        "outputId": "8fdc5651-9e82-446d-b32f-f622555df234",
        "colab": {
          "base_uri": "https://localhost:8080/",
          "height": 34
        }
      },
      "source": [
        "test_pred = gpr_ml.predict(valid_df_0500)\n",
        "test_pred.shape"
      ],
      "execution_count": 0,
      "outputs": [
        {
          "output_type": "execute_result",
          "data": {
            "text/plain": [
              "(500, 4)"
            ]
          },
          "metadata": {
            "tags": []
          },
          "execution_count": 217
        }
      ]
    },
    {
      "cell_type": "code",
      "metadata": {
        "id": "xXDA7WUw5GaF",
        "colab_type": "code",
        "outputId": "9d22c4f7-b495-4b0b-924a-611f5c5dafc7",
        "colab": {
          "base_uri": "https://localhost:8080/",
          "height": 588
        }
      },
      "source": [
        "\n",
        "\n",
        "#plotting cab\n",
        "fig, axs = plt.subplots(1,2)\n",
        "fig.suptitle('Selected traits')\n",
        "fig.subplots_adjust(wspace=1)\n",
        "\n",
        "#plt.subplot(3,1,1)\n",
        "axs[0].plot(pd_valid0500[\"cab\"],test_pred[:,0],\"o\",label=\"Cab\")\n",
        "axs[0].legend(loc=\"upper left\")\n",
        "axs[0].set_ylabel(\"Prediction\")\n",
        "\n",
        "axs[1].plot(pd_valid0500[\"cw\"],test_pred[:,1],\"o\",label=\"Cw\")\n",
        "axs[1].legend(loc=\"upper left\")\n",
        "#axs[1].set_ylabel(\"Prediction\")\n",
        "\n",
        "plt.show()\n",
        "\n",
        "#plotting cab\n",
        "fig, axs = plt.subplots(1,2)\n",
        "fig.suptitle('Selected traits')\n",
        "fig.subplots_adjust(wspace=1)\n",
        "\n",
        "\n",
        "axs[0].plot(pd_valid0500[\"cm\"],test_pred[:,2],\"o\",label=\"Cm\")\n",
        "axs[0].legend(loc=\"upper left\")\n",
        "#axs[0].set_ylabel(\"Prediction\")\n",
        "\n",
        "axs[1].plot(pd_valid0500[\"lai\"],test_pred[:,3],\"o\",label=\"LAI\")\n",
        "axs[1].legend(loc=\"upper left\")\n",
        "#axs[3].set_ylabel(\"Prediction\")"
      ],
      "execution_count": 0,
      "outputs": [
        {
          "output_type": "display_data",
          "data": {
            "image/png": "[encoded data removed]",
            "text/plain": [
              "<Figure size 432x288 with 2 Axes>"
            ]
          },
          "metadata": {
            "tags": []
          }
        },
        {
          "output_type": "execute_result",
          "data": {
            "text/plain": [
              "<matplotlib.legend.Legend at 0x7f0eeada3f28>"
            ]
          },
          "metadata": {
            "tags": []
          },
          "execution_count": 218
        },
        {
          "output_type": "display_data",
          "data": {
            "image/png": "[encoded data removed]",
            "text/plain": [
              "<Figure size 432x288 with 2 Axes>"
            ]
          },
          "metadata": {
            "tags": []
          }
        }
      ]
    },
    {
      "cell_type": "markdown",
      "metadata": {
        "id": "GNnbEkEFAtn-",
        "colab_type": "text"
      },
      "source": [
        "Checking the data before the predictions\n",
        "\n"
      ]
    },
    {
      "cell_type": "code",
      "metadata": {
        "id": "7BKaah_9A3dw",
        "colab_type": "code",
        "outputId": "bab102ab-efca-4345-c285-f1d1e8e7209f",
        "colab": {
          "base_uri": "https://localhost:8080/",
          "height": 306
        }
      },
      "source": [
        "print(\"Stats of input train data\")\n",
        "print(scipy.stats.describe(X_train))\n",
        "\n",
        "print(\"Stats of input s2 data\")\n",
        "print(scipy.stats.describe(bandByPixel))\n",
        "\n",
        "#this comparision does not make much sense because i will have data that is objectively not even vegetation... "
      ],
      "execution_count": 0,
      "outputs": [
        {
          "output_type": "stream",
          "text": [
            "Stats of input train data\n",
            "DescribeResult(nobs=10000, minmax=(array([0.02673987, 0.04662764, 0.018114  , 0.06466965, 0.17552588,\n",
            "       0.19577987, 0.20297932, 0.09059019, 0.0176632 ]), array([0.04808971, 0.17479658, 0.07493954, 0.27780825, 0.5391425 ,\n",
            "       0.58794603, 0.59151201, 0.36733244, 0.17324317])), mean=array([0.03294167, 0.08352945, 0.02925401, 0.12085924, 0.31818959,\n",
            "       0.36926672, 0.37211622, 0.16353779, 0.05145984]), variance=array([1.61390879e-05, 7.64351739e-04, 1.37552957e-04, 1.78354654e-03,\n",
            "       3.77558767e-03, 6.12349482e-03, 6.00142985e-03, 1.98716074e-03,\n",
            "       6.33588229e-04]), skewness=array([0.66840375, 0.81849456, 1.31038489, 0.91254873, 0.3677601 ,\n",
            "       0.36436772, 0.40638641, 1.11007852, 1.34403413]), kurtosis=array([-0.17813852, -0.21426378,  0.9919647 ,  0.11067778, -0.09461586,\n",
            "       -0.31856608, -0.31193212,  1.39615113,  2.07968647]))\n",
            "Stats of input s2 data\n",
            "DescribeResult(nobs=1728, minmax=(array([0.0177, 0.0348, 0.0207, 0.0577, 0.1312, 0.1494, 0.1637, 0.1148,\n",
            "       0.0578]), array([0.1247, 0.1934, 0.2678, 0.2995, 0.375 , 0.4285, 0.4411, 0.4148,\n",
            "       0.3726])), mean=array([0.0450217 , 0.06971331, 0.07928686, 0.11988669, 0.19956725,\n",
            "       0.22784797, 0.24736956, 0.24519005, 0.1635103 ]), variance=array([0.00032515, 0.00061921, 0.00203075, 0.00183529, 0.00166351,\n",
            "       0.00244777, 0.00246125, 0.00303518, 0.00310305]), skewness=array([1.30425193, 1.67719802, 1.46356236, 1.60719675, 1.10739422,\n",
            "       1.28765392, 1.21508619, 0.45275349, 0.85625398]), kurtosis=array([1.49720662, 2.87363907, 2.1048561 , 2.60620501, 1.1889728 ,\n",
            "       1.88929605, 1.82483266, 0.00537086, 1.06829323]))\n"
          ],
          "name": "stdout"
        }
      ]
    },
    {
      "cell_type": "markdown",
      "metadata": {
        "id": "dXhksp7-itEq",
        "colab_type": "text"
      },
      "source": [
        "The prediction runs out of RAM unfortunately\n"
      ]
    },
    {
      "cell_type": "code",
      "metadata": {
        "id": "7KJzoFlogqjV",
        "colab_type": "code",
        "colab": {}
      },
      "source": [
        "#this predicts the data back into the pixel data (its not fast)\n",
        "#img_pred = gpr_ml.predict(bandByPixel)"
      ],
      "execution_count": 0,
      "outputs": []
    },
    {
      "cell_type": "markdown",
      "metadata": {
        "id": "orAPlVn5q11Q",
        "colab_type": "text"
      },
      "source": [
        "lets see what we ahve "
      ]
    },
    {
      "cell_type": "code",
      "metadata": {
        "id": "2R9U9d1ALlqY",
        "colab_type": "code",
        "outputId": "ffd0cd52-db38-4c87-ec38-bb980c2431d2",
        "colab": {
          "base_uri": "https://localhost:8080/",
          "height": 289
        }
      },
      "source": [
        "print(bandByPixel.shape)\n",
        "print(valid_df_0500.shape)\n",
        "\n",
        "print(bandByPixel)\n",
        "print(valid_df_0500)\n",
        "\n"
      ],
      "execution_count": 0,
      "outputs": [
        {
          "output_type": "stream",
          "text": [
            "(1728, 9)\n",
            "(500, 9)\n",
            "[[0.0416 0.0626 0.0757 ... 0.2087 0.2654 0.176 ]\n",
            " [0.0418 0.0627 0.0727 ... 0.2329 0.2583 0.1681]\n",
            " [0.0427 0.0669 0.0756 ... 0.2356 0.2662 0.1767]\n",
            " ...\n",
            " [0.0232 0.0531 0.0264 ... 0.4014 0.1784 0.0766]\n",
            " [0.0242 0.0534 0.0273 ... 0.4173 0.1705 0.0732]\n",
            " [0.0254 0.0572 0.0292 ... 0.4279 0.1762 0.0748]]\n",
            "[[0.04306337 0.08064717 0.04769175 ... 0.21443733 0.14517912 0.07538855]\n",
            " [0.03307446 0.05482962 0.0294427  ... 0.26882509 0.13789938 0.0520701 ]\n",
            " [0.03277586 0.09129379 0.0245021  ... 0.45779039 0.241817   0.08961047]\n",
            " ...\n",
            " [0.03323157 0.09744889 0.02737124 ... 0.37628053 0.1150555  0.02504563]\n",
            " [0.02799525 0.0522624  0.01845074 ... 0.40940077 0.11708905 0.025642  ]\n",
            " [0.0348773  0.11152723 0.03043692 ... 0.48572578 0.25255381 0.09027546]]\n"
          ],
          "name": "stdout"
        }
      ]
    },
    {
      "cell_type": "code",
      "metadata": {
        "id": "4ZOyjFt4hHN-",
        "colab_type": "code",
        "outputId": "bbe9e541-460b-4e1c-bf38-219a41ad315a",
        "colab": {
          "base_uri": "https://localhost:8080/",
          "height": 153
        }
      },
      "source": [
        "print(bandByPixel.shape)\n",
        "print(train_df_3000.shape)\n",
        "\n",
        "#lets split it into folds and solve it by a loop\n",
        "from sklearn.model_selection import KFold\n",
        "kf = KFold(n_splits=2)\n",
        "kf.split(bandByPixel)\n",
        "\n",
        "\n",
        "\n",
        "k=1\n",
        "for i,j in kf.split(bandByPixel):\n",
        "  #print(i.shape)\n",
        "  #print(j.shape)\n",
        "  \n",
        "  print(k)\n",
        "  \n",
        "  X_test = bandByPixel[j] #this fetches the rows on the test section\n",
        "\n",
        "  print(X_test.shape)\n",
        "  print(\"end of fold\")\n",
        "\n",
        "  temp_pred = gpr_ml.predict(X_test)\n",
        "\n",
        "  if k == 1: \n",
        "    out_stack = temp_pred\n",
        "  if k > 1:\n",
        "    out_stack = np.vstack((out_stack,temp_pred))\n",
        "\n",
        "\n",
        "  k=k+1\n",
        "\n"
      ],
      "execution_count": 0,
      "outputs": [
        {
          "output_type": "stream",
          "text": [
            "(1728, 9)\n",
            "(10000, 9)\n",
            "1\n",
            "(864, 9)\n",
            "end of fold\n",
            "2\n",
            "(864, 9)\n",
            "end of fold\n"
          ],
          "name": "stdout"
        }
      ]
    },
    {
      "cell_type": "markdown",
      "metadata": {
        "id": "O3sZB0Tpux-s",
        "colab_type": "text"
      },
      "source": [
        "Seems it's a sucess!"
      ]
    },
    {
      "cell_type": "code",
      "metadata": {
        "id": "WGA29jKZuPWN",
        "colab_type": "code",
        "outputId": "09e56a83-3834-478d-b8c3-473ed9ffc052",
        "colab": {
          "base_uri": "https://localhost:8080/",
          "height": 34
        }
      },
      "source": [
        "print(out_stack.shape)"
      ],
      "execution_count": 0,
      "outputs": [
        {
          "output_type": "stream",
          "text": [
            "(1728, 4)\n"
          ],
          "name": "stdout"
        }
      ]
    },
    {
      "cell_type": "code",
      "metadata": {
        "id": "nB-vN1Z1wvWv",
        "colab_type": "code",
        "outputId": "7d84b7d2-4949-4340-e251-b5908807b12a",
        "colab": {
          "base_uri": "https://localhost:8080/",
          "height": 136
        }
      },
      "source": [
        "print(out_stack)"
      ],
      "execution_count": 0,
      "outputs": [
        {
          "output_type": "stream",
          "text": [
            "[[ 4.57076644e+01  8.49603023e-02 -5.69586979e-02  6.56984085e+00]\n",
            " [ 3.78081741e+01  5.25205042e-02 -3.11417209e-02  1.78138870e+00]\n",
            " [ 3.61034622e+01  5.80268111e-02 -3.54787038e-02  3.57817978e+00]\n",
            " ...\n",
            " [ 5.75050201e+01  3.19875683e-02 -4.00929914e-03  1.11255783e+00]\n",
            " [ 5.77849273e+01  3.69320418e-02 -7.54650698e-03  1.26419968e+00]\n",
            " [ 5.22183914e+01  3.54688074e-02 -7.82265530e-03  1.17189926e+00]]\n"
          ],
          "name": "stdout"
        }
      ]
    },
    {
      "cell_type": "markdown",
      "metadata": {
        "id": "UXIUalcAv7b7",
        "colab_type": "text"
      },
      "source": [
        "Final set up before saving"
      ]
    },
    {
      "cell_type": "code",
      "metadata": {
        "id": "5w5mm4_Ju1RM",
        "colab_type": "code",
        "colab": {}
      },
      "source": [
        "#print(pd_traits3000)\n",
        "\n",
        "\n",
        "cab_band = out_stack[:,0]\n",
        "cw_band = out_stack[:,1]\n",
        "cm_band = out_stack[:,2]\n",
        "lai_band = out_stack[:,3]\n",
        "\n",
        "\n",
        "cab_img = np.reshape(cab_band,(ds1.RasterYSize,ds1.RasterXSize))\n",
        "cm_img = np.reshape(cm_band,(ds1.RasterYSize,ds1.RasterXSize))\n",
        "cw_img = np.reshape(cw_band,(ds1.RasterYSize,ds1.RasterXSize))\n",
        "lai_img = np.reshape(lai_band,(ds1.RasterYSize,ds1.RasterXSize))\n",
        "\n",
        "#and now we can save it to a raster file\n",
        "cab_outfile = s2_filename + \"_cab_GPR_2\"+\".tif\"\n",
        "cm_outfile  = s2_filename + \"_cm_GPR_2\"+\".tif\"\n",
        "cw_outfile  = s2_filename + \"_cw_GPR_2\"+\".tif\"\n",
        "lai_outfile = s2_filename + \"_lai_GPR_2\"+\".tif\"\n",
        "\n",
        "#scipy.stats.describe(out_stack)"
      ],
      "execution_count": 0,
      "outputs": []
    },
    {
      "cell_type": "code",
      "metadata": {
        "id": "htWCgC_8vnVj",
        "colab_type": "code",
        "colab": {}
      },
      "source": [
        "raster.export(cab_img, ds1, cab_outfile, dtype='float')\n",
        "raster.export(cm_img, ds1, cm_outfile, dtype='float')\n",
        "raster.export(cw_img, ds1, cw_outfile, dtype='float')\n",
        "raster.export(lai_img, ds1, lai_outfile, dtype='float')"
      ],
      "execution_count": 0,
      "outputs": []
    },
    {
      "cell_type": "markdown",
      "metadata": {
        "id": "Oj2us5gSxqQX",
        "colab_type": "text"
      },
      "source": [
        "IT worked but the results are nonsense:\n",
        "\n",
        "The GPR is predicting quite well on the simulated data but fails completely on the real satellite data.. \n",
        "\n",
        "Options: \n",
        "\n",
        "- perhaps the function to transform hyperspectral to sentinel data is improper\n",
        "- overfitting of the ML?\n",
        "(with other kernel functions it works very differently)\n",
        "- something wrong on the SR data? am i putting in the right inputs? (this one i think i am)\n",
        "\n",
        "- try optimization in just one small bit of the data\n",
        "\n"
      ]
    },
    {
      "cell_type": "code",
      "metadata": {
        "id": "57jGT0S3epkF",
        "colab_type": "code",
        "outputId": "ac8519ba-4698-47b1-864d-23e03ffc0694",
        "colab": {
          "base_uri": "https://localhost:8080/",
          "height": 1000
        }
      },
      "source": [
        "#window = rasterio.windows.Window(1024, 1024, 1280, 2560)\n",
        "\n",
        "#in a GIS we can easily change the color scale to avoid the extremes\n",
        "\n",
        "plt.figure(figsize=(6,8.5))\n",
        "plt.imshow(cab_img)\n",
        "plt.colorbar(shrink=0.5)\n",
        "plt.title('Ch a+b')\n",
        "plt.xlabel('Column #')\n",
        "plt.ylabel('Row #')\n",
        "\n",
        "plt.figure(figsize=(6,8.5))\n",
        "plt.imshow(cw_img)\n",
        "plt.colorbar(shrink=0.5)\n",
        "plt.title('Cw')\n",
        "plt.xlabel('Column #')\n",
        "plt.ylabel('Row #')\n",
        "\n",
        "plt.figure(figsize=(6,8.5))\n",
        "plt.imshow(cm_img)\n",
        "plt.colorbar(shrink=0.5)\n",
        "plt.title('Cm')\n",
        "plt.xlabel('Column #')\n",
        "plt.ylabel('Row #')\n",
        "\n",
        "\n",
        "plt.figure(figsize=(6,8.5))\n",
        "plt.imshow(lai_img)\n",
        "plt.colorbar(shrink=0.5)\n",
        "plt.title('Lai')\n",
        "plt.xlabel('Column #')\n",
        "plt.ylabel('Row #')\n"
      ],
      "execution_count": 0,
      "outputs": [
        {
          "output_type": "execute_result",
          "data": {
            "text/plain": [
              "Text(0, 0.5, 'Row #')"
            ]
          },
          "metadata": {
            "tags": []
          },
          "execution_count": 227
        },
        {
          "output_type": "display_data",
          "data": {
            "image/png": "[encoded data removed]",
            "text/plain": [
              "<Figure size 432x612 with 2 Axes>"
            ]
          },
          "metadata": {
            "tags": []
          }
        },
        {
          "output_type": "display_data",
          "data": {
            "image/png": "[encoded data removed]",
            "text/plain": [
              "<Figure size 432x612 with 2 Axes>"
            ]
          },
          "metadata": {
            "tags": []
          }
        },
        {
          "output_type": "display_data",
          "data": {
            "image/png": "[encoded data removed]",
            "text/plain": [
              "<Figure size 432x612 with 2 Axes>"
            ]
          },
          "metadata": {
            "tags": []
          }
        },
        {
          "output_type": "display_data",
          "data": {
            "image/png": "[encoded data removed]",
            "text/plain": [
              "<Figure size 432x612 with 2 Axes>"
            ]
          },
          "metadata": {
            "tags": []
          }
        }
      ]
    },
    {
      "cell_type": "code",
      "metadata": {
        "id": "L2TAHXAvBz90",
        "colab_type": "code",
        "colab": {}
      },
      "source": [
        "#machine learning stuff\n",
        "from sklearn.neural_network import MLPRegressor as ANN_reg #this is a simpler neural network package\n",
        "\n",
        "from keras.models import Sequential\n",
        "from keras.layers import Dense\n",
        "import tensorflow.compat.v1 as tf\n",
        "tf.disable_v2_behavior()"
      ],
      "execution_count": 0,
      "outputs": []
    },
    {
      "cell_type": "code",
      "metadata": {
        "id": "CehSNTTtB2-c",
        "colab_type": "code",
        "colab": {}
      },
      "source": [
        "#multi tas\n",
        "from keras.models import Model\n",
        "from keras.layers import Input, Dense\n",
        "\n",
        "inputs = Input(shape=(9,))\n",
        "sub1 = Dense(64, activation='sigmoid')(inputs)\n",
        "sub2 = Dense(32, activation='sigmoid')(sub1)\n",
        "cab1 = Dense(16, activation='sigmoid')(sub2)\n",
        "cw1  = Dense(16, activation='sigmoid')(sub2)\n",
        "cm1  = Dense(16, activation='sigmoid')(sub2)\n",
        "lai1 = Dense(16, activation='sigmoid')(sub2)\n",
        "cab2 = Dense(1, activation='sigmoid')(cab1)\n",
        "cw2  = Dense(1, activation='sigmoid')(cw1)\n",
        "cm2  = Dense(1, activation='sigmoid')(cm1)\n",
        "lai2 = Dense(1, activation='sigmoid')(lai1)\n",
        "\n",
        "\n",
        "#building the model using keras api\n",
        "model = Model(inputs=inputs, outputs=[cab2,cw2,cm2,lai2])\n",
        "model.compile(loss='mean_squared_error', optimizer='adam', metrics=['accuracy'])"
      ],
      "execution_count": 0,
      "outputs": []
    },
    {
      "cell_type": "code",
      "metadata": {
        "id": "z8gWiZ6lB8Xr",
        "colab_type": "code",
        "colab": {}
      },
      "source": [
        "#fitting the data, ANN needs standardization\n",
        "from sklearn.preprocessing import MinMaxScaler #this is to standardize the input data [not used for now]\n",
        "\n",
        "#X_train_noise\n",
        "X_train_hold = X_train\n",
        "X_ann = X_train_noise\n",
        "Y_ann = Y_train  #converts from a panda table to a numpy\n",
        "\n",
        "scaler = MinMaxScaler()#lets rescale the input\n",
        "scaler.fit(Y_ann)\n",
        "Y_ann_norm = scaler.transform(Y_ann)\n",
        "\n",
        "Y_ann_norm.shape\n",
        "\n",
        "cab_train = Y_ann_norm[:,0]\n",
        "cw_train = Y_ann_norm[:,1]\n",
        "cm_train = Y_ann_norm[:,2]\n",
        "lai_train = Y_ann_norm[:,3]"
      ],
      "execution_count": 0,
      "outputs": []
    },
    {
      "cell_type": "code",
      "metadata": {
        "id": "McHlS2qgB-rJ",
        "colab_type": "code",
        "outputId": "9541b91e-be8b-42dc-e653-765e31be4599",
        "colab": {
          "base_uri": "https://localhost:8080/",
          "height": 34
        }
      },
      "source": [
        "model.fit(X_ann,[cab_train,cw_train,cm_train,lai_train],epochs=1000,verbose=0) #add verbose=0 to hide output spam"
      ],
      "execution_count": 0,
      "outputs": [
        {
          "output_type": "execute_result",
          "data": {
            "text/plain": [
              "<keras.callbacks.History at 0x7f0eea8e5e80>"
            ]
          },
          "metadata": {
            "tags": []
          },
          "execution_count": 231
        }
      ]
    },
    {
      "cell_type": "code",
      "metadata": {
        "id": "18Zl7zt9CNg1",
        "colab_type": "code",
        "colab": {}
      },
      "source": [
        "Y_ann_pred = model.predict(valid_df_0500)\n",
        "\n",
        "#lets assume this is the order\n",
        "cab_pred = Y_ann_pred[0]\n",
        "cw_pred  = Y_ann_pred[1]\n",
        "cm_pred  = Y_ann_pred[2]\n",
        "lai_pred = Y_ann_pred[3]\n",
        "\n",
        "np_Y_ann_pred = np.array(cab_pred)\n",
        "np_Y_ann_pred = np.hstack((np_Y_ann_pred,cw_pred))\n",
        "np_Y_ann_pred = np.hstack((np_Y_ann_pred,cm_pred))\n",
        "np_Y_ann_pred = np.hstack((np_Y_ann_pred,lai_pred))\n",
        "np_Y_ann_pred.shape\n",
        "\n",
        "#and finall we can re-transform the values\n",
        "np_Y_ann_pred = scaler.inverse_transform(np_Y_ann_pred)\n",
        "#np_Y_ann_pred\n",
        "\n",
        "#Y_ann_pred = pd.DataFrame(scaler.inverse_transform(model.predict(valid_df_0500)))\n",
        "#Y_ann_pred.columns = [\"cab\",\"car\",\"cw\",\"cm\"]\n",
        "#Y_ann_pred\n",
        "\n",
        "test_pred=np_Y_ann_pred"
      ],
      "execution_count": 0,
      "outputs": []
    },
    {
      "cell_type": "code",
      "metadata": {
        "id": "HqHSeO19CR1j",
        "colab_type": "code",
        "outputId": "5de114ad-fb5e-4009-e58b-c3ed1fe6f066",
        "colab": {
          "base_uri": "https://localhost:8080/",
          "height": 588
        }
      },
      "source": [
        "#plotting cab\n",
        "fig, axs = plt.subplots(1,2)\n",
        "fig.suptitle('Selected traits')\n",
        "fig.subplots_adjust(wspace=1)\n",
        "\n",
        "#plt.subplot(3,1,1)\n",
        "axs[0].plot(pd_valid0500[\"cab\"],test_pred[:,0],\"o\",label=\"Cab\")\n",
        "axs[0].legend(loc=\"upper left\")\n",
        "axs[0].set_ylabel(\"Prediction\")\n",
        "\n",
        "axs[1].plot(pd_valid0500[\"cw\"],test_pred[:,1],\"o\",label=\"Cw\")\n",
        "axs[1].legend(loc=\"upper left\")\n",
        "#axs[1].set_ylabel(\"Prediction\")\n",
        "\n",
        "plt.show()\n",
        "\n",
        "#plotting cab\n",
        "fig, axs = plt.subplots(1,2)\n",
        "fig.suptitle('Selected traits')\n",
        "fig.subplots_adjust(wspace=1)\n",
        "\n",
        "\n",
        "axs[0].plot(pd_valid0500[\"cm\"],test_pred[:,2],\"o\",label=\"Cm\")\n",
        "axs[0].legend(loc=\"upper left\")\n",
        "#axs[0].set_ylabel(\"Prediction\")\n",
        "\n",
        "axs[1].plot(pd_valid0500[\"lai\"],test_pred[:,3],\"o\",label=\"LAI\")\n",
        "axs[1].legend(loc=\"upper left\")\n",
        "#axs[3].set_ylabel(\"Prediction\")"
      ],
      "execution_count": 0,
      "outputs": [
        {
          "output_type": "display_data",
          "data": {
            "image/png": "[encoded data removed]",
            "text/plain": [
              "<Figure size 432x288 with 2 Axes>"
            ]
          },
          "metadata": {
            "tags": []
          }
        },
        {
          "output_type": "execute_result",
          "data": {
            "text/plain": [
              "<matplotlib.legend.Legend at 0x7f0eea75e5c0>"
            ]
          },
          "metadata": {
            "tags": []
          },
          "execution_count": 233
        },
        {
          "output_type": "display_data",
          "data": {
            "image/png": "[encoded data removed]",
            "text/plain": [
              "<Figure size 432x288 with 2 Axes>"
            ]
          },
          "metadata": {
            "tags": []
          }
        }
      ]
    },
    {
      "cell_type": "markdown",
      "metadata": {
        "id": "hFcJBzO_FhFd",
        "colab_type": "text"
      },
      "source": [
        "Predicting to the images\n"
      ]
    },
    {
      "cell_type": "code",
      "metadata": {
        "id": "FCc4QG2nFsxG",
        "colab_type": "code",
        "colab": {}
      },
      "source": [
        "#this predicts the data back into the pixel data (its not fast)\n",
        "#img_pred = gpr_ml.predict(bandByPixel)\n",
        "\n",
        "img_pred = model.predict(bandByPixel)\n",
        "#valid_df_0500"
      ],
      "execution_count": 0,
      "outputs": []
    },
    {
      "cell_type": "code",
      "metadata": {
        "id": "PpK94kh2GBn3",
        "colab_type": "code",
        "outputId": "229faf6d-c011-456d-d2e8-a17756391d6f",
        "colab": {
          "base_uri": "https://localhost:8080/",
          "height": 34
        }
      },
      "source": [
        "#decomposing the predictiong\n",
        "\n",
        "\n",
        "#lets assume this is the order\n",
        "cab_pred = img_pred[0]\n",
        "cw_pred  = img_pred[1]\n",
        "cm_pred  = img_pred[2]\n",
        "lai_pred = img_pred[3]\n",
        "\n",
        "np_Y_ann_pred = np.array(cab_pred)\n",
        "np_Y_ann_pred = np.hstack((np_Y_ann_pred,cw_pred))\n",
        "np_Y_ann_pred = np.hstack((np_Y_ann_pred,cm_pred))\n",
        "np_Y_ann_pred = np.hstack((np_Y_ann_pred,lai_pred))\n",
        "np_Y_ann_pred.shape\n",
        "\n",
        "np_Y_ann_pred = scaler.inverse_transform(np_Y_ann_pred)\n",
        "\n",
        "np_Y_ann_pred.shape"
      ],
      "execution_count": 0,
      "outputs": [
        {
          "output_type": "execute_result",
          "data": {
            "text/plain": [
              "(1728, 4)"
            ]
          },
          "metadata": {
            "tags": []
          },
          "execution_count": 235
        }
      ]
    },
    {
      "cell_type": "code",
      "metadata": {
        "id": "pQs2woEiGZaw",
        "colab_type": "code",
        "outputId": "98a34d53-05ac-48e0-8ab5-fdf452e31c6e",
        "colab": {
          "base_uri": "https://localhost:8080/",
          "height": 1000
        }
      },
      "source": [
        "cab_img_nn = np.reshape(np_Y_ann_pred[:,0],(ds1.RasterYSize,ds1.RasterXSize))\n",
        "cm_img_nn = np.reshape(np_Y_ann_pred[:,1],(ds1.RasterYSize,ds1.RasterXSize))\n",
        "cw_img_nn = np.reshape(np_Y_ann_pred[:,2],(ds1.RasterYSize,ds1.RasterXSize))\n",
        "lai_img_nn = np.reshape(np_Y_ann_pred[:,3],(ds1.RasterYSize,ds1.RasterXSize))\n",
        "\n",
        "\n",
        "#in a GIS we can easily change the color scale to avoid the extremes\n",
        "\n",
        "plt.figure(figsize=(6,8.5))\n",
        "plt.imshow(cab_img_nn)\n",
        "plt.colorbar(shrink=0.5)\n",
        "plt.title('Ch a+b')\n",
        "plt.xlabel('Column #')\n",
        "plt.ylabel('Row #')\n",
        "\n",
        "plt.figure(figsize=(6,8.5))\n",
        "plt.imshow(cw_img_nn)\n",
        "plt.colorbar(shrink=0.5)\n",
        "plt.title('Cw')\n",
        "plt.xlabel('Column #')\n",
        "plt.ylabel('Row #')\n",
        "\n",
        "plt.figure(figsize=(6,8.5))\n",
        "plt.imshow(cm_img_nn)\n",
        "plt.colorbar(shrink=0.5)\n",
        "plt.title('Cm')\n",
        "plt.xlabel('Column #')\n",
        "plt.ylabel('Row #')\n",
        "\n",
        "\n",
        "plt.figure(figsize=(6,8.5))\n",
        "plt.imshow(lai_img_nn)\n",
        "plt.colorbar(shrink=0.5)\n",
        "plt.title('Lai')\n",
        "plt.xlabel('Column #')\n",
        "plt.ylabel('Row #')"
      ],
      "execution_count": 0,
      "outputs": [
        {
          "output_type": "execute_result",
          "data": {
            "text/plain": [
              "Text(0, 0.5, 'Row #')"
            ]
          },
          "metadata": {
            "tags": []
          },
          "execution_count": 236
        },
        {
          "output_type": "display_data",
          "data": {
            "image/png": "[encoded data removed]",
            "text/plain": [
              "<Figure size 432x612 with 2 Axes>"
            ]
          },
          "metadata": {
            "tags": []
          }
        },
        {
          "output_type": "display_data",
          "data": {
            "image/png": "[encoded data removed]",
            "text/plain": [
              "<Figure size 432x612 with 2 Axes>"
            ]
          },
          "metadata": {
            "tags": []
          }
        },
        {
          "output_type": "display_data",
          "data": {
            "image/png": "[encoded data removed]",
            "text/plain": [
              "<Figure size 432x612 with 2 Axes>"
            ]
          },
          "metadata": {
            "tags": []
          }
        },
        {
          "output_type": "display_data",
          "data": {
            "image/png": "[encoded data removed]",
            "text/plain": [
              "<Figure size 432x612 with 2 Axes>"
            ]
          },
          "metadata": {
            "tags": []
          }
        }
      ]
    },
    {
      "cell_type": "code",
      "metadata": {
        "id": "Tzzegbp4HQBw",
        "colab_type": "code",
        "colab": {}
      },
      "source": [
        "#and now we can save it to a raster file\n",
        "cab_outfile = s2_filename + \"_cab_ANN_Slimits_3\"+\".tif\"\n",
        "cm_outfile  = s2_filename + \"_cm_ANN_Slimits_3\"+\".tif\"\n",
        "cw_outfile  = s2_filename + \"_cw_ANN_Slimits_3\"+\".tif\"\n",
        "lai_outfile = s2_filename + \"_lai_ANN_Slimits_3\"+\".tif\"\n",
        "\n",
        "raster.export(cab_img_nn, ds1, cab_outfile, dtype='float')\n",
        "raster.export(cm_img_nn, ds1, cm_outfile, dtype='float')\n",
        "raster.export(cw_img_nn, ds1, cw_outfile, dtype='float')\n",
        "raster.export(lai_img_nn, ds1, lai_outfile, dtype='float')"
      ],
      "execution_count": 0,
      "outputs": []
    },
    {
      "cell_type": "markdown",
      "metadata": {
        "id": "Tv7r61Tf7ZsQ",
        "colab_type": "text"
      },
      "source": [
        "Doing some optimization"
      ]
    },
    {
      "cell_type": "code",
      "metadata": {
        "id": "ovX_5Ar47ZLp",
        "colab_type": "code",
        "colab": {}
      },
      "source": [
        "#and considering my current target of 20m by 20m, the rho_s2 should also use only the 20m bands\n",
        "def cost_spectra_sentinel(x, rho_s2):\n",
        "  import pysptools as sptool\n",
        "  \n",
        "  #cost function can be easily editable here, all it is needed is to add\n",
        "  #interactions between the various spectral differences methods on the return\n",
        "  #cab,car,cw,cm,lai  = x\n",
        "  cab,cw,cm,lai  = x\n",
        "  sim_canopy = custom_prosail(cab,cw,cm,lai)\n",
        "  sim_canopy = Prosail2S2(filepath,sim_canopy)\n",
        "    #print(sim_canopy)\n",
        "    #print(sim_canopy.shape)\n",
        "    #print(sim_canopy[[1,2,3,4,5,6,8,11,12],])\n",
        "  sim_canopy = sim_canopy[[1,2,3,4,5,6,8,11,12],]\n",
        "\n",
        "#    wavel               = np.array(range(400,2501,1))\n",
        "#    rho_canopy1         = np.array([np.transpose(wavel), rho])\n",
        "#    sim_canopy1         = np.array([np.transpose(wavel), sim_canopy])\n",
        "  samerror            = sptool.distance.SAM(rho_s2,sim_canopy) \n",
        "#    samerror            = sptool.distance.SID(rho,sim_canopy)\n",
        "#    samerror            = sptool.distance.chebyshev(rho,sim_canopy)\n",
        "#    samerror            = sptool.distance.SAM(rho,sim_canopy) + (sptool.distance.SID(rho,sim_canopy)/2) + (sptool.distance.chebyshev(rho,sim_canopy)/2)\n",
        "#    samerror            = sptool.distance.SAM(rho[0:1000],sim_canopy[0:1000])# + (sptool.distance.SAM(rho[1000:2101],sim_canopy[1000:2101])*10)\n",
        "\n",
        "  return samerror"
      ],
      "execution_count": 0,
      "outputs": []
    },
    {
      "cell_type": "code",
      "metadata": {
        "id": "yCLoewbK9GE2",
        "colab_type": "code",
        "outputId": "b6ba1dba-ac69-41dd-b22c-91b7316a9a8f",
        "colab": {
          "base_uri": "https://localhost:8080/",
          "height": 51
        }
      },
      "source": [
        "#this is the swarm optimization package\n",
        "!pip install --upgrade pyswarm\n",
        "from pyswarm import pso\n",
        "#package to for operations on spectral data\n",
        "import pysptools as sptool \n",
        "from pysptools import distance"
      ],
      "execution_count": 0,
      "outputs": [
        {
          "output_type": "stream",
          "text": [
            "Requirement already up-to-date: pyswarm in /usr/local/lib/python3.6/dist-packages (0.6)\n",
            "Requirement already satisfied, skipping upgrade: numpy in /usr/local/lib/python3.6/dist-packages (from pyswarm) (1.17.5)\n"
          ],
          "name": "stdout"
        }
      ]
    },
    {
      "cell_type": "code",
      "metadata": {
        "id": "pefBuQQ_7gN9",
        "colab_type": "code",
        "outputId": "261eb794-2748-4820-a977-6dbc25dea7ae",
        "colab": {
          "base_uri": "https://localhost:8080/",
          "height": 34
        }
      },
      "source": [
        "np_optim_spectr=bandByPixel\n",
        "\n",
        "#testing for one\n",
        "from pyswarm import pso\n",
        "np.set_printoptions(suppress=False)\n",
        "\n",
        "#init prosail parameters\n",
        "init_cab = max_cab*.5\n",
        "#init_car = max_car*.5\n",
        "init_cw  = max_cw*.5\n",
        "init_cm  = max_cm*.5\n",
        "init_lai = max_lai*.5\n",
        "\n",
        "#init conditions\n",
        "init_trait = [init_cab,init_cw,init_cm,init_lai]\n",
        "init_rho = custom_prosail(init_cab,init_cw,init_cm,init_lai)\n",
        "init_rho_s2 = Prosail2S2(filepath,init_rho)\n",
        "\n",
        "#boundaries for the search:\n",
        "#cab car cw cm lai\n",
        "lb = [min_cab,min_cw,min_cm,min_lai]\n",
        "ub = [max_cab,max_cw,max_cm,max_lai]\n",
        "#bnds = [lb,ub]\n",
        "#bnds2 = ((1,80),(1,45),(0.002,0.009),(0.002,0.009),(0.2,10))\n",
        "\n",
        "\n",
        "\n",
        "optim_pso = pso(cost_spectra_sentinel,\n",
        "                lb,ub,\n",
        "                args=[np_optim_spectr[0,:]],\n",
        "                swarmsize=1) #it requires a np.array inside a np.array"
      ],
      "execution_count": 0,
      "outputs": [
        {
          "output_type": "stream",
          "text": [
            "Stopping search: Swarm best objective change less than 1e-08\n"
          ],
          "name": "stdout"
        }
      ]
    },
    {
      "cell_type": "code",
      "metadata": {
        "id": "porf--mr-zkT",
        "colab_type": "code",
        "outputId": "421a42bd-ef6a-4ff1-ba9b-ab9aa92e6910",
        "colab": {
          "base_uri": "https://localhost:8080/",
          "height": 34
        }
      },
      "source": [
        "len(bandByPixel)"
      ],
      "execution_count": 0,
      "outputs": [
        {
          "output_type": "execute_result",
          "data": {
            "text/plain": [
              "20"
            ]
          },
          "metadata": {
            "tags": []
          },
          "execution_count": 136
        }
      ]
    },
    {
      "cell_type": "code",
      "metadata": {
        "id": "IFRRK07d89Vz",
        "colab_type": "code",
        "outputId": "00293451-3fa0-4326-90c9-1e09e4818d31",
        "colab": {
          "base_uri": "https://localhost:8080/",
          "height": 697
        }
      },
      "source": [
        "\n",
        "k=1\n",
        "for i in range(len(bandByPixel)):\n",
        "  print(\"running row nr:\",i) #uncomment if you want to keep track of what is going on\n",
        "  if k == 1:\n",
        "    optim_pso = pso(cost_spectra_sentinel,\n",
        "                lb,ub,\n",
        "                args=[np_optim_spectr[i,:]],\n",
        "                swarmsize=150)#, #if we change this to 1 i reckon its the same as SGD\n",
        "                #minfunc=0.00001) #this is important.. but i want the swarm to go faster\n",
        "    \n",
        "    np_pso=optim_pso[0]\n",
        "  if k > 1:\n",
        "    optim_pso = pso(cost_spectra_sentinel,\n",
        "                lb,ub,\n",
        "                args=[np_optim_spectr[i,:]],\n",
        "                swarmsize=150)#,\n",
        "                #minfunc=0.00001)\n",
        "    \n",
        "    np_pso=numpy.vstack((np_pso,optim_pso[0]))\n",
        "\n",
        "  k = k+1"
      ],
      "execution_count": 0,
      "outputs": [
        {
          "output_type": "stream",
          "text": [
            "running row nr: 0\n",
            "Stopping search: Swarm best objective change less than 1e-08\n",
            "running row nr: 1\n",
            "Stopping search: Swarm best objective change less than 1e-08\n",
            "running row nr: 2\n",
            "Stopping search: Swarm best objective change less than 1e-08\n",
            "running row nr: 3\n",
            "Stopping search: Swarm best objective change less than 1e-08\n",
            "running row nr: 4\n",
            "Stopping search: Swarm best objective change less than 1e-08\n",
            "running row nr: 5\n",
            "Stopping search: Swarm best objective change less than 1e-08\n",
            "running row nr: 6\n",
            "Stopping search: Swarm best objective change less than 1e-08\n",
            "running row nr: 7\n",
            "Stopping search: Swarm best objective change less than 1e-08\n",
            "running row nr: 8\n",
            "Stopping search: Swarm best objective change less than 1e-08\n",
            "running row nr: 9\n",
            "Stopping search: Swarm best objective change less than 1e-08\n",
            "running row nr: 10\n",
            "Stopping search: Swarm best objective change less than 1e-08\n",
            "running row nr: 11\n",
            "Stopping search: Swarm best objective change less than 1e-08\n",
            "running row nr: 12\n",
            "Stopping search: Swarm best objective change less than 1e-08\n",
            "running row nr: 13\n",
            "Stopping search: Swarm best objective change less than 1e-08\n",
            "running row nr: 14\n",
            "Stopping search: Swarm best objective change less than 1e-08\n",
            "running row nr: 15\n",
            "Stopping search: Swarm best objective change less than 1e-08\n",
            "running row nr: 16\n",
            "Stopping search: Swarm best objective change less than 1e-08\n",
            "running row nr: 17\n",
            "Stopping search: Swarm best objective change less than 1e-08\n",
            "running row nr: 18\n",
            "Stopping search: Swarm best objective change less than 1e-08\n",
            "running row nr: 19\n",
            "Stopping search: Swarm best objective change less than 1e-08\n"
          ],
          "name": "stdout"
        }
      ]
    },
    {
      "cell_type": "code",
      "metadata": {
        "id": "Rv_3mdJFF8ZL",
        "colab_type": "code",
        "outputId": "6793c35e-6c97-4366-dccd-f90f1d65217c",
        "colab": {
          "base_uri": "https://localhost:8080/",
          "height": 1000
        }
      },
      "source": [
        "cab_img_pso = np.reshape(np_pso[:,0],(ds1.RasterYSize,ds1.RasterXSize))\n",
        "cm_img_pso = np.reshape(np_pso[:,1],(ds1.RasterYSize,ds1.RasterXSize))\n",
        "cw_img_pso = np.reshape(np_pso[:,2],(ds1.RasterYSize,ds1.RasterXSize))\n",
        "lai_img_pso = np.reshape(np_pso[:,3],(ds1.RasterYSize,ds1.RasterXSize))\n",
        "\n",
        "\n",
        "#and now we can save it to a raster file\n",
        "cab_outfile = s2_filename + \"_cab_pso_Slimits_3\"+\".tif\"\n",
        "cm_outfile  = s2_filename + \"_cm_pso_Slimits_3\"+\".tif\"\n",
        "cw_outfile  = s2_filename + \"_cw_pso_Slimits_3\"+\".tif\"\n",
        "lai_outfile = s2_filename + \"_lai_pso_Slimits_3\"+\".tif\"\n",
        "\n",
        "raster.export(cab_img_pso, ds1, cab_outfile, dtype='float')\n",
        "raster.export(cm_img_pso, ds1, cm_outfile, dtype='float')\n",
        "raster.export(cw_img_pso, ds1, cw_outfile, dtype='float')\n",
        "raster.export(lai_img_pso, ds1, lai_outfile, dtype='float')\n",
        "\n",
        "#in a GIS we can easily change the color scale to avoid the extremes\n",
        "plt.figure(figsize=(6,8.5))\n",
        "plt.imshow(cab_img_pso)\n",
        "plt.colorbar(shrink=0.5)\n",
        "plt.title('Ch a+b')\n",
        "plt.xlabel('Column #')\n",
        "plt.ylabel('Row #')\n",
        "\n",
        "plt.figure(figsize=(6,8.5))\n",
        "plt.imshow(cw_img_pso)\n",
        "plt.colorbar(shrink=0.5)\n",
        "plt.title('Cw')\n",
        "plt.xlabel('Column #')\n",
        "plt.ylabel('Row #')\n",
        "\n",
        "plt.figure(figsize=(6,8.5))\n",
        "plt.imshow(cm_img_pso)\n",
        "plt.colorbar(shrink=0.5)\n",
        "plt.title('Cm')\n",
        "plt.xlabel('Column #')\n",
        "plt.ylabel('Row #')\n",
        "\n",
        "\n",
        "plt.figure(figsize=(6,8.5))\n",
        "plt.imshow(lai_img_pso)\n",
        "plt.colorbar(shrink=0.5)\n",
        "plt.title('Lai')\n",
        "plt.xlabel('Column #')\n",
        "plt.ylabel('Row #')"
      ],
      "execution_count": 0,
      "outputs": [
        {
          "output_type": "execute_result",
          "data": {
            "text/plain": [
              "Text(0, 0.5, 'Row #')"
            ]
          },
          "metadata": {
            "tags": []
          },
          "execution_count": 142
        },
        {
          "output_type": "display_data",
          "data": {
            "image/png": "[encoded data removed]",
            "text/plain": [
              "<Figure size 432x612 with 2 Axes>"
            ]
          },
          "metadata": {
            "tags": []
          }
        },
        {
          "output_type": "display_data",
          "data": {
            "image/png": "[encoded data removed]",
            "text/plain": [
              "<Figure size 432x612 with 2 Axes>"
            ]
          },
          "metadata": {
            "tags": []
          }
        },
        {
          "output_type": "display_data",
          "data": {
            "image/png": "[encoded data removed]",
            "text/plain": [
              "<Figure size 432x612 with 2 Axes>"
            ]
          },
          "metadata": {
            "tags": []
          }
        },
        {
          "output_type": "display_data",
          "data": {
            "image/png": "[encoded data removed]",
            "text/plain": [
              "<Figure size 432x612 with 2 Axes>"
            ]
          },
          "metadata": {
            "tags": []
          }
        }
      ]
    }
  ]
}