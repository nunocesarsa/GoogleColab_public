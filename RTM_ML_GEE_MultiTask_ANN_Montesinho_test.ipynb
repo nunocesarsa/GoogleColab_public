{
  "nbformat": 4,
  "nbformat_minor": 0,
  "metadata": {
    "colab": {
      "name": "RTM ML GEE MultiTask ANN  Montesinho test.ipynb",
      "provenance": [],
      "collapsed_sections": [],
      "toc_visible": true,
      "machine_shape": "hm",
      "authorship_tag": "ABX9TyN3Qmte28gIHAaklQL0bn2A",
      "include_colab_link": true
    },
    "kernelspec": {
      "name": "python3",
      "display_name": "Python 3"
    },
    "accelerator": "TPU"
  },
  "cells": [
    {
      "cell_type": "markdown",
      "metadata": {
        "id": "view-in-github",
        "colab_type": "text"
      },
      "source": [
        "<a href=\"https://colab.research.google.com/github/nunocesarsa/GoogleColab_public/blob/master/RTM_ML_GEE_MultiTask_ANN_Montesinho_test.ipynb\" target=\"_parent\"><img src=\"https://colab.research.google.com/assets/colab-badge.svg\" alt=\"Open In Colab\"/></a>"
      ]
    },
    {
      "cell_type": "markdown",
      "metadata": {
        "id": "SZre3LerLiK6",
        "colab_type": "text"
      },
      "source": [
        "#First lets download the image from google earth engine, cropped to an AOI"
      ]
    },
    {
      "cell_type": "markdown",
      "metadata": {
        "id": "o6ZddpqFXQDO",
        "colab_type": "text"
      },
      "source": [
        "https://github.com/fitoprincipe/geetools-code-editor/wiki\n",
        "\n",
        "https://github.com/fitoprincipe/geetools-code-editor"
      ]
    },
    {
      "cell_type": "code",
      "metadata": {
        "id": "v3CcY5VlLbFq",
        "colab_type": "code",
        "colab": {}
      },
      "source": [
        "import ee"
      ],
      "execution_count": 0,
      "outputs": []
    },
    {
      "cell_type": "code",
      "metadata": {
        "id": "a35L919fLt9D",
        "colab_type": "code",
        "outputId": "53ccb56a-c12c-421e-ca7f-95c9d89e390d",
        "colab": {
          "base_uri": "https://localhost:8080/",
          "height": 173
        }
      },
      "source": [
        "#then we need to authenticate\n",
        "\n",
        "# Trigger the authentication flow.\n",
        "ee.Authenticate()\n",
        "\n",
        "# Initialize the library.\n",
        "ee.Initialize()"
      ],
      "execution_count": 2,
      "outputs": [
        {
          "output_type": "stream",
          "text": [
            "To authorize access needed by Earth Engine, open the following URL in a web browser and follow the instructions. If the web browser does not start automatically, please manually browse the URL below.\n",
            "\n",
            "    https://accounts.google.com/o/oauth2/auth?client_id=517222506229-vsmmajv00ul0bs7p89v5m89qs8eb9359.apps.googleusercontent.com&scope=https%3A%2F%2Fwww.googleapis.com%2Fauth%2Fearthengine+https%3A%2F%2Fwww.googleapis.com%2Fauth%2Fdevstorage.full_control&redirect_uri=urn%3Aietf%3Awg%3Aoauth%3A2.0%3Aoob&response_type=code\n",
            "\n",
            "The authorization workflow will generate a code, which you should paste in the box below. \n",
            "Enter verification code: 4/wAHSUgAHVKiNuF5Y9mI4qQcNEJKPU2bjugzyZQqqLMsSVuqjqN1UL4w\n",
            "\n",
            "Successfully saved authorization token.\n"
          ],
          "name": "stdout"
        }
      ]
    },
    {
      "cell_type": "code",
      "metadata": {
        "id": "8h3xIsWTLxAY",
        "colab_type": "code",
        "outputId": "3f4588f1-3a15-4f6d-d5db-a3c2e3b124e3",
        "colab": {
          "base_uri": "https://localhost:8080/",
          "height": 34
        }
      },
      "source": [
        "#then we need to authenticate in google drive also so we can upload our download there\n",
        "\n",
        "from google.colab import drive\n",
        "drive.mount('/content/drive')\n",
        "#Perhaps this step can be skipped by saving directly to the workspace"
      ],
      "execution_count": 3,
      "outputs": [
        {
          "output_type": "stream",
          "text": [
            "Drive already mounted at /content/drive; to attempt to forcibly remount, call drive.mount(\"/content/drive\", force_remount=True).\n"
          ],
          "name": "stdout"
        }
      ]
    },
    {
      "cell_type": "markdown",
      "metadata": {
        "id": "nxgE03QlMNV4",
        "colab_type": "text"
      },
      "source": [
        "Let's do a quick search on the data collection of Sentinel\n",
        "\n",
        "check this for info how to:\n",
        "\n",
        "https://samapriya.github.io/gee-py/projects/collection_meta/\n",
        "https://stackoverflow.com/questions/57841300/export-google-earth-engine-rgb-sentinel-2-imagery-to-google-drive-using-python-a\n",
        "\n"
      ]
    },
    {
      "cell_type": "code",
      "metadata": {
        "id": "-nV8OfyiepiC",
        "colab_type": "code",
        "outputId": "feea0915-3ec1-4843-ddfa-77ce05b23b8b",
        "colab": {
          "base_uri": "https://localhost:8080/",
          "height": 51
        }
      },
      "source": [
        "#This creates a polygon area which perhaps we can use as a filter\n",
        "#this next step actually clips the image \n",
        "#this is a polygon area created by me, it surrounds the park, perhaps there are better ways of designing this also\n",
        "poly_area_coord = [[[5.254370219641714,52.41249485115749],\n",
        "                    [5.423285014563589,52.41249485115749],\n",
        "                    [5.423285014563589,52.49910845916859],\n",
        "                    [5.254370219641714,52.49910845916859],\n",
        "                    [5.254370219641714,52.41249485115749]]]\n",
        "\n",
        "small_poly_area_coord =  [[[5.326998298371450,52.418838468757556],\n",
        "                           [5.363819663727895,52.418838468757556],\n",
        "                           [5.363819663727895,52.427631857186270],\n",
        "                           [5.326998298371450,52.427631857186270],\n",
        "                           [5.326998298371450,52.418838468757556]]]\n",
        "\n",
        "#points\n",
        "montesinho = [[[-6.57719007,41.79208948],\n",
        "                [-6.57694957,41.79208441],\n",
        "                [-6.57719685,41.79190950],\n",
        "                [-6.57695635,41.79190443],\n",
        "                [-6.57671586,41.79189935],\n",
        "                [-6.57696314,41.79171937],\n",
        "                [-6.57672942,41.79153939]]]\n",
        "\n",
        "#polygon around ptds\n",
        "montesinho_poly = [[[-6.578186759257150130,41.79242347910090416], \n",
        "                    [-6.575198266868249600,41.79242347910090416], \n",
        "                    [-6.575198266868249600,41.79039404444139194], \n",
        "                    [-6.578186759257150130,41.79039404444139194],\n",
        "                    [-6.578186759257150130,41.79242347910090416]]]\n",
        "\n",
        "montesinho_poly_GEE =[[[-6.581378690132624,41.787597520709510],\n",
        "                       [-6.570349446663386,41.787597520709510],\n",
        "                       [-6.570349446663386,41.793452987972174],\n",
        "                       [-6.581378690132624,41.793452987972174],\n",
        "                       [-6.581378690132624,41.787597520709510]]]\n",
        "\n",
        "\n",
        "\n",
        "poly_area = ee.Geometry.Polygon(poly_area_coord)\n",
        "\n",
        "poly_area_small = ee.Geometry.Polygon(small_poly_area_coord)\n",
        "\n",
        "poly_montesinho = ee.Geometry.Polygon(montesinho_poly_GEE)\n",
        "\n",
        "\n",
        "# it is quite COMPLEX to use the s2 filters in python\n",
        "s2_collection = (ee.ImageCollection(\"COPERNICUS/S2_SR\") #selects the S2 Surface reflectance product in GEE\n",
        "                 .select(['B2','B3','B4',\n",
        "                          'B5','B6','B7',\n",
        "                          'B8A','B11','B12']) #selects the bands of interest\n",
        "                 .filter(ee.Filter.date('2019-06-25','2019-06-30')) #filtes on the time\n",
        "                 .filterBounds(poly_montesinho) #filters on the Aoi\n",
        "                 .filter(ee.Filter.lt('CLOUDY_PIXEL_PERCENTAGE',10)))\n",
        "\n",
        "\n",
        "count = s2_collection.size()\n",
        "print('Nr of images in collection: ', str(count.getInfo())+'\\n')\n",
        "\n",
        "#import pprint\n",
        "#pp = pprint.PrettyPrinter(depth=4)\n",
        "#pp.pprint('Collection: '+str(s2_collection.getInfo())+'\\n')\n",
        "#pp.pprint('Collection: '+str(s2_collection.name())+ '\\n')\n",
        "\n",
        "#couldn't find an easy way to print the image date... yet.. which is kinda annoying\n",
        "\n",
        "#bb= s2_collection.iterate()\n",
        "#print(bb)\n",
        "#print(s2_collection.getInfo())\n",
        "#s2_collection = ee.ImageCollection(\"COPERNICUS/S2_SR/\").filter(ee.Filter.lt('CLOUDY_PIXEL_PERCENTAGE',10),\n",
        "#                                                               ee.filter('time','2019-07-15','2019-07-20'),\n",
        "#                                                               ee.filterBounds(poly_area))\n",
        "#s2_collection.filter(ee.filter(\"time\",'2019-07-15','2019-07-20'))\n",
        "#s2_collection = ee.collection.filter(ee.Filter())\n",
        "#ee.ImageCollection(ee.Filter)"
      ],
      "execution_count": 4,
      "outputs": [
        {
          "output_type": "stream",
          "text": [
            "Nr of images in collection:  2\n",
            "\n"
          ],
          "name": "stdout"
        }
      ]
    },
    {
      "cell_type": "code",
      "metadata": {
        "id": "cGRyaVbBI9dv",
        "colab_type": "code",
        "colab": {}
      },
      "source": [
        "#this loads a pre-selected image, i reckon it can be a loop - this data is TOA\n",
        "s2_img = ee.Image(\"COPERNICUS/S2/20190717T104029_20190717T104353_T31UFU\").select(['B2','B3','B4',\n",
        "                                                                                  'B5','B6','B7',\n",
        "                                                                                  'B8A','B11','B12'])\n",
        "\n",
        "#this on is suppose to be the surface reflectance\n",
        "s2_img = ee.Image(\"COPERNICUS/S2_SR/20190717T104029_20190717T104353_T31UFU\").select(['B2','B3','B4',\n",
        "                                                                                  'B5','B6','B7',\n",
        "                                                                                  'B8A','B11','B12'])\n",
        "\n",
        "\n",
        "#this selects an miage from the above list, change here to get the other data on the list\n",
        "mid_step = s2_collection.toList(count)\n",
        "s2_img = ee.Image(mid_step.get(1))\n",
        "\n",
        "#s2_img.getInfo()"
      ],
      "execution_count": 0,
      "outputs": []
    },
    {
      "cell_type": "markdown",
      "metadata": {
        "id": "6fDn-TU8cdu7",
        "colab_type": "text"
      },
      "source": [
        "#In the next part, its possible to explore the selected image"
      ]
    },
    {
      "cell_type": "code",
      "metadata": {
        "id": "7S9PTFrZci-7",
        "colab_type": "code",
        "outputId": "f8144694-85e2-4ab4-926a-6344a8975e9b",
        "colab": {
          "base_uri": "https://localhost:8080/",
          "height": 835
        }
      },
      "source": [
        "#first step now is to then generate a s2 image cropped to our aoi, and for information i will also plot it on the map\n",
        "\n",
        "# Import the Folium library. This library is to assist in visualizations\n",
        "import folium\n",
        "from folium import Marker\n",
        "\n",
        "# Import the Image function from the IPython.display module. \n",
        "from IPython.display import Image\n",
        "\n",
        "\n",
        "#the next code snippet i stole from someone\n",
        "# Define a method for displaying Earth Engine image tiles to folium map.\n",
        "def add_ee_layer(self, ee_image_object, vis_params, name):\n",
        "  \n",
        "  map_id_dict = ee.Image(ee_image_object).getMapId(vis_params)\n",
        "  folium.raster_layers.TileLayer(\n",
        "    tiles = map_id_dict['tile_fetcher'].url_format,\n",
        "    attr = 'Map Data &copy; <a href=\"https://earthengine.google.com/\">Google Earth Engine</a>',\n",
        "    name = name,\n",
        "    overlay = True,\n",
        "    control = True\n",
        "  ).add_to(self)\n",
        "\n",
        "# Add EE drawing method to folium.\n",
        "folium.Map.add_ee_layer = add_ee_layer\n",
        "\n",
        "\n",
        "# Set visualization parameters.\n",
        "visParams = {\"bands\": ['B8A', 'B4', 'B3'],\"gain\": '0.1, 0.1, 0.1',\"scale\":20}\n",
        "\n",
        "# Create a folium map object.\n",
        "#my_map = folium.Map(location=[52.4500, 5.35], zoom_start=12) #this had to be tried one by one... feels daft\n",
        "my_map = folium.Map(location=[41.791, -6.577], zoom_start=15) #this had to be tried one by one... feels daft\n",
        "\n",
        "\n",
        "# Add the elevation model to the map object.\n",
        "my_map.add_ee_layer(s2_img, visParams, 'DEM')\n",
        "\n",
        "# Add a layer control panel to the map.\n",
        "my_map.add_child(folium.LayerControl())\n",
        "\n",
        "\n",
        "\n",
        "\n",
        "# Display the map.\n",
        "display(my_map)"
      ],
      "execution_count": 6,
      "outputs": [
        {
          "output_type": "display_data",
          "data": {
            "text/html": [
              "<div style=\"width:100%;\"><div style=\"position:relative;width:100%;height:0;padding-bottom:60%;\"><iframe src=\"data:text/html;charset=utf-8;base64,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\" style=\"position:absolute;width:100%;height:100%;left:0;top:0;border:none !important;\" allowfullscreen webkitallowfullscreen mozallowfullscreen></iframe></div></div>"
            ],
            "text/plain": [
              "<folium.folium.Map at 0x7f1042b8da20>"
            ]
          },
          "metadata": {
            "tags": []
          }
        }
      ]
    },
    {
      "cell_type": "markdown",
      "metadata": {
        "id": "qaRZD4BZI59S",
        "colab_type": "text"
      },
      "source": [
        "#Lets try to fetch the metadata of the image so we can use the info to run the prosail later on\n"
      ]
    },
    {
      "cell_type": "code",
      "metadata": {
        "id": "NlAj0pqUOn-m",
        "colab_type": "code",
        "colab": {}
      },
      "source": [
        "#s2_img.getInfo() #this gives me the info\n",
        "\n",
        "s2_img_meta = s2_img.getInfo()\n",
        "#type(s2_img_meta)\n",
        "#s2_img_meta #uncommment me to see the data properties\n"
      ],
      "execution_count": 0,
      "outputs": []
    },
    {
      "cell_type": "markdown",
      "metadata": {
        "id": "f_PyH-r6bHFL",
        "colab_type": "text"
      },
      "source": [
        "The data is stored in a nested dictionary, to fetch it we should call it as the following example. \n",
        "\n",
        "I'm using it also to call some examples to help me keep track of what is going on"
      ]
    },
    {
      "cell_type": "code",
      "metadata": {
        "id": "7n7wnZqGbRnX",
        "colab_type": "code",
        "outputId": "3d67d3eb-0412-4387-bc34-c2b6928bb3ac",
        "colab": {
          "base_uri": "https://localhost:8080/",
          "height": 136
        }
      },
      "source": [
        "#it is a nested dictionary, so we have to get into get\n",
        "print('System index: ',s2_img_meta.get('properties',{}).get('system:index'))\n",
        "print('Product ID: ',s2_img_meta.get('properties',{}).get('PRODUCT_ID'))\n",
        "print('Granule ID: ',s2_img_meta.get('properties',{}).get('GRANULE_ID'))\n",
        "print('Quick for GEE: ',s2_img_meta.get('id')) #use this text to call the image straight through GEE, its the easiest\n",
        "\n",
        "#print('Date of image:', ee.Date(s2_img.get('system:time_start')).format=()\"YYYY-MM-DD\"))\n",
        "print('Time in GEE format: ', s2_img_meta.get('properties',{}).get('system:time_start'))\n",
        "\n",
        "#dates is a bit more complicated - thank olga! \n",
        "date_t1 = ee.Date(s2_img_meta.get('properties',{}).get('system:time_start')).format(\"YYYY_MM_DD\").getInfo()\n",
        "date_t2 = ee.Date(s2_img_meta.get('properties',{}).get('system:time_start')).format(\"YYYY_MM_dd\").getInfo()\n",
        "print('Time in Annual calendar: YYYY - year; MM - month of year; DD day of year ', date_t1)\n",
        "print('Time in Annual calendar: YYYY - year; MM - month of year; DD day of month ', date_t2)\n"
      ],
      "execution_count": 8,
      "outputs": [
        {
          "output_type": "stream",
          "text": [
            "System index:  20190629T112119_20190629T112256_T30TTM\n",
            "Product ID:  S2B_MSIL2A_20190629T112119_N0212_R037_T30TTM_20190629T132135\n",
            "Granule ID:  L2A_T30TTM_A012075_20190629T112256\n",
            "Quick for GEE:  COPERNICUS/S2_SR/20190629T112119_20190629T112256_T30TTM\n",
            "Time in GEE format:  1561807787176\n",
            "Time in Annual calendar: YYYY - year; MM - month of year; DD day of year  2019_06_180\n",
            "Time in Annual calendar: YYYY - year; MM - month of year; DD day of month  2019_06_29\n"
          ],
          "name": "stdout"
        }
      ]
    },
    {
      "cell_type": "markdown",
      "metadata": {
        "id": "9idiWM6xbWNk",
        "colab_type": "text"
      },
      "source": [
        "On the other hand, we have slightly different mean incidence angles per band, to facilitate i will use a mean of means for each band"
      ]
    },
    {
      "cell_type": "code",
      "metadata": {
        "id": "k_V7m2VYbVED",
        "colab_type": "code",
        "outputId": "454a5c77-a821-459c-ac82-fd9e76766504",
        "colab": {
          "base_uri": "https://localhost:8080/",
          "height": 170
        }
      },
      "source": [
        "#each band has its own \"mean angle\", fors this run i will cheat and use an approximate\n",
        "#we used the following bands:\n",
        "#'B2','B3','B4','B5','B6','B7','B8A','B11','B12'\n",
        "\n",
        "#e.g.\n",
        "print(s2_img_meta.get('properties',{}).get('MEAN_INCIDENCE_AZIMUTH_ANGLE_B2'))\n",
        "\n",
        "#the easiest way is perhaps to just loop\n",
        "band_list = ['B2','B3','B4','B5','B6','B7','B8A','B11','B12']\n",
        "inc_azi = 0 #starting value\n",
        "inc_zen = 0\n",
        "for i in band_list:\n",
        "  #print('MEAN_INCIDENCE_AZIMUTH_ANGLE_'+i)\n",
        "  #print(s2_img_meta.get('properties',{}).get('MEAN_INCIDENCE_AZIMUTH_ANGLE_'+i))\n",
        "  inc_azi = inc_azi + s2_img_meta.get('properties',{}).get('MEAN_INCIDENCE_AZIMUTH_ANGLE_'+i)/len(band_list)\n",
        "  inc_zen = inc_zen + s2_img_meta.get('properties',{}).get('MEAN_INCIDENCE_ZENITH_ANGLE_'+i)/len(band_list)\n",
        "\n",
        "#relative to the sensor positions\n",
        "print(\"mean incidence azimuth of selected bands:\", inc_azi)\n",
        "print(\"mean incidence zenith of selected bands:\", inc_zen)\n",
        "\n",
        "#relative to the solar position\n",
        "sol_azi = s2_img_meta.get('properties',{}).get('MEAN_SOLAR_AZIMUTH_ANGLE')\n",
        "sol_zen = s2_img_meta.get('properties',{}).get('MEAN_SOLAR_ZENITH_ANGLE')\n",
        "\n",
        "print(\"mean solar azimuth:\", sol_azi)\n",
        "print(\"mean solar zenith:\", sol_zen)\n",
        "\n",
        "#inputs for prosail are then\n",
        "#sza, vza and raa are the solar zenith, sensor zenith and relative azimuth angles\n",
        "sza = sol_zen\n",
        "vza = inc_zen\n",
        "raa = inc_azi-sol_azi  #according to the details of prosail\n",
        "\n",
        "\n",
        "print(\"Prosail inputs:\")\n",
        "print(\"sza:\",sza)\n",
        "print(\"vza:\",vza)\n",
        "print(\"raa\",raa)\n"
      ],
      "execution_count": 9,
      "outputs": [
        {
          "output_type": "stream",
          "text": [
            "284.255170959\n",
            "mean incidence azimuth of selected bands: 284.48984329122226\n",
            "mean incidence zenith of selected bands: 7.659749997203332\n",
            "mean solar azimuth: 142.897352503\n",
            "mean solar zenith: 22.2011113876\n",
            "Prosail inputs:\n",
            "sza: 22.2011113876\n",
            "vza: 7.659749997203332\n",
            "raa 141.59249078822225\n"
          ],
          "name": "stdout"
        }
      ]
    },
    {
      "cell_type": "markdown",
      "metadata": {
        "id": "MKBcwYWYSA-j",
        "colab_type": "text"
      },
      "source": [
        "#Now we will clip the image before processing\n",
        "\n",
        "The polygon for clipping was defined earlier. "
      ]
    },
    {
      "cell_type": "code",
      "metadata": {
        "id": "uCHxW5bOwdWK",
        "colab_type": "code",
        "outputId": "1e310ae7-749c-46c1-8392-14fadb40ce76",
        "colab": {
          "base_uri": "https://localhost:8080/",
          "height": 68
        }
      },
      "source": [
        "#Extracting a name from the image\n",
        "sens_id = s2_img_meta.get('properties',{}).get('PRODUCT_ID')[:10]\n",
        "print('Sensor ID: ',)\n",
        "#extracting the id of the GRID\n",
        "grid_id = s2_img_meta.get('properties',{}).get('GRANULE_ID')[4:10]\n",
        "print('GRID ID: ',grid_id)\n",
        "\n",
        "s2_filename = sens_id+\"_\"+grid_id+\"_\"+date_t2\n",
        "#s2_filename = sens_id+\"_\"+grid_id+\"_\"+\"small\"+\"_\"+date_t2\n",
        "s2_filename\n",
        "\n"
      ],
      "execution_count": 10,
      "outputs": [
        {
          "output_type": "stream",
          "text": [
            "Sensor ID: \n",
            "GRID ID:  T30TTM\n"
          ],
          "name": "stdout"
        },
        {
          "output_type": "execute_result",
          "data": {
            "text/plain": [
              "'S2B_MSIL2A_T30TTM_2019_06_29'"
            ]
          },
          "metadata": {
            "tags": []
          },
          "execution_count": 10
        }
      ]
    },
    {
      "cell_type": "code",
      "metadata": {
        "id": "DpwB5MCtSC5v",
        "colab_type": "code",
        "colab": {}
      },
      "source": [
        "\n",
        "#the ideal would be to find a way to extract a date in YYYYMMDD format and automate that for the file naming\n",
        "\n",
        "#GEE requires a client task to be called, here it goes\n",
        "\n",
        "#this is a dictionary object with the details for the batch export function off GEE\n",
        "#it will save  the data to my drive\n",
        "task_config = {\n",
        "    'image': s2_img,\n",
        "    'fileFormat': 'GeoTIFF',\n",
        "    'fileNamePrefix': s2_filename,\n",
        "    'description': s2_filename,\n",
        "    'scale':20,\n",
        "    'region':poly_montesinho\n",
        "}\n",
        "\n",
        "#this is for the small area, comment for removal\n",
        "#task_config = {\n",
        "#    'image': s2_img,\n",
        "#    'fileFormat': 'GeoTIFF',\n",
        "#    'fileNamePrefix': s2_filename,\n",
        "#    'description': s2_filename,\n",
        "#    'scale':20,\n",
        "#    'region':poly_area_small\n",
        "#}\n",
        "\n",
        "\n",
        "#this starts the task - notice that it has to be called and then wait.\n",
        "#since it is an operation ongoing on GEE, python will not produce any error message\n",
        "#if omething is wrong. The commands in the next section show how to check on that \n",
        "task = ee.batch.Export.image.toDrive(**task_config )\n",
        "task.start()\n"
      ],
      "execution_count": 0,
      "outputs": []
    },
    {
      "cell_type": "markdown",
      "metadata": {
        "id": "praZFe5ASbn2",
        "colab_type": "text"
      },
      "source": [
        "The next two code snippets allow us to keep track of the procedure"
      ]
    },
    {
      "cell_type": "code",
      "metadata": {
        "id": "5XI31DSwSfdm",
        "colab_type": "code",
        "outputId": "5a48f567-25e3-45bf-d916-62cb45d6963f",
        "colab": {
          "base_uri": "https://localhost:8080/",
          "height": 153
        }
      },
      "source": [
        "task.status()"
      ],
      "execution_count": 12,
      "outputs": [
        {
          "output_type": "execute_result",
          "data": {
            "text/plain": [
              "{'creation_timestamp_ms': 1580494355171,\n",
              " 'description': 'S2B_MSIL2A_T30TTM_2019_06_29',\n",
              " 'id': 'AWO2TZDIF6KUZK2SCPXKZBH5',\n",
              " 'name': 'projects/earthengine-legacy/operations/AWO2TZDIF6KUZK2SCPXKZBH5',\n",
              " 'start_timestamp_ms': 0,\n",
              " 'state': 'READY',\n",
              " 'task_type': 'EXPORT_IMAGE',\n",
              " 'update_timestamp_ms': 1580494355171}"
            ]
          },
          "metadata": {
            "tags": []
          },
          "execution_count": 12
        }
      ]
    },
    {
      "cell_type": "code",
      "metadata": {
        "id": "8WMxsdYyStIW",
        "colab_type": "code",
        "outputId": "abd67e83-52d3-4254-8e1b-ea9722e7f979",
        "colab": {
          "base_uri": "https://localhost:8080/",
          "height": 34
        }
      },
      "source": [
        "task.active()"
      ],
      "execution_count": 13,
      "outputs": [
        {
          "output_type": "execute_result",
          "data": {
            "text/plain": [
              "True"
            ]
          },
          "metadata": {
            "tags": []
          },
          "execution_count": 13
        }
      ]
    },
    {
      "cell_type": "markdown",
      "metadata": {
        "id": "TwamrcXgVJ1h",
        "colab_type": "text"
      },
      "source": [
        "#now have uploaded the image to my drive, lets try to visualize it in python now\n",
        "\n"
      ]
    },
    {
      "cell_type": "code",
      "metadata": {
        "id": "Vt9mEzwaVmeV",
        "colab_type": "code",
        "outputId": "6ed817f8-f24f-445e-e550-5ebda682af13",
        "colab": {
          "base_uri": "https://localhost:8080/",
          "height": 204
        }
      },
      "source": [
        "!pip install pyrsgis\n",
        "!pip install rasterio\n",
        "!pip install pyproj"
      ],
      "execution_count": 14,
      "outputs": [
        {
          "output_type": "stream",
          "text": [
            "Requirement already satisfied: pyrsgis in /usr/local/lib/python3.6/dist-packages (0.2.8)\n",
            "Requirement already satisfied: rasterio in /usr/local/lib/python3.6/dist-packages (1.1.2)\n",
            "Requirement already satisfied: attrs in /usr/local/lib/python3.6/dist-packages (from rasterio) (19.3.0)\n",
            "Requirement already satisfied: numpy in /usr/local/lib/python3.6/dist-packages (from rasterio) (1.17.5)\n",
            "Requirement already satisfied: click-plugins in /usr/local/lib/python3.6/dist-packages (from rasterio) (1.1.1)\n",
            "Requirement already satisfied: click<8,>=4.0 in /usr/local/lib/python3.6/dist-packages (from rasterio) (7.0)\n",
            "Requirement already satisfied: snuggs>=1.4.1 in /usr/local/lib/python3.6/dist-packages (from rasterio) (1.4.7)\n",
            "Requirement already satisfied: affine in /usr/local/lib/python3.6/dist-packages (from rasterio) (2.3.0)\n",
            "Requirement already satisfied: cligj>=0.5 in /usr/local/lib/python3.6/dist-packages (from rasterio) (0.5.0)\n",
            "Requirement already satisfied: pyparsing>=2.1.6 in /usr/local/lib/python3.6/dist-packages (from snuggs>=1.4.1->rasterio) (2.4.6)\n",
            "Requirement already satisfied: pyproj in /usr/local/lib/python3.6/dist-packages (2.4.2.post1)\n"
          ],
          "name": "stdout"
        }
      ]
    },
    {
      "cell_type": "code",
      "metadata": {
        "id": "GxFhsbeGVka9",
        "colab_type": "code",
        "colab": {
          "base_uri": "https://localhost:8080/",
          "height": 34
        },
        "outputId": "ead44e7b-c59d-46f1-ba2a-38afb331bfff"
      },
      "source": [
        "#General purpose: \n",
        "import matplotlib.pyplot as plt\n",
        "import numpy\n",
        "import numpy as np\n",
        "from mpl_toolkits.mplot3d import Axes3D\n",
        "\n",
        "import pandas as pd\n",
        "\n",
        "import os\n",
        "from pyrsgis import raster\n",
        "\n",
        "import rasterio\n",
        "import rasterio.plot\n",
        "import pyproj\n",
        "import numpy as np\n",
        "import matplotlib\n",
        "import matplotlib.pyplot as plt\n",
        "\n"
      ],
      "execution_count": 15,
      "outputs": [
        {
          "output_type": "stream",
          "text": [
            "Warning! matplotlib_scalebar library not found.\n"
          ],
          "name": "stdout"
        }
      ]
    },
    {
      "cell_type": "markdown",
      "metadata": {
        "id": "3GTg7Jq8XQp_",
        "colab_type": "text"
      },
      "source": [
        "The easiest for now is actually downloading the file, and uploading it again. There must be better alternatives. "
      ]
    },
    {
      "cell_type": "code",
      "metadata": {
        "id": "qpkerFJjWV8Y",
        "colab_type": "code",
        "outputId": "7a579532-e7a2-4ef4-cb06-33d927d5285b",
        "colab": {
          "base_uri": "https://localhost:8080/",
          "height": 51
        }
      },
      "source": [
        "#This loads the data - we can put the path to the drive itself if we want.. very easy \n",
        "#or just substitute it by the filename\n",
        "#s2_data = 'drive/My Drive/S2_ML_Data_SR_20190730.tif'\n",
        "\n",
        "#loads a data generated through GEE into your own drive\n",
        "s2_data = '/content/drive/My Drive/' + s2_filename +\".tif\" #just add it with the path and you are good to go\n",
        "\n",
        "#loading an uploaded data from THEIA collection\n",
        "#s2_data = '/content/S2_20190215_AOI_Theia.tif' #just add it with the path and you are good to go\n",
        "\n",
        "\n",
        "ds1, bands = raster.read(s2_data)\n",
        "print(ds1)\n",
        "print(bands.shape) #the raster has 9 bands by 501 x 590 (not sure wich is the row)\n",
        "\n"
      ],
      "execution_count": 16,
      "outputs": [
        {
          "output_type": "stream",
          "text": [
            "<pyrsgis.raster.createDS object at 0x7f103b9a3da0>\n",
            "(9, 36, 48)\n"
          ],
          "name": "stdout"
        }
      ]
    },
    {
      "cell_type": "code",
      "metadata": {
        "id": "TeiZjiYZaw-H",
        "colab_type": "code",
        "outputId": "8f3256e7-eb49-4779-cf81-01f3ce00b4d4",
        "colab": {
          "base_uri": "https://localhost:8080/",
          "height": 309
        }
      },
      "source": [
        "from pyrsgis.convert import changeDimension\n",
        "\n",
        "#this function converts the hypercube to a 2D array\n",
        "\n",
        "\n",
        "bandByPixel = changeDimension(bands)/10000. #we have to devide all values by 10k - its a conversion from bits to reflectances\n",
        "bandByPixel_t = np.transpose(bandByPixel)\n",
        "print(bandByPixel.shape)\n",
        "print(bandByPixel_t.shape)\n",
        "bandByPixel\n",
        "\n",
        "import scipy\n",
        "from scipy import stats\n",
        "print(scipy.stats.describe(changeDimension(bands)))\n",
        "print(scipy.stats.describe(bandByPixel))"
      ],
      "execution_count": 17,
      "outputs": [
        {
          "output_type": "stream",
          "text": [
            "(1728, 9)\n",
            "(9, 1728)\n",
            "DescribeResult(nobs=1728, minmax=(array([ 177,  348,  207,  577, 1312, 1494, 1637, 1148,  578]), array([1247, 1934, 2678, 2995, 3750, 4285, 4411, 4148, 3726])), mean=array([ 450.21701389,  697.13310185,  792.86863426, 1198.86689815,\n",
            "       1995.6724537 , 2278.47974537, 2473.69560185, 2451.90046296,\n",
            "       1635.10300926]), variance=array([ 32515.28292982,  61920.81029912, 203074.50097277, 183528.76513409,\n",
            "       166351.42362988, 244777.03143665, 246124.5801312 , 303518.33056145,\n",
            "       310304.81393419]), skewness=array([1.30425193, 1.67719802, 1.46356236, 1.60719675, 1.10739422,\n",
            "       1.28765392, 1.21508619, 0.45275349, 0.85625398]), kurtosis=array([1.49720662, 2.87363907, 2.1048561 , 2.60620501, 1.1889728 ,\n",
            "       1.88929605, 1.82483266, 0.00537086, 1.06829323]))\n",
            "DescribeResult(nobs=1728, minmax=(array([0.0177, 0.0348, 0.0207, 0.0577, 0.1312, 0.1494, 0.1637, 0.1148,\n",
            "       0.0578]), array([0.1247, 0.1934, 0.2678, 0.2995, 0.375 , 0.4285, 0.4411, 0.4148,\n",
            "       0.3726])), mean=array([0.0450217 , 0.06971331, 0.07928686, 0.11988669, 0.19956725,\n",
            "       0.22784797, 0.24736956, 0.24519005, 0.1635103 ]), variance=array([0.00032515, 0.00061921, 0.00203075, 0.00183529, 0.00166351,\n",
            "       0.00244777, 0.00246125, 0.00303518, 0.00310305]), skewness=array([1.30425193, 1.67719802, 1.46356236, 1.60719675, 1.10739422,\n",
            "       1.28765392, 1.21508619, 0.45275349, 0.85625398]), kurtosis=array([1.49720662, 2.87363907, 2.1048561 , 2.60620501, 1.1889728 ,\n",
            "       1.88929605, 1.82483266, 0.00537086, 1.06829323]))\n"
          ],
          "name": "stdout"
        }
      ]
    },
    {
      "cell_type": "code",
      "metadata": {
        "id": "hA5rdf6dRko2",
        "colab_type": "code",
        "outputId": "1659e227-6e59-4b0d-df2d-c5c44e33b0d0",
        "colab": {
          "base_uri": "https://localhost:8080/",
          "height": 282
        }
      },
      "source": [
        "plt.scatter(range(9),bandByPixel[10*10,:])"
      ],
      "execution_count": 18,
      "outputs": [
        {
          "output_type": "execute_result",
          "data": {
            "text/plain": [
              "<matplotlib.collections.PathCollection at 0x7f0f74b31940>"
            ]
          },
          "metadata": {
            "tags": []
          },
          "execution_count": 18
        },
        {
          "output_type": "display_data",
          "data": {
            "image/png": "[encoded data removed]",
            "text/plain": [
              "<Figure size 432x288 with 1 Axes>"
            ]
          },
          "metadata": {
            "tags": []
          }
        }
      ]
    },
    {
      "cell_type": "markdown",
      "metadata": {
        "id": "2SJcRSEHZ96Y",
        "colab_type": "text"
      },
      "source": [
        "Link of interest:\n",
        "\n",
        "https://geohackweek.github.io/raster/04-workingwithrasters/\n",
        "\n",
        "\n",
        "https://www.hatarilabs.com/ih-en/sentinel2-images-explotarion-and-processing-with-python-and-rasterio"
      ]
    },
    {
      "cell_type": "code",
      "metadata": {
        "id": "ppKTstQeY1ts",
        "colab_type": "code",
        "outputId": "1bba785d-bd49-4efc-d8ea-87750088a223",
        "colab": {
          "base_uri": "https://localhost:8080/",
          "height": 295
        }
      },
      "source": [
        "\n",
        "#band order\n",
        "#['B2','B3','B4','B5','B6','B7','B8A','B11','B12']\n",
        "\n",
        "#window = rasterio.windows.Window(1024, 1024, 1280, 2560)\n",
        "with rasterio.open(s2_data) as src:\n",
        "    subset = src.read(7)/10000.\n",
        "\n",
        "plt.figure(figsize=(6,8.5))\n",
        "plt.imshow(subset)\n",
        "plt.colorbar(shrink=0.5)\n",
        "#plt.title(f'Band 4 Subset\\n{window}')\n",
        "plt.xlabel('Column #')\n",
        "plt.ylabel('Row #')\n",
        "\n",
        "#now sure i know how to produce a RGB for now but it doesn't matter,\n",
        "# this is just to show i have cropped the image\n"
      ],
      "execution_count": 19,
      "outputs": [
        {
          "output_type": "execute_result",
          "data": {
            "text/plain": [
              "Text(0, 0.5, 'Row #')"
            ]
          },
          "metadata": {
            "tags": []
          },
          "execution_count": 19
        },
        {
          "output_type": "display_data",
          "data": {
            "image/png": "[encoded data removed]",
            "text/plain": [
              "<Figure size 432x612 with 2 Axes>"
            ]
          },
          "metadata": {
            "tags": []
          }
        }
      ]
    },
    {
      "cell_type": "markdown",
      "metadata": {
        "id": "75JaxwVye58r",
        "colab_type": "text"
      },
      "source": [
        "#now we will quickly set up a GPR trained on PROSAIL to try the model"
      ]
    },
    {
      "cell_type": "code",
      "metadata": {
        "id": "gXOLBUeOX171",
        "colab_type": "code",
        "outputId": "1b043a0a-25de-46fc-9c5a-57d9250f3545",
        "colab": {
          "base_uri": "https://localhost:8080/",
          "height": 306
        }
      },
      "source": [
        "#Installing PROSAIL\n",
        "!pip install prosail\n",
        "\n",
        "#latin hypercube stuff\n",
        "#lets try to do a LHS\n",
        "!pip install lhsmdu\n",
        "\n",
        "#this package as a number of functions to deal with hyperspectral data\n",
        "!pip install pysptools"
      ],
      "execution_count": 20,
      "outputs": [
        {
          "output_type": "stream",
          "text": [
            "Requirement already satisfied: prosail in /usr/local/lib/python3.6/dist-packages (2.0.5)\n",
            "Requirement already satisfied: numpy in /usr/local/lib/python3.6/dist-packages (from prosail) (1.17.5)\n",
            "Requirement already satisfied: pytest in /usr/local/lib/python3.6/dist-packages (from prosail) (3.6.4)\n",
            "Requirement already satisfied: numba in /usr/local/lib/python3.6/dist-packages (from prosail) (0.47.0)\n",
            "Requirement already satisfied: scipy in /usr/local/lib/python3.6/dist-packages (from prosail) (1.4.1)\n",
            "Requirement already satisfied: six>=1.10.0 in /usr/local/lib/python3.6/dist-packages (from pytest->prosail) (1.12.0)\n",
            "Requirement already satisfied: more-itertools>=4.0.0 in /usr/local/lib/python3.6/dist-packages (from pytest->prosail) (8.0.2)\n",
            "Requirement already satisfied: py>=1.5.0 in /usr/local/lib/python3.6/dist-packages (from pytest->prosail) (1.8.1)\n",
            "Requirement already satisfied: setuptools in /usr/local/lib/python3.6/dist-packages (from pytest->prosail) (42.0.2)\n",
            "Requirement already satisfied: atomicwrites>=1.0 in /usr/local/lib/python3.6/dist-packages (from pytest->prosail) (1.3.0)\n",
            "Requirement already satisfied: pluggy<0.8,>=0.5 in /usr/local/lib/python3.6/dist-packages (from pytest->prosail) (0.7.1)\n",
            "Requirement already satisfied: attrs>=17.4.0 in /usr/local/lib/python3.6/dist-packages (from pytest->prosail) (19.3.0)\n",
            "Requirement already satisfied: llvmlite>=0.31.0dev0 in /usr/local/lib/python3.6/dist-packages (from numba->prosail) (0.31.0)\n",
            "Requirement already satisfied: lhsmdu in /usr/local/lib/python3.6/dist-packages (0.1)\n",
            "Requirement already satisfied: numpy in /usr/local/lib/python3.6/dist-packages (from lhsmdu) (1.17.5)\n",
            "Requirement already satisfied: scipy in /usr/local/lib/python3.6/dist-packages (from lhsmdu) (1.4.1)\n",
            "Requirement already satisfied: pysptools in /usr/local/lib/python3.6/dist-packages (0.15.0)\n"
          ],
          "name": "stdout"
        }
      ]
    },
    {
      "cell_type": "code",
      "metadata": {
        "id": "Xvt0e5rRfj90",
        "colab_type": "code",
        "colab": {}
      },
      "source": [
        "import pandas as pd\n",
        "import numpy as np\n",
        "\n",
        "#PROSPECT+SAIL Radiative transfer mode package\n",
        "import prosail\n",
        "\n",
        "#Sampling design package\n",
        "import lhsmdu\n",
        "\n"
      ],
      "execution_count": 0,
      "outputs": []
    },
    {
      "cell_type": "markdown",
      "metadata": {
        "id": "DrcQHfBVfx9b",
        "colab_type": "text"
      },
      "source": [
        "The next functions are helper functions to facilitate the calls"
      ]
    },
    {
      "cell_type": "code",
      "metadata": {
        "id": "2z8Wnje1fIKw",
        "colab_type": "code",
        "outputId": "e34d66a8-7c18-403e-8789-7f526ba77b09",
        "colab": {
          "base_uri": "https://localhost:8080/",
          "height": 51
        }
      },
      "source": [
        "def custom_prosail(cab,cw,cm,lai):\n",
        "  import prosail\n",
        "  #default parameters\n",
        "  #n= 1.\n",
        "  n=1.5 #leon\n",
        "  #car=10.\n",
        "  car=7.5 #leon\n",
        "  cbrown=0.01\n",
        "  typelidf=1 #this is the default option\n",
        "  lidfa = -1 #leaf angle distribution parameter a and b\n",
        "  lidfb=-0.15\n",
        "  hspot= 0.01 #hotspot parameters - got this from R package https://www.rdocumentation.org/packages/hsdar/versions/0.4.1/topics/PROSAIL\n",
        "  #sun and viewing angle\n",
        "  #tts=30. #observation and solar position parameters\n",
        "  #tto=10. \n",
        "  #psi=0.\n",
        "  #for now i put them by hand but they should be an input of a custom function\n",
        "  tts=sol_zen #solar zenith angle\n",
        "  tto=inc_zen #sensor zenith angle\n",
        "  psi=raa\n",
        "  rho_out = prosail.run_prosail(n,\n",
        "                                 cab,\n",
        "                                 car,\n",
        "                                 cbrown,\n",
        "                                 cw,\n",
        "                                 cm,\n",
        "                                 lai,\n",
        "                                 lidfa,\n",
        "                                 hspot,\n",
        "                                 tts,tto,psi,\n",
        "                                 typelidf, lidfb,\n",
        "                                 prospect_version=\"D\",\n",
        "                                 factor='SDR', \n",
        "                                 rsoil=.5, psoil=.5)\n",
        "  return(rho_out)\n",
        "\n",
        "#test call:\n",
        "#prosail.run_prosail()\n",
        "custom_prosail(40,.005,.005,2)\n",
        "\n",
        "\n",
        "#sza, vza and raa are the solar zenith, sensor zenith and relative azimuth angles\n",
        "#sza = sol_zen\n",
        "#vza = inc_zen\n",
        "#raa = inc_zen-sol_zen  #according to the details of prosail\n",
        "\n",
        "#prosail has actually ALOT of other different inputs\n",
        "#prosail.run_prosail()\n"
      ],
      "execution_count": 22,
      "outputs": [
        {
          "output_type": "execute_result",
          "data": {
            "text/plain": [
              "array([0.02235218, 0.02234618, 0.02234066, ..., 0.05080619, 0.05042351,\n",
              "       0.05052313])"
            ]
          },
          "metadata": {
            "tags": []
          },
          "execution_count": 22
        }
      ]
    },
    {
      "cell_type": "code",
      "metadata": {
        "id": "efMV-OQ1fsl5",
        "colab_type": "code",
        "colab": {}
      },
      "source": [
        "def Prosail2S2(path2csv,spectra_input):\n",
        "  #importing pandas\n",
        "  import pandas as pd\n",
        "  import numpy\n",
        "  import numpy as np\n",
        "  #upload a S2_Response.csv from https://earth.esa.int/web/sentinel/user-guides/sentinel-2-msi/document-library/-/asset_publisher/Wk0TKajiISaR/content/sentinel-2a-spectral-responses\n",
        "\n",
        "  s2_table = pd.read_csv(path2csv,sep=\";\",decimal=\",\") #check if this is proper, regarding the sep and dec\n",
        "  #chekc which row you are actually extracting\n",
        "\n",
        "  s2_table_sel = s2_table[s2_table['SR_WL'].between(400,2500)] #selects all values between 400 and 2500\n",
        "  spectra_input_df = pd.DataFrame(data=spectra_input,columns=[\"rho\"],index=s2_table_sel.index) #transforms the input array into a pandas df with the column name rho and row.index = to the original input table\n",
        "\n",
        "  \n",
        "  rho_s2 = s2_table_sel.multiply(spectra_input_df['rho'],axis=\"index\") #calculates the numerator\n",
        "  w_band_sum = s2_table_sel.sum(axis=0,skipna = True) #calculates the denominator\n",
        "\n",
        "  output = (rho_s2.sum(axis=0)/w_band_sum).rename_axis(\"ID\").values #runs the weighted mean and converts the output to a numpy array\n",
        "\n",
        "  return output[1:] #removes the first value because it represents the wavelength column\n",
        "\n",
        "#please LOAD THTE FILE NOW\n",
        "#filepath=\"/content/S2_Response.csv\"\n",
        "#filepath=\"/content/S2_Responses_S2B.csv\"\n",
        "#filepath=\"/content/drive/My Drive/S2_Response.csv\"\n",
        "filepath=\"/content/drive/My Drive/S2_Responses_S2B.csv\""
      ],
      "execution_count": 0,
      "outputs": []
    },
    {
      "cell_type": "code",
      "metadata": {
        "id": "glANp1cQfwDT",
        "colab_type": "code",
        "colab": {}
      },
      "source": [
        "def Gen_spectra_data(traits):\n",
        "  k = 1\n",
        "  #pd_train_traits=traits\n",
        "  #print(range(len(traits)))\n",
        "  for i in range(len(traits)):\n",
        "    #n_t = pd_train_traits[\"n\"][i]\n",
        "    cab_t = traits[\"cab\"][i]\n",
        "    #car_t = pd_train_traits[\"car\"][i]\n",
        "    #cbrown_t = pd_train_traits[\"cbrown\"][i]\n",
        "    cw_t = traits[\"cw\"][i]\n",
        "    cm_t = traits[\"cm\"][i]\n",
        "    lai_t = traits[\"lai\"][i]\n",
        "\n",
        "    if k == 1:\n",
        "      tr_rho_s = custom_prosail(cab_t,cw_t,cm_t,lai_t)\n",
        "      tr_rho_s = Prosail2S2(filepath,tr_rho_s)\n",
        "      #plt.plot ( x, tr_rho_s, ':', label=\"Training prosail\")\n",
        "      #plt.legend(loc='best')\n",
        "      \n",
        "    if k > 1:\n",
        "      tr_rho_t = custom_prosail(cab_t,cw_t,cm_t,lai_t)\n",
        "      tr_rho_t = Prosail2S2(filepath,tr_rho_t)\n",
        "      tr_rho_s = np.vstack((tr_rho_s,tr_rho_t))\n",
        "      #plt.plot ( x, tr_rho_t, ':')\n",
        "\n",
        "    k = k+1\n",
        "\n",
        "\n",
        "  rho_samples=tr_rho_s\n",
        "\n",
        "\n",
        "  return rho_samples\n"
      ],
      "execution_count": 0,
      "outputs": []
    },
    {
      "cell_type": "markdown",
      "metadata": {
        "id": "f3LI16NSf4q7",
        "colab_type": "text"
      },
      "source": [
        "#preparing the input data for prosail"
      ]
    },
    {
      "cell_type": "code",
      "metadata": {
        "id": "IITOrduiEMAx",
        "colab_type": "code",
        "colab": {}
      },
      "source": [
        "#number of samples\n",
        "train_n3000 = 10000\n",
        "\n",
        "n_traits=4 #I will test on 4 varying traits: cab, car, cw,cm,lai\n",
        "\n",
        "#generating a LHS hypercube (it uses a 0 to 1 interval that can be used as a multiplier against the different traits)\n",
        "np.random.seed(0)\n",
        "LHS_train3000 = lhsmdu.createRandomStandardUniformMatrix(n_traits,train_n3000 ) #the package has a more advanced method but it is too slow to process\n",
        "\n",
        "#maxmins from here also: https://github.com/jgomezdans/prosail/issues/10\n",
        "\n",
        "#max_n=1 #this value should go from 1 to 2, so i make it change from 0 to 1 here and then add 1 later\n",
        "max_cab=90. #add 1\n",
        "#max_car=44. #add 1\n",
        "#max_cbrown= 9.99 #add 0.01\n",
        "max_cw=0.0039 #0.008 #add 0.001 \n",
        "max_cm=0.0039 #0.008 #0.001\n",
        "max_lai = 6 #add 0.1\n",
        "\n",
        "#values for leon\n",
        "#max_n=1 #this value should go from 1 to 2, so i make it change from 0 to 1 here and then add 1 later\n",
        "max_cab=50. #add 1\n",
        "#max_car=44. #add 1\n",
        "#max_cbrown= 9.99 #add 0.01\n",
        "max_cw=0.03 #0.008 #add 0.001 \n",
        "max_cm=0.03 #0.008 #0.001\n",
        "max_lai = 4 #add 0.1\n",
        "\n",
        "\n",
        "\n",
        "min_cab = 10.\n",
        "min_cw = 0.005\n",
        "min_cm = 0.005\n",
        "min_lai = .5"
      ],
      "execution_count": 0,
      "outputs": []
    },
    {
      "cell_type": "code",
      "metadata": {
        "id": "nixYagKnf8hb",
        "colab_type": "code",
        "colab": {}
      },
      "source": [
        "#preparing function inputs\n",
        "\n",
        "pd_traits3000 = pd.DataFrame.transpose(pd.DataFrame(LHS_train3000))\n",
        "pd_traits3000.columns = [\"cab\",\"cw\",\"cm\",\"lai\"]\n",
        "\n",
        "pd_traits3000[\"cab\"]=pd_traits3000[\"cab\"]*max_cab+min_cab\n",
        "pd_traits3000[\"cw\"] =pd_traits3000[\"cw\"] *max_cw +min_cw\n",
        "pd_traits3000[\"cm\"] =pd_traits3000[\"cm\"] *max_cm +min_cm\n",
        "pd_traits3000[\"lai\"]=pd_traits3000[\"lai\"]*max_lai+min_lai\n",
        "\n",
        "np_spectra3000 = Gen_spectra_data(pd_traits3000)\n"
      ],
      "execution_count": 0,
      "outputs": []
    },
    {
      "cell_type": "code",
      "metadata": {
        "id": "BVorvlFfgKoQ",
        "colab_type": "code",
        "outputId": "752410f7-e032-4b92-ff32-86066fa6954b",
        "colab": {
          "base_uri": "https://localhost:8080/",
          "height": 272
        }
      },
      "source": [
        "\n",
        "#band order\n",
        "#['B1','B2','B3','B4','B5','B6','B7','B8','B8A','B9','B10''B11','B12']\n",
        "#['B2','B3','B4','B5','B6','B7','B8A','B11','B12']\n",
        "\n",
        "print(np_spectra3000.shape)\n",
        "#lets also create a numpy object for the tratis\n",
        "np_traits3000 = pd_traits3000.iloc[:,:].values\n",
        "\n",
        "train_df_3000 = np_spectra3000[:,[1,2,3,4,5,6,8,11,12]]\n",
        "print(train_df_3000.shape)\n",
        "\n",
        "X_train = train_df_3000\n",
        "Y_train = np_traits3000\n",
        "\n",
        "len(X_train)\n",
        "train_df_3000"
      ],
      "execution_count": 60,
      "outputs": [
        {
          "output_type": "stream",
          "text": [
            "(10000, 15)\n",
            "(10000, 9)\n"
          ],
          "name": "stdout"
        },
        {
          "output_type": "execute_result",
          "data": {
            "text/plain": [
              "array([[0.03067401, 0.07417523, 0.02070375, ..., 0.42987161, 0.1381205 ,\n",
              "        0.03329369],\n",
              "       [0.02957597, 0.06493001, 0.01941685, ..., 0.49949021, 0.27428915,\n",
              "        0.11166764],\n",
              "       [0.03191924, 0.06478744, 0.02584594, ..., 0.26932943, 0.13575466,\n",
              "        0.04173193],\n",
              "       ...,\n",
              "       [0.02821879, 0.0570617 , 0.01888681, ..., 0.33187433, 0.13171139,\n",
              "        0.02922536],\n",
              "       [0.0376818 , 0.13781188, 0.05689721, ..., 0.33511003, 0.14816767,\n",
              "        0.03672895],\n",
              "       [0.02848357, 0.05659576, 0.01876785, ..., 0.38218525, 0.13220234,\n",
              "        0.0298274 ]])"
            ]
          },
          "metadata": {
            "tags": []
          },
          "execution_count": 60
        }
      ]
    },
    {
      "cell_type": "markdown",
      "metadata": {
        "id": "iH5cfeM1O4mf",
        "colab_type": "text"
      },
      "source": [
        "Adding a bit of noise on joris sugestion"
      ]
    },
    {
      "cell_type": "code",
      "metadata": {
        "id": "p4no2oUpO6xL",
        "colab_type": "code",
        "outputId": "e513787c-e38d-4cc9-8cbe-9868119e0956",
        "colab": {
          "base_uri": "https://localhost:8080/",
          "height": 255
        }
      },
      "source": [
        "train_df_3000.shape\n",
        "train_df_3000_noise = train_df_3000\n",
        "from scipy.stats import truncnorm\n",
        "\n",
        "#for i in range(train_df_3000.shape[1]):\n",
        "  #print(i)\n",
        "  #train_df_3000_noise[:,i]=train_df_3000[:,i]+np.random.normal(0,.001,len(train_df_3000))\n",
        "  #train_df_3000[:,i]*truncnorm.rvs(0.1,0.9,loc=0.5,scale=0.2,size=len(train_df_3000))#+np.random.normal(0,.001,len(train_df_3000))\n",
        "\n",
        "print(train_df_3000)\n",
        "print(train_df_3000_noise)\n",
        "X_train_noise=train_df_3000_noise"
      ],
      "execution_count": 61,
      "outputs": [
        {
          "output_type": "stream",
          "text": [
            "[[0.03067401 0.07417523 0.02070375 ... 0.42987161 0.1381205  0.03329369]\n",
            " [0.02957597 0.06493001 0.01941685 ... 0.49949021 0.27428915 0.11166764]\n",
            " [0.03191924 0.06478744 0.02584594 ... 0.26932943 0.13575466 0.04173193]\n",
            " ...\n",
            " [0.02821879 0.0570617  0.01888681 ... 0.33187433 0.13171139 0.02922536]\n",
            " [0.0376818  0.13781188 0.05689721 ... 0.33511003 0.14816767 0.03672895]\n",
            " [0.02848357 0.05659576 0.01876785 ... 0.38218525 0.13220234 0.0298274 ]]\n",
            "[[0.03067401 0.07417523 0.02070375 ... 0.42987161 0.1381205  0.03329369]\n",
            " [0.02957597 0.06493001 0.01941685 ... 0.49949021 0.27428915 0.11166764]\n",
            " [0.03191924 0.06478744 0.02584594 ... 0.26932943 0.13575466 0.04173193]\n",
            " ...\n",
            " [0.02821879 0.0570617  0.01888681 ... 0.33187433 0.13171139 0.02922536]\n",
            " [0.0376818  0.13781188 0.05689721 ... 0.33511003 0.14816767 0.03672895]\n",
            " [0.02848357 0.05659576 0.01876785 ... 0.38218525 0.13220234 0.0298274 ]]\n"
          ],
          "name": "stdout"
        }
      ]
    },
    {
      "cell_type": "code",
      "metadata": {
        "id": "k3WjzTjOP4t3",
        "colab_type": "code",
        "outputId": "64b730ee-4c1c-4461-de6f-cff9af8aa3a5",
        "colab": {
          "base_uri": "https://localhost:8080/",
          "height": 34
        }
      },
      "source": [
        "scipy.stats.describe(truncnorm.rvs(0.1,0.9,loc=0.5,scale=0.2,size=len(train_df_3000)))\n",
        "scipy.stats.describe(np.random.normal(0,.001,len(train_df_3000)))\n",
        "len(np.random.normal(0,.001,len(train_df_3000)))"
      ],
      "execution_count": 62,
      "outputs": [
        {
          "output_type": "execute_result",
          "data": {
            "text/plain": [
              "10000"
            ]
          },
          "metadata": {
            "tags": []
          },
          "execution_count": 62
        }
      ]
    },
    {
      "cell_type": "code",
      "metadata": {
        "id": "gnRlfqepDXh5",
        "colab_type": "code",
        "colab": {}
      },
      "source": [
        "#scipy.stats.describe(X_train)"
      ],
      "execution_count": 0,
      "outputs": []
    },
    {
      "cell_type": "markdown",
      "metadata": {
        "id": "MKb411aViUyD",
        "colab_type": "text"
      },
      "source": [
        "#time for training and predicting the GPR\n",
        "\n",
        "link of interest: https://scikit-learn.org/stable/modules/generated/sklearn.gaussian_process.GaussianProcessRegressor.html#sklearn.gaussian_process.GaussianProcessRegressor\n",
        "\n",
        "\n",
        "https://katbailey.github.io/post/gaussian-processes-for-dummies/"
      ]
    },
    {
      "cell_type": "code",
      "metadata": {
        "id": "a8D7F7vfgSjQ",
        "colab_type": "code",
        "outputId": "bea210ce-e7e7-4b9b-a071-e90b08a126f5",
        "colab": {
          "base_uri": "https://localhost:8080/",
          "height": 68
        }
      },
      "source": [
        "#Gaussian processes\n",
        "from sklearn.gaussian_process import GaussianProcessRegressor\n",
        "from sklearn.gaussian_process.kernels import ConstantKernel, Matern\n",
        "\n",
        "gpr_ml = GaussianProcessRegressor(n_restarts_optimizer=10,\n",
        "                                        normalize_y=True,\n",
        "                                        random_state=0)#,copy_X_train=False)\n",
        "\n",
        "\n",
        "#GPR - Training \n",
        "#gpr_ml.fit(X_train,Y_train)\n",
        "gpr_ml.fit(X_train_noise,Y_train)"
      ],
      "execution_count": 63,
      "outputs": [
        {
          "output_type": "execute_result",
          "data": {
            "text/plain": [
              "GaussianProcessRegressor(alpha=1e-10, copy_X_train=True, kernel=None,\n",
              "                         n_restarts_optimizer=10, normalize_y=True,\n",
              "                         optimizer='fmin_l_bfgs_b', random_state=0)"
            ]
          },
          "metadata": {
            "tags": []
          },
          "execution_count": 63
        }
      ]
    },
    {
      "cell_type": "markdown",
      "metadata": {
        "id": "RgdJAWz_ZNv5",
        "colab_type": "text"
      },
      "source": [
        "Exploring other kernels - somehow the default kernel seems to superfit the simulated data but has a total failure in real data.. \n",
        "\n",
        "Here is a great explanation with examples of the different kernels:\n",
        "\n",
        "https://peterroelants.github.io/posts/gaussian-process-kernels/"
      ]
    },
    {
      "cell_type": "code",
      "metadata": {
        "id": "EBkSZdukYN2n",
        "colab_type": "code",
        "colab": {}
      },
      "source": [
        "#seems we need a custom version of tf to do the special function ahead in GPR\n",
        "#!pip install tensorflow==1.15.0\n",
        "#!pip install tensorflow_probability==0.8.0\n"
      ],
      "execution_count": 0,
      "outputs": []
    },
    {
      "cell_type": "code",
      "metadata": {
        "id": "kKD2_KOGVNyR",
        "colab_type": "code",
        "colab": {}
      },
      "source": [
        "#import tensorflow.compat.v1 as tf\n",
        "#import tensorflow_probability as tfp\n",
        "#import tensorflow_probability as tfp\n",
        "\n",
        "#tf.logging.set_verbosity(tf.logging.ERROR)\n",
        "\n",
        "#tfd = tfp.distributions\n",
        "#tfk = tfp.math.psd_kernels\n",
        "\n",
        "#lets try to create our own kernel function\n",
        "#def exponentiated_quadratic_tf(amplitude, length_scale):\n",
        "#    \"\"\"Exponentiated quadratic TensorFlow operation.\"\"\"\n",
        "#    amplitude_tf = tf.constant(amplitude, dtype=tf.float64)\n",
        "#    length_scale_tf = tf.constant(length_scale, dtype=tf.float64)\n",
        "#    kernel = tfk.ExponentiatedQuadratic(\n",
        "#        amplitude=amplitude_tf, \n",
        "#        length_scale=length_scale_tf)\n",
        "#    return kernel\n",
        "\n",
        "#gp_kernel = exponentiated_quadratic_tf(amplitude=1,length_scale=1)"
      ],
      "execution_count": 0,
      "outputs": []
    },
    {
      "cell_type": "code",
      "metadata": {
        "id": "NRMX1KJRS0RM",
        "colab_type": "code",
        "colab": {}
      },
      "source": [
        "\n",
        "from sklearn.gaussian_process.kernels import WhiteKernel, ExpSineSquared, RationalQuadratic, RBF\n",
        "\n",
        "\n",
        "#got this kernel from an example, not sure what it is.. \n",
        "#gp_kernel = ExpSineSquared(1.0, 5.0, periodicity_bounds=(1e-2, 1e1)) \\\n",
        "#    + WhiteKernel(1e-1)\n",
        "\n",
        "#expsine squared\n",
        "#gp_kernel = 1.0 * ExpSineSquared(length_scale=1.0, periodicity=3.0,\n",
        "#                                length_scale_bounds=(0.1, 10.0),\n",
        "#                                periodicity_bounds=(1.0, 10.0))\n",
        "\n",
        "\n",
        "#rational quadratic kernel\n",
        "#gp_kernel = 1.0 * RationalQuadratic(length_scale=.2, alpha=1)\n",
        "\n",
        "#this is the default kernel i reckon\n",
        "#gp_kernel = 1.0 * RBF(length_scale=1.0, length_scale_bounds=(1e-1, 10.0)) \n",
        "\n",
        "#we can also combine kernels \n",
        "#gp_kernel = 1.0 * RBF(length_scale=1.0, length_scale_bounds=(1e-1, 10.0)) + WhiteKernel(1e-1)\n",
        "\n",
        "#+ 1.0 * RationalQuadratic(length_scale=1.0, alpha=0.1)\n",
        "\n",
        "#trying out other setups for GPR\n",
        "#gpr_ml = GaussianProcessRegressor(kernel = gp_kernel,\n",
        "#                                  n_restarts_optimizer=10,\n",
        "#                                  normalize_y=True,\n",
        "#                                  random_state=0)#,copy_X_train=False)\n",
        "\n",
        "#GPR - Training \n",
        "#gpr_ml.fit(X_train,Y_train)"
      ],
      "execution_count": 0,
      "outputs": []
    },
    {
      "cell_type": "markdown",
      "metadata": {
        "id": "grstKKrH4AmY",
        "colab_type": "text"
      },
      "source": [
        "Let's do a quick test to see how it works against simulated data"
      ]
    },
    {
      "cell_type": "code",
      "metadata": {
        "id": "8j7yCadK4M5b",
        "colab_type": "code",
        "outputId": "c7e4c80e-a482-4206-c79d-32a840aea4b2",
        "colab": {
          "base_uri": "https://localhost:8080/",
          "height": 51
        }
      },
      "source": [
        "LHS_valid0500 = lhsmdu.createRandomStandardUniformMatrix(n_traits,500) #the package has a more advanced method but it is too slow to process\n",
        "\n",
        "\n",
        "pd_valid0500 = pd.DataFrame.transpose(pd.DataFrame(LHS_valid0500))\n",
        "pd_valid0500.columns = [\"cab\",\"cw\",\"cm\",\"lai\"]\n",
        "\n",
        "pd_valid0500[\"cab\"]=pd_valid0500[\"cab\"]*max_cab+min_cab\n",
        "pd_valid0500[\"cw\"] =pd_valid0500[\"cw\"] *max_cw +min_cw\n",
        "pd_valid0500[\"cm\"] =pd_valid0500[\"cm\"] *max_cm +min_cm\n",
        "pd_valid0500[\"lai\"]=pd_valid0500[\"lai\"]*max_lai+min_lai\n",
        "\n",
        "np_spectra0500 = Gen_spectra_data(pd_valid0500)\n",
        "\n",
        "print(np_spectra0500.shape)\n",
        "#lets also create a numpy object for the tratis\n",
        "np_valid0500 = pd_valid0500.iloc[:,:].values\n",
        "\n",
        "valid_df_0500 = np_spectra0500[:,[1,2,3,4,5,6,8,11,12]]\n",
        "print(valid_df_0500.shape)\n",
        "\n"
      ],
      "execution_count": 64,
      "outputs": [
        {
          "output_type": "stream",
          "text": [
            "(500, 15)\n",
            "(500, 9)\n"
          ],
          "name": "stdout"
        }
      ]
    },
    {
      "cell_type": "code",
      "metadata": {
        "id": "GCaexFTPSd8r",
        "colab_type": "code",
        "outputId": "1cd4f7ae-ee7c-42ac-ce46-0bd31eecd5c3",
        "colab": {
          "base_uri": "https://localhost:8080/",
          "height": 34
        }
      },
      "source": [
        "test_pred = gpr_ml.predict(valid_df_0500)\n",
        "test_pred.shape"
      ],
      "execution_count": 65,
      "outputs": [
        {
          "output_type": "execute_result",
          "data": {
            "text/plain": [
              "(500, 4)"
            ]
          },
          "metadata": {
            "tags": []
          },
          "execution_count": 65
        }
      ]
    },
    {
      "cell_type": "code",
      "metadata": {
        "id": "xXDA7WUw5GaF",
        "colab_type": "code",
        "outputId": "28cc0e4b-0c21-4ac6-e9f8-541ce51fd811",
        "colab": {
          "base_uri": "https://localhost:8080/",
          "height": 588
        }
      },
      "source": [
        "\n",
        "\n",
        "#plotting cab\n",
        "fig, axs = plt.subplots(1,2)\n",
        "fig.suptitle('Selected traits')\n",
        "fig.subplots_adjust(wspace=1)\n",
        "\n",
        "#plt.subplot(3,1,1)\n",
        "axs[0].plot(pd_valid0500[\"cab\"],test_pred[:,0],\"o\",label=\"Cab\")\n",
        "axs[0].legend(loc=\"upper left\")\n",
        "axs[0].set_ylabel(\"Prediction\")\n",
        "\n",
        "axs[1].plot(pd_valid0500[\"cw\"],test_pred[:,1],\"o\",label=\"Cw\")\n",
        "axs[1].legend(loc=\"upper left\")\n",
        "#axs[1].set_ylabel(\"Prediction\")\n",
        "\n",
        "plt.show()\n",
        "\n",
        "#plotting cab\n",
        "fig, axs = plt.subplots(1,2)\n",
        "fig.suptitle('Selected traits')\n",
        "fig.subplots_adjust(wspace=1)\n",
        "\n",
        "\n",
        "axs[0].plot(pd_valid0500[\"cm\"],test_pred[:,2],\"o\",label=\"Cm\")\n",
        "axs[0].legend(loc=\"upper left\")\n",
        "#axs[0].set_ylabel(\"Prediction\")\n",
        "\n",
        "axs[1].plot(pd_valid0500[\"lai\"],test_pred[:,3],\"o\",label=\"LAI\")\n",
        "axs[1].legend(loc=\"upper left\")\n",
        "#axs[3].set_ylabel(\"Prediction\")"
      ],
      "execution_count": 66,
      "outputs": [
        {
          "output_type": "display_data",
          "data": {
            "image/png": "[encoded data removed]",
            "text/plain": [
              "<Figure size 432x288 with 2 Axes>"
            ]
          },
          "metadata": {
            "tags": []
          }
        },
        {
          "output_type": "execute_result",
          "data": {
            "text/plain": [
              "<matplotlib.legend.Legend at 0x7f0ef04920b8>"
            ]
          },
          "metadata": {
            "tags": []
          },
          "execution_count": 66
        },
        {
          "output_type": "display_data",
          "data": {
            "image/png": "[encoded data removed]",
            "text/plain": [
              "<Figure size 432x288 with 2 Axes>"
            ]
          },
          "metadata": {
            "tags": []
          }
        }
      ]
    },
    {
      "cell_type": "markdown",
      "metadata": {
        "id": "GNnbEkEFAtn-",
        "colab_type": "text"
      },
      "source": [
        "Checking the data before the predictions\n",
        "\n"
      ]
    },
    {
      "cell_type": "code",
      "metadata": {
        "id": "7BKaah_9A3dw",
        "colab_type": "code",
        "outputId": "6fbfa64f-0339-4e83-80f6-6659b2793dc8",
        "colab": {
          "base_uri": "https://localhost:8080/",
          "height": 306
        }
      },
      "source": [
        "print(\"Stats of input train data\")\n",
        "print(scipy.stats.describe(X_train))\n",
        "\n",
        "print(\"Stats of input s2 data\")\n",
        "print(scipy.stats.describe(bandByPixel))\n",
        "\n",
        "#this comparision does not make much sense because i will have data that is objectively not even vegetation... "
      ],
      "execution_count": 67,
      "outputs": [
        {
          "output_type": "stream",
          "text": [
            "Stats of input train data\n",
            "DescribeResult(nobs=10000, minmax=(array([0.02673987, 0.04662764, 0.018114  , 0.06466965, 0.17552588,\n",
            "       0.19577987, 0.20297932, 0.09059019, 0.0176632 ]), array([0.04808971, 0.17479658, 0.07493954, 0.27780825, 0.5391425 ,\n",
            "       0.58794603, 0.59151201, 0.36733244, 0.17324317])), mean=array([0.03294167, 0.08352945, 0.02925401, 0.12085924, 0.31818959,\n",
            "       0.36926672, 0.37211622, 0.16353779, 0.05145984]), variance=array([1.61390879e-05, 7.64351739e-04, 1.37552957e-04, 1.78354654e-03,\n",
            "       3.77558767e-03, 6.12349482e-03, 6.00142985e-03, 1.98716074e-03,\n",
            "       6.33588229e-04]), skewness=array([0.66840375, 0.81849456, 1.31038489, 0.91254873, 0.3677601 ,\n",
            "       0.36436772, 0.40638641, 1.11007852, 1.34403413]), kurtosis=array([-0.17813852, -0.21426378,  0.9919647 ,  0.11067778, -0.09461586,\n",
            "       -0.31856608, -0.31193212,  1.39615113,  2.07968647]))\n",
            "Stats of input s2 data\n",
            "DescribeResult(nobs=1728, minmax=(array([0.0177, 0.0348, 0.0207, 0.0577, 0.1312, 0.1494, 0.1637, 0.1148,\n",
            "       0.0578]), array([0.1247, 0.1934, 0.2678, 0.2995, 0.375 , 0.4285, 0.4411, 0.4148,\n",
            "       0.3726])), mean=array([0.0450217 , 0.06971331, 0.07928686, 0.11988669, 0.19956725,\n",
            "       0.22784797, 0.24736956, 0.24519005, 0.1635103 ]), variance=array([0.00032515, 0.00061921, 0.00203075, 0.00183529, 0.00166351,\n",
            "       0.00244777, 0.00246125, 0.00303518, 0.00310305]), skewness=array([1.30425193, 1.67719802, 1.46356236, 1.60719675, 1.10739422,\n",
            "       1.28765392, 1.21508619, 0.45275349, 0.85625398]), kurtosis=array([1.49720662, 2.87363907, 2.1048561 , 2.60620501, 1.1889728 ,\n",
            "       1.88929605, 1.82483266, 0.00537086, 1.06829323]))\n"
          ],
          "name": "stdout"
        }
      ]
    },
    {
      "cell_type": "markdown",
      "metadata": {
        "id": "dXhksp7-itEq",
        "colab_type": "text"
      },
      "source": [
        "The prediction runs out of RAM unfortunately\n"
      ]
    },
    {
      "cell_type": "code",
      "metadata": {
        "id": "7KJzoFlogqjV",
        "colab_type": "code",
        "colab": {}
      },
      "source": [
        "#this predicts the data back into the pixel data (its not fast)\n",
        "#img_pred = gpr_ml.predict(bandByPixel)"
      ],
      "execution_count": 0,
      "outputs": []
    },
    {
      "cell_type": "markdown",
      "metadata": {
        "id": "orAPlVn5q11Q",
        "colab_type": "text"
      },
      "source": [
        "lets see what we ahve "
      ]
    },
    {
      "cell_type": "code",
      "metadata": {
        "id": "2R9U9d1ALlqY",
        "colab_type": "code",
        "outputId": "0dd87de0-b456-4a81-d53f-6c550611eac8",
        "colab": {
          "base_uri": "https://localhost:8080/",
          "height": 289
        }
      },
      "source": [
        "print(bandByPixel.shape)\n",
        "print(valid_df_0500.shape)\n",
        "\n",
        "print(bandByPixel)\n",
        "print(valid_df_0500)\n",
        "\n"
      ],
      "execution_count": 68,
      "outputs": [
        {
          "output_type": "stream",
          "text": [
            "(1728, 9)\n",
            "(500, 9)\n",
            "[[0.0416 0.0626 0.0757 ... 0.2087 0.2654 0.176 ]\n",
            " [0.0418 0.0627 0.0727 ... 0.2329 0.2583 0.1681]\n",
            " [0.0427 0.0669 0.0756 ... 0.2356 0.2662 0.1767]\n",
            " ...\n",
            " [0.0232 0.0531 0.0264 ... 0.4014 0.1784 0.0766]\n",
            " [0.0242 0.0534 0.0273 ... 0.4173 0.1705 0.0732]\n",
            " [0.0254 0.0572 0.0292 ... 0.4279 0.1762 0.0748]]\n",
            "[[0.04306337 0.08064717 0.04769175 ... 0.21443733 0.14517912 0.07538855]\n",
            " [0.03307446 0.05482962 0.0294427  ... 0.26882509 0.13789938 0.0520701 ]\n",
            " [0.03277586 0.09129379 0.0245021  ... 0.45779039 0.241817   0.08961047]\n",
            " ...\n",
            " [0.03323157 0.09744889 0.02737124 ... 0.37628053 0.1150555  0.02504563]\n",
            " [0.02799525 0.0522624  0.01845074 ... 0.40940077 0.11708905 0.025642  ]\n",
            " [0.0348773  0.11152723 0.03043692 ... 0.48572578 0.25255381 0.09027546]]\n"
          ],
          "name": "stdout"
        }
      ]
    },
    {
      "cell_type": "code",
      "metadata": {
        "id": "4ZOyjFt4hHN-",
        "colab_type": "code",
        "outputId": "2169ff4c-478f-4846-e2a8-dce5188dfd46",
        "colab": {
          "base_uri": "https://localhost:8080/",
          "height": 153
        }
      },
      "source": [
        "print(bandByPixel.shape)\n",
        "print(train_df_3000.shape)\n",
        "\n",
        "#lets split it into folds and solve it by a loop\n",
        "from sklearn.model_selection import KFold\n",
        "kf = KFold(n_splits=2)\n",
        "kf.split(bandByPixel)\n",
        "\n",
        "\n",
        "\n",
        "k=1\n",
        "for i,j in kf.split(bandByPixel):\n",
        "  #print(i.shape)\n",
        "  #print(j.shape)\n",
        "  \n",
        "  print(k)\n",
        "  \n",
        "  X_test = bandByPixel[j] #this fetches the rows on the test section\n",
        "\n",
        "  print(X_test.shape)\n",
        "  print(\"end of fold\")\n",
        "\n",
        "  temp_pred = gpr_ml.predict(X_test)\n",
        "\n",
        "  if k == 1: \n",
        "    out_stack = temp_pred\n",
        "  if k > 1:\n",
        "    out_stack = np.vstack((out_stack,temp_pred))\n",
        "\n",
        "\n",
        "  k=k+1\n",
        "\n"
      ],
      "execution_count": 69,
      "outputs": [
        {
          "output_type": "stream",
          "text": [
            "(1728, 9)\n",
            "(10000, 9)\n",
            "1\n",
            "(864, 9)\n",
            "end of fold\n",
            "2\n",
            "(864, 9)\n",
            "end of fold\n"
          ],
          "name": "stdout"
        }
      ]
    },
    {
      "cell_type": "markdown",
      "metadata": {
        "id": "O3sZB0Tpux-s",
        "colab_type": "text"
      },
      "source": [
        "Seems it's a sucess!"
      ]
    },
    {
      "cell_type": "code",
      "metadata": {
        "id": "WGA29jKZuPWN",
        "colab_type": "code",
        "outputId": "c4eded08-9ad9-4ac1-cc6f-f68381c9ac63",
        "colab": {
          "base_uri": "https://localhost:8080/",
          "height": 34
        }
      },
      "source": [
        "print(out_stack.shape)"
      ],
      "execution_count": 41,
      "outputs": [
        {
          "output_type": "stream",
          "text": [
            "(1728, 4)\n"
          ],
          "name": "stdout"
        }
      ]
    },
    {
      "cell_type": "code",
      "metadata": {
        "id": "nB-vN1Z1wvWv",
        "colab_type": "code",
        "outputId": "116495fc-3888-4386-d01c-99faea9b4ad0",
        "colab": {
          "base_uri": "https://localhost:8080/",
          "height": 136
        }
      },
      "source": [
        "print(out_stack)"
      ],
      "execution_count": 42,
      "outputs": [
        {
          "output_type": "stream",
          "text": [
            "[[ 1.76059709e+02 -1.32487118e-02  9.28540252e-03 -1.06495940e+01]\n",
            " [ 1.91759274e+02  8.78574894e-03 -2.73879710e-02 -6.08476720e+00]\n",
            " [ 1.50116279e+02  1.71024286e-03 -1.34022617e-02 -6.07342063e+00]\n",
            " ...\n",
            " [ 9.37509848e+01  3.48470409e-02 -1.96560080e-02 -1.91116024e+01]\n",
            " [ 9.70708652e+01  4.12829526e-02 -2.80434187e-02 -1.77321051e+01]\n",
            " [ 8.42485698e+01  4.04420923e-02 -2.82097994e-02 -1.56933812e+01]]\n"
          ],
          "name": "stdout"
        }
      ]
    },
    {
      "cell_type": "markdown",
      "metadata": {
        "id": "UXIUalcAv7b7",
        "colab_type": "text"
      },
      "source": [
        "Final set up before saving"
      ]
    },
    {
      "cell_type": "code",
      "metadata": {
        "id": "5w5mm4_Ju1RM",
        "colab_type": "code",
        "colab": {}
      },
      "source": [
        "#print(pd_traits3000)\n",
        "\n",
        "\n",
        "cab_band = out_stack[:,0]\n",
        "cw_band = out_stack[:,1]\n",
        "cm_band = out_stack[:,2]\n",
        "lai_band = out_stack[:,3]\n",
        "\n",
        "\n",
        "cab_img = np.reshape(cab_band,(ds1.RasterYSize,ds1.RasterXSize))\n",
        "cm_img = np.reshape(cm_band,(ds1.RasterYSize,ds1.RasterXSize))\n",
        "cw_img = np.reshape(cw_band,(ds1.RasterYSize,ds1.RasterXSize))\n",
        "lai_img = np.reshape(lai_band,(ds1.RasterYSize,ds1.RasterXSize))\n",
        "\n",
        "#and now we can save it to a raster file\n",
        "cab_outfile = s2_filename + \"_cab_GPR_2\"+\".tif\"\n",
        "cm_outfile  = s2_filename + \"_cm_GPR_2\"+\".tif\"\n",
        "cw_outfile  = s2_filename + \"_cw_GPR_2\"+\".tif\"\n",
        "lai_outfile = s2_filename + \"_lai_GPR_2\"+\".tif\"\n",
        "\n",
        "#scipy.stats.describe(out_stack)"
      ],
      "execution_count": 0,
      "outputs": []
    },
    {
      "cell_type": "code",
      "metadata": {
        "id": "htWCgC_8vnVj",
        "colab_type": "code",
        "colab": {}
      },
      "source": [
        "raster.export(cab_img, ds1, cab_outfile, dtype='float')\n",
        "raster.export(cm_img, ds1, cm_outfile, dtype='float')\n",
        "raster.export(cw_img, ds1, cw_outfile, dtype='float')\n",
        "raster.export(lai_img, ds1, lai_outfile, dtype='float')"
      ],
      "execution_count": 0,
      "outputs": []
    },
    {
      "cell_type": "markdown",
      "metadata": {
        "id": "Oj2us5gSxqQX",
        "colab_type": "text"
      },
      "source": [
        "IT worked but the results are nonsense:\n",
        "\n",
        "The GPR is predicting quite well on the simulated data but fails completely on the real satellite data.. \n",
        "\n",
        "Options: \n",
        "\n",
        "- perhaps the function to transform hyperspectral to sentinel data is improper\n",
        "- overfitting of the ML?\n",
        "(with other kernel functions it works very differently)\n",
        "- something wrong on the SR data? am i putting in the right inputs? (this one i think i am)\n",
        "\n",
        "- try optimization in just one small bit of the data\n",
        "\n"
      ]
    },
    {
      "cell_type": "code",
      "metadata": {
        "id": "57jGT0S3epkF",
        "colab_type": "code",
        "outputId": "58ce98c8-9e7c-4b0e-92e9-e5d2a958c0e5",
        "colab": {
          "base_uri": "https://localhost:8080/",
          "height": 1000
        }
      },
      "source": [
        "#window = rasterio.windows.Window(1024, 1024, 1280, 2560)\n",
        "\n",
        "#in a GIS we can easily change the color scale to avoid the extremes\n",
        "\n",
        "plt.figure(figsize=(6,8.5))\n",
        "plt.imshow(cab_img)\n",
        "plt.colorbar(shrink=0.5)\n",
        "plt.title('Ch a+b')\n",
        "plt.xlabel('Column #')\n",
        "plt.ylabel('Row #')\n",
        "\n",
        "plt.figure(figsize=(6,8.5))\n",
        "plt.imshow(cw_img)\n",
        "plt.colorbar(shrink=0.5)\n",
        "plt.title('Cw')\n",
        "plt.xlabel('Column #')\n",
        "plt.ylabel('Row #')\n",
        "\n",
        "plt.figure(figsize=(6,8.5))\n",
        "plt.imshow(cm_img)\n",
        "plt.colorbar(shrink=0.5)\n",
        "plt.title('Cm')\n",
        "plt.xlabel('Column #')\n",
        "plt.ylabel('Row #')\n",
        "\n",
        "\n",
        "plt.figure(figsize=(6,8.5))\n",
        "plt.imshow(lai_img)\n",
        "plt.colorbar(shrink=0.5)\n",
        "plt.title('Lai')\n",
        "plt.xlabel('Column #')\n",
        "plt.ylabel('Row #')\n"
      ],
      "execution_count": 73,
      "outputs": [
        {
          "output_type": "execute_result",
          "data": {
            "text/plain": [
              "Text(0, 0.5, 'Row #')"
            ]
          },
          "metadata": {
            "tags": []
          },
          "execution_count": 73
        },
        {
          "output_type": "display_data",
          "data": {
            "image/png": "[encoded data removed]",
            "text/plain": [
              "<Figure size 432x612 with 2 Axes>"
            ]
          },
          "metadata": {
            "tags": []
          }
        },
        {
          "output_type": "display_data",
          "data": {
            "image/png": "[encoded data removed]",
            "text/plain": [
              "<Figure size 432x612 with 2 Axes>"
            ]
          },
          "metadata": {
            "tags": []
          }
        },
        {
          "output_type": "display_data",
          "data": {
            "image/png": "[encoded data removed]",
            "text/plain": [
              "<Figure size 432x612 with 2 Axes>"
            ]
          },
          "metadata": {
            "tags": []
          }
        },
        {
          "output_type": "display_data",
          "data": {
            "image/png": "[encoded data removed]",
            "text/plain": [
              "<Figure size 432x612 with 2 Axes>"
            ]
          },
          "metadata": {
            "tags": []
          }
        }
      ]
    },
    {
      "cell_type": "code",
      "metadata": {
        "id": "L2TAHXAvBz90",
        "colab_type": "code",
        "colab": {}
      },
      "source": [
        "#machine learning stuff\n",
        "from sklearn.neural_network import MLPRegressor as ANN_reg #this is a simpler neural network package\n",
        "\n",
        "from keras.models import Sequential\n",
        "from keras.layers import Dense\n",
        "import tensorflow.compat.v1 as tf\n",
        "tf.disable_v2_behavior()"
      ],
      "execution_count": 0,
      "outputs": []
    },
    {
      "cell_type": "code",
      "metadata": {
        "id": "CehSNTTtB2-c",
        "colab_type": "code",
        "colab": {}
      },
      "source": [
        "#multi tas\n",
        "from keras.models import Model\n",
        "from keras.layers import Input, Dense\n",
        "\n",
        "inputs = Input(shape=(9,))\n",
        "sub1 = Dense(64, activation='tanh')(inputs)\n",
        "sub2 = Dense(32, activation='tanh')(sub1)\n",
        "cab1 = Dense(16, activation='sigmoid')(sub2)\n",
        "cw1  = Dense(16, activation='sigmoid')(sub2)\n",
        "cm1  = Dense(16, activation='sigmoid')(sub2)\n",
        "lai1 = Dense(16, activation='sigmoid')(sub2)\n",
        "cab2 = Dense(1, activation='linear')(cab1)\n",
        "cw2  = Dense(1, activation='linear')(cw1)\n",
        "cm2  = Dense(1, activation='linear')(cm1)\n",
        "lai2 = Dense(1, activation='linear')(lai1)\n",
        "\n",
        "\n",
        "#building the model using keras api\n",
        "model = Model(inputs=inputs, outputs=[cab2,cw2,cm2,lai2])\n",
        "model.compile(loss='mean_squared_error', optimizer='adam', metrics=['accuracy'])"
      ],
      "execution_count": 0,
      "outputs": []
    },
    {
      "cell_type": "code",
      "metadata": {
        "id": "z8gWiZ6lB8Xr",
        "colab_type": "code",
        "colab": {}
      },
      "source": [
        "#fitting the data, ANN needs standardization\n",
        "from sklearn.preprocessing import MinMaxScaler #this is to standardize the input data [not used for now]\n",
        "\n",
        "X_ann = X_train \n",
        "Y_ann = Y_train  #converts from a panda table to a numpy\n",
        "\n",
        "scaler = MinMaxScaler()#lets rescale the input\n",
        "scaler.fit(Y_ann)\n",
        "Y_ann_norm = scaler.transform(Y_ann)\n",
        "\n",
        "Y_ann_norm.shape\n",
        "\n",
        "cab_train = Y_ann_norm[:,0]\n",
        "cw_train = Y_ann_norm[:,1]\n",
        "cm_train = Y_ann_norm[:,2]\n",
        "lai_train = Y_ann_norm[:,3]"
      ],
      "execution_count": 0,
      "outputs": []
    },
    {
      "cell_type": "code",
      "metadata": {
        "id": "McHlS2qgB-rJ",
        "colab_type": "code",
        "outputId": "07bedd0b-dd4a-468c-b38e-f4548f2d806e",
        "colab": {
          "base_uri": "https://localhost:8080/",
          "height": 34
        }
      },
      "source": [
        "model.fit(X_ann,[cab_train,cw_train,cm_train,lai_train],epochs=100,verbose=0) #add verbose=0 to hide output spam"
      ],
      "execution_count": 77,
      "outputs": [
        {
          "output_type": "execute_result",
          "data": {
            "text/plain": [
              "<keras.callbacks.History at 0x7f0ef0534048>"
            ]
          },
          "metadata": {
            "tags": []
          },
          "execution_count": 77
        }
      ]
    },
    {
      "cell_type": "code",
      "metadata": {
        "id": "18Zl7zt9CNg1",
        "colab_type": "code",
        "colab": {}
      },
      "source": [
        "Y_ann_pred = model.predict(valid_df_0500)\n",
        "\n",
        "#lets assume this is the order\n",
        "cab_pred = Y_ann_pred[0]\n",
        "cw_pred  = Y_ann_pred[1]\n",
        "cm_pred  = Y_ann_pred[2]\n",
        "lai_pred = Y_ann_pred[3]\n",
        "\n",
        "np_Y_ann_pred = np.array(cab_pred)\n",
        "np_Y_ann_pred = np.hstack((np_Y_ann_pred,cw_pred))\n",
        "np_Y_ann_pred = np.hstack((np_Y_ann_pred,cm_pred))\n",
        "np_Y_ann_pred = np.hstack((np_Y_ann_pred,lai_pred))\n",
        "np_Y_ann_pred.shape\n",
        "\n",
        "#and finall we can re-transform the values\n",
        "np_Y_ann_pred = scaler.inverse_transform(np_Y_ann_pred)\n",
        "#np_Y_ann_pred\n",
        "\n",
        "#Y_ann_pred = pd.DataFrame(scaler.inverse_transform(model.predict(valid_df_0500)))\n",
        "#Y_ann_pred.columns = [\"cab\",\"car\",\"cw\",\"cm\"]\n",
        "#Y_ann_pred\n",
        "\n",
        "test_pred=np_Y_ann_pred"
      ],
      "execution_count": 0,
      "outputs": []
    },
    {
      "cell_type": "code",
      "metadata": {
        "id": "HqHSeO19CR1j",
        "colab_type": "code",
        "outputId": "ab93c6db-a732-4808-f29a-6a335ed87732",
        "colab": {
          "base_uri": "https://localhost:8080/",
          "height": 588
        }
      },
      "source": [
        "#plotting cab\n",
        "fig, axs = plt.subplots(1,2)\n",
        "fig.suptitle('Selected traits')\n",
        "fig.subplots_adjust(wspace=1)\n",
        "\n",
        "#plt.subplot(3,1,1)\n",
        "axs[0].plot(pd_valid0500[\"cab\"],test_pred[:,0],\"o\",label=\"Cab\")\n",
        "axs[0].legend(loc=\"upper left\")\n",
        "axs[0].set_ylabel(\"Prediction\")\n",
        "\n",
        "axs[1].plot(pd_valid0500[\"cw\"],test_pred[:,1],\"o\",label=\"Cw\")\n",
        "axs[1].legend(loc=\"upper left\")\n",
        "#axs[1].set_ylabel(\"Prediction\")\n",
        "\n",
        "plt.show()\n",
        "\n",
        "#plotting cab\n",
        "fig, axs = plt.subplots(1,2)\n",
        "fig.suptitle('Selected traits')\n",
        "fig.subplots_adjust(wspace=1)\n",
        "\n",
        "\n",
        "axs[0].plot(pd_valid0500[\"cm\"],test_pred[:,2],\"o\",label=\"Cm\")\n",
        "axs[0].legend(loc=\"upper left\")\n",
        "#axs[0].set_ylabel(\"Prediction\")\n",
        "\n",
        "axs[1].plot(pd_valid0500[\"lai\"],test_pred[:,3],\"o\",label=\"LAI\")\n",
        "axs[1].legend(loc=\"upper left\")\n",
        "#axs[3].set_ylabel(\"Prediction\")"
      ],
      "execution_count": 79,
      "outputs": [
        {
          "output_type": "display_data",
          "data": {
            "image/png": "[encoded data removed]",
            "text/plain": [
              "<Figure size 432x288 with 2 Axes>"
            ]
          },
          "metadata": {
            "tags": []
          }
        },
        {
          "output_type": "execute_result",
          "data": {
            "text/plain": [
              "<matplotlib.legend.Legend at 0x7f0ef04f5f60>"
            ]
          },
          "metadata": {
            "tags": []
          },
          "execution_count": 79
        },
        {
          "output_type": "display_data",
          "data": {
            "image/png": "[encoded data removed]",
            "text/plain": [
              "<Figure size 432x288 with 2 Axes>"
            ]
          },
          "metadata": {
            "tags": []
          }
        }
      ]
    },
    {
      "cell_type": "markdown",
      "metadata": {
        "id": "hFcJBzO_FhFd",
        "colab_type": "text"
      },
      "source": [
        "Predicting to the images\n"
      ]
    },
    {
      "cell_type": "code",
      "metadata": {
        "id": "FCc4QG2nFsxG",
        "colab_type": "code",
        "colab": {}
      },
      "source": [
        "#this predicts the data back into the pixel data (its not fast)\n",
        "#img_pred = gpr_ml.predict(bandByPixel)\n",
        "\n",
        "img_pred = model.predict(bandByPixel)\n",
        "#valid_df_0500"
      ],
      "execution_count": 0,
      "outputs": []
    },
    {
      "cell_type": "code",
      "metadata": {
        "id": "PpK94kh2GBn3",
        "colab_type": "code",
        "outputId": "5bbe14da-fec1-41e4-a5db-87999de86964",
        "colab": {
          "base_uri": "https://localhost:8080/",
          "height": 34
        }
      },
      "source": [
        "#decomposing the predictiong\n",
        "\n",
        "\n",
        "#lets assume this is the order\n",
        "cab_pred = img_pred[0]\n",
        "cw_pred  = img_pred[1]\n",
        "cm_pred  = img_pred[2]\n",
        "lai_pred = img_pred[3]\n",
        "\n",
        "np_Y_ann_pred = np.array(cab_pred)\n",
        "np_Y_ann_pred = np.hstack((np_Y_ann_pred,cw_pred))\n",
        "np_Y_ann_pred = np.hstack((np_Y_ann_pred,cm_pred))\n",
        "np_Y_ann_pred = np.hstack((np_Y_ann_pred,lai_pred))\n",
        "np_Y_ann_pred.shape\n",
        "\n",
        "np_Y_ann_pred = scaler.inverse_transform(np_Y_ann_pred)\n",
        "\n",
        "np_Y_ann_pred.shape"
      ],
      "execution_count": 81,
      "outputs": [
        {
          "output_type": "execute_result",
          "data": {
            "text/plain": [
              "(1728, 4)"
            ]
          },
          "metadata": {
            "tags": []
          },
          "execution_count": 81
        }
      ]
    },
    {
      "cell_type": "code",
      "metadata": {
        "id": "pQs2woEiGZaw",
        "colab_type": "code",
        "outputId": "a1ac5599-b75d-4c62-d2a4-7f8f13061ef7",
        "colab": {
          "base_uri": "https://localhost:8080/",
          "height": 1000
        }
      },
      "source": [
        "cab_img_nn = np.reshape(np_Y_ann_pred[:,0],(ds1.RasterYSize,ds1.RasterXSize))\n",
        "cm_img_nn = np.reshape(np_Y_ann_pred[:,1],(ds1.RasterYSize,ds1.RasterXSize))\n",
        "cw_img_nn = np.reshape(np_Y_ann_pred[:,2],(ds1.RasterYSize,ds1.RasterXSize))\n",
        "lai_img_nn = np.reshape(np_Y_ann_pred[:,3],(ds1.RasterYSize,ds1.RasterXSize))\n",
        "\n",
        "\n",
        "#in a GIS we can easily change the color scale to avoid the extremes\n",
        "\n",
        "plt.figure(figsize=(6,8.5))\n",
        "plt.imshow(cab_img_nn)\n",
        "plt.colorbar(shrink=0.5)\n",
        "plt.title('Ch a+b')\n",
        "plt.xlabel('Column #')\n",
        "plt.ylabel('Row #')\n",
        "\n",
        "plt.figure(figsize=(6,8.5))\n",
        "plt.imshow(cw_img_nn)\n",
        "plt.colorbar(shrink=0.5)\n",
        "plt.title('Cw')\n",
        "plt.xlabel('Column #')\n",
        "plt.ylabel('Row #')\n",
        "\n",
        "plt.figure(figsize=(6,8.5))\n",
        "plt.imshow(cm_img_nn)\n",
        "plt.colorbar(shrink=0.5)\n",
        "plt.title('Cm')\n",
        "plt.xlabel('Column #')\n",
        "plt.ylabel('Row #')\n",
        "\n",
        "\n",
        "plt.figure(figsize=(6,8.5))\n",
        "plt.imshow(lai_img_nn)\n",
        "plt.colorbar(shrink=0.5)\n",
        "plt.title('Lai')\n",
        "plt.xlabel('Column #')\n",
        "plt.ylabel('Row #')"
      ],
      "execution_count": 82,
      "outputs": [
        {
          "output_type": "execute_result",
          "data": {
            "text/plain": [
              "Text(0, 0.5, 'Row #')"
            ]
          },
          "metadata": {
            "tags": []
          },
          "execution_count": 82
        },
        {
          "output_type": "display_data",
          "data": {
            "image/png": "[encoded data removed]",
            "text/plain": [
              "<Figure size 432x612 with 2 Axes>"
            ]
          },
          "metadata": {
            "tags": []
          }
        },
        {
          "output_type": "display_data",
          "data": {
            "image/png": "[encoded data removed]",
            "text/plain": [
              "<Figure size 432x612 with 2 Axes>"
            ]
          },
          "metadata": {
            "tags": []
          }
        },
        {
          "output_type": "display_data",
          "data": {
            "image/png": "[encoded data removed]",
            "text/plain": [
              "<Figure size 432x612 with 2 Axes>"
            ]
          },
          "metadata": {
            "tags": []
          }
        },
        {
          "output_type": "display_data",
          "data": {
            "image/png": "[encoded data removed]",
            "text/plain": [
              "<Figure size 432x612 with 2 Axes>"
            ]
          },
          "metadata": {
            "tags": []
          }
        }
      ]
    },
    {
      "cell_type": "code",
      "metadata": {
        "id": "Tzzegbp4HQBw",
        "colab_type": "code",
        "colab": {}
      },
      "source": [
        "#and now we can save it to a raster file\n",
        "cab_outfile = s2_filename + \"_cab_ANN_Slimits\"+\".tif\"\n",
        "cm_outfile  = s2_filename + \"_cm_ANN_Slimits\"+\".tif\"\n",
        "cw_outfile  = s2_filename + \"_cw_ANN_Slimits\"+\".tif\"\n",
        "lai_outfile = s2_filename + \"_lai_ANN_Slimits\"+\".tif\"\n",
        "\n",
        "raster.export(cab_img_nn, ds1, cab_outfile, dtype='float')\n",
        "raster.export(cm_img_nn, ds1, cm_outfile, dtype='float')\n",
        "raster.export(cw_img_nn, ds1, cw_outfile, dtype='float')\n",
        "raster.export(lai_img_nn, ds1, lai_outfile, dtype='float')"
      ],
      "execution_count": 0,
      "outputs": []
    }
  ]
}