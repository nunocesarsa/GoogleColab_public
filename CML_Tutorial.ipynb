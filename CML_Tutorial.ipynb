{
  "nbformat": 4,
  "nbformat_minor": 0,
  "metadata": {
    "colab": {
      "name": "CML_Tutorial.ipynb",
      "provenance": [],
      "collapsed_sections": [],
      "authorship_tag": "ABX9TyOFr7Pcj5MVSEtw8pFJp93j",
      "include_colab_link": true
    },
    "kernelspec": {
      "name": "python3",
      "display_name": "Python 3"
    }
  },
  "cells": [
    {
      "cell_type": "markdown",
      "metadata": {
        "id": "view-in-github",
        "colab_type": "text"
      },
      "source": [
        "<a href=\"https://colab.research.google.com/github/nunocesarsa/GoogleColab_public/blob/master/CML_Tutorial.ipynb\" target=\"_parent\"><img src=\"https://colab.research.google.com/assets/colab-badge.svg\" alt=\"Open In Colab\"/></a>"
      ]
    },
    {
      "cell_type": "markdown",
      "metadata": {
        "id": "Z3QFaNmD4Ohu",
        "colab_type": "text"
      },
      "source": [
        "# What is google colab?"
      ]
    },
    {
      "cell_type": "markdown",
      "metadata": {
        "id": "SxT72zXu4YCl",
        "colab_type": "text"
      },
      "source": [
        "Google colab is a cloud service from google for both learning and to co-develop machine learning scripts\n",
        "\n",
        "It's free and it has CPU, TPU and GPU \n",
        "\n",
        "*   Free\n",
        "*   CPU, TPU or GPU\n",
        "*   R or Python language\n",
        "*   Perfect for code sharing and collaboration\n",
        "*   Works on Jupyter notebook \n",
        "\n",
        "There is also an R version, so, use it X)"
      ]
    },
    {
      "cell_type": "code",
      "metadata": {
        "id": "G7iK64CR4XU-",
        "colab_type": "code",
        "outputId": "f72d48d0-0a0c-4738-8bc4-821434fceee6",
        "colab": {
          "base_uri": "https://localhost:8080/",
          "height": 34
        }
      },
      "source": [
        "print(\"Hello world\")"
      ],
      "execution_count": 0,
      "outputs": [
        {
          "output_type": "stream",
          "text": [
            "Hello world\n"
          ],
          "name": "stdout"
        }
      ]
    },
    {
      "cell_type": "markdown",
      "metadata": {
        "id": "4LFtLy1O7PYF",
        "colab_type": "text"
      },
      "source": [
        "Does it come with pre-installed packages?"
      ]
    },
    {
      "cell_type": "code",
      "metadata": {
        "id": "RABOurnt7UkW",
        "colab_type": "code",
        "colab": {}
      },
      "source": [
        "#this command check all pre-installed modules\n",
        "#print(help('modules'))\n",
        "#takes time, so don't run it.. regular packages plus some more are installed"
      ],
      "execution_count": 0,
      "outputs": []
    },
    {
      "cell_type": "markdown",
      "metadata": {
        "id": "kcJtRHkzEgvf",
        "colab_type": "text"
      },
      "source": [
        "What machine we have available? "
      ]
    },
    {
      "cell_type": "code",
      "metadata": {
        "id": "jdTBwasYEb_v",
        "colab_type": "code",
        "outputId": "9adf6ccd-1480-424c-ec68-6a6881c81a20",
        "colab": {
          "base_uri": "https://localhost:8080/",
          "height": 445
        }
      },
      "source": [
        "!lscpu"
      ],
      "execution_count": 1,
      "outputs": [
        {
          "output_type": "stream",
          "text": [
            "Architecture:        x86_64\n",
            "CPU op-mode(s):      32-bit, 64-bit\n",
            "Byte Order:          Little Endian\n",
            "CPU(s):              2\n",
            "On-line CPU(s) list: 0,1\n",
            "Thread(s) per core:  2\n",
            "Core(s) per socket:  1\n",
            "Socket(s):           1\n",
            "NUMA node(s):        1\n",
            "Vendor ID:           GenuineIntel\n",
            "CPU family:          6\n",
            "Model:               63\n",
            "Model name:          Intel(R) Xeon(R) CPU @ 2.30GHz\n",
            "Stepping:            0\n",
            "CPU MHz:             2300.000\n",
            "BogoMIPS:            4600.00\n",
            "Hypervisor vendor:   KVM\n",
            "Virtualization type: full\n",
            "L1d cache:           32K\n",
            "L1i cache:           32K\n",
            "L2 cache:            256K\n",
            "L3 cache:            46080K\n",
            "NUMA node0 CPU(s):   0,1\n",
            "Flags:               fpu vme de pse tsc msr pae mce cx8 apic sep mtrr pge mca cmov pat pse36 clflush mmx fxsr sse sse2 ss ht syscall nx pdpe1gb rdtscp lm constant_tsc rep_good nopl xtopology nonstop_tsc cpuid tsc_known_freq pni pclmulqdq ssse3 fma cx16 pcid sse4_1 sse4_2 x2apic movbe popcnt aes xsave avx f16c rdrand hypervisor lahf_lm abm invpcid_single ssbd ibrs ibpb stibp fsgsbase tsc_adjust bmi1 avx2 smep bmi2 erms invpcid xsaveopt arat md_clear arch_capabilities\n"
          ],
          "name": "stdout"
        }
      ]
    },
    {
      "cell_type": "markdown",
      "metadata": {
        "id": "uK3HNLyt6bw4",
        "colab_type": "text"
      },
      "source": [
        "And because this is a well-set up machine, we can avoid all usual installation issues \n",
        "\n",
        "e.g. package prosail requires a C++ compiler that is hard to install on windows operating systems.. \n",
        "\n",
        "\n",
        "In general, on regular python you would install a package using:\n",
        "\n",
        "pip install <package name> \n",
        "or\n",
        "easy_install <package name> (but this now generally deprecated)\n",
        "\n",
        "In google colab we have to add a ! to the beggining\n"
      ]
    },
    {
      "cell_type": "code",
      "metadata": {
        "id": "sqGpXHsX8UhO",
        "colab_type": "code",
        "outputId": "77efccef-1617-4820-eeda-8343c11702ed",
        "colab": {
          "base_uri": "https://localhost:8080/",
          "height": 119
        }
      },
      "source": [
        "!pip install lhsmdu #this is an example package - used for improving sampling designs for Machine learning\n",
        "\n",
        "#now you can import the installed packages\n",
        "import lhsmdu\n"
      ],
      "execution_count": 2,
      "outputs": [
        {
          "output_type": "stream",
          "text": [
            "Collecting lhsmdu\n",
            "  Downloading https://files.pythonhosted.org/packages/7b/f0/e714a4dae734bcd7228a09d74fff7dc5857dc3311cd72a3e07b09c85d088/lhsmdu-0.1-py3-none-any.whl\n",
            "Requirement already satisfied: numpy in /usr/local/lib/python3.6/dist-packages (from lhsmdu) (1.17.5)\n",
            "Requirement already satisfied: scipy in /usr/local/lib/python3.6/dist-packages (from lhsmdu) (1.4.1)\n",
            "Installing collected packages: lhsmdu\n",
            "Successfully installed lhsmdu-0.1\n"
          ],
          "name": "stdout"
        }
      ]
    },
    {
      "cell_type": "markdown",
      "metadata": {
        "id": "NJu70mr0-NXG",
        "colab_type": "text"
      },
      "source": [
        "A neat trick to simplify coding is to:\n",
        "\n",
        "import <package> as <smallname>\n",
        "\n",
        "For example a package that is used 99.99% the times is NumPy which is used for scientific computing. Usually, it is imported as follows:\n",
        "\n",
        "`import numpy as np`"
      ]
    },
    {
      "cell_type": "code",
      "metadata": {
        "id": "9C2Z2kRc-Muf",
        "colab_type": "code",
        "outputId": "c4498766-4fd3-483d-dd18-d3554f835049",
        "colab": {
          "base_uri": "https://localhost:8080/",
          "height": 34
        }
      },
      "source": [
        "import numpy as np\n",
        "\n",
        "x=np.array([2,3,1,0])\n",
        "x"
      ],
      "execution_count": 3,
      "outputs": [
        {
          "output_type": "execute_result",
          "data": {
            "text/plain": [
              "array([2, 3, 1, 0])"
            ]
          },
          "metadata": {
            "tags": []
          },
          "execution_count": 3
        }
      ]
    },
    {
      "cell_type": "markdown",
      "metadata": {
        "id": "DyDgPKK-AL0v",
        "colab_type": "text"
      },
      "source": [
        "Now, learning python is an adventure on itself.. for another time. Let's move on to what we are here for."
      ]
    },
    {
      "cell_type": "code",
      "metadata": {
        "id": "4BSXNorWH6Tf",
        "colab_type": "code",
        "colab": {}
      },
      "source": [
        "#importing Earth Engine package\n",
        "import ee"
      ],
      "execution_count": 0,
      "outputs": []
    },
    {
      "cell_type": "code",
      "metadata": {
        "id": "OmipHxdM4Mpi",
        "colab_type": "code",
        "outputId": "6363a242-9a08-457d-d728-45c7f0e8f13e",
        "colab": {
          "base_uri": "https://localhost:8080/",
          "height": 173
        }
      },
      "source": [
        "#then we need to authenticate\n",
        "# Trigger the authentication flow.\n",
        "ee.Authenticate()\n",
        "\n",
        "# Initialize the library.\n",
        "ee.Initialize()"
      ],
      "execution_count": 5,
      "outputs": [
        {
          "output_type": "stream",
          "text": [
            "To authorize access needed by Earth Engine, open the following URL in a web browser and follow the instructions. If the web browser does not start automatically, please manually browse the URL below.\n",
            "\n",
            "    https://accounts.google.com/o/oauth2/auth?client_id=517222506229-vsmmajv00ul0bs7p89v5m89qs8eb9359.apps.googleusercontent.com&scope=https%3A%2F%2Fwww.googleapis.com%2Fauth%2Fearthengine+https%3A%2F%2Fwww.googleapis.com%2Fauth%2Fdevstorage.full_control&redirect_uri=urn%3Aietf%3Awg%3Aoauth%3A2.0%3Aoob&response_type=code\n",
            "\n",
            "The authorization workflow will generate a code, which you should paste in the box below. \n",
            "Enter verification code: 4/wwEAMbq13pWfeZHXlFKR0KstxwdHPvwNA185keNesirrVrHXqN9_iUk\n",
            "\n",
            "Successfully saved authorization token.\n"
          ],
          "name": "stdout"
        }
      ]
    },
    {
      "cell_type": "code",
      "metadata": {
        "id": "snzcXvgBIUS5",
        "colab_type": "code",
        "outputId": "9547a5c2-f03b-4d1c-8769-dad4df441fb2",
        "colab": {
          "base_uri": "https://localhost:8080/",
          "height": 122
        }
      },
      "source": [
        "#and now we link the colab also to the google drive so we can use it to store the outputs\n",
        "from google.colab import drive\n",
        "drive.mount('/content/drive')"
      ],
      "execution_count": 6,
      "outputs": [
        {
          "output_type": "stream",
          "text": [
            "Go to this URL in a browser: https://accounts.google.com/o/oauth2/auth?client_id=947318989803-6bn6qk8qdgf4n4g3pfee6491hc0brc4i.apps.googleusercontent.com&redirect_uri=urn%3aietf%3awg%3aoauth%3a2.0%3aoob&response_type=code&scope=email%20https%3a%2f%2fwww.googleapis.com%2fauth%2fdocs.test%20https%3a%2f%2fwww.googleapis.com%2fauth%2fdrive%20https%3a%2f%2fwww.googleapis.com%2fauth%2fdrive.photos.readonly%20https%3a%2f%2fwww.googleapis.com%2fauth%2fpeopleapi.readonly\n",
            "\n",
            "Enter your authorization code:\n",
            "··········\n",
            "Mounted at /content/drive\n"
          ],
          "name": "stdout"
        }
      ]
    },
    {
      "cell_type": "markdown",
      "metadata": {
        "id": "5jS97KRHIkCx",
        "colab_type": "text"
      },
      "source": [
        "Once this is done, go to the drive on the left menu and create a folder for today.\n",
        "\n",
        "Call it GEE_Tutorial"
      ]
    },
    {
      "cell_type": "markdown",
      "metadata": {
        "id": "uqpb9VxoJ1h4",
        "colab_type": "text"
      },
      "source": [
        "Now, calling data from google earth engine is basically a simple adaptation from the previous GEE code we saw. \n",
        "\n",
        "Of course now, the complication arises that we do not have a \"visual\" guide, so we have to create the polygon ourselves. \n",
        "\n",
        "\n",
        "\n",
        "\n"
      ]
    },
    {
      "cell_type": "code",
      "metadata": {
        "id": "2XALvvOpJs0w",
        "colab_type": "code",
        "outputId": "f28e9b37-b789-4d40-d459-4942d1f7d7d7",
        "colab": {
          "base_uri": "https://localhost:8080/",
          "height": 51
        }
      },
      "source": [
        "\n",
        "#this is an area near portugal\n",
        "poly_area_coord = [[[-8.908243352261566,40.13340872739791],\n",
        "                    [-8.756494695035004,40.13340872739791],\n",
        "                    [-8.756494695035004,40.25823714975702],\n",
        "                    [-8.908243352261566,40.25823714975702],\n",
        "                    [-8.908243352261566,40.13340872739791]]]\n",
        "\n",
        "#this is an area in the states\n",
        "#poly_area_coord =[[[-80.03741893712676,32.74469942210935],\n",
        "#                   [-79.8582044595877,32.74469942210935],\n",
        "#                   [-79.8582044595877,32.88319873037949],\n",
        "#                   [-80.03741893712676,32.88319873037949],\n",
        "#                   [-80.03741893712676,32.74469942210935]]]\n",
        "\n",
        "#This creates an earth engine polygon geometry\n",
        "poly_area = ee.Geometry.Polygon(poly_area_coord)\n",
        "\n",
        "#now we can use this, as a guide for selecting data\n",
        "#check out the product table itself: https://developers.google.com/earth-engine/datasets/catalog/LANDSAT_LC08_C01_T2_SR\n",
        "l8_collection = (ee.ImageCollection(\"LANDSAT/LC08/C01/T1_SR\") #selects the L8 Surface reflectance product in GEE\n",
        "                 .select(['B1','B2','B3','B4',\n",
        "                          'B5','B6','B7',\n",
        "                          'B10','B11']) #selects the bands of interest - in this case we are actually picking up all of them\n",
        "                 .filter(ee.Filter.date('2017-06-01','2017-08-31')) #filters on the time - you can play around with this to select different dates..\n",
        "                 .filterBounds(poly_area) #filters on the Aoi we have created above\n",
        "                 .filter(ee.Filter.lt('CLOUD_COVER_LAND',1))\n",
        "                 )\n",
        "\n",
        "\n",
        "\n",
        "\n",
        "\n",
        "#l8_collection = (ee.ImageCollection(\"LANDSAT/LC08/C01/T1_SR\") #selects the L8 Surface reflectance product in GEE\n",
        "#                 .select(['B1','B2','B3','B4',\n",
        "#                          'B5','B6','B7',\n",
        "#                          'B10','B11']) #selects the bands of interest - in this case we are actually picking up all of them\n",
        "#                 .filter(ee.Filter.date('2017-06-01','2017-06-30')) #filtes on the time - you can play around with this to select different dates..\n",
        "#                 .filterBounds(poly_area) #filters on the Aoi we have created above\n",
        "#                 .filter(ee.Filter.lt('CLOUDY_PIXEL_PERCENTAGE',10))\n",
        "#                 )\n",
        "\n",
        "count = l8_collection.size()\n",
        "print('Nr of images in collection: ', str(count.getInfo())+'\\n')"
      ],
      "execution_count": 52,
      "outputs": [
        {
          "output_type": "stream",
          "text": [
            "Nr of images in collection:  3\n",
            "\n"
          ],
          "name": "stdout"
        }
      ]
    },
    {
      "cell_type": "markdown",
      "metadata": {
        "id": "CAlFHBXc0p6T",
        "colab_type": "text"
      },
      "source": [
        "We can now also check the entire metadata information of the image"
      ]
    },
    {
      "cell_type": "code",
      "metadata": {
        "id": "IMxfOQS80uW7",
        "colab_type": "code",
        "colab": {}
      },
      "source": [
        "mid_step = l8_collection.toList(count)\n",
        "l8_img = ee.Image(mid_step.get(0))\n",
        "l8_img_meta = l8_img.getInfo()\n",
        "#l8_img_meta #uncomment here if you want to see the dump\n",
        "\n",
        "#we can use ANY of these information on the metada to drive the query. For example, you might want to use a \"row path\" for landsat image instead of a polygon\n",
        "#or perhaps you want to use only data of specific quality. Based on this metadata is where you would make this selection\n"
      ],
      "execution_count": 0,
      "outputs": []
    },
    {
      "cell_type": "markdown",
      "metadata": {
        "id": "kDAWkqeKztdW",
        "colab_type": "text"
      },
      "source": [
        "We can also print the dates of all images so we can have idea of what was caught in the net"
      ]
    },
    {
      "cell_type": "code",
      "metadata": {
        "id": "xCvstjkazzHc",
        "colab_type": "code",
        "colab": {
          "base_uri": "https://localhost:8080/",
          "height": 68
        },
        "outputId": "9e04a130-95a4-47d8-9ceb-29da3097728f"
      },
      "source": [
        "for i in range(count.getInfo()):\n",
        "  mid_step = l8_collection.toList(count) #this is an internal step to help us loop on the data itself\n",
        "  l8_img = ee.Image(mid_step.get(i)) #this fetches ith image on the collection \n",
        "  l8_img_meta = l8_img.getInfo()   #this creates an object which has only the metadata \n",
        "  print('At position',i,'is Product ID: ',l8_img_meta.get('properties',{}).get('system:index'))\n",
        "\n",
        "  #interpreting the output:\n",
        "  #Landsat naming convention:\n",
        "  #XXXX_YYYYYY_ZZZZZZZZ\n",
        "  #XXXX <- Product identifier LC08 is Landsat 8, level C\n",
        "  #YYYYYYY <- Path and row identifers -> USGS pushes the LS images into a grid for the entire planet, this is the idenfier of said grid\n",
        "  #ZZZZZZZZ <- Date in western calendar\n",
        "\n",
        "\n"
      ],
      "execution_count": 54,
      "outputs": [
        {
          "output_type": "stream",
          "text": [
            "At position 0 is Product ID:  LC08_204032_20170701\n",
            "At position 1 is Product ID:  LC08_204032_20170802\n",
            "At position 2 is Product ID:  LC08_205032_20170825\n"
          ],
          "name": "stdout"
        }
      ]
    },
    {
      "cell_type": "markdown",
      "metadata": {
        "id": "7d9a3vkFIyNQ",
        "colab_type": "text"
      },
      "source": [
        "#In the next part, we explore the image\n",
        "\n",
        "For this, we import folium pacakge, and create a specific function to assist. This is to make a prettier and more explorable map than the normal.\n",
        "\n",
        "(this was copy pasted, probably there are other ways of doing the same).\n",
        "\n",
        "\n",
        "This tutorial gives an excellent run down example of the many options in folium\n",
        "\n",
        "https://spatial.utk.edu/maps/ee-api-folium-setup.html\n",
        "\n",
        "\n",
        "\n",
        "\n"
      ]
    },
    {
      "cell_type": "code",
      "metadata": {
        "id": "VG3wF-ahNHwi",
        "colab_type": "code",
        "outputId": "68322a59-e4b4-4cf6-a189-054977a92fa7",
        "colab": {
          "base_uri": "https://localhost:8080/",
          "height": 771
        }
      },
      "source": [
        "#in here, we select an image of the list - in python lists start at 0\n",
        "mid_step = l8_collection.toList(count)\n",
        "l8_img = ee.Image(mid_step.get(0))\n",
        "\n",
        "#this command clips the image based on the original poly area\n",
        "l8_img_clip = l8_img.clip(poly_area)\n",
        "\n",
        "#first step now is to then generate a s2 image cropped to our aoi, and for information i will also plot it on the map\n",
        "\n",
        "# Import the Folium library. This library is to assist in visualizations\n",
        "import folium\n",
        "\n",
        "# Import the Image function from the IPython.display module. \n",
        "from IPython.display import Image\n",
        "\n",
        "\n",
        "#the next code snippet i stole from someone\n",
        "# Define a method for displaying Earth Engine image tiles to folium map.\n",
        "\n",
        "#this is a simplified version of the original function\n",
        "def add_ee_layer(self, ee_image_object, vis_params, name):\n",
        "  \n",
        "  map_id_dict = ee.Image(ee_image_object).getMapId(vis_params)\n",
        "  folium.raster_layers.TileLayer(\n",
        "    tiles = map_id_dict['tile_fetcher'].url_format,\n",
        "    attr = 'Map Data &copy; <a href=\"https://earthengine.google.com/\">Google Earth Engine</a>',\n",
        "    name = name,\n",
        "    overlay = True,\n",
        "    control = True\n",
        "  ).add_to(self)\n",
        "\n",
        "# Add EE drawing method to folium.\n",
        "folium.Map.add_ee_layer = add_ee_layer\n",
        "\n",
        "\n",
        "# This first step sets up where is the \"default starting position\" of the map. And also the zoom\n",
        "#my_map = folium.Map(location=[33,-80], zoom_start=8) #this had to be tried one by one... feels daft\n",
        "my_map = folium.Map(location=[0,0], zoom_start=2) #this had to be tried one by one... feels daft\n",
        "\n",
        "\n",
        "# Set visualization parameters. Here is we can create different visualizations of our data\n",
        "visParams = {\"bands\": ['B4', 'B3', 'B2'],\"gain\": '0.1, 0.1, 0.1',\"scale\":20}\n",
        "visParams_nir = {\"bands\": ['B5', 'B4', 'B3'],\"gain\": '0.1, 0.1, 0.1',\"scale\":20}\n",
        "\n",
        "# Add the image to the folium map\n",
        "my_map.add_ee_layer(l8_img, visParams, 'RGB composite')\n",
        "my_map.add_ee_layer(l8_img_clip, visParams_nir, 'NIR composite - clipped')\n",
        "my_map.add_ee_layer(l8_img, visParams_nir, 'NIR composite')\n",
        "\n",
        "#it is also possible to do calculations on the band - this saves a lot of computation time from your own computer\n",
        "\n",
        "#normalized difference is already set up on google earth engine so it is especially easy to use\n",
        "ndvi = l8_img.normalizedDifference(['B5', 'B4'])\n",
        "#i copied this pallete from: https://developers.google.com/earth-engine/datasets/catalog/MODIS_MOD09GA_006_NDVI\n",
        "#ndviParams = {'min': -1, 'max': 1, 'palette': ['lightblue','cyan','blue','darkblue','brown','lightgreen','green','darkgreen']};\n",
        "ndviParams = {'min': 0, 'max': 1, 'palette': ['blue','brown','white','lightgreen','green','darkgreen']}; #this is a bit trial and error actualy..\n",
        "\n",
        "#now we just add it\n",
        "my_map.add_ee_layer(ndvi, ndviParams, 'NDVI')\n",
        "\n",
        "#but if we want to make more complex operations, it is also possible\n",
        "#and why not a normalized burn ratio, used for this purpose: https://en.wikipedia.org/wiki/Enhanced_vegetation_index\n",
        "evi = l8_img.expression('G*((Band5 - Band4)/(Band5+6*Band4-7.5*Band2+L))', \n",
        "                        {'G':1,\n",
        "                         'L':1,\n",
        "                         'Band5':l8_img.select(\"B5\"),\n",
        "                         'Band4':l8_img.select(\"B4\"),\n",
        "                         'Band2':l8_img.select(\"B2\")}) #first we create an expression and then we tell it what is what. We can change the scalers and etc\n",
        "\n",
        "eviParams =  {'min': 0, 'max': 1, 'palette': ['blue','brown','white','lightgreen','green','darkgreen']}; #this is a bit trial and error actualy.. and the map will likely look horrible\n",
        "my_map.add_ee_layer(evi, eviParams, 'EVI')\n",
        "\n",
        "#my_map.add_ee_layer(LC_proj,landcoverVis,\"ola\")\n",
        "\n",
        "\n",
        "# Add a layer control panel to the map.\n",
        "my_map.add_child(folium.LayerControl())\n",
        "\n",
        "\n",
        "# Display the map.\n",
        "display(my_map)"
      ],
      "execution_count": 56,
      "outputs": [
        {
          "output_type": "display_data",
          "data": {
            "text/html": [
              "<div style=\"width:100%;\"><div style=\"position:relative;width:100%;height:0;padding-bottom:60%;\"><iframe src=\"data:text/html;charset=utf-8;base64,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\" style=\"position:absolute;width:100%;height:100%;left:0;top:0;border:none !important;\" allowfullscreen webkitallowfullscreen mozallowfullscreen></iframe></div></div>"
            ],
            "text/plain": [
              "<folium.folium.Map at 0x7fdf3349a748>"
            ]
          },
          "metadata": {
            "tags": []
          }
        }
      ]
    },
    {
      "cell_type": "markdown",
      "metadata": {
        "id": "b5R_uCzZZ_Rq",
        "colab_type": "text"
      },
      "source": [
        "And that is how visualization kind of works. "
      ]
    },
    {
      "cell_type": "markdown",
      "metadata": {
        "id": "e1_F8rX55KgQ",
        "colab_type": "text"
      },
      "source": [
        "# Exporting your data to the drive\n",
        "\n",
        "\n",
        "Now, here, read carefully. The way it works is the google colab will send a \"task\" order to GEE and that task will be running on the background. \n",
        "\n",
        "This means that if you run the next box many times you will have multiple tasks being sent.\n",
        "\n",
        "On the other hand, if you save a \"big image\" then you take a lot of time and space of your drive. So you can just extract the clipped area of your study location and focus on that - makes it easier to set up your own models on your own machine this way. "
      ]
    },
    {
      "cell_type": "code",
      "metadata": {
        "id": "KyFwV5j7M5SA",
        "colab_type": "code",
        "colab": {}
      },
      "source": [
        "\n",
        "#these are task commands to be sent to GEE\n",
        "task_config = {\n",
        "    'image': l8_img_clip,\n",
        "    'fileFormat': 'GeoTIFF',\n",
        "    'folder': 'GEE_Tutorial',\n",
        "    'fileNamePrefix': 'Landsat_Clip',\n",
        "    'description': \"clipped area\",\n",
        "    'scale':30,\n",
        "    'region':poly_area\n",
        "}\n",
        "\n",
        "#This is how we order it to start\n",
        "task = ee.batch.Export.image.toDrive(**task_config )\n",
        "task.start()\n",
        "#wait a bit and it should appear on your folder"
      ],
      "execution_count": 0,
      "outputs": []
    },
    {
      "cell_type": "code",
      "metadata": {
        "id": "dZwSLA7hc7B_",
        "colab_type": "code",
        "colab": {
          "base_uri": "https://localhost:8080/",
          "height": 153
        },
        "outputId": "f4e98314-6842-416a-d172-8ccee5902c1c"
      },
      "source": [
        "#to check if the task is running or completed, or failed, run this\n",
        "task.status()"
      ],
      "execution_count": 33,
      "outputs": [
        {
          "output_type": "execute_result",
          "data": {
            "text/plain": [
              "{'creation_timestamp_ms': 1582794507068,\n",
              " 'description': 'clipped area',\n",
              " 'id': 'WOYEBGV2EYTUJUXAPBETTPHS',\n",
              " 'name': 'projects/earthengine-legacy/operations/WOYEBGV2EYTUJUXAPBETTPHS',\n",
              " 'start_timestamp_ms': 1582794518501,\n",
              " 'state': 'RUNNING',\n",
              " 'task_type': 'EXPORT_IMAGE',\n",
              " 'update_timestamp_ms': 1582794525827}"
            ]
          },
          "metadata": {
            "tags": []
          },
          "execution_count": 33
        }
      ]
    },
    {
      "cell_type": "markdown",
      "metadata": {
        "id": "8RGYuiv17-JB",
        "colab_type": "text"
      },
      "source": [
        "After a short while, since we saved the clip, you should see the output in our disk\n",
        "\n",
        "We can obviosly also just do the band maths (ndvi's, etc) and then export that to our disk. Saves a lot of computation time."
      ]
    },
    {
      "cell_type": "markdown",
      "metadata": {
        "id": "sGs9XGOVH76A",
        "colab_type": "text"
      },
      "source": [
        "#Machine learning time\n",
        "\n",
        "Here we would have 3 main alternatives:\n",
        "\n",
        "1.   Set up the ML using inbuild GEE functions (Cloud)\n",
        "2.   Program the ML on the Colab environment using Python (Cloud)\n",
        "3.   Download the data to our PC or server and do all the work there (Not cloud)\n",
        "\n",
        "I will show only approach 1. to make use of the GEE main power but approach 2. is also very cool. 3. is only really cool if you have access to a potent server.\n",
        "\n",
        "\n",
        "\n"
      ]
    },
    {
      "cell_type": "markdown",
      "metadata": {
        "id": "RF7qdCiO-G3Z",
        "colab_type": "text"
      },
      "source": [
        "# Example of approach 1\n",
        "\n",
        "\n",
        "We will follow the steps has proposed here:\n",
        "https://developers.google.com/earth-engine/classification\n",
        "\n",
        "\n",
        "But adapted for colab notebook"
      ]
    },
    {
      "cell_type": "code",
      "metadata": {
        "id": "NnL_Y-HOAAlT",
        "colab_type": "code",
        "colab": {}
      },
      "source": [
        "\n",
        "l8_col_class =  (ee.ImageCollection(\"LANDSAT/LC08/C01/T1\")) #selects a the LC08 T1 collection of landsat for the entire planet\n",
        "#ee.Algorithms.Landsat.simpleComposite\n",
        "\n",
        "#** are a \"kwargs\" - investigate what it is if you want\n",
        "l8_composite = ee.Algorithms.Landsat.simpleComposite(**{                       #algoirthm to create a composite image to avoid cloud cover\n",
        "    'collection': l8_col_class.filterDate('2018-01-01', '2018-12-31')})#,\n",
        "    #'asFloat': 'true'})\n",
        "\n",
        "#these are the bands we will use\n",
        "bands = ['B2', 'B3', 'B4', 'B5', 'B6', 'B7', 'B10', 'B11']\n",
        "\n",
        "\n",
        "#this part is working \"under the hood\" - we could explore what thye have inside but inherently they just hae point data and information about the cover type\n",
        "#this is a labelled dataset that we will use for the training\n",
        "points = ee.FeatureCollection('GOOGLE/EE/DEMOS/demo_landcover_labels')\n",
        "label = 'landcover'\n",
        "\n",
        "#samples the input data for the training\n",
        "training = l8_composite.select(bands).sampleRegions(**{\n",
        "  'collection': points,\n",
        "  'properties': [label],\n",
        "  'scale': 30})\n"
      ],
      "execution_count": 0,
      "outputs": []
    },
    {
      "cell_type": "markdown",
      "metadata": {
        "id": "rl8WdMTyDeAT",
        "colab_type": "text"
      },
      "source": [
        "Here is where we actually call the classifier"
      ]
    },
    {
      "cell_type": "code",
      "metadata": {
        "id": "R70K_oQZCi36",
        "colab_type": "code",
        "colab": {}
      },
      "source": [
        "#if you do ee.Classifier. you will see a bunch of classifier options\n",
        "#lets just use Random forest classifier\n",
        "\n",
        "#this trains the model\n",
        "trained = ee.Classifier.randomForest().train(training,label,bands)\n",
        "\n",
        "#this runs the model on the data\n",
        "classified = l8_composite.select(bands).classify(trained)\n"
      ],
      "execution_count": 0,
      "outputs": []
    },
    {
      "cell_type": "code",
      "metadata": {
        "id": "Bb3LmWtjEYb6",
        "colab_type": "code",
        "colab": {}
      },
      "source": [
        "#ok now, lets plot the image that we classified \n",
        "import folium\n",
        "#now, for this plot we need to improve the add_ee_layer function\n",
        "def add_ee_layer(self, ee_object, vis_params, name):\n",
        "    \n",
        "    try:    \n",
        "        # display ee.Image()\n",
        "        if isinstance(ee_object, ee.image.Image):    \n",
        "            map_id_dict = ee.Image(ee_object).getMapId(vis_params)\n",
        "            folium.raster_layers.TileLayer(\n",
        "            tiles = map_id_dict['tile_fetcher'].url_format,\n",
        "            attr = 'Google Earth Engine',\n",
        "            name = name,\n",
        "            overlay = True,\n",
        "            control = True\n",
        "            ).add_to(self)\n",
        "        # display ee.ImageCollection()\n",
        "        elif isinstance(ee_object, ee.imagecollection.ImageCollection):    \n",
        "            ee_object_new = ee_object.mosaic()\n",
        "            map_id_dict = ee.Image(ee_object_new).getMapId(vis_params)\n",
        "            folium.raster_layers.TileLayer(\n",
        "            tiles = map_id_dict['tile_fetcher'].url_format,\n",
        "            attr = 'Google Earth Engine',\n",
        "            name = name,\n",
        "            overlay = True,\n",
        "            control = True\n",
        "            ).add_to(self)\n",
        "        # display ee.Geometry()\n",
        "        elif isinstance(ee_object, ee.geometry.Geometry):    \n",
        "            folium.GeoJson(\n",
        "            data = ee_object.getInfo(),\n",
        "            name = name,\n",
        "            overlay = True,\n",
        "            control = True\n",
        "        ).add_to(self)\n",
        "        # display ee.FeatureCollection()\n",
        "        elif isinstance(ee_object, ee.featurecollection.FeatureCollection):  \n",
        "            ee_object_new = ee.Image().paint(ee_object, 0, 2)\n",
        "            map_id_dict = ee.Image(ee_object_new).getMapId(vis_params)\n",
        "            folium.raster_layers.TileLayer(\n",
        "            tiles = map_id_dict['tile_fetcher'].url_format,\n",
        "            attr = 'Google Earth Engine',\n",
        "            name = name,\n",
        "            overlay = True,\n",
        "            control = True\n",
        "        ).add_to(self)\n",
        "    \n",
        "    except:\n",
        "        print(\"Could not display {}\".format(name))\n",
        "    \n",
        "# Add EE drawing method to folium.\n",
        "folium.Map.add_ee_layer = add_ee_layer\n",
        "\n",
        "#"
      ],
      "execution_count": 0,
      "outputs": []
    },
    {
      "cell_type": "markdown",
      "metadata": {
        "id": "6pNuflO-Qh8h",
        "colab_type": "text"
      },
      "source": [
        "In the next part we plot the classification output on the globe, just for curiosity\n",
        "\n",
        "\n",
        "**Remember: This will be a strain on the connection - it is a LOT of data - 30x30m global map**"
      ]
    },
    {
      "cell_type": "code",
      "metadata": {
        "colab_type": "code",
        "id": "Y0UVEnAVTS3e",
        "colab": {
          "base_uri": "https://localhost:8080/",
          "height": 771
        },
        "outputId": "dbc2f48e-b7a7-4fa8-f48c-f86fdf1927e3"
      },
      "source": [
        "#now we can do our plotting - CAREFUL - requires a powerful connection, it is a LOT of data (a binary classification at 30m resolution for the entire land masses)\n",
        "\n",
        "paramsClass = {'min': 0, 'max': 2, 'palette': ['red', 'green', 'blue']}\n",
        "# Define the URL format used for Earth Engine generated map tiles.\n",
        "\n",
        "my_map = folium.Map(location=[0,0], zoom_start=2) #this had to be tried one by one... feels daft\n",
        "\n",
        "#my_map.add_ee_layer(l8_composite,{'bands': ['B4', 'B3', 'B2'], \"gain\": '0.1, 0.1, 0.1'},\"RGB composite\") #something is off here\n",
        "my_map.add_ee_layer(classified,paramsClass,\"Classification\")\n",
        "\n",
        "my_map.add_child(folium.LayerControl())\n",
        "display(my_map)\n",
        "\n"
      ],
      "execution_count": 81,
      "outputs": [
        {
          "output_type": "display_data",
          "data": {
            "text/html": [
              "<div style=\"width:100%;\"><div style=\"position:relative;width:100%;height:0;padding-bottom:60%;\"><iframe src=\"data:text/html;charset=utf-8;base64,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\" style=\"position:absolute;width:100%;height:100%;left:0;top:0;border:none !important;\" allowfullscreen webkitallowfullscreen mozallowfullscreen></iframe></div></div>"
            ],
            "text/plain": [
              "<folium.folium.Map at 0x7fdf333e8860>"
            ]
          },
          "metadata": {
            "tags": []
          }
        }
      ]
    },
    {
      "cell_type": "markdown",
      "metadata": {
        "id": "ZzPIizWBTXSi",
        "colab_type": "text"
      },
      "source": [
        "This ends the tutorial for now.\n",
        "\n",
        "If we had validation data we could evaluate our accuraccy but that is too much for now and doesn't add on showing the capabilities of GEE.\n",
        "\n",
        "Another possibility now is that because we have access to all the data in the same place.. we could easily compare models trained with different sensors (e.g. MODIS). \n",
        "\n"
      ]
    }
  ]
}