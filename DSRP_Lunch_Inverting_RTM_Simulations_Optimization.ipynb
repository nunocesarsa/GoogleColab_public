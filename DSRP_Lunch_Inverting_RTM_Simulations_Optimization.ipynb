{
  "nbformat": 4,
  "nbformat_minor": 0,
  "metadata": {
    "colab": {
      "name": "DSRP Lunch - Inverting RTM Simulations - Optimization.ipynb",
      "provenance": [],
      "collapsed_sections": [],
      "authorship_tag": "ABX9TyOvy4slMSkZ6TAq+oraSNVE",
      "include_colab_link": true
    },
    "kernelspec": {
      "name": "python3",
      "display_name": "Python 3"
    }
  },
  "cells": [
    {
      "cell_type": "markdown",
      "metadata": {
        "id": "view-in-github",
        "colab_type": "text"
      },
      "source": [
        "<a href=\"https://colab.research.google.com/github/nunocesarsa/GoogleColab_public/blob/master/DSRP_Lunch_Inverting_RTM_Simulations_Optimization.ipynb\" target=\"_parent\"><img src=\"https://colab.research.google.com/assets/colab-badge.svg\" alt=\"Open In Colab\"/></a>"
      ]
    },
    {
      "cell_type": "code",
      "metadata": {
        "id": "wwtTA0mBPI7e",
        "colab_type": "code",
        "outputId": "4f0111bd-897f-44a7-adfc-9b01aec80c13",
        "colab": {
          "base_uri": "https://localhost:8080/",
          "height": 122
        }
      },
      "source": [
        "#mounting google drive\n",
        "from google.colab import drive\n",
        "drive.mount('/content/drive')\n"
      ],
      "execution_count": 1,
      "outputs": [
        {
          "output_type": "stream",
          "text": [
            "Go to this URL in a browser: https://accounts.google.com/o/oauth2/auth?client_id=947318989803-6bn6qk8qdgf4n4g3pfee6491hc0brc4i.apps.googleusercontent.com&redirect_uri=urn%3aietf%3awg%3aoauth%3a2.0%3aoob&response_type=code&scope=email%20https%3a%2f%2fwww.googleapis.com%2fauth%2fdocs.test%20https%3a%2f%2fwww.googleapis.com%2fauth%2fdrive%20https%3a%2f%2fwww.googleapis.com%2fauth%2fdrive.photos.readonly%20https%3a%2f%2fwww.googleapis.com%2fauth%2fpeopleapi.readonly\n",
            "\n",
            "Enter your authorization code:\n",
            "··········\n",
            "Mounted at /content/drive\n"
          ],
          "name": "stdout"
        }
      ]
    },
    {
      "cell_type": "markdown",
      "metadata": {
        "id": "kpDkm85xOL6-",
        "colab_type": "text"
      },
      "source": [
        "# Loading up general usage libraries"
      ]
    },
    {
      "cell_type": "code",
      "metadata": {
        "id": "226Zt5VkxvUD",
        "colab_type": "code",
        "colab": {
          "base_uri": "https://localhost:8080/",
          "height": 564
        },
        "outputId": "9118aa55-c8aa-488b-fc00-b4d9fa9e5010"
      },
      "source": [
        "#Installing packages\n",
        "\n",
        "#Needed for step 1 - data generation\n",
        "\n",
        "#Installing PROSAIL\n",
        "!pip install prosail\n",
        "\n",
        "#latin hypercube stuff\n",
        "#lets try to do a LHS\n",
        "!pip install lhsmdu\n",
        "\n",
        "#this package as a number of functions to deal with hyperspectral data\n",
        "!pip install pysptools\n",
        "\n",
        "#this is the swarm optimization package\n",
        "!pip install --upgrade pyswarm\n",
        "\n",
        "#spotpy\n",
        "!pip install spotpy\n",
        "\n",
        "#bayesian optimization packages\n",
        "!pip install bayesian-optimization\n",
        "\n",
        "#genetic algorithsm\n",
        "!pip install sklearn-genetic"
      ],
      "execution_count": 1,
      "outputs": [
        {
          "output_type": "stream",
          "text": [
            "Requirement already satisfied: prosail in /usr/local/lib/python3.6/dist-packages (2.0.5)\n",
            "Requirement already satisfied: pytest in /usr/local/lib/python3.6/dist-packages (from prosail) (3.6.4)\n",
            "Requirement already satisfied: numpy in /usr/local/lib/python3.6/dist-packages (from prosail) (1.17.5)\n",
            "Requirement already satisfied: scipy in /usr/local/lib/python3.6/dist-packages (from prosail) (1.4.1)\n",
            "Requirement already satisfied: numba in /usr/local/lib/python3.6/dist-packages (from prosail) (0.47.0)\n",
            "Requirement already satisfied: atomicwrites>=1.0 in /usr/local/lib/python3.6/dist-packages (from pytest->prosail) (1.3.0)\n",
            "Requirement already satisfied: pluggy<0.8,>=0.5 in /usr/local/lib/python3.6/dist-packages (from pytest->prosail) (0.7.1)\n",
            "Requirement already satisfied: attrs>=17.4.0 in /usr/local/lib/python3.6/dist-packages (from pytest->prosail) (19.3.0)\n",
            "Requirement already satisfied: py>=1.5.0 in /usr/local/lib/python3.6/dist-packages (from pytest->prosail) (1.8.1)\n",
            "Requirement already satisfied: more-itertools>=4.0.0 in /usr/local/lib/python3.6/dist-packages (from pytest->prosail) (8.2.0)\n",
            "Requirement already satisfied: setuptools in /usr/local/lib/python3.6/dist-packages (from pytest->prosail) (45.1.0)\n",
            "Requirement already satisfied: six>=1.10.0 in /usr/local/lib/python3.6/dist-packages (from pytest->prosail) (1.12.0)\n",
            "Requirement already satisfied: llvmlite>=0.31.0dev0 in /usr/local/lib/python3.6/dist-packages (from numba->prosail) (0.31.0)\n",
            "Requirement already satisfied: lhsmdu in /usr/local/lib/python3.6/dist-packages (0.1)\n",
            "Requirement already satisfied: scipy in /usr/local/lib/python3.6/dist-packages (from lhsmdu) (1.4.1)\n",
            "Requirement already satisfied: numpy in /usr/local/lib/python3.6/dist-packages (from lhsmdu) (1.17.5)\n",
            "Requirement already satisfied: pysptools in /usr/local/lib/python3.6/dist-packages (0.15.0)\n",
            "Requirement already up-to-date: pyswarm in /usr/local/lib/python3.6/dist-packages (0.6)\n",
            "Requirement already satisfied, skipping upgrade: numpy in /usr/local/lib/python3.6/dist-packages (from pyswarm) (1.17.5)\n",
            "Requirement already satisfied: spotpy in /usr/local/lib/python3.6/dist-packages (1.5.8)\n",
            "Requirement already satisfied: bayesian-optimization in /usr/local/lib/python3.6/dist-packages (1.0.1)\n",
            "Requirement already satisfied: numpy>=1.9.0 in /usr/local/lib/python3.6/dist-packages (from bayesian-optimization) (1.17.5)\n",
            "Requirement already satisfied: scikit-learn>=0.18.0 in /usr/local/lib/python3.6/dist-packages (from bayesian-optimization) (0.22.1)\n",
            "Requirement already satisfied: scipy>=0.14.0 in /usr/local/lib/python3.6/dist-packages (from bayesian-optimization) (1.4.1)\n",
            "Requirement already satisfied: joblib>=0.11 in /usr/local/lib/python3.6/dist-packages (from scikit-learn>=0.18.0->bayesian-optimization) (0.14.1)\n",
            "Requirement already satisfied: sklearn-genetic in /usr/local/lib/python3.6/dist-packages (0.2)\n",
            "Requirement already satisfied: deap>=1.0.2 in /usr/local/lib/python3.6/dist-packages (from sklearn-genetic) (1.3.1)\n",
            "Requirement already satisfied: scikit-learn>=0.18 in /usr/local/lib/python3.6/dist-packages (from sklearn-genetic) (0.22.1)\n",
            "Requirement already satisfied: numpy in /usr/local/lib/python3.6/dist-packages (from deap>=1.0.2->sklearn-genetic) (1.17.5)\n",
            "Requirement already satisfied: scipy>=0.17.0 in /usr/local/lib/python3.6/dist-packages (from scikit-learn>=0.18->sklearn-genetic) (1.4.1)\n",
            "Requirement already satisfied: joblib>=0.11 in /usr/local/lib/python3.6/dist-packages (from scikit-learn>=0.18->sklearn-genetic) (0.14.1)\n"
          ],
          "name": "stdout"
        }
      ]
    },
    {
      "cell_type": "markdown",
      "metadata": {
        "id": "U26KEc7-Oqw7",
        "colab_type": "text"
      },
      "source": [
        "Importing packages"
      ]
    },
    {
      "cell_type": "code",
      "metadata": {
        "id": "dH1gZah1Ootm",
        "colab_type": "code",
        "colab": {}
      },
      "source": [
        "#importing packages\n",
        "\n",
        "#General purpose: \n",
        "import matplotlib.pyplot as plt\n",
        "import numpy\n",
        "import numpy as np\n",
        "from mpl_toolkits.mplot3d import Axes3D\n",
        "\n",
        "import pandas as pd\n",
        "\n",
        "#PROSPECT+SAIL Radiative transfer mode package\n",
        "import prosail\n",
        "\n",
        "#Sampling design package\n",
        "import lhsmdu\n",
        "\n",
        "#package to for operations on spectral data\n",
        "import pysptools as sptool \n",
        "from pysptools import distance"
      ],
      "execution_count": 0,
      "outputs": []
    },
    {
      "cell_type": "markdown",
      "metadata": {
        "id": "8nJVQTB1OvyC",
        "colab_type": "text"
      },
      "source": [
        "# Custom functions"
      ]
    },
    {
      "cell_type": "code",
      "metadata": {
        "id": "q1PbkFjlOuBz",
        "colab_type": "code",
        "colab": {}
      },
      "source": [
        "#This function converts input hyperspectral data into S2 data using a weighted sum approach based on tables collected from ESA\n",
        "#https://earth.esa.int/web/sentinel/user-guides/sentinel-2-msi/document-library/-/asset_publisher/Wk0TKajiISaR/content/sentinel-2a-spectral-responses\n",
        "\n",
        "#in this case the tables are already uploaded to my own drive\n",
        "def Prosail2S2(path2csv,spectra_input):\n",
        "  #importing pandas\n",
        "  import pandas as pd\n",
        "  import numpy\n",
        "  import numpy as np\n",
        "  #upload a S2_Response.csv from https://earth.esa.int/web/sentinel/user-guides/sentinel-2-msi/document-library/-/asset_publisher/Wk0TKajiISaR/content/sentinel-2a-spectral-responses\n",
        "\n",
        "  s2_table = pd.read_csv(path2csv,sep=\";\",decimal=\",\") #check if this is proper, regarding the sep and dec\n",
        "\n",
        "  s2_table_sel = s2_table[s2_table['SR_WL'].between(400,2500)] #selects all values between 400 and 2500\n",
        "  spectra_input_df = pd.DataFrame(data=spectra_input,columns=[\"rho\"],index=s2_table_sel.index) #transforms the input array into a pandas df with the column name rho and row.index = to the original input table\n",
        "\n",
        "  \n",
        "  rho_s2 = s2_table_sel.multiply(spectra_input_df['rho'],axis=\"index\") #calculates the numerator\n",
        "  w_band_sum = s2_table_sel.sum(axis=0,skipna = True) #calculates the denominator\n",
        "\n",
        "  output = (rho_s2.sum(axis=0)/w_band_sum).rename_axis(\"ID\").values #runs the weighted mean and converts the output to a numpy array\n",
        "\n",
        "  #return output[1:] #removes the first value because it represents the wavelength column\n",
        "  #returns only the 9 20m sentinel 2 spectra bands\n",
        "  return output[1:]\n",
        "\n",
        "#loading the files - there are 2 types of Sentinel 2 satellites. A & B - so two files are necessary and this should be verified before\n",
        "\n",
        "##filepath=\"/content/S2_Responses_S2B.csv\"\n",
        "filepath=\"/content/drive/S2_Response.csv\"\n",
        "filepath=\"/content/drive/My Drive/S2_Response.csv\""
      ],
      "execution_count": 0,
      "outputs": []
    },
    {
      "cell_type": "code",
      "metadata": {
        "id": "b14wOiGQT-yP",
        "colab_type": "code",
        "outputId": "28409582-5ef0-4059-dd9b-d25b1d277882",
        "colab": {
          "base_uri": "https://localhost:8080/",
          "height": 51
        }
      },
      "source": [
        "#A custom function to call prosail\n",
        "def custom_prosail(cab,cw,cm,lai):\n",
        "  import prosail\n",
        "  #default parameters\n",
        "  n= 1.\n",
        "  car=10.\n",
        "  cbrown=0.01\n",
        "  typelidf=1 #this is the default option\n",
        "  lidfa = -1 #leaf angle distribution parameter a and b\n",
        "  lidfb=-0.15\n",
        "  hspot= 0.01 #hotspot parameters - got this from R package https://www.rdocumentation.org/packages/hsdar/versions/0.4.1/topics/PROSAIL\n",
        "  #sun and viewing angle\n",
        "  tts=30. #observation and solar position parameters\n",
        "  tto=10. \n",
        "  psi=0.\n",
        "  #for now i put them by hand but they should be an input of a custom function\n",
        "  #tts=sol_zen #solar zenith angle\n",
        "  #tto=inc_zen #sensor zenith angle\n",
        "  #psi=raa\n",
        "  rho_out = prosail.run_prosail(n,\n",
        "                                 cab,\n",
        "                                 car,\n",
        "                                 cbrown,\n",
        "                                 cw,\n",
        "                                 cm,\n",
        "                                 lai,\n",
        "                                 lidfa,\n",
        "                                 hspot,\n",
        "                                 tts,tto,psi,\n",
        "                                 typelidf, lidfb,\n",
        "                                 prospect_version=\"D\",\n",
        "                                 factor='SDR', \n",
        "                                 rsoil=.5, psoil=.5)\n",
        "  return(rho_out)\n",
        "\n",
        "#test call:\n",
        "#prosail.run_prosail()\n",
        "print(custom_prosail(40,.005,.005,2).shape)\n",
        "print(Prosail2S2(filepath,custom_prosail(40,.005,.005,2)).shape)\n",
        "\n"
      ],
      "execution_count": 4,
      "outputs": [
        {
          "output_type": "stream",
          "text": [
            "(2101,)\n",
            "(13,)\n"
          ],
          "name": "stdout"
        }
      ]
    },
    {
      "cell_type": "code",
      "metadata": {
        "id": "LKsr8WjdVBeA",
        "colab_type": "code",
        "colab": {}
      },
      "source": [
        "#this is jut a simple function to iterate over a table of traits\n",
        "def Gen_spectra_data(traits):\n",
        "  k = 1\n",
        "  #pd_train_traits=traits\n",
        "  #print(range(len(traits)))\n",
        "  for i in range(len(traits)):\n",
        "    #n_t = pd_train_traits[\"n\"][i]\n",
        "    cab_t = traits[\"cab\"][i]\n",
        "    #car_t = pd_train_traits[\"car\"][i]\n",
        "    #cbrown_t = pd_train_traits[\"cbrown\"][i]\n",
        "    cw_t = traits[\"cw\"][i]\n",
        "    cm_t = traits[\"cm\"][i]\n",
        "    lai_t = traits[\"lai\"][i]\n",
        "\n",
        "    if k == 1:\n",
        "      tr_rho_s = custom_prosail(cab_t,cw_t,cm_t,lai_t)\n",
        "      tr_rho_s = Prosail2S2(filepath,tr_rho_s)\n",
        "      #plt.plot ( x, tr_rho_s, ':', label=\"Training prosail\")\n",
        "      #plt.legend(loc='best')\n",
        "      \n",
        "    if k > 1:\n",
        "      tr_rho_t = custom_prosail(cab_t,cw_t,cm_t,lai_t)\n",
        "      tr_rho_t = Prosail2S2(filepath,tr_rho_t)\n",
        "      tr_rho_s = np.vstack((tr_rho_s,tr_rho_t))\n",
        "      #plt.plot ( x, tr_rho_t, ':')\n",
        "\n",
        "    k = k+1\n",
        "\n",
        "\n",
        "  rho_samples=tr_rho_s\n",
        "\n",
        "\n",
        "  return rho_samples\n"
      ],
      "execution_count": 0,
      "outputs": []
    },
    {
      "cell_type": "markdown",
      "metadata": {
        "id": "EvWd8xNSb3Uh",
        "colab_type": "text"
      },
      "source": [
        "# Cost function\n",
        "\n",
        "Here we use pysptools packages which has some inbuilt spectral differences functions. But anything that minimizes to 0 could be used here. "
      ]
    },
    {
      "cell_type": "code",
      "metadata": {
        "id": "uPbTVCUnVNlE",
        "colab_type": "code",
        "colab": {}
      },
      "source": [
        "#expected inputs:\n",
        "#x is a vector of the traits\n",
        "#rho_s2 is the target spectra already ressampled to s2 data\n",
        "def cost_spectra_sentinel(x, rho_s2):\n",
        "  import pysptools as sptool\n",
        "  \n",
        "  #cost function can be easily editable here, all it is needed is to add\n",
        "  #interactions between the various spectral differences methods on the return\n",
        "  #cab,car,cw,cm,lai  = x\n",
        "  cab,cw,cm,lai = x\n",
        "\n",
        "  #sim_canopy = custom_prosail(cab,car,cw,cm,lai)\n",
        "  sim_canopy = custom_prosail(cab,cw,cm,lai)\n",
        "  sim_canopy = Prosail2S2(filepath,sim_canopy)\n",
        "    #print(sim_canopy)\n",
        "    #print(sim_canopy.shape)\n",
        "    #print(sim_canopy[[1,2,3,4,5,6,8,11,12],])\n",
        "  sim_canopy = sim_canopy[[1,2,3,4,5,6,8,11,12],]\n",
        "\n",
        "#    wavel               = np.array(range(400,2501,1))\n",
        "#    rho_canopy1         = np.array([np.transpose(wavel), rho])\n",
        "#    sim_canopy1         = np.array([np.transpose(wavel), sim_canopy])\n",
        "  samerror            = sptool.distance.SAM(rho_s2,sim_canopy) \n",
        "#    samerror            = sptool.distance.SID(rho,sim_canopy)\n",
        "#    samerror            = sptool.distance.chebyshev(rho,sim_canopy)\n",
        "#    samerror            = sptool.distance.SAM(rho,sim_canopy) + (sptool.distance.SID(rho,sim_canopy)/2) + (sptool.distance.chebyshev(rho,sim_canopy)/2)\n",
        "#    samerror            = sptool.distance.SAM(rho[0:1000],sim_canopy[0:1000])# + (sptool.distance.SAM(rho[1000:2101],sim_canopy[1000:2101])*10)\n",
        "\n",
        "  return samerror\n"
      ],
      "execution_count": 0,
      "outputs": []
    },
    {
      "cell_type": "markdown",
      "metadata": {
        "id": "4GRIbrGEdv_6",
        "colab_type": "text"
      },
      "source": [
        "# Optimization time\n",
        "\n",
        "\n",
        "Links of interest:\n",
        "[scipy optimize functions](https://docs.scipy.org/doc/scipy-1.0.0/reference/generated/scipy.optimize.minimize.html)\n"
      ]
    },
    {
      "cell_type": "code",
      "metadata": {
        "id": "wm7ULx8OjduY",
        "colab_type": "code",
        "colab": {}
      },
      "source": [
        "from scipy.optimize import minimize"
      ],
      "execution_count": 0,
      "outputs": []
    },
    {
      "cell_type": "code",
      "metadata": {
        "id": "gs45IZZ-f9tA",
        "colab_type": "code",
        "colab": {}
      },
      "source": [
        "#Setting up the trait space\n",
        "\n",
        "#maxmins from here also: https://github.com/jgomezdans/prosail/issues/10\n",
        "#max_n=1 #this value should go from 1 to 2, so i make it change from 0 to 1 here and then add 1 later\n",
        "max_cab=90. #add 1\n",
        "#max_car=44. #add 1\n",
        "#max_cbrown= 9.99 #add 0.01\n",
        "max_cw=0.004 #0.008 #add 0.001 \n",
        "max_cm=0.004 #0.008 #0.001\n",
        "max_lai = 7 #add 0.1\n",
        "\n",
        "min_cab = 10.\n",
        "min_cw = 0.001\n",
        "min_cm = 0.001\n",
        "min_lai = .5\n",
        "\n",
        "#initial conditions for the optimization modules\n",
        "\n",
        "#init prosail parameters - somwhere halfway\n",
        "init_cab = (max_cab+min_cab)*.5\n",
        "init_cw  = (max_cw+min_cw)*.5\n",
        "init_cm  = (max_cm+min_cm)*.5\n",
        "init_lai = (max_lai+min_lai)*.5\n",
        "\n",
        "#initial settings\n",
        "init_trait =  [init_cab,init_cw,init_cm,init_lai]\n",
        "init_rho =  custom_prosail(init_cab,init_cw,init_cm,init_lai)\n",
        "init_rho_s2= Prosail2S2(filepath,init_rho)\n",
        "\n",
        "#boundary conditions\n",
        "lb = [min_cab,min_cw,min_cm,min_lai]\n",
        "ub = [max_cab,max_cw,max_cm,max_lai]\n",
        "bnds = [lb,ub]\n",
        "bnds2 = ((min_cab,max_cab),(min_cw,max_cw),(min_cm,max_cm),(min_lai,max_lai))"
      ],
      "execution_count": 0,
      "outputs": []
    },
    {
      "cell_type": "markdown",
      "metadata": {
        "id": "3ONIREyKhcq2",
        "colab_type": "text"
      },
      "source": [
        "Here we create a table of n data that we will use for testing our optimizations\n"
      ]
    },
    {
      "cell_type": "code",
      "metadata": {
        "id": "Yxks63-4h4vN",
        "colab_type": "code",
        "colab": {}
      },
      "source": [
        "#number of samples\n",
        "train_n3000 = 20\n",
        "n_traits=4 #I will test on 4 varying traits: cab, car, cw,cm,lai"
      ],
      "execution_count": 0,
      "outputs": []
    },
    {
      "cell_type": "code",
      "metadata": {
        "id": "5cOEUXlSfTji",
        "colab_type": "code",
        "outputId": "aeb737e1-3df9-4f2e-e711-2f72ccae36d3",
        "colab": {
          "base_uri": "https://localhost:8080/",
          "height": 408
        }
      },
      "source": [
        "#generating a LHS hypercube (it uses a 0 to 1 interval that can be used as a multiplier against the different traits)\n",
        "np.random.seed(0)\n",
        "LHS_train3000 = lhsmdu.createRandomStandardUniformMatrix(n_traits,train_n3000 ) #the package has a more advanced method but it is too slow to process\n",
        "\n",
        "#Finally creating a table here\n",
        "pd_traits3000 = pd.DataFrame.transpose(pd.DataFrame(LHS_train3000))\n",
        "pd_traits3000.columns = [\"cab\",\"cw\",\"cm\",\"lai\"]\n",
        "\n",
        "pd_traits3000[\"cab\"]=pd_traits3000[\"cab\"]*max_cab+min_cab\n",
        "pd_traits3000[\"cw\"] =pd_traits3000[\"cw\"] *max_cw +min_cw\n",
        "pd_traits3000[\"cm\"] =pd_traits3000[\"cm\"] *max_cm +min_cm\n",
        "pd_traits3000[\"lai\"]=pd_traits3000[\"lai\"]*max_lai+min_lai\n",
        "\n",
        "\n",
        "\n",
        "\n",
        "np_spectra3000 = Gen_spectra_data(pd_traits3000) #this are the spectra\n",
        "\n",
        "print(pd_traits3000)\n",
        "print(np_spectra3000.shape)\n",
        "\n",
        "np_optim_spectr=np_spectra3000[:,[1,2,3,4,5,6,8,11,12]] #selects only the bands of interest\n",
        "print(np_optim_spectr.shape)"
      ],
      "execution_count": 10,
      "outputs": [
        {
          "output_type": "stream",
          "text": [
            "          cab        cw        cm       lai\n",
            "0   59.393215  0.004914  0.002438  1.612787\n",
            "1   74.367043  0.004197  0.002748  1.272626\n",
            "2   64.248704  0.002846  0.003791  5.094307\n",
            "3   59.039486  0.004122  0.001241  1.467281\n",
            "4   48.128932  0.001473  0.003667  1.876077\n",
            "5   68.130470  0.003560  0.003683  3.081076\n",
            "6   49.382849  0.001573  0.001842  6.246953\n",
            "7   90.259570  0.004779  0.001516  1.179709\n",
            "8   96.729648  0.003087  0.002262  6.365614\n",
            "9   44.509737  0.002659  0.002455  1.172689\n",
            "10  81.255253  0.002058  0.003281  7.335216\n",
            "11  57.600543  0.004097  0.002754  3.780558\n",
            "12  61.124010  0.002825  0.004953  7.337328\n",
            "13  93.303697  0.003274  0.001408  4.733919\n",
            "14  16.393245  0.001075  0.001836  5.674845\n",
            "15  17.841637  0.003471  0.001645  0.774315\n",
            "16  11.819656  0.003448  0.003612  2.479649\n",
            "17  84.935786  0.003468  0.002013  1.341376\n",
            "18  80.034108  0.004775  0.002865  2.572981\n",
            "19  88.301093  0.003727  0.001978  1.331094\n",
            "(20, 13)\n",
            "(20, 9)\n"
          ],
          "name": "stdout"
        }
      ]
    },
    {
      "cell_type": "code",
      "metadata": {
        "id": "p-JQMumRlsXS",
        "colab_type": "code",
        "colab": {}
      },
      "source": [
        "#Setting the default options for the minimizations packages\n",
        "\n",
        "shared_opt = {'eps': 0.0001,'disp': True, 'maxiter':500}"
      ],
      "execution_count": 0,
      "outputs": []
    },
    {
      "cell_type": "markdown",
      "metadata": {
        "id": "OH1KmtWtikqI",
        "colab_type": "text"
      },
      "source": [
        "# L-BFGS-B"
      ]
    },
    {
      "cell_type": "code",
      "metadata": {
        "id": "wSXpoIpTfkmq",
        "colab_type": "code",
        "colab": {
          "base_uri": "https://localhost:8080/",
          "height": 187
        },
        "outputId": "1cd55511-89a3-421a-c435-c3236e9fa244"
      },
      "source": [
        "#testing all the functions\n",
        "\n",
        "#test spectra\n",
        "test_spectra = np_optim_spectr[0,:]\n",
        "test_trait = [init_cab,init_cw,init_cm,init_lai]\n",
        "\n",
        "\n",
        "print(\"initial cost:\", cost_spectra_sentinel(test_trait,test_spectra))\n",
        "\n",
        "#testing the minimization\n",
        "minimize(cost_spectra_sentinel,test_trait,args=(test_spectra),\n",
        "                       bounds=bnds2,\n",
        "                       method=\"L-BFGS-B\",options=shared_opt)\n",
        "\n",
        "\n",
        "\n"
      ],
      "execution_count": 12,
      "outputs": [
        {
          "output_type": "stream",
          "text": [
            "initial cost: 0.028697955504029947\n"
          ],
          "name": "stdout"
        },
        {
          "output_type": "execute_result",
          "data": {
            "text/plain": [
              "      fun: 0.00944456809078116\n",
              " hess_inv: <4x4 LbfgsInvHessProduct with dtype=float64>\n",
              "      jac: array([-0.00010696,  0.09521381, -0.06412763, -0.00086359])\n",
              "  message: b'CONVERGENCE: REL_REDUCTION_OF_F_<=_FACTR*EPSMCH'\n",
              "     nfev: 340\n",
              "      nit: 25\n",
              "   status: 0\n",
              "  success: True\n",
              "        x: array([4.87931838e+01, 3.17708861e-03, 2.79968762e-03, 2.42262113e+00])"
            ]
          },
          "metadata": {
            "tags": []
          },
          "execution_count": 12
        }
      ]
    },
    {
      "cell_type": "code",
      "metadata": {
        "id": "cfwnw49Rh6VU",
        "colab_type": "code",
        "outputId": "2462b053-8cde-4ec7-cd55-341a6dffa923",
        "colab": {
          "base_uri": "https://localhost:8080/",
          "height": 357
        }
      },
      "source": [
        "#making the loop\n",
        "k=1\n",
        "for i in range(train_n3000):\n",
        "  print(\"running row nr:\",k) #uncomment if you want to keep track of what is going on\n",
        "  if k == 1:\n",
        "    optim_lbfgs = minimize(cost_spectra_sentinel,init_trait,args=(np_optim_spectr[i,:]),\n",
        "                       bounds=bnds2,\n",
        "                       method=\"L-BFGS-B\",options=shared_opt)\n",
        "    np_lbfgs=optim_lbfgs.x\n",
        "  if k > 1:\n",
        "    optim_lbfgs = minimize(cost_spectra_sentinel,init_trait,args=(np_optim_spectr[i,:]),\n",
        "                       bounds=bnds2,\n",
        "                       method=\"L-BFGS-B\",options=shared_opt)\n",
        "    np_lbfgs=numpy.vstack((np_lbfgs,optim_lbfgs.x))\n",
        "\n",
        "  k = k+1"
      ],
      "execution_count": 13,
      "outputs": [
        {
          "output_type": "stream",
          "text": [
            "running row nr: 1\n",
            "running row nr: 2\n",
            "running row nr: 3\n",
            "running row nr: 4\n",
            "running row nr: 5\n",
            "running row nr: 6\n",
            "running row nr: 7\n",
            "running row nr: 8\n",
            "running row nr: 9\n",
            "running row nr: 10\n",
            "running row nr: 11\n",
            "running row nr: 12\n",
            "running row nr: 13\n",
            "running row nr: 14\n",
            "running row nr: 15\n",
            "running row nr: 16\n",
            "running row nr: 17\n",
            "running row nr: 18\n",
            "running row nr: 19\n",
            "running row nr: 20\n"
          ],
          "name": "stdout"
        }
      ]
    },
    {
      "cell_type": "code",
      "metadata": {
        "id": "QQweiL3ckVH3",
        "colab_type": "code",
        "outputId": "1dfdbbb9-e9ea-4d04-ecb7-b974368e679f",
        "colab": {
          "base_uri": "https://localhost:8080/",
          "height": 325
        }
      },
      "source": [
        "#quick visual check \n",
        "\n",
        "fig, axs = plt.subplots(2,2)\n",
        "fig.suptitle('L-BFGS-B')\n",
        "fig.subplots_adjust(wspace=.5,hspace=.5)\n",
        "\n",
        "#plt.subplot(3,1,1)\n",
        "axs[0,0].plot(pd_traits3000[\"cab\"],np_lbfgs[:,0],\"o\",label=\"cab\")\n",
        "axs[0,0].legend(loc=\"best\")\n",
        "#axs[0,0].set_xlabel(\"Reference\")\n",
        "\n",
        "axs[0,1].plot(pd_traits3000[\"cw\"],np_lbfgs[:,1],\"o\",label=\"cw\")\n",
        "axs[0,1].legend(loc=\"best\")\n",
        "#axs[1].set_ylabel(\"Prediction\")\n",
        "\n",
        "axs[1,0].plot(pd_traits3000[\"cm\"],np_lbfgs[:,2],\"o\",label=\"cm\")\n",
        "axs[1,0].legend(loc=\"best\")\n",
        "axs[1,0].set_xlabel(\"Reference\")\n",
        "#axs[2].set_ylabel(\"Prediction\")\n",
        "\n",
        "axs[1,1].plot(pd_traits3000[\"lai\"],np_lbfgs[:,3],\"o\",label=\"lai\")\n",
        "axs[1,1].legend(loc=\"best\")\n",
        "axs[1,1].set_xlabel(\"Reference\")\n",
        "#axs[3].set_ylabel(\"Prediction\")\n"
      ],
      "execution_count": 14,
      "outputs": [
        {
          "output_type": "execute_result",
          "data": {
            "text/plain": [
              "Text(0.5, 0, 'Reference')"
            ]
          },
          "metadata": {
            "tags": []
          },
          "execution_count": 14
        },
        {
          "output_type": "display_data",
          "data": {
            "image/png": "[encoded data removed]",
            "text/plain": [
              "<Figure size 432x288 with 4 Axes>"
            ]
          },
          "metadata": {
            "tags": []
          }
        }
      ]
    },
    {
      "cell_type": "markdown",
      "metadata": {
        "id": "qWcVU4VIlIHC",
        "colab_type": "text"
      },
      "source": [
        "#SLSQP\n",
        "\n",
        "Sequential Leaste SQuares PRogramming"
      ]
    },
    {
      "cell_type": "code",
      "metadata": {
        "id": "7xm3kaXClHhs",
        "colab_type": "code",
        "colab": {
          "base_uri": "https://localhost:8080/",
          "height": 255
        },
        "outputId": "83ec321e-685b-4972-fbcb-da37213721b6"
      },
      "source": [
        "#For one iteration\n",
        "\n",
        "minimize(cost_spectra_sentinel,test_trait,args=(test_spectra),\n",
        "                       bounds=bnds2,\n",
        "                       method=\"SLSQP\",options=shared_opt)\n"
      ],
      "execution_count": 15,
      "outputs": [
        {
          "output_type": "stream",
          "text": [
            "Optimization terminated successfully.    (Exit mode 0)\n",
            "            Current function value: 0.008482317976994315\n",
            "            Iterations: 9\n",
            "            Function evaluations: 73\n",
            "            Gradient evaluations: 9\n"
          ],
          "name": "stdout"
        },
        {
          "output_type": "execute_result",
          "data": {
            "text/plain": [
              "     fun: 0.008482317976994315\n",
              "     jac: array([-5.76548541e-04,  2.27245113e+00,  1.17477072e+00, -2.49796556e-03])\n",
              " message: 'Optimization terminated successfully.'\n",
              "    nfev: 73\n",
              "     nit: 9\n",
              "    njev: 9\n",
              "  status: 0\n",
              " success: True\n",
              "       x: array([4.97046232e+01, 3.47024682e-03, 2.69271313e-03, 2.25136547e+00])"
            ]
          },
          "metadata": {
            "tags": []
          },
          "execution_count": 15
        }
      ]
    },
    {
      "cell_type": "code",
      "metadata": {
        "id": "wWaIxpvNlkCN",
        "colab_type": "code",
        "colab": {
          "base_uri": "https://localhost:8080/",
          "height": 1000
        },
        "outputId": "f8715c35-509d-4792-8c51-a70c9e0d03cb"
      },
      "source": [
        "#making the loop\n",
        "k=1\n",
        "for i in range(train_n3000):\n",
        "  print(\"running row nr:\",k) #uncomment if you want to keep track of what is going on\n",
        "  if k == 1:\n",
        "    optim_slsqp = minimize(cost_spectra_sentinel,init_trait,args=(np_optim_spectr[i,:]),\n",
        "                       bounds=bnds2,\n",
        "                       method=\"SLSQP\",options=shared_opt)\n",
        "    np_slsqp=optim_slsqp.x\n",
        "  if k > 1:\n",
        "    optim_slsqp = minimize(cost_spectra_sentinel,init_trait,args=(np_optim_spectr[i,:]),\n",
        "                       bounds=bnds2,\n",
        "                       method=\"SLSQP\",options=shared_opt)\n",
        "    np_slsqp=numpy.vstack((np_slsqp,optim_slsqp.x))\n",
        "\n",
        "  k = k+1"
      ],
      "execution_count": 16,
      "outputs": [
        {
          "output_type": "stream",
          "text": [
            "running row nr: 1\n",
            "Optimization terminated successfully.    (Exit mode 0)\n",
            "            Current function value: 0.008482317976994315\n",
            "            Iterations: 9\n",
            "            Function evaluations: 73\n",
            "            Gradient evaluations: 9\n",
            "running row nr: 2\n",
            "Optimization terminated successfully.    (Exit mode 0)\n",
            "            Current function value: 0.021023139274648796\n",
            "            Iterations: 7\n",
            "            Function evaluations: 57\n",
            "            Gradient evaluations: 7\n",
            "running row nr: 3\n",
            "Optimization terminated successfully.    (Exit mode 0)\n",
            "            Current function value: 0.01824320078577129\n",
            "            Iterations: 9\n",
            "            Function evaluations: 69\n",
            "            Gradient evaluations: 9\n",
            "running row nr: 4\n",
            "Optimization terminated successfully.    (Exit mode 0)\n",
            "            Current function value: 0.009004959052644179\n",
            "            Iterations: 11\n",
            "            Function evaluations: 90\n",
            "            Gradient evaluations: 11\n",
            "running row nr: 5\n",
            "Optimization terminated successfully.    (Exit mode 0)\n",
            "            Current function value: 0.00175260013176877\n",
            "            Iterations: 8\n",
            "            Function evaluations: 68\n",
            "            Gradient evaluations: 8\n",
            "running row nr: 6\n",
            "Optimization terminated successfully.    (Exit mode 0)\n",
            "            Current function value: 0.011519474168948109\n",
            "            Iterations: 9\n",
            "            Function evaluations: 72\n",
            "            Gradient evaluations: 9\n",
            "running row nr: 7\n",
            "Optimization terminated successfully.    (Exit mode 0)\n",
            "            Current function value: 0.0034228542498953535\n",
            "            Iterations: 6\n",
            "            Function evaluations: 50\n",
            "            Gradient evaluations: 6\n",
            "running row nr: 8\n",
            "Optimization terminated successfully.    (Exit mode 0)\n",
            "            Current function value: 0.0274898294258533\n",
            "            Iterations: 4\n",
            "            Function evaluations: 38\n",
            "            Gradient evaluations: 4\n",
            "running row nr: 9\n",
            "Optimization terminated successfully.    (Exit mode 0)\n",
            "            Current function value: 0.07297042941581874\n",
            "            Iterations: 6\n",
            "            Function evaluations: 48\n",
            "            Gradient evaluations: 6\n",
            "running row nr: 10\n",
            "Optimization terminated successfully.    (Exit mode 0)\n",
            "            Current function value: 0.0076653289842224534\n",
            "            Iterations: 13\n",
            "            Function evaluations: 100\n",
            "            Gradient evaluations: 13\n",
            "running row nr: 11\n",
            "Optimization terminated successfully.    (Exit mode 0)\n",
            "            Current function value: 0.05227552063582968\n",
            "            Iterations: 6\n",
            "            Function evaluations: 48\n",
            "            Gradient evaluations: 6\n",
            "running row nr: 12\n",
            "Optimization terminated successfully.    (Exit mode 0)\n",
            "            Current function value: 0.006396169499616631\n",
            "            Iterations: 9\n",
            "            Function evaluations: 72\n",
            "            Gradient evaluations: 9\n",
            "running row nr: 13\n",
            "Optimization terminated successfully.    (Exit mode 0)\n",
            "            Current function value: 0.006396045394341873\n",
            "            Iterations: 16\n",
            "            Function evaluations: 110\n",
            "            Gradient evaluations: 16\n",
            "running row nr: 14\n",
            "Optimization terminated successfully.    (Exit mode 0)\n",
            "            Current function value: 0.05726178368880159\n",
            "            Iterations: 5\n",
            "            Function evaluations: 42\n",
            "            Gradient evaluations: 5\n",
            "running row nr: 15\n",
            "Optimization terminated successfully.    (Exit mode 0)\n",
            "            Current function value: 0.010567606577175368\n",
            "            Iterations: 32\n",
            "            Function evaluations: 223\n",
            "            Gradient evaluations: 32\n",
            "running row nr: 16\n",
            "Optimization terminated successfully.    (Exit mode 0)\n",
            "            Current function value: 0.0022641706620883722\n",
            "            Iterations: 24\n",
            "            Function evaluations: 168\n",
            "            Gradient evaluations: 24\n",
            "running row nr: 17\n",
            "Optimization terminated successfully.    (Exit mode 0)\n",
            "            Current function value: 0.0031677230115867484\n",
            "            Iterations: 25\n",
            "            Function evaluations: 174\n",
            "            Gradient evaluations: 25\n",
            "running row nr: 18\n",
            "Optimization terminated successfully.    (Exit mode 0)\n",
            "            Current function value: 0.02107725607862386\n",
            "            Iterations: 8\n",
            "            Function evaluations: 49\n",
            "            Gradient evaluations: 8\n",
            "running row nr: 19\n",
            "Optimization terminated successfully.    (Exit mode 0)\n",
            "            Current function value: 0.01728796797628462\n",
            "            Iterations: 7\n",
            "            Function evaluations: 57\n",
            "            Gradient evaluations: 7\n",
            "running row nr: 20\n",
            "Optimization terminated successfully.    (Exit mode 0)\n",
            "            Current function value: 0.02191630919639629\n",
            "            Iterations: 8\n",
            "            Function evaluations: 60\n",
            "            Gradient evaluations: 8\n"
          ],
          "name": "stdout"
        }
      ]
    },
    {
      "cell_type": "code",
      "metadata": {
        "id": "bkRYubuAmtpe",
        "colab_type": "code",
        "colab": {
          "base_uri": "https://localhost:8080/",
          "height": 325
        },
        "outputId": "a888bbbd-9b6d-4563-a585-6d82c837043d"
      },
      "source": [
        "fig, axs = plt.subplots(2,2)\n",
        "fig.suptitle('SLSQP')\n",
        "fig.subplots_adjust(wspace=.5,hspace=.5)\n",
        "\n",
        "#plt.subplot(3,1,1)\n",
        "axs[0,0].plot(pd_traits3000[\"cab\"],np_slsqp[:,0],\"o\",label=\"cab\")\n",
        "axs[0,0].legend(loc=\"best\")\n",
        "#axs[0,0].set_xlabel(\"Reference\")\n",
        "\n",
        "axs[0,1].plot(pd_traits3000[\"cw\"],np_slsqp[:,1],\"o\",label=\"cw\")\n",
        "axs[0,1].legend(loc=\"best\")\n",
        "#axs[1].set_ylabel(\"Prediction\")\n",
        "\n",
        "axs[1,0].plot(pd_traits3000[\"cm\"],np_slsqp[:,2],\"o\",label=\"cm\")\n",
        "axs[1,0].legend(loc=\"best\")\n",
        "axs[1,0].set_xlabel(\"Reference\")\n",
        "#axs[2].set_ylabel(\"Prediction\")\n",
        "\n",
        "axs[1,1].plot(pd_traits3000[\"lai\"],np_slsqp[:,3],\"o\",label=\"lai\")\n",
        "axs[1,1].legend(loc=\"best\")\n",
        "axs[1,1].set_xlabel(\"Reference\")\n",
        "#axs[3].set_ylabel(\"Prediction\")"
      ],
      "execution_count": 17,
      "outputs": [
        {
          "output_type": "execute_result",
          "data": {
            "text/plain": [
              "Text(0.5, 0, 'Reference')"
            ]
          },
          "metadata": {
            "tags": []
          },
          "execution_count": 17
        },
        {
          "output_type": "display_data",
          "data": {
            "image/png": "[encoded data removed]",
            "text/plain": [
              "<Figure size 432x288 with 4 Axes>"
            ]
          },
          "metadata": {
            "tags": []
          }
        }
      ]
    },
    {
      "cell_type": "markdown",
      "metadata": {
        "id": "c5zVVtOsnja0",
        "colab_type": "text"
      },
      "source": [
        "# PSO\n",
        "\n",
        "Particle Swarm Optimization"
      ]
    },
    {
      "cell_type": "code",
      "metadata": {
        "id": "fggnK7QLnQc1",
        "colab_type": "code",
        "colab": {}
      },
      "source": [
        "from pyswarm import pso"
      ],
      "execution_count": 0,
      "outputs": []
    },
    {
      "cell_type": "code",
      "metadata": {
        "id": "pYsEvusln2Lr",
        "colab_type": "code",
        "colab": {
          "base_uri": "https://localhost:8080/",
          "height": 34
        },
        "outputId": "9abcc07e-6586-4fd7-a5fc-dbfc322b6bb9"
      },
      "source": [
        "from pyswarm import pso\n",
        "np.set_printoptions(suppress=False) \n",
        "\n",
        "#running for one iteration\n",
        "optim_pso = pso(cost_spectra_sentinel,\n",
        "                lb,ub,\n",
        "                args=[test_spectra],\n",
        "                swarmsize=1) #it requires a np.array inside a np.array\n",
        "\n",
        "swarm_size = 100\n"
      ],
      "execution_count": 19,
      "outputs": [
        {
          "output_type": "stream",
          "text": [
            "Stopping search: Swarm best objective change less than 1e-08\n"
          ],
          "name": "stdout"
        }
      ]
    },
    {
      "cell_type": "code",
      "metadata": {
        "id": "_8Oq_EsOoRHo",
        "colab_type": "code",
        "colab": {
          "base_uri": "https://localhost:8080/",
          "height": 697
        },
        "outputId": "dc806476-6e27-44a6-9155-0c6c0e445e8e"
      },
      "source": [
        "#making the loop\n",
        "k=1\n",
        "for i in range(train_n3000):\n",
        "  print(\"running row nr:\",k) #uncomment if you want to keep track of what is going on\n",
        "  if k == 1:\n",
        "    optim_pso = pso(cost_spectra_sentinel,\n",
        "                lb,ub,\n",
        "                args=[np_optim_spectr[i,:]],\n",
        "                swarmsize=swarm_size)#, #if we change this to 1 i reckon its the same as SGD\n",
        "                #minfunc=0.00001) #this is important.. but i want the swarm to go faster\n",
        "    \n",
        "    np_pso=optim_pso[0]\n",
        "  if k > 1:\n",
        "    optim_pso = pso(cost_spectra_sentinel,\n",
        "                lb,ub,\n",
        "                args=[np_optim_spectr[i,:]],\n",
        "                swarmsize=swarm_size)#,\n",
        "                #minfunc=0.00001)\n",
        "    \n",
        "    np_pso=numpy.vstack((np_pso,optim_pso[0]))\n",
        "\n",
        "  k = k+1"
      ],
      "execution_count": 20,
      "outputs": [
        {
          "output_type": "stream",
          "text": [
            "running row nr: 1\n",
            "Stopping search: Swarm best objective change less than 1e-08\n",
            "running row nr: 2\n",
            "Stopping search: Swarm best objective change less than 1e-08\n",
            "running row nr: 3\n",
            "Stopping search: Swarm best objective change less than 1e-08\n",
            "running row nr: 4\n",
            "Stopping search: Swarm best objective change less than 1e-08\n",
            "running row nr: 5\n",
            "Stopping search: Swarm best objective change less than 1e-08\n",
            "running row nr: 6\n",
            "Stopping search: Swarm best objective change less than 1e-08\n",
            "running row nr: 7\n",
            "Stopping search: Swarm best objective change less than 1e-08\n",
            "running row nr: 8\n",
            "Stopping search: Swarm best objective change less than 1e-08\n",
            "running row nr: 9\n",
            "Stopping search: Swarm best objective change less than 1e-08\n",
            "running row nr: 10\n",
            "Stopping search: Swarm best objective change less than 1e-08\n",
            "running row nr: 11\n",
            "Stopping search: Swarm best objective change less than 1e-08\n",
            "running row nr: 12\n",
            "Stopping search: Swarm best objective change less than 1e-08\n",
            "running row nr: 13\n",
            "Stopping search: Swarm best objective change less than 1e-08\n",
            "running row nr: 14\n",
            "Stopping search: Swarm best objective change less than 1e-08\n",
            "running row nr: 15\n",
            "Stopping search: Swarm best objective change less than 1e-08\n",
            "running row nr: 16\n",
            "Stopping search: Swarm best objective change less than 1e-08\n",
            "running row nr: 17\n",
            "Stopping search: Swarm best objective change less than 1e-08\n",
            "running row nr: 18\n",
            "Stopping search: Swarm best objective change less than 1e-08\n",
            "running row nr: 19\n",
            "Stopping search: Swarm best objective change less than 1e-08\n",
            "running row nr: 20\n",
            "Stopping search: Swarm best objective change less than 1e-08\n"
          ],
          "name": "stdout"
        }
      ]
    },
    {
      "cell_type": "code",
      "metadata": {
        "id": "39zllRRZubvW",
        "colab_type": "code",
        "colab": {
          "base_uri": "https://localhost:8080/",
          "height": 325
        },
        "outputId": "a5deb7d8-0e04-4554-d814-c2b5b8c28dab"
      },
      "source": [
        "#Quick plotting\n",
        "\n",
        "fig, axs = plt.subplots(2,2)\n",
        "fig.suptitle('Particle Optimization')\n",
        "fig.subplots_adjust(wspace=.5,hspace=.5)\n",
        "\n",
        "#plt.subplot(3,1,1)\n",
        "axs[0,0].plot(pd_traits3000[\"cab\"],np_pso[:,0],\"o\",label=\"cab\")\n",
        "axs[0,0].legend(loc=\"best\")\n",
        "#axs[0,0].set_xlabel(\"Reference\")\n",
        "\n",
        "axs[0,1].plot(pd_traits3000[\"cw\"],np_pso[:,1],\"o\",label=\"cw\")\n",
        "axs[0,1].legend(loc=\"best\")\n",
        "#axs[1].set_ylabel(\"Prediction\")\n",
        "\n",
        "axs[1,0].plot(pd_traits3000[\"cm\"],np_pso[:,2],\"o\",label=\"cm\")\n",
        "axs[1,0].legend(loc=\"best\")\n",
        "axs[1,0].set_xlabel(\"Reference\")\n",
        "#axs[2].set_ylabel(\"Prediction\")\n",
        "\n",
        "axs[1,1].plot(pd_traits3000[\"lai\"],np_pso[:,3],\"o\",label=\"lai\")\n",
        "axs[1,1].legend(loc=\"best\")\n",
        "axs[1,1].set_xlabel(\"Reference\")\n",
        "#axs[3].set_ylabel(\"Prediction\")"
      ],
      "execution_count": 21,
      "outputs": [
        {
          "output_type": "execute_result",
          "data": {
            "text/plain": [
              "Text(0.5, 0, 'Reference')"
            ]
          },
          "metadata": {
            "tags": []
          },
          "execution_count": 21
        },
        {
          "output_type": "display_data",
          "data": {
            "image/png": "[encoded data removed]",
            "text/plain": [
              "<Figure size 432x288 with 4 Axes>"
            ]
          },
          "metadata": {
            "tags": []
          }
        }
      ]
    },
    {
      "cell_type": "markdown",
      "metadata": {
        "id": "HH1PWdUprXDO",
        "colab_type": "text"
      },
      "source": [
        "# Genetic optimization\n",
        "\n",
        "Differential evolution\n",
        "\n",
        "https://docs.scipy.org/doc/scipy/reference/generated/scipy.optimize.differential_evolution.html#scipy.optimize.differential_evolution"
      ]
    },
    {
      "cell_type": "code",
      "metadata": {
        "id": "yOo4A6iIsT3H",
        "colab_type": "code",
        "colab": {
          "base_uri": "https://localhost:8080/",
          "height": 136
        },
        "outputId": "118af141-595c-4b01-e1ce-bf3bb55917c2"
      },
      "source": [
        "from scipy import optimize\n",
        "\n",
        "optimize.differential_evolution(cost_spectra_sentinel,args=[test_spectra],\n",
        "                                bounds=bnds2,popsize=4,maxiter=500,recombination=.25,\n",
        "                                seed=0,init='latinhypercube')\n"
      ],
      "execution_count": 22,
      "outputs": [
        {
          "output_type": "execute_result",
          "data": {
            "text/plain": [
              "     fun: 0.0048458380668119395\n",
              "     jac: array([ 9.16445739e-06, -5.26476708e+00,  4.60280919e-03, -8.70615212e-05])\n",
              " message: 'Optimization terminated successfully.'\n",
              "    nfev: 2759\n",
              "     nit: 168\n",
              " success: True\n",
              "       x: array([5.56372651e+01, 4.00000000e-03, 2.92831230e-03, 1.85007224e+00])"
            ]
          },
          "metadata": {
            "tags": []
          },
          "execution_count": 22
        }
      ]
    },
    {
      "cell_type": "code",
      "metadata": {
        "id": "3HOiYCO52vao",
        "colab_type": "code",
        "colab": {}
      },
      "source": [
        "np_difevo = optimize.differential_evolution(cost_spectra_sentinel,args=[test_spectra],\n",
        "                                bounds=bnds2,popsize=4,maxiter=500,recombination=.25,\n",
        "                                seed=0,init='latinhypercube')"
      ],
      "execution_count": 0,
      "outputs": []
    },
    {
      "cell_type": "code",
      "metadata": {
        "id": "BvURRYz621S9",
        "colab_type": "code",
        "colab": {
          "base_uri": "https://localhost:8080/",
          "height": 51
        },
        "outputId": "90a7ff8c-84f4-4fbc-a70f-bbc8a3232371"
      },
      "source": [
        "print(np_difevo.x.shape)\n",
        "np_pso.shape"
      ],
      "execution_count": 24,
      "outputs": [
        {
          "output_type": "stream",
          "text": [
            "(4,)\n"
          ],
          "name": "stdout"
        },
        {
          "output_type": "execute_result",
          "data": {
            "text/plain": [
              "(20, 4)"
            ]
          },
          "metadata": {
            "tags": []
          },
          "execution_count": 24
        }
      ]
    },
    {
      "cell_type": "code",
      "metadata": {
        "id": "2ErVad_s2tGb",
        "colab_type": "code",
        "colab": {
          "base_uri": "https://localhost:8080/",
          "height": 357
        },
        "outputId": "ac425e87-614c-4e05-ac4d-35e2c4bbbb91"
      },
      "source": [
        "#making the loop\n",
        "k=1\n",
        "for i in range(train_n3000):\n",
        "  print(\"running row nr:\",k) #uncomment if you want to keep track of what is going on\n",
        "  if k == 1:\n",
        "    optim_diffevo = optimize.differential_evolution(cost_spectra_sentinel,\n",
        "                                                    args=[np_optim_spectr[i,:]],\n",
        "                                                    bounds=bnds2,seed=0)\n",
        "    \n",
        "    np_diffevo=optim_diffevo.x\n",
        "  if k > 1:\n",
        "    optim_diffevo = optimize.differential_evolution(cost_spectra_sentinel,\n",
        "                                                    args=[np_optim_spectr[i,:]],\n",
        "                                                    bounds=bnds2,seed=0)\n",
        "    \n",
        "    np_diffevo=numpy.vstack((np_diffevo,optim_diffevo.x))\n",
        "\n",
        "  k = k+1\n"
      ],
      "execution_count": 26,
      "outputs": [
        {
          "output_type": "stream",
          "text": [
            "running row nr: 1\n",
            "running row nr: 2\n",
            "running row nr: 3\n",
            "running row nr: 4\n",
            "running row nr: 5\n",
            "running row nr: 6\n",
            "running row nr: 7\n",
            "running row nr: 8\n",
            "running row nr: 9\n",
            "running row nr: 10\n",
            "running row nr: 11\n",
            "running row nr: 12\n",
            "running row nr: 13\n",
            "running row nr: 14\n",
            "running row nr: 15\n",
            "running row nr: 16\n",
            "running row nr: 17\n",
            "running row nr: 18\n",
            "running row nr: 19\n",
            "running row nr: 20\n"
          ],
          "name": "stdout"
        }
      ]
    },
    {
      "cell_type": "code",
      "metadata": {
        "id": "6r-Qmqn6GVwM",
        "colab_type": "code",
        "colab": {
          "base_uri": "https://localhost:8080/",
          "height": 325
        },
        "outputId": "814eaef3-0d5c-434e-f3f9-989201c1f3e0"
      },
      "source": [
        "#Quick plotting\n",
        "\n",
        "fig, axs = plt.subplots(2,2)\n",
        "fig.suptitle('Differential evolution')\n",
        "fig.subplots_adjust(wspace=.5,hspace=.5)\n",
        "\n",
        "#plt.subplot(3,1,1)\n",
        "axs[0,0].plot(pd_traits3000[\"cab\"],np_diffevo[:,0],\"o\",label=\"cab\")\n",
        "axs[0,0].legend(loc=\"best\")\n",
        "#axs[0,0].set_xlabel(\"Reference\")\n",
        "\n",
        "axs[0,1].plot(pd_traits3000[\"cw\"],np_diffevo[:,1],\"o\",label=\"cw\")\n",
        "axs[0,1].legend(loc=\"best\")\n",
        "#axs[1].set_ylabel(\"Prediction\")\n",
        "\n",
        "axs[1,0].plot(pd_traits3000[\"cm\"],np_diffevo[:,2],\"o\",label=\"cm\")\n",
        "axs[1,0].legend(loc=\"best\")\n",
        "axs[1,0].set_xlabel(\"Reference\")\n",
        "#axs[2].set_ylabel(\"Prediction\")\n",
        "\n",
        "axs[1,1].plot(pd_traits3000[\"lai\"],np_diffevo[:,3],\"o\",label=\"lai\")\n",
        "axs[1,1].legend(loc=\"best\")\n",
        "axs[1,1].set_xlabel(\"Reference\")\n",
        "#axs[3].set_ylabel(\"Prediction\")"
      ],
      "execution_count": 28,
      "outputs": [
        {
          "output_type": "execute_result",
          "data": {
            "text/plain": [
              "Text(0.5, 0, 'Reference')"
            ]
          },
          "metadata": {
            "tags": []
          },
          "execution_count": 28
        },
        {
          "output_type": "display_data",
          "data": {
            "image/png": "[encoded data removed]",
            "text/plain": [
              "<Figure size 432x288 with 4 Axes>"
            ]
          },
          "metadata": {
            "tags": []
          }
        }
      ]
    },
    {
      "cell_type": "markdown",
      "metadata": {
        "id": "AQAv7FPbHzBu",
        "colab_type": "text"
      },
      "source": [
        "# Bayesian optimization\n",
        "\n",
        "[BayesianOptimization package](https://github.com/fmfn/BayesianOptimization)\n",
        "\n",
        "[another example](http://philipperemy.github.io/visualization/)\n",
        "\n",
        "- If needed implement a scaling function for the input data"
      ]
    },
    {
      "cell_type": "code",
      "metadata": {
        "id": "J1o8I6D7KAwg",
        "colab_type": "code",
        "colab": {}
      },
      "source": [
        "from bayes_opt import BayesianOptimization\n",
        "import math"
      ],
      "execution_count": 0,
      "outputs": []
    },
    {
      "cell_type": "markdown",
      "metadata": {
        "id": "4uhoNDM9Qs3D",
        "colab_type": "text"
      },
      "source": [
        "This package version requires specific changes, here we go"
      ]
    },
    {
      "cell_type": "code",
      "metadata": {
        "id": "aA6_l1YfKFZQ",
        "colab_type": "code",
        "colab": {
          "base_uri": "https://localhost:8080/",
          "height": 51
        },
        "outputId": "0c3c1065-2238-442f-9099-570b873a1e94"
      },
      "source": [
        "#This version of Bayes opt requires specific changes\n",
        "\n",
        "#First the function can no longer take as input a spectra profile, instead it must iterate without being callable\n",
        "\n",
        "#non-scaled function\n",
        "rho_s2_temp = test_spectra\n",
        "def bayes_cost_s2(cab,cw,cm,lai):\n",
        "\n",
        "  sim_canopy = custom_prosail(cab,cw,cm,lai)\n",
        "  sim_canopy = Prosail2S2(filepath,sim_canopy)\n",
        "  sim_canopy = sim_canopy[[1,2,3,4,5,6,8,11,12],]\n",
        "  #print(rho_s2_temp)\n",
        "  samerror            = sptool.distance.SAM(rho_s2_temp,sim_canopy)\n",
        "\n",
        "  #the other important difference is that this package maximizes instead of minimizing\n",
        "  #we can just make the function output be 1/samerror - as samerror goes to 0, 1 can get infinitely bigger\n",
        "  #if we want to limit the growth, we can just log the function above (maximizes in 1)\n",
        "\n",
        "  #return 1-samerror\n",
        "  return -samerror\n",
        "\n",
        "#testing the cost function\n",
        "print(bayes_cost_s2(20,.005,.005,3))\n",
        "print(bayes_cost_s2(pd_traits3000[\"cab\"][0],pd_traits3000[\"cw\"][0],pd_traits3000[\"cm\"][0],pd_traits3000[\"lai\"][0]))\n",
        "\n",
        "#now we have also to change the way we set up the boundaries of the bayesian optimization\n",
        "lb = [min_cab,min_cw,min_cm,min_lai]\n",
        "ub = [max_cab,max_cw,max_cm,max_lai]\n",
        "\n",
        "pbounds= {'cab': (min_cab,max_cab),'cw':(min_cw,max_cw),\n",
        "          'cm':(min_cm,max_cm),'lai':(min_lai,max_lai)}\n",
        "\n",
        "\n",
        "\n"
      ],
      "execution_count": 39,
      "outputs": [
        {
          "output_type": "stream",
          "text": [
            "-0.15924003895755318\n",
            "-0.0\n"
          ],
          "name": "stdout"
        }
      ]
    },
    {
      "cell_type": "markdown",
      "metadata": {
        "id": "_XAG2wMBQwcI",
        "colab_type": "text"
      },
      "source": [
        "Testing for the first row"
      ]
    },
    {
      "cell_type": "code",
      "metadata": {
        "id": "H4gitC4KQokZ",
        "colab_type": "code",
        "colab": {
          "base_uri": "https://localhost:8080/",
          "height": 238
        },
        "outputId": "64164ad5-2b08-4865-f33e-238c328edaed"
      },
      "source": [
        "#testing for one iteration\n",
        "optim_bayes = BayesianOptimization(\n",
        "    f=bayes_cost_s2,\n",
        "    pbounds=pbounds,\n",
        "    random_state=0,\n",
        "    #verbose=0\n",
        ")\n",
        "\n",
        "#basic usage\n",
        "optim_bayes.maximize(\n",
        "    init_points=5,\n",
        "    n_iter=5,\n",
        "    acq='poi')\n",
        "\n"
      ],
      "execution_count": 54,
      "outputs": [
        {
          "output_type": "stream",
          "text": [
            "|   iter    |  target   |    cab    |    cm     |    cw     |    lai    |\n",
            "-------------------------------------------------------------------------\n",
            "| \u001b[0m 1       \u001b[0m | \u001b[0m-0.09506 \u001b[0m | \u001b[0m 53.91   \u001b[0m | \u001b[0m 0.003146\u001b[0m | \u001b[0m 0.002808\u001b[0m | \u001b[0m 4.042   \u001b[0m |\n",
            "| \u001b[0m 2       \u001b[0m | \u001b[0m-0.0993  \u001b[0m | \u001b[0m 43.89   \u001b[0m | \u001b[0m 0.002938\u001b[0m | \u001b[0m 0.002313\u001b[0m | \u001b[0m 6.297   \u001b[0m |\n",
            "| \u001b[0m 3       \u001b[0m | \u001b[0m-0.1031  \u001b[0m | \u001b[0m 87.09   \u001b[0m | \u001b[0m 0.00215 \u001b[0m | \u001b[0m 0.003375\u001b[0m | \u001b[0m 3.938   \u001b[0m |\n",
            "| \u001b[95m 4       \u001b[0m | \u001b[95m-0.08113 \u001b[0m | \u001b[95m 55.44   \u001b[0m | \u001b[95m 0.003777\u001b[0m | \u001b[95m 0.001213\u001b[0m | \u001b[95m 1.066   \u001b[0m |\n",
            "| \u001b[0m 5       \u001b[0m | \u001b[0m-0.2436  \u001b[0m | \u001b[0m 11.62   \u001b[0m | \u001b[0m 0.003498\u001b[0m | \u001b[0m 0.003334\u001b[0m | \u001b[0m 6.155   \u001b[0m |\n",
            "| \u001b[0m 6       \u001b[0m | \u001b[0m-0.1938  \u001b[0m | \u001b[0m 55.11   \u001b[0m | \u001b[0m 0.0012  \u001b[0m | \u001b[0m 0.002284\u001b[0m | \u001b[0m 0.505   \u001b[0m |\n",
            "| \u001b[95m 7       \u001b[0m | \u001b[95m-0.06261 \u001b[0m | \u001b[95m 55.52   \u001b[0m | \u001b[95m 0.003383\u001b[0m | \u001b[95m 0.003324\u001b[0m | \u001b[95m 1.205   \u001b[0m |\n",
            "| \u001b[95m 8       \u001b[0m | \u001b[95m-0.04933 \u001b[0m | \u001b[95m 55.61   \u001b[0m | \u001b[95m 0.001   \u001b[0m | \u001b[95m 0.004   \u001b[0m | \u001b[95m 1.356   \u001b[0m |\n",
            "| \u001b[0m 9       \u001b[0m | \u001b[0m-0.07604 \u001b[0m | \u001b[0m 55.68   \u001b[0m | \u001b[0m 0.00178 \u001b[0m | \u001b[0m 0.001275\u001b[0m | \u001b[0m 1.499   \u001b[0m |\n",
            "| \u001b[0m 10      \u001b[0m | \u001b[0m-0.05021 \u001b[0m | \u001b[0m 55.61   \u001b[0m | \u001b[0m 0.001   \u001b[0m | \u001b[0m 0.004   \u001b[0m | \u001b[0m 1.335   \u001b[0m |\n",
            "=========================================================================\n"
          ],
          "name": "stdout"
        }
      ]
    },
    {
      "cell_type": "code",
      "metadata": {
        "id": "RNnJnjwwR5qK",
        "colab_type": "code",
        "colab": {
          "base_uri": "https://localhost:8080/",
          "height": 51
        },
        "outputId": "373920fc-ad73-4fd5-f2be-9aff592b3e19"
      },
      "source": [
        "#this part is just a test to see how the outputs can be accessed\n",
        "print(optim_bayes.max['params']['cab'])\n",
        "bb = np.array([optim_bayes.max['params']['cab'],optim_bayes.max['params']['cab'],optim_bayes.max['params']['cab'],optim_bayes.max['params']['cab']])\n",
        "optim_diffevo.x\n",
        "bb"
      ],
      "execution_count": 59,
      "outputs": [
        {
          "output_type": "stream",
          "text": [
            "55.60840082913698\n"
          ],
          "name": "stdout"
        },
        {
          "output_type": "execute_result",
          "data": {
            "text/plain": [
              "array([55.60840083, 55.60840083, 55.60840083, 55.60840083])"
            ]
          },
          "metadata": {
            "tags": []
          },
          "execution_count": 59
        }
      ]
    },
    {
      "cell_type": "code",
      "metadata": {
        "id": "P1qrAqvASN2q",
        "colab_type": "code",
        "colab": {
          "base_uri": "https://localhost:8080/",
          "height": 357
        },
        "outputId": "90aab1dd-4e70-4524-b123-d9156b6261a4"
      },
      "source": [
        "\n",
        "#initial set of points\n",
        "init_point_set = 10\n",
        "max_iter_bayes = 10\n",
        "\n",
        "\n",
        "k=1\n",
        "for i in range(train_n3000):\n",
        "  print(\"running row nr:\",k) #uncomment if you want to keep track of what is going on\n",
        "\n",
        "  #first we update the spectra\n",
        "  rho_s2_temp = np_optim_spectr[i,:]\n",
        "\n",
        "  #let's see if this changes the within value of the function\n",
        "  #so we stabilize the input to the bayes but we iterate the target spectra\n",
        "  #print(bayes_cost_s2(pd_traits3000[\"cab\"][0],pd_traits3000[\"cw\"][0],pd_traits3000[\"cm\"][0],pd_traits3000[\"lai\"][0]))\n",
        "  #print(bayes_cost_s2(pd_traits3000[\"cab\"][i],pd_traits3000[\"cw\"][i],pd_traits3000[\"cm\"][i],pd_traits3000[\"lai\"][i]))\n",
        "\n",
        "  #now we initialize an optimizer per row\n",
        "\n",
        "  optim_bayes = BayesianOptimization(\n",
        "    f=bayes_cost_s2,\n",
        "    pbounds=pbounds,\n",
        "    random_state=0,\n",
        "    verbose=0 #uncomment me to reduce theconsole spam\n",
        "    )\n",
        "  \n",
        "  optim_bayes.maximize(\n",
        "    init_points=init_point_set,\n",
        "    n_iter=max_iter_bayes,\n",
        "    acq='poi') #options are: \"ucb\"(Default),\"ei\" and \"poi\"\n",
        "\n",
        "  cab_t = optim_bayes.max['params']['cab']\n",
        "  cw_t = optim_bayes.max['params']['cw']\n",
        "  cm_t = optim_bayes.max['params']['cm']\n",
        "  lai_t = optim_bayes.max['params']['lai']\n",
        "  temp_stack = np.array([cab_t,cw_t,cm_t,lai_t])\n",
        "  \n",
        "  #and finally we can jsut throw the output into the a np stack \n",
        "  if k == 1:\n",
        "    np_bayesopti=temp_stack\n",
        "  if k > 1:\n",
        "    np_bayesopti=numpy.vstack((np_bayesopti,temp_stack))\n",
        "\n",
        "  k = k+1"
      ],
      "execution_count": 63,
      "outputs": [
        {
          "output_type": "stream",
          "text": [
            "running row nr: 1\n",
            "running row nr: 2\n",
            "running row nr: 3\n",
            "running row nr: 4\n",
            "running row nr: 5\n",
            "running row nr: 6\n",
            "running row nr: 7\n",
            "running row nr: 8\n",
            "running row nr: 9\n",
            "running row nr: 10\n",
            "running row nr: 11\n",
            "running row nr: 12\n",
            "running row nr: 13\n",
            "running row nr: 14\n",
            "running row nr: 15\n",
            "running row nr: 16\n",
            "running row nr: 17\n",
            "running row nr: 18\n",
            "running row nr: 19\n",
            "running row nr: 20\n"
          ],
          "name": "stdout"
        }
      ]
    },
    {
      "cell_type": "code",
      "metadata": {
        "id": "FlYxWO7nN3hI",
        "colab_type": "code",
        "colab": {
          "base_uri": "https://localhost:8080/",
          "height": 325
        },
        "outputId": "bb3825d6-cf7a-4b80-acaa-b4ee4e5eecda"
      },
      "source": [
        "#Quick plotting\n",
        "fig, axs = plt.subplots(2,2)\n",
        "fig.suptitle('Differential evolution')\n",
        "fig.subplots_adjust(wspace=.5,hspace=.5)\n",
        "\n",
        "#plt.subplot(3,1,1)\n",
        "axs[0,0].plot(pd_traits3000[\"cab\"],np_bayesopti[:,0],\"o\",label=\"cab\")\n",
        "axs[0,0].legend(loc=\"best\")\n",
        "#axs[0,0].set_xlabel(\"Reference\")\n",
        "\n",
        "axs[0,1].plot(pd_traits3000[\"cw\"],np_bayesopti[:,1],\"o\",label=\"cw\")\n",
        "axs[0,1].legend(loc=\"best\")\n",
        "#axs[1].set_ylabel(\"Prediction\")\n",
        "\n",
        "axs[1,0].plot(pd_traits3000[\"cm\"],np_bayesopti[:,2],\"o\",label=\"cm\")\n",
        "axs[1,0].legend(loc=\"best\")\n",
        "axs[1,0].set_xlabel(\"Reference\")\n",
        "#axs[2].set_ylabel(\"Prediction\")\n",
        "\n",
        "axs[1,1].plot(pd_traits3000[\"lai\"],np_bayesopti[:,3],\"o\",label=\"lai\")\n",
        "axs[1,1].legend(loc=\"best\")\n",
        "axs[1,1].set_xlabel(\"Reference\")\n",
        "#axs[3].set_ylabel(\"Prediction\")"
      ],
      "execution_count": 64,
      "outputs": [
        {
          "output_type": "execute_result",
          "data": {
            "text/plain": [
              "Text(0.5, 0, 'Reference')"
            ]
          },
          "metadata": {
            "tags": []
          },
          "execution_count": 64
        },
        {
          "output_type": "display_data",
          "data": {
            "image/png": "[encoded data removed]",
            "text/plain": [
              "<Figure size 432x288 with 4 Axes>"
            ]
          },
          "metadata": {
            "tags": []
          }
        }
      ]
    },
    {
      "cell_type": "markdown",
      "metadata": {
        "id": "lEW1thI2bJEo",
        "colab_type": "text"
      },
      "source": [
        "# Saving everything to drive\n",
        "\n"
      ]
    },
    {
      "cell_type": "code",
      "metadata": {
        "id": "Ibxt1Z_ee2y-",
        "colab_type": "code",
        "colab": {}
      },
      "source": [
        "np.savetxt(\"/content/drive/My Drive/DSRP_Lunch_outputs/Optim_4Traits.csv\",\n",
        "           pd_traits3000.iloc[:,:].values,\n",
        "           delimiter=\";\")\n",
        "\n",
        "np.savetxt(\"/content/drive/My Drive/DSRP_Lunch_outputs/Optim_4Traits_S2Spectra.csv\",\n",
        "           np_optim_spectr,\n",
        "           delimiter=\";\")\n",
        "\n",
        "np.savetxt(\"/content/drive/My Drive/DSRP_Lunch_outputs/Optim_Pred_LBFGSB.csv\",\n",
        "           np_lbfgs,\n",
        "           delimiter=\";\")\n",
        "\n",
        "np.savetxt(\"/content/drive/My Drive/DSRP_Lunch_outputs/Optim_Pred_SLSQP.csv\",\n",
        "           np_slsqp,\n",
        "           delimiter=\";\")\n",
        "\n",
        "np.savetxt(\"/content/drive/My Drive/DSRP_Lunch_outputs/Optim_Pred_pso.csv\",\n",
        "           np_pso,\n",
        "           delimiter=\";\")\n",
        "\n",
        "np.savetxt(\"/content/drive/My Drive/DSRP_Lunch_outputs/Optim_Pred_diffevo.csv\",\n",
        "           np_diffevo,\n",
        "           delimiter=\";\")\n",
        "\n",
        "np.savetxt(\"/content/drive/My Drive/DSRP_Lunch_outputs/Optim_Pred_BayesOpt.csv\",\n",
        "           np_bayesopti,\n",
        "           delimiter=\";\")\n"
      ],
      "execution_count": 0,
      "outputs": []
    }
  ]
}